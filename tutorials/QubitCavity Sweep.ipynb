{
 "cells": [
  {
   "cell_type": "code",
   "execution_count": 1,
   "metadata": {},
   "outputs": [],
   "source": [
    "%load_ext autoreload\n",
    "%autoreload 2"
   ]
  },
  {
   "cell_type": "code",
   "execution_count": 2,
   "metadata": {},
   "outputs": [],
   "source": [
    "import qiskit_metal as metal\n",
    "from qiskit_metal import designs, draw\n",
    "from qiskit_metal import MetalGUI, Dict\n",
    "\n",
    "from qiskit_metal.qlibrary.qubits.transmon_cross import TransmonCross\n",
    "from qiskit_metal.qlibrary.couplers.coupled_line_tee import CoupledLineTee\n",
    "from qiskit_metal.qlibrary.tlines.meandered import RouteMeander\n",
    "from qiskit_metal.qlibrary.core import QRoute, QRoutePoint\n",
    "\n",
    "\n",
    "\n",
    "design = designs.DesignPlanar()\n",
    "gui = MetalGUI(design)\n",
    "\n",
    "design.overwrite_enabled = True"
   ]
  },
  {
   "cell_type": "code",
   "execution_count": 3,
   "metadata": {},
   "outputs": [
    {
     "name": "stdout",
     "output_type": "stream",
     "text": [
      "cavity_options.coupler_options.pos_x\n",
      "cavity_options.coupler_options.pos_y\n",
      "cavity_options.coupler_options.orientation\n",
      "cavity_options.coupler_options.chip\n",
      "cavity_options.coupler_options.layer\n"
     ]
    }
   ],
   "source": [
    "from qiskit_metal.qlibrary.couplers.cap_n_interdigital_tee import CapNInterdigitalTee\n",
    "from qiskit_metal.qlibrary.core import QComponent\n",
    "\n",
    "for option in QComponent.default_options:\n",
    "    print(f'cavity_options.coupler_options.{option}')"
   ]
  },
  {
   "cell_type": "code",
   "execution_count": 4,
   "metadata": {},
   "outputs": [],
   "source": [
    "xmon_options = dict(\n",
    "    connection_pads=dict(\n",
    "        readout = dict(connector_location = '90', \n",
    "                 connector_type = '0', \n",
    "                 claw_length = '215um',\n",
    "                 ground_spacing = '10um', \n",
    "                 claw_gap = '5.1um', \n",
    "                 claw_width = '15um'),\n",
    "    ),\n",
    "    cross_width = '30um',\n",
    "    cross_length = '240um',\n",
    "    cross_gap = '30um',\n",
    "    aedt_hfss_inductance = 9.686E-9\n",
    ")\n",
    "\n",
    "clt_opts = Dict(prime_width = '10um',\n",
    "                prime_gap = '5.1um',\n",
    "                second_width = '10um',\n",
    "                second_gap = '5.1um',\n",
    "                coupling_space = '7.9um',\n",
    "                coupling_length = '225um',\n",
    "                open_termination = False,\n",
    "                down_length = '50um')\n",
    "\n",
    "cpw_opts = Dict(pin_inputs = Dict(start_pin = Dict(component = 'clt',\n",
    "                                                    pin = 'second_end'),\n",
    "                                   end_pin = Dict(component = 'qubit',\n",
    "                                                  pin = 'readout')),\n",
    "                lead = Dict(end_straight = '70um',\n",
    "                            # start_jogged_extension = jogsS),\n",
    "                ),\n",
    "                fillet = '49.9um',\n",
    "                total_length = '3900um',#'3893.8166um', # '6776um',\n",
    "                trace_width = '10um',\n",
    "                meander = Dict(spacing = '100um',\n",
    "                               asymmetry = '-150um'),\n",
    "                trace_gap = '5.1um',)\n"
   ]
  },
  {
   "cell_type": "code",
   "execution_count": 5,
   "metadata": {},
   "outputs": [],
   "source": [
    "qubit_cavity_opts = Dict(\n",
    "    qubit_options = xmon_options,\n",
    "    cavity_options = Dict(\n",
    "        coupling_type = 'capacitive',\n",
    "        coupler_options = clt_opts,\n",
    "        cpw_options = cpw_opts\n",
    "    )\n",
    ")"
   ]
  },
  {
   "cell_type": "code",
   "execution_count": 6,
   "metadata": {},
   "outputs": [],
   "source": [
    "from qubit_cavity import QubitCavity\n",
    "\n",
    "# xmon = TransmonCross(design, 'qubit', options = xmon_options)\n",
    "# clt = CoupledLineTee(design, 'clt', clt_opts)\n",
    "# cpw = RouteMeander(design, 'cpw', options = cpw_opts)\n",
    "qubitcavity = QubitCavity(design, 'qubit_cavity', options = qubit_cavity_opts)\n",
    "\n",
    "gui.rebuild()\n",
    "gui.autoscale()\n",
    "# gui.zoom_on_components(['cavity_qubit'])"
   ]
  },
  {
   "cell_type": "code",
   "execution_count": 7,
   "metadata": {},
   "outputs": [],
   "source": [
    "from qiskit_metal.renderers.renderer_ansys_pyaedt.hfss_renderer_eigenmode_aedt import QHFSSEigenmodePyaedt\n",
    "import pyEPR as epr"
   ]
  },
  {
   "cell_type": "code",
   "execution_count": 8,
   "metadata": {},
   "outputs": [
    {
     "name": "stdout",
     "output_type": "stream",
     "text": [
      "pyaedt INFO: using existing logger.\n"
     ]
    },
    {
     "name": "stderr",
     "output_type": "stream",
     "text": [
      "INFO:Global:using existing logger.\n"
     ]
    },
    {
     "name": "stdout",
     "output_type": "stream",
     "text": [
      "pyaedt INFO: Launching PyAEDT outside AEDT with CPython and PythonNET.\n"
     ]
    },
    {
     "name": "stderr",
     "output_type": "stream",
     "text": [
      "INFO:Global:Launching PyAEDT outside AEDT with CPython and PythonNET.\n"
     ]
    },
    {
     "name": "stdout",
     "output_type": "stream",
     "text": [
      "pyaedt INFO: AEDT installation Path D:\\Program Files\\ANSYS\\AnsysEM21.1\\Win64.\n"
     ]
    },
    {
     "name": "stderr",
     "output_type": "stream",
     "text": [
      "INFO:Global:AEDT installation Path D:\\Program Files\\ANSYS\\AnsysEM21.1\\Win64.\n"
     ]
    },
    {
     "name": "stdout",
     "output_type": "stream",
     "text": [
      "pyaedt INFO: Launching AEDT with module PythonNET.\n"
     ]
    },
    {
     "name": "stderr",
     "output_type": "stream",
     "text": [
      "INFO:Global:Launching AEDT with module PythonNET.\n"
     ]
    },
    {
     "name": "stdout",
     "output_type": "stream",
     "text": [
      "pyaedt WARNING: PyAEDT is not supported in AEDT versions earlier than 2021 R2. Trying to launch PyAEDT with PyWin32.\n"
     ]
    },
    {
     "name": "stderr",
     "output_type": "stream",
     "text": [
      "WARNING:Global:PyAEDT is not supported in AEDT versions earlier than 2021 R2. Trying to launch PyAEDT with PyWin32.\n"
     ]
    },
    {
     "name": "stdout",
     "output_type": "stream",
     "text": [
      "pyaedt INFO: pyaedt v0.6.46\n"
     ]
    },
    {
     "name": "stderr",
     "output_type": "stream",
     "text": [
      "INFO:Global:pyaedt v0.6.46\n"
     ]
    },
    {
     "name": "stdout",
     "output_type": "stream",
     "text": [
      "pyaedt INFO: Python version 3.10.8 | packaged by conda-forge | (main, Nov 22 2022, 08:16:53) [MSC v.1929 64 bit (AMD64)]\n"
     ]
    },
    {
     "name": "stderr",
     "output_type": "stream",
     "text": [
      "INFO:Global:Python version 3.10.8 | packaged by conda-forge | (main, Nov 22 2022, 08:16:53) [MSC v.1929 64 bit (AMD64)]\n"
     ]
    },
    {
     "name": "stdout",
     "output_type": "stream",
     "text": [
      "pyaedt INFO: Project test_qubit_cavity_saruman_proj set to active.\n"
     ]
    },
    {
     "name": "stderr",
     "output_type": "stream",
     "text": [
      "INFO:Global:Project test_qubit_cavity_saruman_proj set to active.\n"
     ]
    },
    {
     "name": "stdout",
     "output_type": "stream",
     "text": [
      "pyaedt INFO: Aedt Objects initialized\n"
     ]
    },
    {
     "name": "stderr",
     "output_type": "stream",
     "text": [
      "INFO:Global:Aedt Objects initialized\n"
     ]
    },
    {
     "name": "stdout",
     "output_type": "stream",
     "text": [
      "pyaedt INFO: Variable Manager initialized\n"
     ]
    },
    {
     "name": "stderr",
     "output_type": "stream",
     "text": [
      "INFO:Global:Variable Manager initialized\n"
     ]
    },
    {
     "name": "stdout",
     "output_type": "stream",
     "text": [
      "pyaedt INFO: Design Loaded\n"
     ]
    },
    {
     "name": "stderr",
     "output_type": "stream",
     "text": [
      "INFO:Global:Design Loaded\n"
     ]
    },
    {
     "name": "stdout",
     "output_type": "stream",
     "text": [
      "pyaedt INFO: Successfully loaded project materials !\n"
     ]
    },
    {
     "name": "stderr",
     "output_type": "stream",
     "text": [
      "INFO:Global:Successfully loaded project materials !\n"
     ]
    },
    {
     "name": "stdout",
     "output_type": "stream",
     "text": [
      "pyaedt INFO: Materials Loaded\n"
     ]
    },
    {
     "name": "stderr",
     "output_type": "stream",
     "text": [
      "INFO:Global:Materials Loaded\n"
     ]
    },
    {
     "name": "stdout",
     "output_type": "stream",
     "text": [
      "pyaedt INFO: aedt file load time 0.006999969482421875\n"
     ]
    },
    {
     "name": "stderr",
     "output_type": "stream",
     "text": [
      "INFO:Global:aedt file load time 0.006999969482421875\n"
     ]
    },
    {
     "name": "stdout",
     "output_type": "stream",
     "text": [
      "pyaedt INFO: Project test_qubit_cavity_saruman_proj set to active.\n"
     ]
    },
    {
     "name": "stderr",
     "output_type": "stream",
     "text": [
      "INFO:Global:Project test_qubit_cavity_saruman_proj set to active.\n"
     ]
    },
    {
     "name": "stdout",
     "output_type": "stream",
     "text": [
      "pyaedt INFO: Aedt Objects initialized\n"
     ]
    },
    {
     "name": "stderr",
     "output_type": "stream",
     "text": [
      "INFO:Global:Aedt Objects initialized\n"
     ]
    },
    {
     "name": "stdout",
     "output_type": "stream",
     "text": [
      "pyaedt INFO: Variable Manager initialized\n"
     ]
    },
    {
     "name": "stderr",
     "output_type": "stream",
     "text": [
      "INFO:Global:Variable Manager initialized\n"
     ]
    },
    {
     "name": "stdout",
     "output_type": "stream",
     "text": [
      "pyaedt INFO: Design Loaded\n"
     ]
    },
    {
     "name": "stderr",
     "output_type": "stream",
     "text": [
      "INFO:Global:Design Loaded\n"
     ]
    },
    {
     "name": "stdout",
     "output_type": "stream",
     "text": [
      "pyaedt INFO: Successfully loaded project materials !\n"
     ]
    },
    {
     "name": "stderr",
     "output_type": "stream",
     "text": [
      "INFO:Global:Successfully loaded project materials !\n"
     ]
    },
    {
     "name": "stdout",
     "output_type": "stream",
     "text": [
      "pyaedt INFO: Materials Loaded\n"
     ]
    },
    {
     "name": "stderr",
     "output_type": "stream",
     "text": [
      "INFO:Global:Materials Loaded\n"
     ]
    }
   ],
   "source": [
    "em1_aedt = QHFSSEigenmodePyaedt(design, \n",
    "                                'test_qubit_cavity_saruman_proj',\n",
    "                                'test_qubit_cavity_saruman_design',\n",
    "                                initiate=True)\n",
    "hfss_aedt = em1_aedt.current_app"
   ]
  },
  {
   "cell_type": "code",
   "execution_count": 9,
   "metadata": {},
   "outputs": [],
   "source": [
    "def render_design():\n",
    "    em1_aedt.render_design()"
   ]
  },
  {
   "cell_type": "code",
   "execution_count": 10,
   "metadata": {},
   "outputs": [],
   "source": [
    "def run_simulation():\n",
    "    #### Computer's variables\n",
    "    num_cores=16\n",
    "    num_gpu=1\n",
    "    \n",
    "    #### Setup Name\n",
    "    setup_name = 'TransmonSetup'\n",
    "    \n",
    "    # Change Silicon to Ultracold Silicon\n",
    "    hfss_aedt.materials['silicon'].permittivity = 11.45\n",
    "    \n",
    "    # Add project variables\n",
    "    add_project_level_vars(em1_aedt)\n",
    "    \n",
    "    # Clear setups\n",
    "    if len(hfss_aedt.setups) != 0:\n",
    "        hfss_aedt.setups[0].delete()\n",
    "    \n",
    "    # Add Setup\n",
    "    setup_options = dict(\n",
    "        name= setup_name,\n",
    "        MinimumFrequency = 3,  # GHz\n",
    "        NumModes= 1,\n",
    "        MaxDeltaFreq = 0.1,\n",
    "        MaximumPasses= 1,\n",
    "        MinimumPasses= None,\n",
    "        MinimumConvergedPasses= 2,\n",
    "        PercentRefinement= 30,\n",
    "        BasisOrder= None\n",
    "    )\n",
    "    \n",
    "    em1_aedt.add_hfss_em_setup(**setup_options)\n",
    "    \n",
    "    hfss_aedt.analyze_setup(name=setup_name, \n",
    "                            num_cores=num_cores, \n",
    "                            num_gpu=num_gpu)\n",
    "    \n",
    "    # Make silicon ultra cold\n",
    "    hfss_aedt.materials['silicon'].permittivity = 11.45\n",
    "\n",
    "def add_project_level_vars(renderer):\n",
    "    \"\"\"\n",
    "    Finds all names, inductances, and capacitances of Josephson Junctions rendered into ANSYS.\n",
    "\n",
    "    Args:\n",
    "        renderer (QHFSSEigenmodePyaedt)\n",
    "    \"\"\"\n",
    "    # Get all josephson junctions from rendered components table\n",
    "    geom_table = renderer.path_poly_and_junction_with_valid_comps\n",
    "    all_jjs = geom_table.loc[geom_table['name'].str.contains('rect_jj')]\n",
    "    all_jjs = all_jjs.reset_index(drop=True)\n",
    "\n",
    "    for i, row in all_jjs.iterrows():\n",
    "        ### Parsing Data ###\n",
    "        component = str(row['component'])\n",
    "        name = str(row['name'])\n",
    "        inductance = row['aedt_hfss_inductance']  # Lj in Henries\n",
    "        capacitance = row['aedt_hfss_capacitance']  # Cj in Farads\n",
    "\n",
    "        # Get ANSYS > Model > Sheet corresponding to JJs\n",
    "        rect_name = 'JJ_rect_Lj_' + component + '_' + name\n",
    "\n",
    "        # Get ANSYS > Model > Lines corresponding to JJs\n",
    "        line_name = 'JJ_Lj_' + component + '_' + name + '_'\n",
    "\n",
    "        ### Appending data ###\n",
    "        # Add global Lj and Cj variables to ANSYS (for EPR analysis)\n",
    "        ansys_Lj_name = f'Lj_{i}'\n",
    "        ansys_Cj_name = f'Cj_{i}'\n",
    "\n",
    "        renderer.set_variable(ansys_Lj_name, str(inductance * 1E9) + 'nH')\n",
    "        renderer.set_variable(ansys_Cj_name, str(capacitance * 1E15) + 'fF')\n",
    "\n",
    "def run_analysis():\n",
    "    '''\n",
    "    After finishing simulation, analyze results\n",
    "    '''\n",
    "    em1_aedt.run_epr()\n",
    "    \n",
    "    # Extract observables of int\n",
    "    observables = extract_observables(em1_aedt.epr_quantum_analysis)\n",
    "    return observables\n",
    "\n",
    "\n",
    "\n",
    "def extract_observables(epra, \n",
    "                        cos_trunc: int = 10, \n",
    "                        fock_trunc: int = 15):\n",
    "    '''\n",
    "    Extract observables from EPR quantum analysis\n",
    "    \n",
    "    Args:\n",
    "        epra (epr.QuantumAnalysis): Raw EPR Quanutm analysis class\n",
    "        cos_trunc (int, optional): amount of terms to consider in cosine expansion\n",
    "        fock_trunc (int, optional): size of fock space before truncation\n",
    "        \n",
    "    Returns:\n",
    "        package (dict): simulated observables\n",
    "    '''\n",
    "    \n",
    "    # Extraction of variables\n",
    "    omegas = epra.get_frequencies()\n",
    "    chis = epra.get_chis()\n",
    "    other_data = epra.data\n",
    "    \n",
    "    package = dict(qubit_freq_MHz = omegas['0'][0],\n",
    "                   qubit_anharmonicity_MHz = chis[0][0],\n",
    "                   other_data = str(other_data))\n",
    "    \n",
    "    return package"
   ]
  },
  {
   "cell_type": "code",
   "execution_count": 11,
   "metadata": {},
   "outputs": [],
   "source": [
    "def run_single_design(): # this will be used as `custom_analysis`\n",
    "\n",
    "    render_design()\n",
    "    run_simulation()\n",
    "    package = run_analysis()\n",
    "    return package"
   ]
  },
  {
   "cell_type": "code",
   "execution_count": 11,
   "metadata": {},
   "outputs": [
    {
     "name": "stdout",
     "output_type": "stream",
     "text": [
      "Processing c:\\users\\lfl\\metal-library\n",
      "  Preparing metadata (setup.py): started\n",
      "  Preparing metadata (setup.py): finished with status 'done'\n",
      "Building wheels for collected packages: metal-library\n",
      "  Building wheel for metal-library (setup.py): started\n",
      "  Building wheel for metal-library (setup.py): finished with status 'done'\n",
      "  Created wheel for metal-library: filename=metal_library-1.0.0-py3-none-any.whl size=404249 sha256=c43b76bf438e3cf030a7ca9425add30b781a8770f17fee6ba53bde8affac8e68\n",
      "  Stored in directory: c:\\users\\lfl\\appdata\\local\\pip\\cache\\wheels\\34\\e2\\4c\\a02c623e4f4c556c32c0dcf160e38688f1ca332cdd53acd0b4\n",
      "Successfully built metal-library\n",
      "Installing collected packages: metal-library\n",
      "  Attempting uninstall: metal-library\n",
      "    Found existing installation: metal-library 1.0.0\n",
      "    Uninstalling metal-library-1.0.0:\n",
      "      Successfully uninstalled metal-library-1.0.0\n",
      "Successfully installed metal-library-1.0.0\n"
     ]
    }
   ],
   "source": [
    "!pip install C:\\Users\\lfl\\metal-library\\."
   ]
  },
  {
   "cell_type": "code",
   "execution_count": 12,
   "metadata": {},
   "outputs": [],
   "source": [
    "from metal_library import QSweeper\n",
    "sweeper = QSweeper(design)"
   ]
  },
  {
   "cell_type": "code",
   "execution_count": 13,
   "metadata": {},
   "outputs": [
    {
     "name": "stderr",
     "output_type": "stream",
     "text": [
      "  0%|          | 0/1 [00:00<?, ?it/s]\n"
     ]
    },
    {
     "ename": "AttributeError",
     "evalue": "'DesignPlanar' object has no attribute 'ls'",
     "output_type": "error",
     "traceback": [
      "\u001b[1;31m---------------------------------------------------------------------------\u001b[0m",
      "\u001b[1;31mAttributeError\u001b[0m                            Traceback (most recent call last)",
      "Cell \u001b[1;32mIn[13], line 30\u001b[0m\n\u001b[0;32m      1\u001b[0m sweep_parameters \u001b[39m=\u001b[39m Dict(\n\u001b[0;32m      2\u001b[0m   qubit_options \u001b[39m=\u001b[39m Dict(\n\u001b[0;32m      3\u001b[0m     connection_pads \u001b[39m=\u001b[39m Dict(\n\u001b[1;32m   (...)\u001b[0m\n\u001b[0;32m     27\u001b[0m   )\n\u001b[0;32m     28\u001b[0m )\n\u001b[1;32m---> 30\u001b[0m my_librarian \u001b[39m=\u001b[39m sweeper\u001b[39m.\u001b[39;49mrun_single_component_sweep(component_name\u001b[39m=\u001b[39;49m\u001b[39m'\u001b[39;49m\u001b[39mqubit_cavity\u001b[39;49m\u001b[39m'\u001b[39;49m,\n\u001b[0;32m     31\u001b[0m                                                   parameters \u001b[39m=\u001b[39;49m sweep_parameters,\n\u001b[0;32m     32\u001b[0m                                                   custom_analysis \u001b[39m=\u001b[39;49m run_single_design,\n\u001b[0;32m     33\u001b[0m                                                   parameters_slice\u001b[39m=\u001b[39;49m\u001b[39mslice\u001b[39;49m(\u001b[39m1\u001b[39;49m,\u001b[39m2\u001b[39;49m),\n\u001b[0;32m     34\u001b[0m                                                   save_path\u001b[39m=\u001b[39;49m\u001b[39m\"\u001b[39;49m\u001b[39m./test_qubit_cavity_sweep.csv\u001b[39;49m\u001b[39m\"\u001b[39;49m)\n",
      "File \u001b[1;32md:\\Anaconda\\envs\\metal_test_env\\lib\\site-packages\\metal_library\\core\\sweeper.py:77\u001b[0m, in \u001b[0;36mQSweeper.run_single_component_sweep\u001b[1;34m(self, component_name, parameters, custom_analysis, parameters_slice, save_path, **kwargs)\u001b[0m\n\u001b[0;32m     74\u001b[0m design\u001b[39m.\u001b[39mrebuild()\n\u001b[0;32m     76\u001b[0m \u001b[39m# Run the analysis, extract important data\u001b[39;00m\n\u001b[1;32m---> 77\u001b[0m data \u001b[39m=\u001b[39m run_analysis(\u001b[39m*\u001b[39m\u001b[39m*\u001b[39mkwargs) \u001b[39m# type(data) -> dict\u001b[39;00m\n\u001b[0;32m     79\u001b[0m \u001b[39m# Log QComponent.options and data from analysis\u001b[39;00m\n\u001b[0;32m     80\u001b[0m \u001b[39mself\u001b[39m\u001b[39m.\u001b[39mlibrarian\u001b[39m.\u001b[39mfrom_dict(component\u001b[39m.\u001b[39moptions, \u001b[39m'\u001b[39m\u001b[39msingle_qoption\u001b[39m\u001b[39m'\u001b[39m) \u001b[39m# geometrical options\u001b[39;00m\n",
      "Cell \u001b[1;32mIn[11], line 3\u001b[0m, in \u001b[0;36mrun_single_design\u001b[1;34m()\u001b[0m\n\u001b[0;32m      1\u001b[0m \u001b[39mdef\u001b[39;00m \u001b[39mrun_single_design\u001b[39m(): \u001b[39m# this will be used as `custom_analysis`\u001b[39;00m\n\u001b[1;32m----> 3\u001b[0m     render_design()\n\u001b[0;32m      4\u001b[0m     run_simulation()\n\u001b[0;32m      5\u001b[0m     package \u001b[39m=\u001b[39m run_analysis()\n",
      "Cell \u001b[1;32mIn[9], line 2\u001b[0m, in \u001b[0;36mrender_design\u001b[1;34m()\u001b[0m\n\u001b[0;32m      1\u001b[0m \u001b[39mdef\u001b[39;00m \u001b[39mrender_design\u001b[39m():\n\u001b[1;32m----> 2\u001b[0m     em1_aedt\u001b[39m.\u001b[39;49mrender_design()\n",
      "File \u001b[1;32mc:\\users\\lfl\\qiskit-metal\\qiskit_metal\\renderers\\renderer_ansys_pyaedt\\hfss_renderer_eigenmode_aedt.py:222\u001b[0m, in \u001b[0;36mQHFSSEigenmodePyaedt.render_design\u001b[1;34m(self, selection, open_pins, port_list, jj_to_port, ignored_jjs, box_plus_buffer)\u001b[0m\n\u001b[0;32m    177\u001b[0m \u001b[39m\u001b[39m\u001b[39m\"\"\"\u001b[39;00m\n\u001b[0;32m    178\u001b[0m \u001b[39mThis render_design will add additional logic for just eigenmode design within project.\u001b[39;00m\n\u001b[0;32m    179\u001b[0m \n\u001b[1;32m   (...)\u001b[0m\n\u001b[0;32m    218\u001b[0m \u001b[39m                             or use chip size from design class.\u001b[39;00m\n\u001b[0;32m    219\u001b[0m \u001b[39m\"\"\"\u001b[39;00m\n\u001b[0;32m    220\u001b[0m \u001b[39m# self.fill_info will hold the name of newly generated box,\u001b[39;00m\n\u001b[0;32m    221\u001b[0m \u001b[39m# along with information from layer stack\u001b[39;00m\n\u001b[1;32m--> 222\u001b[0m \u001b[39mself\u001b[39m\u001b[39m.\u001b[39mfill_info \u001b[39m=\u001b[39m \u001b[39mself\u001b[39;49m\u001b[39m.\u001b[39;49mdesign\u001b[39m.\u001b[39;49mls\u001b[39m.\u001b[39mget_layer_datatype_when_fill_is_true()\n\u001b[0;32m    224\u001b[0m \u001b[39m# Draw in fill = True pieces. based on either full chip or box_plus\u001b[39;00m\n\u001b[0;32m    225\u001b[0m \n\u001b[0;32m    226\u001b[0m \u001b[39m# They are reset for each time render_design happens.\u001b[39;00m\n\u001b[0;32m    227\u001b[0m \n\u001b[0;32m    228\u001b[0m \u001b[39m# jj_to_port SHOULD not bew in eigenmode solution type. So will give error\u001b[39;00m\n\u001b[0;32m    229\u001b[0m \u001b[39mif\u001b[39;00m jj_to_port \u001b[39mor\u001b[39;00m port_list:\n",
      "\u001b[1;31mAttributeError\u001b[0m: 'DesignPlanar' object has no attribute 'ls'"
     ]
    }
   ],
   "source": [
    "sweep_parameters = Dict(\n",
    "  qubit_options = Dict(\n",
    "    connection_pads = Dict(\n",
    "      readout = Dict(\n",
    "        connector_type = '0', \n",
    "        claw_length = ['185um', '195um', '205um', '215um'],\n",
    "        ground_spacing = ['4um', '5um', '7um', '9um', '10um'], \n",
    "        claw_gap = ['5.1um'], \n",
    "        claw_width = ['10um', '15um'],\n",
    "        claw_cpw_length=['40um'],\n",
    "        claw_cpw_width=['10um'],\n",
    "        connector_location = '0'\n",
    "        )\n",
    "      ),\n",
    "    cross_width = ['30um'],\n",
    "    cross_length = ['185um', '195um', '205um', '215um', '225um', '235um'],\n",
    "    cross_gap = ['29um'],\n",
    "    aedt_hfss_inductance = [9.686E-9, 10.471E-9, 11.268E-9, 12.679-9, 13.816]\n",
    "    ),\n",
    "  cavity_options = Dict(\n",
    "    coupling_type = ['capacitive'],\n",
    "    coupler_options = Dict(\n",
    "      coupling_length = ['200um', '225um'],\n",
    "      coupling_space = ['7um', '7.9um']\n",
    "    ),\n",
    "    cpw_options = Dict(total_length = ['3900um', '8150um', '8025um', '3700um', '3550um', '8000um', '3.58mm', '3.5mm', '3.46mm'])\n",
    "  )\n",
    ")\n",
    "\n",
    "my_librarian = sweeper.run_single_component_sweep(component_name='qubit_cavity',\n",
    "                                                  parameters = sweep_parameters,\n",
    "                                                  custom_analysis = run_single_design,\n",
    "                                                  parameters_slice=slice(1,2),\n",
    "                                                  save_path=\"./test_qubit_cavity_sweep.csv\")"
   ]
  },
  {
   "cell_type": "code",
   "execution_count": 20,
   "metadata": {},
   "outputs": [
    {
     "data": {
      "text/plain": [
       "'0.1.5'"
      ]
     },
     "execution_count": 20,
     "metadata": {},
     "output_type": "execute_result"
    }
   ],
   "source": [
    "metal.__version__"
   ]
  },
  {
   "cell_type": "code",
   "execution_count": 14,
   "metadata": {},
   "outputs": [
    {
     "data": {
      "text/plain": [
       "'my_design'"
      ]
     },
     "execution_count": 14,
     "metadata": {},
     "output_type": "execute_result"
    }
   ],
   "source": [
    "design.get_design_name()"
   ]
  },
  {
   "cell_type": "code",
   "execution_count": 15,
   "metadata": {},
   "outputs": [
    {
     "data": {
      "text/plain": [
       "['__class__',\n",
       " '__delattr__',\n",
       " '__dict__',\n",
       " '__dir__',\n",
       " '__doc__',\n",
       " '__eq__',\n",
       " '__format__',\n",
       " '__ge__',\n",
       " '__getattribute__',\n",
       " '__gt__',\n",
       " '__hash__',\n",
       " '__i_am_design__',\n",
       " '__init__',\n",
       " '__init_subclass__',\n",
       " '__le__',\n",
       " '__lt__',\n",
       " '__module__',\n",
       " '__ne__',\n",
       " '__new__',\n",
       " '__reduce__',\n",
       " '__reduce_ex__',\n",
       " '__repr__',\n",
       " '__setattr__',\n",
       " '__sizeof__',\n",
       " '__str__',\n",
       " '__subclasshook__',\n",
       " '__weakref__',\n",
       " '_assign_name_design',\n",
       " '_chips',\n",
       " '_components',\n",
       " '_delete_all_pins_for_component',\n",
       " '_delete_component',\n",
       " '_get_new_qcomponent_id',\n",
       " '_get_new_qcomponent_name_id',\n",
       " '_init_metadata',\n",
       " '_metadata',\n",
       " '_qcomponent_latest_assigned_id',\n",
       " '_qcomponent_latest_name_id',\n",
       " '_qgeometry',\n",
       " '_qnet',\n",
       " '_renderers',\n",
       " '_start_renderers',\n",
       " '_template_options',\n",
       " '_template_renderer_options',\n",
       " '_variables',\n",
       " 'add_chip_info',\n",
       " 'add_default_data_for_qgeometry_tables',\n",
       " 'add_dependency',\n",
       " 'all_component_names_id',\n",
       " 'build_logs',\n",
       " 'chips',\n",
       " 'components',\n",
       " 'connect_pins',\n",
       " 'copy_multiple_qcomponents',\n",
       " 'copy_qcomponent',\n",
       " 'delete_all_components',\n",
       " 'delete_all_pins',\n",
       " 'delete_component',\n",
       " 'get_chip_layer',\n",
       " 'get_chip_size',\n",
       " 'get_chip_z',\n",
       " 'get_design_name',\n",
       " 'get_list_of_tables_in_metadata',\n",
       " 'get_units',\n",
       " 'get_x_y_for_chip',\n",
       " 'load_design',\n",
       " 'logger',\n",
       " 'metadata',\n",
       " 'name',\n",
       " 'name_to_id',\n",
       " 'net_info',\n",
       " 'overwrite_enabled',\n",
       " 'parse_options',\n",
       " 'parse_value',\n",
       " 'qcomponent_latest_assigned_id',\n",
       " 'qgeometry',\n",
       " 'qnet',\n",
       " 'rebuild',\n",
       " 'remove_dependency',\n",
       " 'rename_component',\n",
       " 'rename_variable',\n",
       " 'renderer_defaults_by_table',\n",
       " 'renderers',\n",
       " 'save_design',\n",
       " 'save_path',\n",
       " 'set_design_name',\n",
       " 'template_options',\n",
       " 'template_renderer_options',\n",
       " 'to_python_script',\n",
       " 'update_component',\n",
       " 'update_metadata',\n",
       " 'variables']"
      ]
     },
     "execution_count": 15,
     "metadata": {},
     "output_type": "execute_result"
    }
   ],
   "source": [
    "dir(design)"
   ]
  }
 ],
 "metadata": {
  "kernelspec": {
   "display_name": "metal_test_env",
   "language": "python",
   "name": "python3"
  },
  "language_info": {
   "codemirror_mode": {
    "name": "ipython",
    "version": 3
   },
   "file_extension": ".py",
   "mimetype": "text/x-python",
   "name": "python",
   "nbconvert_exporter": "python",
   "pygments_lexer": "ipython3",
   "version": "3.10.8"
  },
  "orig_nbformat": 4
 },
 "nbformat": 4,
 "nbformat_minor": 2
}
