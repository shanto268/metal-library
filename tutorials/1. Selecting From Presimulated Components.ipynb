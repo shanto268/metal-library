{
 "cells": [
  {
   "cell_type": "markdown",
   "metadata": {},
   "source": [
    "# Tutorial #1: Selecting From the Library of Presimulated Components\n",
    "\n",
    "**Target Audience:** Front-end User\n",
    "\n",
    "**Table of Contents:**\n",
    "1. [Selecting a the template of the component.](#component)\n",
    "2. [Meaning / notation of characteristics associated with component.](#reading-characteristics)\n",
    "3. [**[Main Functionality!]** Finding geometrical parameters which best suits target characteristics.](#select-characteristics)\n",
    "4. [Using best geometry in `Qiskit Metal`](#qiskit-metal)\n"
   ]
  },
  {
   "cell_type": "code",
   "execution_count": 27,
   "metadata": {},
   "outputs": [
    {
     "name": "stdout",
     "output_type": "stream",
     "text": [
      "The autoreload extension is already loaded. To reload it, use:\n",
      "  %reload_ext autoreload\n",
      "Processing /Users/shanto/LFL/SQuADDS/metal-library\n",
      "  Preparing metadata (setup.py) ... \u001b[?25ldone\n",
      "\u001b[?25hBuilding wheels for collected packages: metal-library\n",
      "  Building wheel for metal-library (setup.py) ... \u001b[?25ldone\n",
      "\u001b[?25h  Created wheel for metal-library: filename=metal_library-1.0.0-py3-none-any.whl size=404646 sha256=97738ff2b8ef47046d8618940c4d2fd8840bb9fb60d8e3e0f8d9d5e20f38f861\n",
      "  Stored in directory: /Users/shanto/Library/Caches/pip/wheels/79/97/85/383d6d04b16a7189c543150eb40b49d0899981d73ef5c5063b\n",
      "Successfully built metal-library\n",
      "Installing collected packages: metal-library\n",
      "  Attempting uninstall: metal-library\n",
      "    Found existing installation: metal-library 1.0.0\n",
      "    Uninstalling metal-library-1.0.0:\n",
      "      Successfully uninstalled metal-library-1.0.0\n",
      "Successfully installed metal-library-1.0.0\n"
     ]
    }
   ],
   "source": [
    "%load_ext autoreload\n",
    "%autoreload 2\n",
    "!pip install ../."
   ]
  },
  {
   "cell_type": "markdown",
   "metadata": {},
   "source": [
    "# Section 1: Selecting a Component <a id=\"component\"></a>\n",
    "\n",
    "First, let's see which components are currently supported."
   ]
  },
  {
   "cell_type": "code",
   "execution_count": 2,
   "metadata": {},
   "outputs": [
    {
     "name": "stdout",
     "output_type": "stream",
     "text": [
      "['TransmonCross', 'TransmonPocket']\n"
     ]
    }
   ],
   "source": [
    "import metal_library as mlib\n",
    "\n",
    "print(mlib.supported_components)"
   ]
  },
  {
   "cell_type": "markdown",
   "metadata": {},
   "source": [
    "Now we can place one of the supported components into `Reader`. This is a class meant to parse the library (located at `C:\\\\...\\metal_library\\library`)"
   ]
  },
  {
   "cell_type": "code",
   "execution_count": 3,
   "metadata": {},
   "outputs": [
    {
     "name": "stdout",
     "output_type": "stream",
     "text": [
      "<metal_library.core.reader.Reader object at 0x106a269d0>\n"
     ]
    }
   ],
   "source": [
    "reader = mlib.Reader(component_name='TransmonCross')\n",
    "print(reader)"
   ]
  },
  {
   "cell_type": "markdown",
   "metadata": {},
   "source": [
    "Interfacing with the library will be conducted through this object."
   ]
  },
  {
   "cell_type": "markdown",
   "metadata": {},
   "source": [
    "# Section 2: Understanding Structure of Characteristics <a id=\"reading-characteristics\"></a>\n",
    "\n",
    "Since we're conducting science, we must use exact language when talking about the characteristics we're pulling.\n",
    "\n",
    "Example of **imprecise** language:\n",
    "- 👎 \"Get the coupling strength?\"\n",
    "\n",
    "Example of **precise** language:\n",
    "- 👍 \"Get the coupling strength between the readout cavity and qubit\"\n",
    "- 👍 \"Get the coupling strength between qubit #1 and the bus (connecting qubit #1 and qubit #2)\"\n",
    "\n",
    "The following attributes / functions were created to help the front-end user follow precisely what each component characteristic means.\n",
    "\n"
   ]
  },
  {
   "cell_type": "markdown",
   "metadata": {},
   "source": [
    "### Component Types\n",
    "In simulations, we don't always simulate the entire chip at once. So there's a property `component_types` to view which combinations we've simulated."
   ]
  },
  {
   "cell_type": "code",
   "execution_count": 4,
   "metadata": {},
   "outputs": [
    {
     "name": "stdout",
     "output_type": "stream",
     "text": [
      "╒════════════════════════════╤════════════════════════════════════════════════╕\n",
      "│ Supported Component Type   │ Blurb                                          │\n",
      "╞════════════════════════════╪════════════════════════════════════════════════╡\n",
      "│ QubitOnly                  │ Qubit only                                     │\n",
      "├────────────────────────────┼────────────────────────────────────────────────┤\n",
      "│ QubitCavity                │ Qubit capacitvely coupled to a readout cavity. │\n",
      "├────────────────────────────┼────────────────────────────────────────────────┤\n",
      "│ QubitDriveline             │ Qubit capacitvely coupled to a drive line.     │\n",
      "╘════════════════════════════╧════════════════════════════════════════════════╛\n"
     ]
    },
    {
     "data": {
      "text/plain": [
       "['QubitOnly', 'QubitCavity', 'QubitDriveline']"
      ]
     },
     "execution_count": 4,
     "metadata": {},
     "output_type": "execute_result"
    }
   ],
   "source": [
    "reader.component_types"
   ]
  },
  {
   "cell_type": "markdown",
   "metadata": {},
   "source": [
    "### Characteristics of Component Type\n",
    "\n",
    "Within each `component_type`, the types of observables / component characteristics you can extract change. Obviously if you have simulated only a qubit you can't extract cavity resonant frequency. To see which characteristics are supported, we can use `Reader.get_characteristic_info`.\n",
    "\n",
    "Note: `component_type` must be an entry in `Reader.component_types`"
   ]
  },
  {
   "cell_type": "code",
   "execution_count": 5,
   "metadata": {},
   "outputs": [
    {
     "name": "stdout",
     "output_type": "stream",
     "text": [
      "╒═════════════════════════╤═══════════════════════════════════════╤═════════╤═══════════════╕\n",
      "│ CSV Column Name         │ Description                           │ Units   │ Math Symbol   │\n",
      "╞═════════════════════════╪═══════════════════════════════════════╪═════════╪═══════════════╡\n",
      "│ Qubit_Frequency_GHz     │ Qubit 01 Transition Freq (Linear GHz) │ GHz     │ f_{q,01}      │\n",
      "├─────────────────────────┼───────────────────────────────────────┼─────────┼───────────────┤\n",
      "│ Qubit_Anharmonicity_MHz │ Qubit Anharmonicity (Linear MHz)      │ MHz     │ \\alpha_{q}    │\n",
      "╘═════════════════════════╧═══════════════════════════════════════╧═════════╧═══════════════╛\n"
     ]
    },
    {
     "data": {
      "text/plain": [
       "[{'column_name': 'Qubit_Frequency_GHz',\n",
       "  'blurb': 'Qubit 01 Transition Freq (Linear GHz)',\n",
       "  'units': 'GHz',\n",
       "  'latex_symbol': 'f_{q,01}'},\n",
       " {'column_name': 'Qubit_Anharmonicity_MHz',\n",
       "  'blurb': 'Qubit Anharmonicity (Linear MHz)',\n",
       "  'units': 'MHz',\n",
       "  'latex_symbol': '\\\\alpha_{q}'}]"
      ]
     },
     "execution_count": 5,
     "metadata": {},
     "output_type": "execute_result"
    }
   ],
   "source": [
    "reader.get_characteristic_info(component_type=\"QubitOnly\")"
   ]
  },
  {
   "cell_type": "code",
   "execution_count": 21,
   "metadata": {},
   "outputs": [
    {
     "name": "stdout",
     "output_type": "stream",
     "text": [
      "╒═════════════════════════╤════════════════════════════════════════════════╤═════════╤═══════════════╕\n",
      "│ CSV Column Name         │ Description                                    │ Units   │ Math Symbol   │\n",
      "╞═════════════════════════╪════════════════════════════════════════════════╪═════════╪═══════════════╡\n",
      "│ Qubit_Frequency_GHz     │ Qubit 01 Transition Freq (Linear GHz)          │ GHz     │ f_{q,01}      │\n",
      "├─────────────────────────┼────────────────────────────────────────────────┼─────────┼───────────────┤\n",
      "│ Qubit_Anharmonicity_MHz │ Qubit Anharmonicity (Linear MHz)               │ MHz     │ \\alpha_{q}    │\n",
      "├─────────────────────────┼────────────────────────────────────────────────┼─────────┼───────────────┤\n",
      "│ Cavity_Frequency_GHz    │ Cavity Resonant Freq (Linear MHz)              │ GHz     │ _{c}          │\n",
      "├─────────────────────────┼────────────────────────────────────────────────┼─────────┼───────────────┤\n",
      "│ Coupling_Strength_MHz   │ Coupling between qubit and cavity (Linear MHz) │ MHz     │ g_{q,c}       │\n",
      "├─────────────────────────┼────────────────────────────────────────────────┼─────────┼───────────────┤\n",
      "│ wavelength              │ Lambda/2 vs Lambda/4 wavelength of cavity.     │ str     │               │\n",
      "├─────────────────────────┼────────────────────────────────────────────────┼─────────┼───────────────┤\n",
      "│ feedline_coupling       │ Capacitive vs Inductive coupling               │ str     │               │\n",
      "╘═════════════════════════╧════════════════════════════════════════════════╧═════════╧═══════════════╛\n"
     ]
    },
    {
     "data": {
      "text/plain": [
       "[{'column_name': 'Qubit_Frequency_GHz',\n",
       "  'blurb': 'Qubit 01 Transition Freq (Linear GHz)',\n",
       "  'units': 'GHz',\n",
       "  'latex_symbol': 'f_{q,01}'},\n",
       " {'column_name': 'Qubit_Anharmonicity_MHz',\n",
       "  'blurb': 'Qubit Anharmonicity (Linear MHz)',\n",
       "  'units': 'MHz',\n",
       "  'latex_symbol': '\\\\alpha_{q}'},\n",
       " {'column_name': 'Cavity_Frequency_GHz',\n",
       "  'blurb': 'Cavity Resonant Freq (Linear MHz)',\n",
       "  'units': 'GHz',\n",
       "  'latex_symbol': '\\x0c_{c}'},\n",
       " {'column_name': 'Coupling_Strength_MHz',\n",
       "  'blurb': 'Coupling between qubit and cavity (Linear MHz)',\n",
       "  'units': 'MHz',\n",
       "  'latex_symbol': 'g_{q,c}'},\n",
       " {'column_name': 'wavelength',\n",
       "  'blurb': 'Lambda/2 vs Lambda/4 wavelength of cavity.',\n",
       "  'units': 'str',\n",
       "  'latex_symbol': ''},\n",
       " {'column_name': 'feedline_coupling',\n",
       "  'blurb': 'Capacitive vs Inductive coupling',\n",
       "  'units': 'str',\n",
       "  'latex_symbol': ''}]"
      ]
     },
     "execution_count": 21,
     "metadata": {},
     "output_type": "execute_result"
    }
   ],
   "source": [
    "reader.get_characteristic_info(component_type=\"QubitCavity\")"
   ]
  },
  {
   "cell_type": "code",
   "execution_count": 8,
   "metadata": {},
   "outputs": [
    {
     "name": "stdout",
     "output_type": "stream",
     "text": [
      "╒══════════════════════════╤═════════════════════════════════════════════╤═════════╤═══════════════╕\n",
      "│ CSV Column Name          │ Description                                 │ Units   │ Math Symbol   │\n",
      "╞══════════════════════════╪═════════════════════════════════════════════╪═════════╪═══════════════╡\n",
      "│ Qubit_Frequency_GHz      │ Qubit 01 Transition Freq (Linear GHz)       │ GHz     │ f_{q,01}      │\n",
      "├──────────────────────────┼─────────────────────────────────────────────┼─────────┼───────────────┤\n",
      "│ Qubit_Anharmonicity_MHz  │ Qubit Anharmonicity (Linear MHz)            │ MHz     │ \\alpha_{q}    │\n",
      "├──────────────────────────┼─────────────────────────────────────────────┼─────────┼───────────────┤\n",
      "│ Driveline_Decay_Rate_MHz │ Feedline limited T1 Decay Rate (linear MHz) │ MHz     │ \\kappa        │\n",
      "╘══════════════════════════╧═════════════════════════════════════════════╧═════════╧═══════════════╛\n"
     ]
    }
   ],
   "source": [
    "reader.get_characteristic_info(component_type=\"QubitDriveline\");"
   ]
  },
  {
   "cell_type": "markdown",
   "metadata": {},
   "source": [
    "# Section 3: (MAIN FUNCTIONALITY) Finding a Geometry for Given Characteristics <a id=\"select-characteristics\"></a>\n",
    "\n",
    "Now that we understand which `component_name` and `component_type` gives us the parameters we desire. We can begin to select geometries which will yield promising results.\n",
    "\n",
    "First, you must select a `component_type` and prepare the library for the selection class (`Selector`)."
   ]
  },
  {
   "cell_type": "code",
   "execution_count": 9,
   "metadata": {},
   "outputs": [],
   "source": [
    "reader = mlib.Reader(component_name='TransmonCross')\n",
    "reader.read_library(component_type='QubitOnly')"
   ]
  },
  {
   "cell_type": "markdown",
   "metadata": {},
   "source": [
    "Note: if you failed to run the previous cell, you haven't selected a `component_type`, and `Selector` will throw an error like:\n",
    "```\n",
    "reader = mlib.Reader(component_name='TransmonCross')\n",
    "selector = mlib.Selector(reader)\n",
    "\n",
    ">> AttributeError: '`Reader` must have `Reader.library` created. Run `Reader.read_library` before initalizing `Selector`.'\n",
    "\n",
    "```\n",
    "\n",
    "Now that everything is loaded, we can initalize the `Selector` class."
   ]
  },
  {
   "cell_type": "code",
   "execution_count": 10,
   "metadata": {},
   "outputs": [
    {
     "name": "stdout",
     "output_type": "stream",
     "text": [
      "<metal_library.core.selector.Selector object at 0x102c5bfd0>\n"
     ]
    }
   ],
   "source": [
    "#### REMINDER: don't skip the previous cell! \n",
    "selector = mlib.Selector(reader)\n",
    "print(selector)"
   ]
  },
  {
   "cell_type": "markdown",
   "metadata": {},
   "source": [
    "### Let's select a geometry which results in the closest qubit characteristics.\n",
    "\n",
    "Call `Selector.find_closest`\n",
    "\n",
    "Documentation:\n",
    "\n",
    "```\n",
    "Main functionality. Select the closest geometry for a set of characteristics.\n",
    "\n",
    "Args:\n",
    "    target_params (dict): A dictionary where the keys are the column names in `self.characteristic`,\n",
    "                          and the values are the target values to compare against.\n",
    "    num_top (int): The number of rows with the smallest Euclidean distances to return.\n",
    "    metric (str, optional): Metric to determine closeness. Defaults to \"Euclidian\". \n",
    "                            Must choose from `self.__supported_metrics__`.\n",
    "    display (boo, optional): Print out results? Defaults to True.\n",
    "\n",
    "Returns:\n",
    "    indexes_smallest (pd.Index): Indexes of the 'num_top' rows with the smallest distances to the target parameters.\n",
    "    best_characteristics (list[dict]): Associated characteristics. Ranked closest to furthest, same order as `best_geometries`\n",
    "    best_geometries (list[dict]): Geometries in the style of QComponent.options. Ranked closest to furthest.\n",
    "```\n"
   ]
  },
  {
   "cell_type": "code",
   "execution_count": 22,
   "metadata": {},
   "outputs": [
    {
     "data": {
      "text/plain": [
       "['Euclidean', 'Manhattan', 'Chebyshev', 'Weighted Euclidean', 'Custom']"
      ]
     },
     "execution_count": 22,
     "metadata": {},
     "output_type": "execute_result"
    }
   ],
   "source": [
    "# You can find the supported metrics here...\n",
    "selector.__supported_metrics__"
   ]
  },
  {
   "cell_type": "code",
   "execution_count": 23,
   "metadata": {},
   "outputs": [
    {
     "name": "stdout",
     "output_type": "stream",
     "text": [
      "\u001b[1m\u001b[4mHere are the closest 3 geometries\u001b[0m\n",
      "\u001b[1mTarget parameters:\u001b[0m {'Qubit_Frequency_GHz': 4, 'Qubit_Anharmonicity_MHz': 200}\n",
      "\u001b[1mMetric:\u001b[0m Euclidean\n"
     ]
    },
    {
     "data": {
      "text/html": [
       "<table border=\"1\" class=\"dataframe\">\n",
       "  <thead>\n",
       "    <tr style=\"text-align: right;\">\n",
       "      <th>Ranking (Closest to Furthest)</th>\n",
       "      <th>Index</th>\n",
       "      <th>Characteristic from Library</th>\n",
       "      <th>Geometry from Library</th>\n",
       "    </tr>\n",
       "  </thead>\n",
       "  <tbody>\n",
       "    <tr>\n",
       "      <td>1</td>\n",
       "      <td>625</td>\n",
       "      <td>{'Qubit_Frequency_GHz': 3.926279169, 'Qubit_Anharmonicity_MHz': 199.216393, 'misc': '{'project_info': {'pinfo': design_name         Qubit_Sabrina_design\n",
       "project_name          Qubit_Sabrina_proj\n",
       "project_path    D:/lfl/Documents/Ansoft/\n",
       "setup_name                 TransmonSetup\n",
       "dtype: object, 'dissip': dielectrics_bulk                             None\n",
       "dielectric_surfaces    [layer_3_datatype_0_plane]\n",
       "resistive_surfaces                           None\n",
       "seams                                        None\n",
       "dtype: object, 'options': Series([], dtype: float64), 'junctions':                                j0\n",
       "Cj_variable                  Cj_0\n",
       "Lj_variable                  Lj_0\n",
       "length                     0.0001\n",
       "line             JJ_Lj_1_rect_jj_\n",
       "rect         JJ_rect_Lj_1_rect_jj, 'ports': Empty DataFrame\n",
       "Columns: []\n",
       "Index: []}, 'results': {'0': {'Pm':          j0\n",
       "0  0.974385, 'Pm_cap':          j0\n",
       "0  0.018225, 'Sm':    s_j0\n",
       "0    -1, 'Om':                  0\n",
       "freq_GHz  4.113516, 'sols':             U_H           U_E\n",
       "0  5.978363e-28  8.198084e-26, 'Qm_coupling': Empty DataFrame\n",
       "Columns: []\n",
       "Index: [0], 'Ljs': j0    1.400000e-08\n",
       "dtype: float64, 'Cjs': j0    2.000000e-15\n",
       "dtype: float64, 'Qs': 0    inf\n",
       "dtype: float64, 'freqs_hfss_GHz': 0    4.113516\n",
       "dtype: float64, 'hfss_variables': _Cj_0     0fF\n",
       "_Lj_0    14nH\n",
       "dtype: object, 'modes': range(0, 1), 'I_peak': 0    0   -2.410747e-09\n",
       "dtype: float64\n",
       "dtype: object, 'V_peak': 0    0   -8.723138e-07\n",
       "dtype: float64\n",
       "dtype: object, 'ansys_energies': {0: {'U_J_inds': {'j0': 4.0681903237364056e-26}, 'U_J_caps': {'j0': 7.609314160650732e-28}, 'U_H': 2.98918152440136e-28, 'U_E': 4.099042226222435e-26, 'U_tot_ind': 4.098082138980419e-26, 'U_tot_cap': 4.175135367828943e-26, 'U_norm': 4.175135367828943e-26, 'U_diff': 0.009313574650382895}}, 'mesh':                         Unnamed: 0  Num Tets    Min edge length    \\\n",
       "0        layer_1_datatype_0_plane         2706           0.001787   \n",
       "1        layer_3_datatype_0_plane        59631           0.000467   \n",
       "2                      vacuum_box        46845           0.000443   \n",
       "3                  cross_transmon         2217           0.001281   \n",
       "4  readout_connector_arm_transmon          113           0.011225   \n",
       "\n",
       "   Max edge length    RMS edge length    Min tet vol    Max tet vol    \\\n",
       "0           0.347215           0.068460   2.316180e-10   2.789200e-05   \n",
       "1           0.604401           0.037494   3.770610e-12   6.586310e-03   \n",
       "2           1.388860           0.047152   2.066530e-12   4.793560e-02   \n",
       "3           0.042426           0.013548   5.522210e-11   3.000000e-07   \n",
       "4           0.055000           0.027009   7.688870e-09   1.833330e-07   \n",
       "\n",
       "   Mean tet vol    Std Devn (vol)    \n",
       "0    6.546870e-07      2.071090e-06  \n",
       "1    1.210220e-05      1.438690e-04  \n",
       "2    3.385300e-05      7.335300e-04  \n",
       "3    2.029770e-08      2.997660e-08  \n",
       "4    4.070800e-08      3.179760e-08  , 'convergence':              Solved Elements  Max Delta Freq. %\n",
       "Pass Number                                    \n",
       "1                       1184                NaN\n",
       "2                       1529          89.905000\n",
       "3                       1962          17.052000\n",
       "4                       2525           4.913400\n",
       "5                       3265           2.708600\n",
       "6                       4207           1.583600\n",
       "7                       5405           1.051300\n",
       "8                       6940           0.957230\n",
       "9                       8963           0.863090\n",
       "10                     11528           0.596880\n",
       "11                     14814           0.440010\n",
       "12                     19110           0.403560\n",
       "13                     24635           0.306180\n",
       "14                     31746           0.250820\n",
       "15                     40864           0.241520\n",
       "16                     52065           0.187770\n",
       "17                     67118           0.147920\n",
       "18                     82095           0.105880\n",
       "19                     95759           0.080445\n",
       "20                    106476           0.051609, 'convergence_f_pass': None}}}'}</td>\n",
       "      <td>{'pos_x': 0, ' pos_y': '0.0um', ' orientation': 0, ' chip': 'main', ' layer': 1, ' connection_pads': {'readout': {'connector_type': 0, 'claw_length': '215um', 'ground_spacing': '7um', 'claw_width': '10um', 'claw_gap': '5.1um', 'claw_cpw_length': '40um', 'claw_cpw_width': '10um', 'connector_location': 180}}, ' cross_width': '30um', ' cross_length': '195um', ' cross_gap': '29um', ' hfss_inductance': '10nH', ' hfss_capacitance': 0, ' hfss_resistance': 0, ' hfss_mesh_kw_jj': 7e-06, ' q3d_inductance': '10nH', ' q3d_capacitance': 0, ' q3d_resistance': 0, ' q3d_mesh_kw_jj': 7e-06, ' gds_cell_name': 'my_other_junction', ' aedt_q3d_inductance': 1e-08, ' aedt_q3d_capacitance': 0, ' aedt_hfss_inductance': 1.4e-08, ' aedt_hfss_capacitance': 0}</td>\n",
       "    </tr>\n",
       "    <tr>\n",
       "      <td>2</td>\n",
       "      <td>352</td>\n",
       "      <td>{'Qubit_Frequency_GHz': 3.926279169, 'Qubit_Anharmonicity_MHz': 199.216393, 'misc': '{'project_info': {'pinfo': design_name         Qubit_Sabrina_design\n",
       "project_name          Qubit_Sabrina_proj\n",
       "project_path    D:/lfl/Documents/Ansoft/\n",
       "setup_name                 TransmonSetup\n",
       "dtype: object, 'dissip': dielectrics_bulk                             None\n",
       "dielectric_surfaces    [layer_3_datatype_0_plane]\n",
       "resistive_surfaces                           None\n",
       "seams                                        None\n",
       "dtype: object, 'options': Series([], dtype: float64), 'junctions':                                j0\n",
       "Cj_variable                  Cj_0\n",
       "Lj_variable                  Lj_0\n",
       "length                     0.0001\n",
       "line             JJ_Lj_1_rect_jj_\n",
       "rect         JJ_rect_Lj_1_rect_jj, 'ports': Empty DataFrame\n",
       "Columns: []\n",
       "Index: []}, 'results': {'0': {'Pm':          j0\n",
       "0  0.974385, 'Pm_cap':          j0\n",
       "0  0.018225, 'Sm':    s_j0\n",
       "0    -1, 'Om':                  0\n",
       "freq_GHz  4.113516, 'sols':             U_H           U_E\n",
       "0  5.978363e-28  8.198084e-26, 'Qm_coupling': Empty DataFrame\n",
       "Columns: []\n",
       "Index: [0], 'Ljs': j0    1.400000e-08\n",
       "dtype: float64, 'Cjs': j0    2.000000e-15\n",
       "dtype: float64, 'Qs': 0    inf\n",
       "dtype: float64, 'freqs_hfss_GHz': 0    4.113516\n",
       "dtype: float64, 'hfss_variables': _Cj_0     0fF\n",
       "_Lj_0    14nH\n",
       "dtype: object, 'modes': range(0, 1), 'I_peak': 0    0   -2.410747e-09\n",
       "dtype: float64\n",
       "dtype: object, 'V_peak': 0    0   -8.723138e-07\n",
       "dtype: float64\n",
       "dtype: object, 'ansys_energies': {0: {'U_J_inds': {'j0': 4.0681903237364056e-26}, 'U_J_caps': {'j0': 7.609314160650732e-28}, 'U_H': 2.98918152440136e-28, 'U_E': 4.099042226222435e-26, 'U_tot_ind': 4.098082138980419e-26, 'U_tot_cap': 4.175135367828943e-26, 'U_norm': 4.175135367828943e-26, 'U_diff': 0.009313574650382895}}, 'mesh':                         Unnamed: 0  Num Tets    Min edge length    \\\n",
       "0        layer_1_datatype_0_plane         2706           0.001787   \n",
       "1        layer_3_datatype_0_plane        59631           0.000467   \n",
       "2                      vacuum_box        46845           0.000443   \n",
       "3                  cross_transmon         2217           0.001281   \n",
       "4  readout_connector_arm_transmon          113           0.011225   \n",
       "\n",
       "   Max edge length    RMS edge length    Min tet vol    Max tet vol    \\\n",
       "0           0.347215           0.068460   2.316180e-10   2.789200e-05   \n",
       "1           0.604401           0.037494   3.770610e-12   6.586310e-03   \n",
       "2           1.388860           0.047152   2.066530e-12   4.793560e-02   \n",
       "3           0.042426           0.013548   5.522210e-11   3.000000e-07   \n",
       "4           0.055000           0.027009   7.688870e-09   1.833330e-07   \n",
       "\n",
       "   Mean tet vol    Std Devn (vol)    \n",
       "0    6.546870e-07      2.071090e-06  \n",
       "1    1.210220e-05      1.438690e-04  \n",
       "2    3.385300e-05      7.335300e-04  \n",
       "3    2.029770e-08      2.997660e-08  \n",
       "4    4.070800e-08      3.179760e-08  , 'convergence':              Solved Elements  Max Delta Freq. %\n",
       "Pass Number                                    \n",
       "1                       1184                NaN\n",
       "2                       1529          89.905000\n",
       "3                       1962          17.052000\n",
       "4                       2525           4.913400\n",
       "5                       3265           2.708600\n",
       "6                       4207           1.583600\n",
       "7                       5405           1.051300\n",
       "8                       6940           0.957230\n",
       "9                       8963           0.863090\n",
       "10                     11528           0.596880\n",
       "11                     14814           0.440010\n",
       "12                     19110           0.403560\n",
       "13                     24635           0.306180\n",
       "14                     31746           0.250820\n",
       "15                     40864           0.241520\n",
       "16                     52065           0.187770\n",
       "17                     67118           0.147920\n",
       "18                     82095           0.105880\n",
       "19                     95759           0.080445\n",
       "20                    106476           0.051609, 'convergence_f_pass': None}}}'}</td>\n",
       "      <td>{'pos_x': 0, ' pos_y': '0.0um', ' orientation': 0, ' chip': 'main', ' layer': 1, ' connection_pads': {'readout': {'connector_type': 0, 'claw_length': '195um', 'ground_spacing': '10um', 'claw_width': '15um', 'claw_gap': '5.1um', 'claw_cpw_length': '40um', 'claw_cpw_width': '10um', 'connector_location': 180}}, ' cross_width': '30um', ' cross_length': '195um', ' cross_gap': '29um', ' hfss_inductance': '10nH', ' hfss_capacitance': 0, ' hfss_resistance': 0, ' hfss_mesh_kw_jj': 7e-06, ' q3d_inductance': '10nH', ' q3d_capacitance': 0, ' q3d_resistance': 0, ' q3d_mesh_kw_jj': 7e-06, ' gds_cell_name': 'my_other_junction', ' aedt_q3d_inductance': 1e-08, ' aedt_q3d_capacitance': 0, ' aedt_hfss_inductance': 1.4e-08, ' aedt_hfss_capacitance': 0}</td>\n",
       "    </tr>\n",
       "    <tr>\n",
       "      <td>3</td>\n",
       "      <td>44</td>\n",
       "      <td>{'Qubit_Frequency_GHz': 3.926279169, 'Qubit_Anharmonicity_MHz': 199.216393, 'misc': '{'project_info': {'pinfo': design_name         Qubit_Sabrina_design\n",
       "project_name          Qubit_Sabrina_proj\n",
       "project_path    D:/lfl/Documents/Ansoft/\n",
       "setup_name                 TransmonSetup\n",
       "dtype: object, 'dissip': dielectrics_bulk                             None\n",
       "dielectric_surfaces    [layer_3_datatype_0_plane]\n",
       "resistive_surfaces                           None\n",
       "seams                                        None\n",
       "dtype: object, 'options': Series([], dtype: float64), 'junctions':                                j0\n",
       "Cj_variable                  Cj_0\n",
       "Lj_variable                  Lj_0\n",
       "length                     0.0001\n",
       "line             JJ_Lj_1_rect_jj_\n",
       "rect         JJ_rect_Lj_1_rect_jj, 'ports': Empty DataFrame\n",
       "Columns: []\n",
       "Index: []}, 'results': {'0': {'Pm':          j0\n",
       "0  0.974385, 'Pm_cap':          j0\n",
       "0  0.018225, 'Sm':    s_j0\n",
       "0    -1, 'Om':                  0\n",
       "freq_GHz  4.113516, 'sols':             U_H           U_E\n",
       "0  5.978363e-28  8.198084e-26, 'Qm_coupling': Empty DataFrame\n",
       "Columns: []\n",
       "Index: [0], 'Ljs': j0    1.400000e-08\n",
       "dtype: float64, 'Cjs': j0    2.000000e-15\n",
       "dtype: float64, 'Qs': 0    inf\n",
       "dtype: float64, 'freqs_hfss_GHz': 0    4.113516\n",
       "dtype: float64, 'hfss_variables': _Cj_0     0fF\n",
       "_Lj_0    14nH\n",
       "dtype: object, 'modes': range(0, 1), 'I_peak': 0    0   -2.410747e-09\n",
       "dtype: float64\n",
       "dtype: object, 'V_peak': 0    0   -8.723138e-07\n",
       "dtype: float64\n",
       "dtype: object, 'ansys_energies': {0: {'U_J_inds': {'j0': 4.0681903237364056e-26}, 'U_J_caps': {'j0': 7.609314160650732e-28}, 'U_H': 2.98918152440136e-28, 'U_E': 4.099042226222435e-26, 'U_tot_ind': 4.098082138980419e-26, 'U_tot_cap': 4.175135367828943e-26, 'U_norm': 4.175135367828943e-26, 'U_diff': 0.009313574650382895}}, 'mesh':                         Unnamed: 0  Num Tets    Min edge length    \\\n",
       "0        layer_1_datatype_0_plane         2706           0.001787   \n",
       "1        layer_3_datatype_0_plane        59631           0.000467   \n",
       "2                      vacuum_box        46845           0.000443   \n",
       "3                  cross_transmon         2217           0.001281   \n",
       "4  readout_connector_arm_transmon          113           0.011225   \n",
       "\n",
       "   Max edge length    RMS edge length    Min tet vol    Max tet vol    \\\n",
       "0           0.347215           0.068460   2.316180e-10   2.789200e-05   \n",
       "1           0.604401           0.037494   3.770610e-12   6.586310e-03   \n",
       "2           1.388860           0.047152   2.066530e-12   4.793560e-02   \n",
       "3           0.042426           0.013548   5.522210e-11   3.000000e-07   \n",
       "4           0.055000           0.027009   7.688870e-09   1.833330e-07   \n",
       "\n",
       "   Mean tet vol    Std Devn (vol)    \n",
       "0    6.546870e-07      2.071090e-06  \n",
       "1    1.210220e-05      1.438690e-04  \n",
       "2    3.385300e-05      7.335300e-04  \n",
       "3    2.029770e-08      2.997660e-08  \n",
       "4    4.070800e-08      3.179760e-08  , 'convergence':              Solved Elements  Max Delta Freq. %\n",
       "Pass Number                                    \n",
       "1                       1184                NaN\n",
       "2                       1529          89.905000\n",
       "3                       1962          17.052000\n",
       "4                       2525           4.913400\n",
       "5                       3265           2.708600\n",
       "6                       4207           1.583600\n",
       "7                       5405           1.051300\n",
       "8                       6940           0.957230\n",
       "9                       8963           0.863090\n",
       "10                     11528           0.596880\n",
       "11                     14814           0.440010\n",
       "12                     19110           0.403560\n",
       "13                     24635           0.306180\n",
       "14                     31746           0.250820\n",
       "15                     40864           0.241520\n",
       "16                     52065           0.187770\n",
       "17                     67118           0.147920\n",
       "18                     82095           0.105880\n",
       "19                     95759           0.080445\n",
       "20                    106476           0.051609, 'convergence_f_pass': None}}}'}</td>\n",
       "      <td>{'pos_x': 0, ' pos_y': '0.0um', ' orientation': 0, ' chip': 'main', ' layer': 1, ' connection_pads': {'readout': {'connector_type': 0, 'claw_length': '185um', 'ground_spacing': '5um', 'claw_width': '10um', 'claw_gap': '5.1um', 'claw_cpw_length': '40um', 'claw_cpw_width': '10um', 'connector_location': 180}}, ' cross_width': '30um', ' cross_length': '195um', ' cross_gap': '29um', ' hfss_inductance': '10nH', ' hfss_capacitance': 0, ' hfss_resistance': 0, ' hfss_mesh_kw_jj': 7e-06, ' q3d_inductance': '10nH', ' q3d_capacitance': 0, ' q3d_resistance': 0, ' q3d_mesh_kw_jj': 7e-06, ' gds_cell_name': 'my_other_junction', ' aedt_q3d_inductance': 1e-08, ' aedt_q3d_capacitance': 0, ' aedt_hfss_inductance': 1.4e-08, ' aedt_hfss_capacitance': 0}</td>\n",
       "    </tr>\n",
       "  </tbody>\n",
       "</table>"
      ],
      "text/plain": [
       "<IPython.core.display.HTML object>"
      ]
     },
     "metadata": {},
     "output_type": "display_data"
    }
   ],
   "source": [
    "indexes, chars, best_geoms = selector.find_closest(target_params={\"Qubit_Frequency_GHz\": 4,\n",
    "                                                                  \"Qubit_Anharmonicity_MHz\": 200},\n",
    "                                                   num_top=3,\n",
    "                                                   metric=\"Euclidean\",\n",
    "                                                   display=True)"
   ]
  },
  {
   "cell_type": "markdown",
   "metadata": {},
   "source": [
    "You can do a weighted Euclidean metric instead"
   ]
  },
  {
   "cell_type": "code",
   "execution_count": 26,
   "metadata": {},
   "outputs": [
    {
     "name": "stdout",
     "output_type": "stream",
     "text": [
      "\u001b[1m\u001b[4mHere are the closest 3 geometries\u001b[0m\n",
      "\u001b[1mTarget parameters:\u001b[0m {'Qubit_Frequency_GHz': 4, 'Qubit_Anharmonicity_MHz': 200}\n",
      "\u001b[1mMetric:\u001b[0m Weighted Euclidean\n"
     ]
    },
    {
     "data": {
      "text/html": [
       "<table border=\"1\" class=\"dataframe\">\n",
       "  <thead>\n",
       "    <tr style=\"text-align: right;\">\n",
       "      <th>Ranking (Closest to Furthest)</th>\n",
       "      <th>Index</th>\n",
       "      <th>Characteristic from Library</th>\n",
       "      <th>Geometry from Library</th>\n",
       "    </tr>\n",
       "  </thead>\n",
       "  <tbody>\n",
       "    <tr>\n",
       "      <td>1</td>\n",
       "      <td>7</td>\n",
       "      <td>{'Qubit_Frequency_GHz': 3.926279169, 'Qubit_Anharmonicity_MHz': 199.216393, 'misc': '{'project_info': {'pinfo': design_name         Qubit_Sabrina_design\n",
       "project_name          Qubit_Sabrina_proj\n",
       "project_path    D:/lfl/Documents/Ansoft/\n",
       "setup_name                 TransmonSetup\n",
       "dtype: object, 'dissip': dielectrics_bulk                             None\n",
       "dielectric_surfaces    [layer_3_datatype_0_plane]\n",
       "resistive_surfaces                           None\n",
       "seams                                        None\n",
       "dtype: object, 'options': Series([], dtype: float64), 'junctions':                                j0\n",
       "Cj_variable                  Cj_0\n",
       "Lj_variable                  Lj_0\n",
       "length                     0.0001\n",
       "line             JJ_Lj_1_rect_jj_\n",
       "rect         JJ_rect_Lj_1_rect_jj, 'ports': Empty DataFrame\n",
       "Columns: []\n",
       "Index: []}, 'results': {'0': {'Pm':          j0\n",
       "0  0.974385, 'Pm_cap':          j0\n",
       "0  0.018225, 'Sm':    s_j0\n",
       "0    -1, 'Om':                  0\n",
       "freq_GHz  4.113516, 'sols':             U_H           U_E\n",
       "0  5.978363e-28  8.198084e-26, 'Qm_coupling': Empty DataFrame\n",
       "Columns: []\n",
       "Index: [0], 'Ljs': j0    1.400000e-08\n",
       "dtype: float64, 'Cjs': j0    2.000000e-15\n",
       "dtype: float64, 'Qs': 0    inf\n",
       "dtype: float64, 'freqs_hfss_GHz': 0    4.113516\n",
       "dtype: float64, 'hfss_variables': _Cj_0     0fF\n",
       "_Lj_0    14nH\n",
       "dtype: object, 'modes': range(0, 1), 'I_peak': 0    0   -2.410747e-09\n",
       "dtype: float64\n",
       "dtype: object, 'V_peak': 0    0   -8.723138e-07\n",
       "dtype: float64\n",
       "dtype: object, 'ansys_energies': {0: {'U_J_inds': {'j0': 4.0681903237364056e-26}, 'U_J_caps': {'j0': 7.609314160650732e-28}, 'U_H': 2.98918152440136e-28, 'U_E': 4.099042226222435e-26, 'U_tot_ind': 4.098082138980419e-26, 'U_tot_cap': 4.175135367828943e-26, 'U_norm': 4.175135367828943e-26, 'U_diff': 0.009313574650382895}}, 'mesh':                         Unnamed: 0  Num Tets    Min edge length    \\\n",
       "0        layer_1_datatype_0_plane         2706           0.001787   \n",
       "1        layer_3_datatype_0_plane        59631           0.000467   \n",
       "2                      vacuum_box        46845           0.000443   \n",
       "3                  cross_transmon         2217           0.001281   \n",
       "4  readout_connector_arm_transmon          113           0.011225   \n",
       "\n",
       "   Max edge length    RMS edge length    Min tet vol    Max tet vol    \\\n",
       "0           0.347215           0.068460   2.316180e-10   2.789200e-05   \n",
       "1           0.604401           0.037494   3.770610e-12   6.586310e-03   \n",
       "2           1.388860           0.047152   2.066530e-12   4.793560e-02   \n",
       "3           0.042426           0.013548   5.522210e-11   3.000000e-07   \n",
       "4           0.055000           0.027009   7.688870e-09   1.833330e-07   \n",
       "\n",
       "   Mean tet vol    Std Devn (vol)    \n",
       "0    6.546870e-07      2.071090e-06  \n",
       "1    1.210220e-05      1.438690e-04  \n",
       "2    3.385300e-05      7.335300e-04  \n",
       "3    2.029770e-08      2.997660e-08  \n",
       "4    4.070800e-08      3.179760e-08  , 'convergence':              Solved Elements  Max Delta Freq. %\n",
       "Pass Number                                    \n",
       "1                       1184                NaN\n",
       "2                       1529          89.905000\n",
       "3                       1962          17.052000\n",
       "4                       2525           4.913400\n",
       "5                       3265           2.708600\n",
       "6                       4207           1.583600\n",
       "7                       5405           1.051300\n",
       "8                       6940           0.957230\n",
       "9                       8963           0.863090\n",
       "10                     11528           0.596880\n",
       "11                     14814           0.440010\n",
       "12                     19110           0.403560\n",
       "13                     24635           0.306180\n",
       "14                     31746           0.250820\n",
       "15                     40864           0.241520\n",
       "16                     52065           0.187770\n",
       "17                     67118           0.147920\n",
       "18                     82095           0.105880\n",
       "19                     95759           0.080445\n",
       "20                    106476           0.051609, 'convergence_f_pass': None}}}'}</td>\n",
       "      <td>{'pos_x': 0, ' pos_y': '0.0um', ' orientation': 0, ' chip': 'main', ' layer': 1, ' connection_pads': {'readout': {'connector_type': 0, 'claw_length': '185um', 'ground_spacing': '4um', 'claw_width': '10um', 'claw_gap': '5.1um', 'claw_cpw_length': '40um', 'claw_cpw_width': '10um', 'connector_location': 180}}, ' cross_width': '30um', ' cross_length': '195um', ' cross_gap': '29um', ' hfss_inductance': '10nH', ' hfss_capacitance': 0, ' hfss_resistance': 0, ' hfss_mesh_kw_jj': 7e-06, ' q3d_inductance': '10nH', ' q3d_capacitance': 0, ' q3d_resistance': 0, ' q3d_mesh_kw_jj': 7e-06, ' gds_cell_name': 'my_other_junction', ' aedt_q3d_inductance': 1e-08, ' aedt_q3d_capacitance': 0, ' aedt_hfss_inductance': 1.4e-08, ' aedt_hfss_capacitance': 0}</td>\n",
       "    </tr>\n",
       "    <tr>\n",
       "      <td>2</td>\n",
       "      <td>25</td>\n",
       "      <td>{'Qubit_Frequency_GHz': 3.926279169, 'Qubit_Anharmonicity_MHz': 199.216393, 'misc': '{'project_info': {'pinfo': design_name         Qubit_Sabrina_design\n",
       "project_name          Qubit_Sabrina_proj\n",
       "project_path    D:/lfl/Documents/Ansoft/\n",
       "setup_name                 TransmonSetup\n",
       "dtype: object, 'dissip': dielectrics_bulk                             None\n",
       "dielectric_surfaces    [layer_3_datatype_0_plane]\n",
       "resistive_surfaces                           None\n",
       "seams                                        None\n",
       "dtype: object, 'options': Series([], dtype: float64), 'junctions':                                j0\n",
       "Cj_variable                  Cj_0\n",
       "Lj_variable                  Lj_0\n",
       "length                     0.0001\n",
       "line             JJ_Lj_1_rect_jj_\n",
       "rect         JJ_rect_Lj_1_rect_jj, 'ports': Empty DataFrame\n",
       "Columns: []\n",
       "Index: []}, 'results': {'0': {'Pm':          j0\n",
       "0  0.974385, 'Pm_cap':          j0\n",
       "0  0.018225, 'Sm':    s_j0\n",
       "0    -1, 'Om':                  0\n",
       "freq_GHz  4.113516, 'sols':             U_H           U_E\n",
       "0  5.978363e-28  8.198084e-26, 'Qm_coupling': Empty DataFrame\n",
       "Columns: []\n",
       "Index: [0], 'Ljs': j0    1.400000e-08\n",
       "dtype: float64, 'Cjs': j0    2.000000e-15\n",
       "dtype: float64, 'Qs': 0    inf\n",
       "dtype: float64, 'freqs_hfss_GHz': 0    4.113516\n",
       "dtype: float64, 'hfss_variables': _Cj_0     0fF\n",
       "_Lj_0    14nH\n",
       "dtype: object, 'modes': range(0, 1), 'I_peak': 0    0   -2.410747e-09\n",
       "dtype: float64\n",
       "dtype: object, 'V_peak': 0    0   -8.723138e-07\n",
       "dtype: float64\n",
       "dtype: object, 'ansys_energies': {0: {'U_J_inds': {'j0': 4.0681903237364056e-26}, 'U_J_caps': {'j0': 7.609314160650732e-28}, 'U_H': 2.98918152440136e-28, 'U_E': 4.099042226222435e-26, 'U_tot_ind': 4.098082138980419e-26, 'U_tot_cap': 4.175135367828943e-26, 'U_norm': 4.175135367828943e-26, 'U_diff': 0.009313574650382895}}, 'mesh':                         Unnamed: 0  Num Tets    Min edge length    \\\n",
       "0        layer_1_datatype_0_plane         2706           0.001787   \n",
       "1        layer_3_datatype_0_plane        59631           0.000467   \n",
       "2                      vacuum_box        46845           0.000443   \n",
       "3                  cross_transmon         2217           0.001281   \n",
       "4  readout_connector_arm_transmon          113           0.011225   \n",
       "\n",
       "   Max edge length    RMS edge length    Min tet vol    Max tet vol    \\\n",
       "0           0.347215           0.068460   2.316180e-10   2.789200e-05   \n",
       "1           0.604401           0.037494   3.770610e-12   6.586310e-03   \n",
       "2           1.388860           0.047152   2.066530e-12   4.793560e-02   \n",
       "3           0.042426           0.013548   5.522210e-11   3.000000e-07   \n",
       "4           0.055000           0.027009   7.688870e-09   1.833330e-07   \n",
       "\n",
       "   Mean tet vol    Std Devn (vol)    \n",
       "0    6.546870e-07      2.071090e-06  \n",
       "1    1.210220e-05      1.438690e-04  \n",
       "2    3.385300e-05      7.335300e-04  \n",
       "3    2.029770e-08      2.997660e-08  \n",
       "4    4.070800e-08      3.179760e-08  , 'convergence':              Solved Elements  Max Delta Freq. %\n",
       "Pass Number                                    \n",
       "1                       1184                NaN\n",
       "2                       1529          89.905000\n",
       "3                       1962          17.052000\n",
       "4                       2525           4.913400\n",
       "5                       3265           2.708600\n",
       "6                       4207           1.583600\n",
       "7                       5405           1.051300\n",
       "8                       6940           0.957230\n",
       "9                       8963           0.863090\n",
       "10                     11528           0.596880\n",
       "11                     14814           0.440010\n",
       "12                     19110           0.403560\n",
       "13                     24635           0.306180\n",
       "14                     31746           0.250820\n",
       "15                     40864           0.241520\n",
       "16                     52065           0.187770\n",
       "17                     67118           0.147920\n",
       "18                     82095           0.105880\n",
       "19                     95759           0.080445\n",
       "20                    106476           0.051609, 'convergence_f_pass': None}}}'}</td>\n",
       "      <td>{'pos_x': 0, ' pos_y': '0.0um', ' orientation': 0, ' chip': 'main', ' layer': 1, ' connection_pads': {'readout': {'connector_type': 0, 'claw_length': '185um', 'ground_spacing': '4um', 'claw_width': '15um', 'claw_gap': '5.1um', 'claw_cpw_length': '40um', 'claw_cpw_width': '10um', 'connector_location': 180}}, ' cross_width': '30um', ' cross_length': '195um', ' cross_gap': '29um', ' hfss_inductance': '10nH', ' hfss_capacitance': 0, ' hfss_resistance': 0, ' hfss_mesh_kw_jj': 7e-06, ' q3d_inductance': '10nH', ' q3d_capacitance': 0, ' q3d_resistance': 0, ' q3d_mesh_kw_jj': 7e-06, ' gds_cell_name': 'my_other_junction', ' aedt_q3d_inductance': 1e-08, ' aedt_q3d_capacitance': 0, ' aedt_hfss_inductance': 1.4e-08, ' aedt_hfss_capacitance': 0}</td>\n",
       "    </tr>\n",
       "    <tr>\n",
       "      <td>3</td>\n",
       "      <td>44</td>\n",
       "      <td>{'Qubit_Frequency_GHz': 3.926279169, 'Qubit_Anharmonicity_MHz': 199.216393, 'misc': '{'project_info': {'pinfo': design_name         Qubit_Sabrina_design\n",
       "project_name          Qubit_Sabrina_proj\n",
       "project_path    D:/lfl/Documents/Ansoft/\n",
       "setup_name                 TransmonSetup\n",
       "dtype: object, 'dissip': dielectrics_bulk                             None\n",
       "dielectric_surfaces    [layer_3_datatype_0_plane]\n",
       "resistive_surfaces                           None\n",
       "seams                                        None\n",
       "dtype: object, 'options': Series([], dtype: float64), 'junctions':                                j0\n",
       "Cj_variable                  Cj_0\n",
       "Lj_variable                  Lj_0\n",
       "length                     0.0001\n",
       "line             JJ_Lj_1_rect_jj_\n",
       "rect         JJ_rect_Lj_1_rect_jj, 'ports': Empty DataFrame\n",
       "Columns: []\n",
       "Index: []}, 'results': {'0': {'Pm':          j0\n",
       "0  0.974385, 'Pm_cap':          j0\n",
       "0  0.018225, 'Sm':    s_j0\n",
       "0    -1, 'Om':                  0\n",
       "freq_GHz  4.113516, 'sols':             U_H           U_E\n",
       "0  5.978363e-28  8.198084e-26, 'Qm_coupling': Empty DataFrame\n",
       "Columns: []\n",
       "Index: [0], 'Ljs': j0    1.400000e-08\n",
       "dtype: float64, 'Cjs': j0    2.000000e-15\n",
       "dtype: float64, 'Qs': 0    inf\n",
       "dtype: float64, 'freqs_hfss_GHz': 0    4.113516\n",
       "dtype: float64, 'hfss_variables': _Cj_0     0fF\n",
       "_Lj_0    14nH\n",
       "dtype: object, 'modes': range(0, 1), 'I_peak': 0    0   -2.410747e-09\n",
       "dtype: float64\n",
       "dtype: object, 'V_peak': 0    0   -8.723138e-07\n",
       "dtype: float64\n",
       "dtype: object, 'ansys_energies': {0: {'U_J_inds': {'j0': 4.0681903237364056e-26}, 'U_J_caps': {'j0': 7.609314160650732e-28}, 'U_H': 2.98918152440136e-28, 'U_E': 4.099042226222435e-26, 'U_tot_ind': 4.098082138980419e-26, 'U_tot_cap': 4.175135367828943e-26, 'U_norm': 4.175135367828943e-26, 'U_diff': 0.009313574650382895}}, 'mesh':                         Unnamed: 0  Num Tets    Min edge length    \\\n",
       "0        layer_1_datatype_0_plane         2706           0.001787   \n",
       "1        layer_3_datatype_0_plane        59631           0.000467   \n",
       "2                      vacuum_box        46845           0.000443   \n",
       "3                  cross_transmon         2217           0.001281   \n",
       "4  readout_connector_arm_transmon          113           0.011225   \n",
       "\n",
       "   Max edge length    RMS edge length    Min tet vol    Max tet vol    \\\n",
       "0           0.347215           0.068460   2.316180e-10   2.789200e-05   \n",
       "1           0.604401           0.037494   3.770610e-12   6.586310e-03   \n",
       "2           1.388860           0.047152   2.066530e-12   4.793560e-02   \n",
       "3           0.042426           0.013548   5.522210e-11   3.000000e-07   \n",
       "4           0.055000           0.027009   7.688870e-09   1.833330e-07   \n",
       "\n",
       "   Mean tet vol    Std Devn (vol)    \n",
       "0    6.546870e-07      2.071090e-06  \n",
       "1    1.210220e-05      1.438690e-04  \n",
       "2    3.385300e-05      7.335300e-04  \n",
       "3    2.029770e-08      2.997660e-08  \n",
       "4    4.070800e-08      3.179760e-08  , 'convergence':              Solved Elements  Max Delta Freq. %\n",
       "Pass Number                                    \n",
       "1                       1184                NaN\n",
       "2                       1529          89.905000\n",
       "3                       1962          17.052000\n",
       "4                       2525           4.913400\n",
       "5                       3265           2.708600\n",
       "6                       4207           1.583600\n",
       "7                       5405           1.051300\n",
       "8                       6940           0.957230\n",
       "9                       8963           0.863090\n",
       "10                     11528           0.596880\n",
       "11                     14814           0.440010\n",
       "12                     19110           0.403560\n",
       "13                     24635           0.306180\n",
       "14                     31746           0.250820\n",
       "15                     40864           0.241520\n",
       "16                     52065           0.187770\n",
       "17                     67118           0.147920\n",
       "18                     82095           0.105880\n",
       "19                     95759           0.080445\n",
       "20                    106476           0.051609, 'convergence_f_pass': None}}}'}</td>\n",
       "      <td>{'pos_x': 0, ' pos_y': '0.0um', ' orientation': 0, ' chip': 'main', ' layer': 1, ' connection_pads': {'readout': {'connector_type': 0, 'claw_length': '185um', 'ground_spacing': '5um', 'claw_width': '10um', 'claw_gap': '5.1um', 'claw_cpw_length': '40um', 'claw_cpw_width': '10um', 'connector_location': 180}}, ' cross_width': '30um', ' cross_length': '195um', ' cross_gap': '29um', ' hfss_inductance': '10nH', ' hfss_capacitance': 0, ' hfss_resistance': 0, ' hfss_mesh_kw_jj': 7e-06, ' q3d_inductance': '10nH', ' q3d_capacitance': 0, ' q3d_resistance': 0, ' q3d_mesh_kw_jj': 7e-06, ' gds_cell_name': 'my_other_junction', ' aedt_q3d_inductance': 1e-08, ' aedt_q3d_capacitance': 0, ' aedt_hfss_inductance': 1.4e-08, ' aedt_hfss_capacitance': 0}</td>\n",
       "    </tr>\n",
       "  </tbody>\n",
       "</table>"
      ],
      "text/plain": [
       "<IPython.core.display.HTML object>"
      ]
     },
     "metadata": {},
     "output_type": "display_data"
    }
   ],
   "source": [
    "indexes, chars, best_geoms = selector.find_closest(target_params={\"Qubit_Frequency_GHz\": 4,\n",
    "                                                                  \"Qubit_Anharmonicity_MHz\": 200},\n",
    "                                                   num_top=3,\n",
    "                                                   metric=\"Weighted Euclidean\",\n",
    "                                                   display=True)"
   ]
  },
  {
   "cell_type": "markdown",
   "metadata": {},
   "source": [
    "You also have the ability to define your custom metric"
   ]
  },
  {
   "cell_type": "code",
   "execution_count": 32,
   "metadata": {},
   "outputs": [
    {
     "name": "stdout",
     "output_type": "stream",
     "text": [
      "\u001b[1m\u001b[4mHere are the closest 1 geometries\u001b[0m\n",
      "\u001b[1mTarget parameters:\u001b[0m {'Qubit_Frequency_GHz': 4, 'Qubit_Anharmonicity_MHz': 200}\n",
      "\u001b[1mMetric:\u001b[0m Custom\n"
     ]
    },
    {
     "data": {
      "text/html": [
       "<table border=\"1\" class=\"dataframe\">\n",
       "  <thead>\n",
       "    <tr style=\"text-align: right;\">\n",
       "      <th>Ranking (Closest to Furthest)</th>\n",
       "      <th>Index</th>\n",
       "      <th>Characteristic from Library</th>\n",
       "      <th>Geometry from Library</th>\n",
       "    </tr>\n",
       "  </thead>\n",
       "  <tbody>\n",
       "    <tr>\n",
       "      <td>1</td>\n",
       "      <td>7</td>\n",
       "      <td>{'Qubit_Frequency_GHz': 3.926279169, 'Qubit_Anharmonicity_MHz': 199.216393, 'misc': '{'project_info': {'pinfo': design_name         Qubit_Sabrina_design\n",
       "project_name          Qubit_Sabrina_proj\n",
       "project_path    D:/lfl/Documents/Ansoft/\n",
       "setup_name                 TransmonSetup\n",
       "dtype: object, 'dissip': dielectrics_bulk                             None\n",
       "dielectric_surfaces    [layer_3_datatype_0_plane]\n",
       "resistive_surfaces                           None\n",
       "seams                                        None\n",
       "dtype: object, 'options': Series([], dtype: float64), 'junctions':                                j0\n",
       "Cj_variable                  Cj_0\n",
       "Lj_variable                  Lj_0\n",
       "length                     0.0001\n",
       "line             JJ_Lj_1_rect_jj_\n",
       "rect         JJ_rect_Lj_1_rect_jj, 'ports': Empty DataFrame\n",
       "Columns: []\n",
       "Index: []}, 'results': {'0': {'Pm':          j0\n",
       "0  0.974385, 'Pm_cap':          j0\n",
       "0  0.018225, 'Sm':    s_j0\n",
       "0    -1, 'Om':                  0\n",
       "freq_GHz  4.113516, 'sols':             U_H           U_E\n",
       "0  5.978363e-28  8.198084e-26, 'Qm_coupling': Empty DataFrame\n",
       "Columns: []\n",
       "Index: [0], 'Ljs': j0    1.400000e-08\n",
       "dtype: float64, 'Cjs': j0    2.000000e-15\n",
       "dtype: float64, 'Qs': 0    inf\n",
       "dtype: float64, 'freqs_hfss_GHz': 0    4.113516\n",
       "dtype: float64, 'hfss_variables': _Cj_0     0fF\n",
       "_Lj_0    14nH\n",
       "dtype: object, 'modes': range(0, 1), 'I_peak': 0    0   -2.410747e-09\n",
       "dtype: float64\n",
       "dtype: object, 'V_peak': 0    0   -8.723138e-07\n",
       "dtype: float64\n",
       "dtype: object, 'ansys_energies': {0: {'U_J_inds': {'j0': 4.0681903237364056e-26}, 'U_J_caps': {'j0': 7.609314160650732e-28}, 'U_H': 2.98918152440136e-28, 'U_E': 4.099042226222435e-26, 'U_tot_ind': 4.098082138980419e-26, 'U_tot_cap': 4.175135367828943e-26, 'U_norm': 4.175135367828943e-26, 'U_diff': 0.009313574650382895}}, 'mesh':                         Unnamed: 0  Num Tets    Min edge length    \\\n",
       "0        layer_1_datatype_0_plane         2706           0.001787   \n",
       "1        layer_3_datatype_0_plane        59631           0.000467   \n",
       "2                      vacuum_box        46845           0.000443   \n",
       "3                  cross_transmon         2217           0.001281   \n",
       "4  readout_connector_arm_transmon          113           0.011225   \n",
       "\n",
       "   Max edge length    RMS edge length    Min tet vol    Max tet vol    \\\n",
       "0           0.347215           0.068460   2.316180e-10   2.789200e-05   \n",
       "1           0.604401           0.037494   3.770610e-12   6.586310e-03   \n",
       "2           1.388860           0.047152   2.066530e-12   4.793560e-02   \n",
       "3           0.042426           0.013548   5.522210e-11   3.000000e-07   \n",
       "4           0.055000           0.027009   7.688870e-09   1.833330e-07   \n",
       "\n",
       "   Mean tet vol    Std Devn (vol)    \n",
       "0    6.546870e-07      2.071090e-06  \n",
       "1    1.210220e-05      1.438690e-04  \n",
       "2    3.385300e-05      7.335300e-04  \n",
       "3    2.029770e-08      2.997660e-08  \n",
       "4    4.070800e-08      3.179760e-08  , 'convergence':              Solved Elements  Max Delta Freq. %\n",
       "Pass Number                                    \n",
       "1                       1184                NaN\n",
       "2                       1529          89.905000\n",
       "3                       1962          17.052000\n",
       "4                       2525           4.913400\n",
       "5                       3265           2.708600\n",
       "6                       4207           1.583600\n",
       "7                       5405           1.051300\n",
       "8                       6940           0.957230\n",
       "9                       8963           0.863090\n",
       "10                     11528           0.596880\n",
       "11                     14814           0.440010\n",
       "12                     19110           0.403560\n",
       "13                     24635           0.306180\n",
       "14                     31746           0.250820\n",
       "15                     40864           0.241520\n",
       "16                     52065           0.187770\n",
       "17                     67118           0.147920\n",
       "18                     82095           0.105880\n",
       "19                     95759           0.080445\n",
       "20                    106476           0.051609, 'convergence_f_pass': None}}}'}</td>\n",
       "      <td>{'pos_x': 0, ' pos_y': '0.0um', ' orientation': 0, ' chip': 'main', ' layer': 1, ' connection_pads': {'readout': {'connector_type': 0, 'claw_length': '185um', 'ground_spacing': '4um', 'claw_width': '10um', 'claw_gap': '5.1um', 'claw_cpw_length': '40um', 'claw_cpw_width': '10um', 'connector_location': 180}}, ' cross_width': '30um', ' cross_length': '195um', ' cross_gap': '29um', ' hfss_inductance': '10nH', ' hfss_capacitance': 0, ' hfss_resistance': 0, ' hfss_mesh_kw_jj': 7e-06, ' q3d_inductance': '10nH', ' q3d_capacitance': 0, ' q3d_resistance': 0, ' q3d_mesh_kw_jj': 7e-06, ' gds_cell_name': 'my_other_junction', ' aedt_q3d_inductance': 1e-08, ' aedt_q3d_capacitance': 0, ' aedt_hfss_inductance': 1.4e-08, ' aedt_hfss_capacitance': 0}</td>\n",
       "    </tr>\n",
       "  </tbody>\n",
       "</table>"
      ],
      "text/plain": [
       "<IPython.core.display.HTML object>"
      ]
     },
     "metadata": {},
     "output_type": "display_data"
    }
   ],
   "source": [
    "# Define a custom Manhattan distance metric function\n",
    "def manhattan_distance(target, simulated):\n",
    "    \"\"\"\n",
    "    Compute the Manhattan distance between two dictionaries of Hamiltonian parameters.\n",
    "    \n",
    "    The Manhattan distance (or L1 norm) is calculated as the sum of the absolute differences\n",
    "    between the corresponding values in the two dictionaries. This function is designed to work\n",
    "    with dictionaries that may not have the exact same keys.\n",
    "    \n",
    "    Parameters:\n",
    "        target (dict): A dictionary containing the target Hamiltonian parameters.\n",
    "                       Example: {'Qubit_Frequency_GHz': 5, 'Qubit_Anharmonicity_MHz': 200}\n",
    "        \n",
    "        simulated (dict): A dictionary containing the Hamiltonian parameters to compare against.\n",
    "                          Example: {'Qubit_Frequency_GHz': 5.1, 'Qubit_Anharmonicity_MHz': 195}\n",
    "    \n",
    "    Returns:\n",
    "        float: The Manhattan distance between the target and simulated Hamiltonian parameters.\n",
    "    \n",
    "    Notes:\n",
    "        - The function iterates over the keys in the 'target' dictionary.\n",
    "        - For each key in 'target', it fetches the corresponding value in 'simulated' using the .get() method.\n",
    "        - If the key is not present in 'simulated', .get() returns 0 as a default value.\n",
    "        - The absolute difference between the target and simulated (or default) values is then calculated.\n",
    "        - All these absolute differences are summed up to compute the Manhattan distance.\n",
    "    \n",
    "    Example Usage:\n",
    "        >>> manhattan_distance({'Qubit_Frequency_GHz': 5, 'Qubit_Anharmonicity_MHz': 200},\n",
    "        ...                     {'Qubit_Frequency_GHz': 5.1, 'Qubit_Anharmonicity_MHz': 195})\n",
    "        0.1 + 5 = 5.1\n",
    "    \"\"\"\n",
    "    return sum(abs(target[key] - simulated.get(key, 0)) for key in target)\n",
    "\n",
    "\n",
    "# Set the custom metric function in the selector class\n",
    "selector.custom_metric_func = manhattan_distance\n",
    "\n",
    "# Search as usual\n",
    "indexes, chars, best_geoms = selector.find_closest(target_params={\"Qubit_Frequency_GHz\": 4,\n",
    "                                                                  \"Qubit_Anharmonicity_MHz\": 200},\n",
    "                                                   num_top=1,\n",
    "                                                   metric=\"Custom\",\n",
    "                                                   display=True)"
   ]
  },
  {
   "cell_type": "markdown",
   "metadata": {},
   "source": [
    "# Section 4: Using these results in `Qiskit Metal`<a id=\"qiskit-metal\"></a>\n",
    "\n",
    "Now that we have acquired the best geometry, implementation in Qiskit Metal is super easy!\n",
    "\n",
    "#### First, make your usual imports."
   ]
  },
  {
   "cell_type": "code",
   "execution_count": null,
   "metadata": {},
   "outputs": [],
   "source": [
    "%load_ext autoreload\n",
    "%autoreload 2\n",
    "\n",
    "# Qiskit Metal imports\n",
    "import qiskit_metal as metal\n",
    "from qiskit_metal import designs, draw\n",
    "from qiskit_metal import MetalGUI, Dict\n",
    "\n",
    "design = designs.DesignPlanar()\n",
    "\n",
    "gui = MetalGUI(design)"
   ]
  },
  {
   "cell_type": "markdown",
   "metadata": {},
   "source": [
    "**Second, you should double check which component you ended up interfacing with.**"
   ]
  },
  {
   "cell_type": "code",
   "execution_count": null,
   "metadata": {},
   "outputs": [],
   "source": [
    "reader.component_name"
   ]
  },
  {
   "cell_type": "markdown",
   "metadata": {},
   "source": [
    "Ah yes, it was the `TransmonCross`!\n",
    "\n",
    "**Third, import this and parse our the results from `Selector.find_closest`**."
   ]
  },
  {
   "cell_type": "code",
   "execution_count": null,
   "metadata": {},
   "outputs": [],
   "source": [
    "from qiskit_metal.qlibrary.qubits.transmon_cross import TransmonCross\n",
    "\n",
    "# Parsing the best geometries \n",
    "best_options        = best_geoms[0]\n",
    "second_best_options = best_geoms[1]\n",
    "third_best_options  = best_geoms[2]\n",
    "# and so on.. so on...\n",
    "\n",
    "TransmonCross(design, \"transmon\", options=best_options)\n",
    "\n",
    "gui.rebuild()\n",
    "gui.zoom_on_components(['transmon'])\n",
    "gui.screenshot()"
   ]
  },
  {
   "cell_type": "markdown",
   "metadata": {},
   "source": [
    "🎉🥳 Congrats on learning how to use the main functionality of `metal-library`.\n",
    "\n",
    "If you have the time, we'd greatly appreciate any contributions to the components library! Not only does this help you design the ,If that sounds interesting "
   ]
  },
  {
   "cell_type": "markdown",
   "metadata": {},
   "source": [
    "# Section 5. Qubit & Cavity Selection\n",
    "\n",
    "**NOTE: Still needs to be implemented**"
   ]
  },
  {
   "cell_type": "code",
   "execution_count": null,
   "metadata": {},
   "outputs": [],
   "source": [
    "reader = mlib.Reader(component_name='TransmonCross')\n",
    "reader.read_library(component_type='QubitCavity') # Note, we've change it from \"QubitOnly\" -> \"QubitCavity\"\n",
    "\n",
    "selector = mlib.Selector(reader)"
   ]
  },
  {
   "cell_type": "code",
   "execution_count": null,
   "metadata": {},
   "outputs": [],
   "source": [
    "indexes, chars, best_geoms = selector.find_closest(target_params={\"Qubit_Frequency_GHz\": 5,\n",
    "                                                                  \"Qubit_Anharmonicity_MHz\": 200,\n",
    "                                                                  \"Cavity_Frequency_GHz\": 7,\n",
    "                                                                  \"Coupling_Strength_MHz\": 70,\n",
    "                                                                  \"Cavity_Wavelength\": \"half\", # acceptable inputs [\"half\", \"quarter\"], refers to wavelength of resonator\n",
    "                                                                  \"Feedline_Coupling\": 'capacitive' #acceptable inputs [\"capacitive\", \"inductive\"], refers to \n",
    "                                                                  } \n",
    "                                                   num_top=3,\n",
    "                                                   metric=\"Euclidian\",\n",
    "                                                   display=True)"
   ]
  },
  {
   "cell_type": "code",
   "execution_count": null,
   "metadata": {},
   "outputs": [],
   "source": [
    "%load_ext autoreload\n",
    "%autoreload 2\n",
    "\n",
    "# Qiskit Metal imports\n",
    "import qiskit_metal as metal\n",
    "from qiskit_metal import designs, draw\n",
    "from qiskit_metal import MetalGUI, Dict\n",
    "\n",
    "design = designs.DesignPlanar()\n",
    "\n",
    "gui = MetalGUI(design)"
   ]
  },
  {
   "cell_type": "code",
   "execution_count": null,
   "metadata": {},
   "outputs": [],
   "source": [
    "from metal_library.components import QubitCavity\n",
    "\n",
    "# Parsing the best geometries \n",
    "best_options        = best_geoms[0]\n",
    "second_best_options = best_geoms[1]\n",
    "# and so on...\n",
    "\n",
    "design = QubitCavity(design, options=best_options)\n",
    "\n",
    "\n",
    "gui.rebuild()\n",
    "gui.autoscale()\n",
    "gui.screenshot()"
   ]
  }
 ],
 "metadata": {
  "hide_input": false,
  "kernelspec": {
   "display_name": "lfl_tools",
   "language": "python",
   "name": "lfl_tools"
  },
  "language_info": {
   "codemirror_mode": {
    "name": "ipython",
    "version": 3
   },
   "file_extension": ".py",
   "mimetype": "text/x-python",
   "name": "python",
   "nbconvert_exporter": "python",
   "pygments_lexer": "ipython3",
   "version": "3.11.4"
  },
  "toc": {
   "base_numbering": 1,
   "nav_menu": {},
   "number_sections": true,
   "sideBar": false,
   "skip_h1_title": false,
   "title_cell": "Table of Contents",
   "title_sidebar": "Contents",
   "toc_cell": false,
   "toc_position": {},
   "toc_section_display": true,
   "toc_window_display": false
  }
 },
 "nbformat": 4,
 "nbformat_minor": 2
}
