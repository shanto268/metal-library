{
 "cells": [
  {
   "cell_type": "markdown",
   "metadata": {
    "jp-MarkdownHeadingCollapsed": true
   },
   "source": [
    "# Tutorial #1: Selecting From the Library of Presimulated Components\n",
    "\n",
    "**Target Audience:** Front-end User\n",
    "\n",
    "**Table of Contents:**\n",
    "1. [Selecting a the template of the component.](#component)\n",
    "2. [Meaning / notation of characteristics associated with component.](#reading-characteristics)\n",
    "3. [**[Main Functionality!]** Finding geometrical parameters which best suits target characteristics.](#select-characteristics)\n",
    "4. [Using best geometry in `Qiskit Metal`](#qiskit-metal)\n"
   ]
  },
  {
   "cell_type": "code",
   "execution_count": null,
   "metadata": {},
   "outputs": [],
   "source": [
    "%load_ext autoreload\n",
    "%autoreload 2"
   ]
  },
  {
   "cell_type": "code",
   "execution_count": null,
   "metadata": {},
   "outputs": [],
   "source": [
    "!pip install ../."
   ]
  },
  {
   "cell_type": "markdown",
   "metadata": {
    "heading_collapsed": true,
    "jp-MarkdownHeadingCollapsed": true
   },
   "source": [
    "# Section 1: Selecting a Component <a id=\"component\"></a>\n",
    "\n",
    "First, let's see which components are currently supported."
   ]
  },
  {
   "cell_type": "code",
   "execution_count": null,
   "metadata": {
    "hidden": true
   },
   "outputs": [],
   "source": [
    "import metal_library as mlib\n",
    "\n",
    "print(mlib.supported_components)"
   ]
  },
  {
   "cell_type": "markdown",
   "metadata": {
    "hidden": true
   },
   "source": [
    "Now we can place one of the supported components into `Reader`. This is a class meant to parse the library (located at `C:\\\\...\\metal_library\\library`)"
   ]
  },
  {
   "cell_type": "code",
   "execution_count": null,
   "metadata": {
    "hidden": true
   },
   "outputs": [],
   "source": [
    "reader = mlib.Reader(component_name='TransmonCross')\n",
    "print(reader)"
   ]
  },
  {
   "cell_type": "markdown",
   "metadata": {
    "hidden": true
   },
   "source": [
    "Interfacing with the library will be conducted through this object."
   ]
  },
  {
   "cell_type": "markdown",
   "metadata": {
    "jp-MarkdownHeadingCollapsed": true
   },
   "source": [
    "# Section 2: Understanding Structure of Characteristics <a id=\"reading-characteristics\"></a>\n",
    "\n",
    "Since we're conducting science, we must use exact language when talking about the characteristics we're pulling.\n",
    "\n",
    "Example of **imprecise** language:\n",
    "- 👎 \"Get the coupling strength?\"\n",
    "\n",
    "Example of **precise** language:\n",
    "- 👍 \"Get the coupling strength between the readout cavity and qubit\"\n",
    "- 👍 \"Get the coupling strength between qubit #1 and the bus (connecting qubit #1 and qubit #2)\"\n",
    "\n",
    "The following attributes / functions were created to help the front-end user follow precisely what each component characteristic means.\n",
    "\n"
   ]
  },
  {
   "cell_type": "markdown",
   "metadata": {},
   "source": [
    "### Component Types\n",
    "In simulations, we don't always simulate the entire chip at once. So there's a property `component_types` to view which combinations we've simulated."
   ]
  },
  {
   "cell_type": "code",
   "execution_count": null,
   "metadata": {},
   "outputs": [],
   "source": [
    "reader.component_types"
   ]
  },
  {
   "cell_type": "markdown",
   "metadata": {},
   "source": [
    "### Characteristics of Component Type\n",
    "\n",
    "Within each `component_type`, the types of observables / component characteristics you can extract change. Obviously if you have simulated only a qubit you can't extract cavity resonant frequency. To see which characteristics are supported, we can use `Reader.get_characteristic_info`.\n",
    "\n",
    "Note: `component_type` must be an entry in `Reader.component_types`"
   ]
  },
  {
   "cell_type": "code",
   "execution_count": null,
   "metadata": {},
   "outputs": [],
   "source": [
    "reader.get_characteristic_info(component_type=\"QubitOnly\")"
   ]
  },
  {
   "cell_type": "code",
   "execution_count": null,
   "metadata": {},
   "outputs": [],
   "source": [
    "reader.get_characteristic_info(component_type=\"QubitCavity\")"
   ]
  },
  {
   "cell_type": "code",
   "execution_count": null,
   "metadata": {},
   "outputs": [],
   "source": [
    "reader.get_characteristic_info(component_type=\"QubitDriveline\");"
   ]
  },
  {
   "cell_type": "markdown",
   "metadata": {
    "jp-MarkdownHeadingCollapsed": true
   },
   "source": [
    "# Section 3: (MAIN FUNCTIONALITY) Finding a Geometry for Given Characteristics <a id=\"select-characteristics\"></a>\n",
    "\n",
    "Now that we understand which `component_name` and `component_type` gives us the parameters we desire. We can begin to select geometries which will yield promising results.\n",
    "\n",
    "First, you must select a `component_type` and prepare the library for the selection class (`Selector`)."
   ]
  },
  {
   "cell_type": "code",
   "execution_count": null,
   "metadata": {},
   "outputs": [],
   "source": [
    "reader = mlib.Reader(component_name='TransmonCross')\n",
    "reader.read_library(component_type='QubitOnly')"
   ]
  },
  {
   "cell_type": "markdown",
   "metadata": {},
   "source": [
    "Note: if you failed to run the previous cell, you haven't selected a `component_type`, and `Selector` will throw an error like:\n",
    "```\n",
    "reader = mlib.Reader(component_name='TransmonCross')\n",
    "selector = mlib.Selector(reader)\n",
    "\n",
    ">> AttributeError: '`Reader` must have `Reader.library` created. Run `Reader.read_library` before initalizing `Selector`.'\n",
    "\n",
    "```\n",
    "\n",
    "Now that everything is loaded, we can initalize the `Selector` class."
   ]
  },
  {
   "cell_type": "code",
   "execution_count": null,
   "metadata": {},
   "outputs": [],
   "source": [
    "#### REMINDER: don't skip the previous cell! \n",
    "selector = mlib.Selector(reader)\n",
    "print(selector)"
   ]
  },
  {
   "cell_type": "markdown",
   "metadata": {},
   "source": [
    "### Let's select a geometry which results in the closest qubit characteristics.\n",
    "\n",
    "Call `Selector.find_closest`\n",
    "\n",
    "Documentation:\n",
    "\n",
    "```\n",
    "Main functionality. Select the closest geometry for a set of characteristics.\n",
    "\n",
    "Args:\n",
    "    target_params (dict): A dictionary where the keys are the column names in `self.characteristic`,\n",
    "                          and the values are the target values to compare against.\n",
    "    num_top (int): The number of rows with the smallest Euclidean distances to return.\n",
    "    metric (str, optional): Metric to determine closeness. Defaults to \"Euclidian\". \n",
    "                            Must choose from `self.__supported_metrics__`.\n",
    "    display (boo, optional): Print out results? Defaults to True.\n",
    "\n",
    "Returns:\n",
    "    indexes_smallest (pd.Index): Indexes of the 'num_top' rows with the smallest distances to the target parameters.\n",
    "    best_characteristics (list[dict]): Associated characteristics. Ranked closest to furthest, same order as `best_geometries`\n",
    "    best_geometries (list[dict]): Geometries in the style of QComponent.options. Ranked closest to furthest.\n",
    "```\n"
   ]
  },
  {
   "cell_type": "code",
   "execution_count": null,
   "metadata": {},
   "outputs": [],
   "source": [
    "# You can find the supported metrics here...\n",
    "selector.__supported_metrics__"
   ]
  },
  {
   "cell_type": "code",
   "execution_count": null,
   "metadata": {},
   "outputs": [],
   "source": [
    "indexes, chars, best_geoms = selector.find_closest(target_params={\"Qubit_Frequency_GHz\": 4,\n",
    "                                                                  \"Qubit_Anharmonicity_MHz\": 200},\n",
    "                                                   num_top=3,\n",
    "                                                   metric=\"Euclidean\",\n",
    "                                                   display=True)"
   ]
  },
  {
   "cell_type": "markdown",
   "metadata": {},
   "source": [
    "You can do a weighted Euclidean metric instead.\n",
    "\n",
    "\\begin{equation*}\n",
    "    F(\\{P_i\\},\\{p_i\\}) = \\sum_i w_i\\frac{(P_i - p_i)^2}{P_i}\n",
    "\\end{equation*}\n",
    "\n",
    "Here $w_i$ are weights which default to 1 if not user-defined."
   ]
  },
  {
   "cell_type": "code",
   "execution_count": null,
   "metadata": {},
   "outputs": [],
   "source": [
    "# Set up the weights\n",
    "selector.metric_weights ={\"Qubit_Frequency_GHz\": 2, \"Qubit_Anharmonicity_MHz\": 0.5}\n",
    "\n",
    "# Search as usual\n",
    "indexes, chars, best_geoms = selector.find_closest(target_params={\"Qubit_Frequency_GHz\": 4,\n",
    "                                                                  \"Qubit_Anharmonicity_MHz\": 200},\n",
    "                                                   num_top=3,\n",
    "                                                   metric=\"Weighted Euclidean\",\n",
    "                                                   display=True)"
   ]
  },
  {
   "cell_type": "markdown",
   "metadata": {},
   "source": [
    "You also have the ability to define your custom metric"
   ]
  },
  {
   "cell_type": "code",
   "execution_count": null,
   "metadata": {},
   "outputs": [],
   "source": [
    "# Define a custom Manhattan distance metric function\n",
    "def manhattan_distance(target, simulated):\n",
    "    \"\"\"\n",
    "    Compute the Manhattan distance between two dictionaries of Hamiltonian parameters.\n",
    "    \n",
    "    The Manhattan distance (or L1 norm) is calculated as the sum of the absolute differences\n",
    "    between the corresponding values in the two dictionaries. This function is designed to work\n",
    "    with dictionaries that may not have the exact same keys.\n",
    "    \n",
    "    Parameters:\n",
    "        target (dict): A dictionary containing the target Hamiltonian parameters.\n",
    "                       Example: {'Qubit_Frequency_GHz': 5, 'Qubit_Anharmonicity_MHz': 200}\n",
    "        \n",
    "        simulated (dict): A dictionary containing the Hamiltonian parameters to compare against.\n",
    "                          Example: {'Qubit_Frequency_GHz': 5.1, 'Qubit_Anharmonicity_MHz': 195}\n",
    "    \n",
    "    Returns:\n",
    "        float: The Manhattan distance between the target and simulated Hamiltonian parameters.\n",
    "    \n",
    "    Notes:\n",
    "        - The function iterates over the keys in the 'target' dictionary.\n",
    "        - For each key in 'target', it fetches the corresponding value in 'simulated' using the .get() method.\n",
    "        - If the key is not present in 'simulated', .get() returns 0 as a default value.\n",
    "        - The absolute difference between the target and simulated (or default) values is then calculated.\n",
    "        - All these absolute differences are summed up to compute the Manhattan distance.\n",
    "    \n",
    "    Example Usage:\n",
    "        >>> manhattan_distance({'Qubit_Frequency_GHz': 5, 'Qubit_Anharmonicity_MHz': 200},\n",
    "        ...                     {'Qubit_Frequency_GHz': 5.1, 'Qubit_Anharmonicity_MHz': 195})\n",
    "        0.1 + 5 = 5.1\n",
    "    \"\"\"\n",
    "    return sum(abs(target[key] - simulated.get(key, 0)) for key in target)\n",
    "\n",
    "\n",
    "# Set the custom metric function in the selector class\n",
    "selector.custom_metric_func = manhattan_distance\n",
    "\n",
    "# Search as usual\n",
    "indexes, chars, best_geoms = selector.find_closest(target_params={\"Qubit_Frequency_GHz\": 4,\n",
    "                                                                  \"Qubit_Anharmonicity_MHz\": 200},\n",
    "                                                   num_top=1,\n",
    "                                                   metric=\"Custom\",\n",
    "                                                   display=True)"
   ]
  },
  {
   "cell_type": "markdown",
   "metadata": {
    "heading_collapsed": true,
    "jp-MarkdownHeadingCollapsed": true
   },
   "source": [
    "# Section 4: Using these results in `Qiskit Metal`<a id=\"qiskit-metal\"></a>\n",
    "\n",
    "Now that we have acquired the best geometry, implementation in Qiskit Metal is super easy!\n",
    "\n",
    "#### First, make your usual imports."
   ]
  },
  {
   "cell_type": "code",
   "execution_count": null,
   "metadata": {
    "hidden": true
   },
   "outputs": [],
   "source": [
    "%load_ext autoreload\n",
    "%autoreload 2\n",
    "\n",
    "# Qiskit Metal imports\n",
    "import qiskit_metal as metal\n",
    "from qiskit_metal import designs, draw\n",
    "from qiskit_metal import MetalGUI, Dict\n",
    "\n",
    "design = designs.DesignPlanar()\n",
    "\n",
    "gui = MetalGUI(design)"
   ]
  },
  {
   "cell_type": "markdown",
   "metadata": {
    "hidden": true
   },
   "source": [
    "**Second, you should double check which component you ended up interfacing with.**"
   ]
  },
  {
   "cell_type": "code",
   "execution_count": null,
   "metadata": {
    "hidden": true
   },
   "outputs": [],
   "source": [
    "reader.component_name"
   ]
  },
  {
   "cell_type": "markdown",
   "metadata": {
    "hidden": true
   },
   "source": [
    "Ah yes, it was the `TransmonCross`!\n",
    "\n",
    "**Third, import this and parse our the results from `Selector.find_closest`**."
   ]
  },
  {
   "cell_type": "code",
   "execution_count": null,
   "metadata": {
    "hidden": true
   },
   "outputs": [],
   "source": [
    "from qiskit_metal.qlibrary.qubits.transmon_cross import TransmonCross\n",
    "\n",
    "# Parsing the best geometries \n",
    "best_options        = best_geoms[0]\n",
    "#second_best_options = best_geoms[1]\n",
    "#third_best_options  = best_geoms[2]\n",
    "# and so on.. so on...\n",
    "\n",
    "TransmonCross(design, \"transmon\", options=best_options)\n",
    "\n",
    "gui.rebuild()\n",
    "gui.zoom_on_components(['transmon'])\n",
    "gui.screenshot()"
   ]
  },
  {
   "cell_type": "markdown",
   "metadata": {
    "hidden": true
   },
   "source": [
    "🎉🥳 Congrats on learning how to use the main functionality of `metal-library`.\n",
    "\n",
    "If you have the time, we'd greatly appreciate any contributions to the components library! Not only does this help you design the ,If that sounds interesting "
   ]
  },
  {
   "cell_type": "markdown",
   "metadata": {
    "jp-MarkdownHeadingCollapsed": true
   },
   "source": [
    "# Section 5. Qubit & Cavity Selection\n",
    "\n",
    "**NOTE: Under development**"
   ]
  },
  {
   "cell_type": "code",
   "execution_count": 1,
   "metadata": {},
   "outputs": [],
   "source": [
    "%load_ext autoreload\n",
    "%autoreload 2"
   ]
  },
  {
   "cell_type": "code",
   "execution_count": 2,
   "metadata": {},
   "outputs": [
    {
     "name": "stdout",
     "output_type": "stream",
     "text": [
      "Processing c:\\users\\lfl\\metal-library\n",
      "  Preparing metadata (setup.py): started\n",
      "  Preparing metadata (setup.py): finished with status 'done'\n",
      "Building wheels for collected packages: metal-library\n",
      "  Building wheel for metal-library (setup.py): started\n",
      "  Building wheel for metal-library (setup.py): finished with status 'done'\n",
      "  Created wheel for metal-library: filename=metal_library-1.0.0-py3-none-any.whl size=474384 sha256=a71621578fe1cdb75fe76690cbc1944c634b410f274e9b2f08827dd032a33aed\n",
      "  Stored in directory: c:\\users\\lfl\\appdata\\local\\pip\\cache\\wheels\\a7\\4a\\9c\\0cfe2ec6c6be710a3e8d71b6156e1c76406fee205810faaa9d\n",
      "Successfully built metal-library\n",
      "Installing collected packages: metal-library\n",
      "  Attempting uninstall: metal-library\n",
      "    Found existing installation: metal-library 1.0.0\n",
      "    Uninstalling metal-library-1.0.0:\n",
      "      Successfully uninstalled metal-library-1.0.0\n",
      "Successfully installed metal-library-1.0.0\n"
     ]
    }
   ],
   "source": [
    "!pip install ../."
   ]
  },
  {
   "cell_type": "code",
   "execution_count": 3,
   "metadata": {},
   "outputs": [],
   "source": [
    "import metal_library as mlib"
   ]
  },
  {
   "cell_type": "code",
   "execution_count": 4,
   "metadata": {},
   "outputs": [],
   "source": [
    "reader = mlib.Reader(component_name='TransmonCross')\n",
    "reader.read_library(component_type='QubitCavity') # Note, we've change it from \"QubitOnly\" -> \"QubitCavity\""
   ]
  },
  {
   "cell_type": "code",
   "execution_count": 5,
   "metadata": {},
   "outputs": [
    {
     "data": {
      "text/plain": [
       "<metal_library.core.reader.Reader at 0x125c9e5d2d0>"
      ]
     },
     "execution_count": 5,
     "metadata": {},
     "output_type": "execute_result"
    }
   ],
   "source": [
    "reader"
   ]
  },
  {
   "cell_type": "code",
   "execution_count": 6,
   "metadata": {},
   "outputs": [
    {
     "name": "stdout",
     "output_type": "stream",
     "text": [
      "<metal_library.core.selector.Selector object at 0x00000125CC4F2910>\n"
     ]
    }
   ],
   "source": [
    "#### REMINDER: don't skip the previous cell! \n",
    "selector = mlib.Selector(reader)\n",
    "print(selector)"
   ]
  },
  {
   "cell_type": "code",
   "execution_count": 7,
   "metadata": {},
   "outputs": [
    {
     "name": "stderr",
     "output_type": "stream",
     "text": [
      "INFO:root:\u001b[1mNOTE TO USER:\u001b[0m the value \u001b[1m5 for Qubit_Frequency_GHz\u001b[0m is outside the bounds of our library.\n",
      "If you find a geometry which corresponds to these values, please consider contributing it! 😁🙏\n",
      "\n",
      "INFO:root:\u001b[1mNOTE TO USER:\u001b[0m the value \u001b[1m200 for Qubit_Anharmonicity_MHz\u001b[0m is outside the bounds of our library.\n",
      "If you find a geometry which corresponds to these values, please consider contributing it! 😁🙏\n",
      "\n",
      "INFO:root:\u001b[1mNOTE TO USER:\u001b[0m the value \u001b[1m4 for Cavity_Frequency_GHz\u001b[0m is outside the bounds of our library.\n",
      "If you find a geometry which corresponds to these values, please consider contributing it! 😁🙏\n",
      "\n",
      "INFO:root:\u001b[1mNOTE TO USER:\u001b[0m the value \u001b[1m70 for Coupling_Strength_MHz\u001b[0m is outside the bounds of our library.\n",
      "If you find a geometry which corresponds to these values, please consider contributing it! 😁🙏\n",
      "\n",
      "INFO:root:\u001b[1mNOTE TO USER:\u001b[0m There are no geometries with the specified categorical parameters - \u001b[1m{'Cavity_Wavelength': 'quarter', 'Feedline_Coupling': 'inductive'}\u001b[0m.\n",
      "If you find a geometry which corresponds to these values, please consider contributing it! 😁🙏\n",
      "\n",
      "INFO:root:\u001b[1mNOTE TO USER:\u001b[0m No metric weights provided. Using default weights of 1 for all parameters.\n"
     ]
    },
    {
     "name": "stdout",
     "output_type": "stream",
     "text": [
      "\u001b[1m\u001b[4mHere are the closest 1 geometries\u001b[0m\n",
      "\u001b[1mTarget parameters:\u001b[0m {'Qubit_Frequency_GHz': 5, 'Qubit_Anharmonicity_MHz': 200, 'Cavity_Frequency_GHz': 4, 'Coupling_Strength_MHz': 70, 'Cavity_Wavelength': 'quarter', 'Feedline_Coupling': 'inductive'}\n",
      "\u001b[1mMetric:\u001b[0m Weighted Euclidean\n"
     ]
    },
    {
     "data": {
      "text/html": [
       "<table border=\"1\" class=\"dataframe\">\n",
       "  <thead>\n",
       "    <tr style=\"text-align: right;\">\n",
       "      <th>Ranking (Closest to Furthest)</th>\n",
       "      <th>Index</th>\n",
       "      <th>Characteristic from Library</th>\n",
       "      <th>Geometry from Library</th>\n",
       "    </tr>\n",
       "  </thead>\n",
       "  <tbody>\n",
       "  </tbody>\n",
       "</table>"
      ],
      "text/plain": [
       "<IPython.core.display.HTML object>"
      ]
     },
     "metadata": {},
     "output_type": "display_data"
    }
   ],
   "source": [
    "indexes, chars, best_geoms = selector.find_closest(target_params={\"Qubit_Frequency_GHz\": 5,\n",
    "                                                                  \"Qubit_Anharmonicity_MHz\": 200,\n",
    "                                                                  \"Cavity_Frequency_GHz\": 4,\n",
    "                                                                  \"Coupling_Strength_MHz\": 70,\n",
    "                                                                  \"Cavity_Wavelength\": \"quarter\", # acceptable inputs [\"half\", \"quarter\"], refers to wavelength of resonator\n",
    "                                                                  \"Feedline_Coupling\": 'inductive' #acceptable inputs [\"capacitive\", \"inductive\"], refers to \n",
    "                                                                  } ,\n",
    "                                                   num_top=1,\n",
    "                                                   metric=\"Weighted Euclidean\",\n",
    "                                                   display=True)"
   ]
  },
  {
   "cell_type": "code",
   "execution_count": 8,
   "metadata": {},
   "outputs": [
    {
     "name": "stderr",
     "output_type": "stream",
     "text": [
      "INFO:root:\u001b[1mNOTE TO USER:\u001b[0m the value \u001b[1m5 for Qubit_Frequency_GHz\u001b[0m is outside the bounds of our library.\n",
      "If you find a geometry which corresponds to these values, please consider contributing it! 😁🙏\n",
      "\n",
      "INFO:root:\u001b[1mNOTE TO USER:\u001b[0m the value \u001b[1m200 for Qubit_Anharmonicity_MHz\u001b[0m is outside the bounds of our library.\n",
      "If you find a geometry which corresponds to these values, please consider contributing it! 😁🙏\n",
      "\n",
      "INFO:root:\u001b[1mNOTE TO USER:\u001b[0m the value \u001b[1m4 for Cavity_Frequency_GHz\u001b[0m is outside the bounds of our library.\n",
      "If you find a geometry which corresponds to these values, please consider contributing it! 😁🙏\n",
      "\n",
      "INFO:root:\u001b[1mNOTE TO USER:\u001b[0m the value \u001b[1m70 for Coupling_Strength_MHz\u001b[0m is outside the bounds of our library.\n",
      "If you find a geometry which corresponds to these values, please consider contributing it! 😁🙏\n",
      "\n"
     ]
    },
    {
     "name": "stdout",
     "output_type": "stream",
     "text": [
      "\u001b[1m\u001b[4mHere are the closest 1 geometries\u001b[0m\n",
      "\u001b[1mTarget parameters:\u001b[0m {'Qubit_Frequency_GHz': 5, 'Qubit_Anharmonicity_MHz': 200, 'Cavity_Frequency_GHz': 4, 'Coupling_Strength_MHz': 70, 'Cavity_Wavelength': 'half', 'Feedline_Coupling': 'capacitive'}\n",
      "\u001b[1mMetric:\u001b[0m Euclidean\n"
     ]
    },
    {
     "data": {
      "text/html": [
       "<table border=\"1\" class=\"dataframe\">\n",
       "  <thead>\n",
       "    <tr style=\"text-align: right;\">\n",
       "      <th>Ranking (Closest to Furthest)</th>\n",
       "      <th>Index</th>\n",
       "      <th>Characteristic from Library</th>\n",
       "      <th>Geometry from Library</th>\n",
       "    </tr>\n",
       "  </thead>\n",
       "  <tbody>\n",
       "    <tr>\n",
       "      <td>1</td>\n",
       "      <td>0</td>\n",
       "      <td>{'Qubit_Frequency_GHz': 4.368966835, 'Qubit_Anharmonicity_MHz': 208.7318843, 'Cavity_Frequency_GHz': 7, 'Coupling_Strength_MHz': 200, 'Cavity_Wavelength': 'half', 'Feedline_Coupling': 'capacitive', 'misc': '{'project_info': {'pinfo': design_name         Qubit_Sabrina_design\r\n",
       "project_name          Qubit_Sabrina_proj\r\n",
       "project_path    D:/lfl/Documents/Ansoft/\r\n",
       "setup_name                 TransmonSetup\r\n",
       "dtype: object, 'dissip': dielectrics_bulk                             None\r\n",
       "dielectric_surfaces    [layer_3_datatype_0_plane]\r\n",
       "resistive_surfaces                           None\r\n",
       "seams                                        None\r\n",
       "dtype: object, 'options': Series([], dtype: float64), 'junctions':                                j0\r\n",
       "Cj_variable                  Cj_0\r\n",
       "Lj_variable                  Lj_0\r\n",
       "length                     0.0001\r\n",
       "line             JJ_Lj_1_rect_jj_\r\n",
       "rect         JJ_rect_Lj_1_rect_jj, 'ports': Empty DataFrame\r\n",
       "Columns: []\r\n",
       "Index: []}, 'results': {'0': {'Pm':          j0\r\n",
       "0  0.972539, 'Pm_cap':         j0\r\n",
       "0  0.01921, 'Sm':    s_j0\r\n",
       "0     1, 'Om':                  0\r\n",
       "freq_GHz  4.565832, 'sols':             U_H           U_E\r\n",
       "0  5.006170e-28  6.149530e-26, 'Qm_coupling': Empty DataFrame\r\n",
       "Columns: []\r\n",
       "Index: [0], 'Ljs': j0    1.200000e-08\r\n",
       "dtype: float64, 'Cjs': j0    2.000000e-15\r\n",
       "dtype: float64, 'Qs': 0    inf\r\n",
       "dtype: float64, 'freqs_hfss_GHz': 0    4.565832\r\n",
       "dtype: float64, 'hfss_variables': _Cj_0     0fF\r\n",
       "_Lj_0    12nH\r\n",
       "dtype: object, 'modes': range(0, 1), 'I_peak': 0    0    2.254217e-09\r\n",
       "dtype: float64\r\n",
       "dtype: object, 'V_peak': 0    0    7.760270e-07\r\n",
       "dtype: float64\r\n",
       "dtype: object, 'ansys_energies': {0: {'U_J_inds': {'j0': 3.0488967120612563e-26}, 'U_J_caps': {'j0': 6.022178367321365e-28}, 'U_H': 2.503085034994955e-28, 'U_E': 3.07476489436335e-26, 'U_tot_ind': 3.073927562411206e-26, 'U_tot_cap': 3.134986678036564e-26, 'U_norm': 3.134986678036564e-26, 'U_diff': 0.009834105168918332}}, 'mesh':                         Unnamed: 0  Num Tets    Min edge length    \\\r\n",
       "0        layer_1_datatype_0_plane         2688           0.001932   \r\n",
       "1        layer_3_datatype_0_plane        58668           0.000527   \r\n",
       "2                      vacuum_box        44801           0.000417   \r\n",
       "3                  cross_transmon         2157           0.001036   \r\n",
       "4  readout_connector_arm_transmon          103           0.011225   \r\n",
       "\r\n",
       "   Max edge length    RMS edge length    Min tet vol    Max tet vol    \\\r\n",
       "0           0.377827           0.068688   2.188450e-10   2.465270e-05   \r\n",
       "1           0.680296           0.038536   9.180080e-12   7.277160e-03   \r\n",
       "2           1.092030           0.045530   2.960910e-12   3.462600e-02   \r\n",
       "3           0.042426           0.014016   4.357760e-11   3.000000e-07   \r\n",
       "4           0.044258           0.027031   5.013020e-09   1.475260e-07   \r\n",
       "\r\n",
       "   Mean tet vol    Std Devn (vol)    \r\n",
       "0    6.327770e-07      1.867410e-06  \r\n",
       "1    1.180400e-05      1.529540e-04  \r\n",
       "2    3.396790e-05      6.556810e-04  \r\n",
       "3    1.974970e-08      3.113790e-08  \r\n",
       "4    4.466020e-08      2.763120e-08  , 'convergence':              Solved Elements  Max Delta Freq. %\r\n",
       "Pass Number                                    \r\n",
       "1                       1271                NaN\r\n",
       "2                       1642          89.153000\r\n",
       "3                       2125          17.507000\r\n",
       "4                       2731           4.218600\r\n",
       "5                       3503           2.388700\r\n",
       "6                       4487           1.222600\r\n",
       "7                       5776           1.021900\r\n",
       "8                       7447           0.953440\r\n",
       "9                       9607           0.760260\r\n",
       "10                     12366           0.533750\r\n",
       "11                     15892           0.502370\r\n",
       "12                     20442           0.348410\r\n",
       "13                     26312           0.283060\r\n",
       "14                     33869           0.236720\r\n",
       "15                     43655           0.217370\r\n",
       "16                     56199           0.167080\r\n",
       "17                     72427           0.136280\r\n",
       "18                     85542           0.091801\r\n",
       "19                    103469           0.081948, 'convergence_f_pass': None}}}'}</td>\n",
       "      <td>{'pos_x': 0, 'pos_y': '0.0um', 'orientation': 0, 'chip': 'main', 'layer': 1, 'qubit_options': {'pos_x': 0, 'pos_y': '1500um', 'orientation': 180, 'chip': 'main', 'layer': 1, 'connection_pads': {'readout': {'connector_type': 0, 'claw_length': '185um', 'ground_spacing': '4um', 'claw_width': '10um', 'claw_gap': '5.1um', 'claw_cpw_length': '40um', 'claw_cpw_width': '10um', 'connector_location': 180}}, 'cross_width': '30um', ' cross_length': '185um', 'cross_gap': '29um', 'hfss_inductance': '10nH', 'hfss_capacitance': 0, 'hfss_resistance': 0, 'hfss_mesh_kw_jj': 7e-06, 'q3d_inductance': '10nH', 'q3d_capacitance': 0, 'q3d_resistance': 0, 'q3d_mesh_kw_jj': 7e-06, 'gds_cell_name': 'my_other_junction', 'aedt_q3d_inductance': 1e-08, 'aedt_q3d_capacitance': 0, 'aedt_hfss_inductance': 1.2e-08, 'aedt_hfss_capacitance': 0}, 'cavity_options': {'coupling_type': 'capacitive', 'coupler_options': {'orientation': 180, 'pos_x': 0, 'pos_y': 0, 'prime_width': '10um', 'prime_gap': '5.1um', 'second_width': '10um', 'second_gap': '5.1um', 'coupling_space': '7.9um', 'coupling_length': '225um', 'down_length': '50um', 'fillet': '49.9um', 'mirror': False, 'open_termination': False}, 'cpw_options': {'meander': {'spacing': '200um', 'asymmetry': '0um'}, 'snap': True, 'prevent_short_edges': True, 'pin_inputs': {'start_pin': {'component': nan, 'pin': nan}, 'end_pin': {'component': nan, 'pin': nan}}, 'fillet': 0, 'lead': {'start_straight': '0mm', 'end_straight': '0mm', 'start_jogged_extension': nan, 'end_jogged_extension': nan}, 'total_length': '7mm', 'trace_width': '5.1um'}}}</td>\n",
       "    </tr>\n",
       "  </tbody>\n",
       "</table>"
      ],
      "text/plain": [
       "<IPython.core.display.HTML object>"
      ]
     },
     "metadata": {},
     "output_type": "display_data"
    }
   ],
   "source": [
    "indexes, chars, best_geoms = selector.find_closest(target_params={\"Qubit_Frequency_GHz\": 5,\n",
    "                                                                  \"Qubit_Anharmonicity_MHz\": 200,\n",
    "                                                                  \"Cavity_Frequency_GHz\": 4,\n",
    "                                                                  \"Coupling_Strength_MHz\": 70,\n",
    "                                                                  \"Cavity_Wavelength\": \"half\", # acceptable inputs [\"half\", \"quarter\"], refers to wavelength of resonator\n",
    "                                                                  \"Feedline_Coupling\": 'capacitive' #acceptable inputs [\"capacitive\", \"inductive\"], refers to \n",
    "                                                                  } ,\n",
    "                                                   num_top=1,\n",
    "                                                   metric=\"Euclidean\",\n",
    "                                                   display=True)"
   ]
  },
  {
   "cell_type": "code",
   "execution_count": null,
   "metadata": {},
   "outputs": [],
   "source": [
    "best_options        = best_geoms[0]"
   ]
  },
  {
   "cell_type": "code",
   "execution_count": null,
   "metadata": {},
   "outputs": [],
   "source": [
    "best_options"
   ]
  },
  {
   "cell_type": "markdown",
   "metadata": {},
   "source": [
    "# Section 6: Using these results in `Qiskit Metal`<a id=\"qiskit-metal\"></a>\n",
    "\n",
    "Now that we have acquired the best geometry, implementation in Qiskit Metal is super easy!\n",
    "\n",
    "#### First, make your usual imports."
   ]
  },
  {
   "cell_type": "code",
   "execution_count": 12,
   "metadata": {},
   "outputs": [
    {
     "name": "stdout",
     "output_type": "stream",
     "text": [
      "The autoreload extension is already loaded. To reload it, use:\n",
      "  %reload_ext autoreload\n"
     ]
    }
   ],
   "source": [
    "%load_ext autoreload\n",
    "%autoreload 2"
   ]
  },
  {
   "cell_type": "code",
   "execution_count": 13,
   "metadata": {},
   "outputs": [
    {
     "name": "stdout",
     "output_type": "stream",
     "text": [
      "Processing c:\\users\\lfl\\metal-library\n",
      "  Preparing metadata (setup.py): started\n",
      "  Preparing metadata (setup.py): finished with status 'done'\n",
      "Building wheels for collected packages: metal-library\n",
      "  Building wheel for metal-library (setup.py): started\n",
      "  Building wheel for metal-library (setup.py): finished with status 'done'\n",
      "  Created wheel for metal-library: filename=metal_library-1.0.0-py3-none-any.whl size=474480 sha256=6b2939fde3fd969d886fe6095c8a3ebc891dbf603f2235e9935fcab795636ba2\n",
      "  Stored in directory: c:\\users\\lfl\\appdata\\local\\pip\\cache\\wheels\\a7\\4a\\9c\\0cfe2ec6c6be710a3e8d71b6156e1c76406fee205810faaa9d\n",
      "Successfully built metal-library\n",
      "Installing collected packages: metal-library\n",
      "  Attempting uninstall: metal-library\n",
      "    Found existing installation: metal-library 1.0.0\n",
      "    Uninstalling metal-library-1.0.0:\n",
      "      Successfully uninstalled metal-library-1.0.0\n",
      "Successfully installed metal-library-1.0.0\n"
     ]
    }
   ],
   "source": [
    "!pip install ../."
   ]
  },
  {
   "cell_type": "code",
   "execution_count": 14,
   "metadata": {},
   "outputs": [
    {
     "name": "stderr",
     "output_type": "stream",
     "text": [
      "INFO:root:\u001b[1mNOTE TO USER:\u001b[0m the value \u001b[1m5 for Qubit_Frequency_GHz\u001b[0m is outside the bounds of our library.\n",
      "If you find a geometry which corresponds to these values, please consider contributing it! 😁🙏\n",
      "\n",
      "INFO:root:\u001b[1mNOTE TO USER:\u001b[0m the value \u001b[1m200 for Qubit_Anharmonicity_MHz\u001b[0m is outside the bounds of our library.\n",
      "If you find a geometry which corresponds to these values, please consider contributing it! 😁🙏\n",
      "\n",
      "INFO:root:\u001b[1mNOTE TO USER:\u001b[0m the value \u001b[1m4 for Cavity_Frequency_GHz\u001b[0m is outside the bounds of our library.\n",
      "If you find a geometry which corresponds to these values, please consider contributing it! 😁🙏\n",
      "\n",
      "INFO:root:\u001b[1mNOTE TO USER:\u001b[0m the value \u001b[1m70 for Coupling_Strength_MHz\u001b[0m is outside the bounds of our library.\n",
      "If you find a geometry which corresponds to these values, please consider contributing it! 😁🙏\n",
      "\n"
     ]
    },
    {
     "name": "stdout",
     "output_type": "stream",
     "text": [
      "\u001b[1m\u001b[4mHere are the closest 1 geometries\u001b[0m\n",
      "\u001b[1mTarget parameters:\u001b[0m {'Qubit_Frequency_GHz': 5, 'Qubit_Anharmonicity_MHz': 200, 'Cavity_Frequency_GHz': 4, 'Coupling_Strength_MHz': 70, 'Cavity_Wavelength': 'half', 'Feedline_Coupling': 'capacitive'}\n",
      "\u001b[1mMetric:\u001b[0m Euclidean\n"
     ]
    },
    {
     "data": {
      "text/html": [
       "<table border=\"1\" class=\"dataframe\">\n",
       "  <thead>\n",
       "    <tr style=\"text-align: right;\">\n",
       "      <th>Ranking (Closest to Furthest)</th>\n",
       "      <th>Index</th>\n",
       "      <th>Characteristic from Library</th>\n",
       "      <th>Geometry from Library</th>\n",
       "    </tr>\n",
       "  </thead>\n",
       "  <tbody>\n",
       "    <tr>\n",
       "      <td>1</td>\n",
       "      <td>0</td>\n",
       "      <td>{'Qubit_Frequency_GHz': 4.368966835, 'Qubit_Anharmonicity_MHz': 208.7318843, 'Cavity_Frequency_GHz': 7, 'Coupling_Strength_MHz': 200, 'Cavity_Wavelength': 'half', 'Feedline_Coupling': 'capacitive', 'misc': '{'project_info': {'pinfo': design_name         Qubit_Sabrina_design\r\n",
       "project_name          Qubit_Sabrina_proj\r\n",
       "project_path    D:/lfl/Documents/Ansoft/\r\n",
       "setup_name                 TransmonSetup\r\n",
       "dtype: object, 'dissip': dielectrics_bulk                             None\r\n",
       "dielectric_surfaces    [layer_3_datatype_0_plane]\r\n",
       "resistive_surfaces                           None\r\n",
       "seams                                        None\r\n",
       "dtype: object, 'options': Series([], dtype: float64), 'junctions':                                j0\r\n",
       "Cj_variable                  Cj_0\r\n",
       "Lj_variable                  Lj_0\r\n",
       "length                     0.0001\r\n",
       "line             JJ_Lj_1_rect_jj_\r\n",
       "rect         JJ_rect_Lj_1_rect_jj, 'ports': Empty DataFrame\r\n",
       "Columns: []\r\n",
       "Index: []}, 'results': {'0': {'Pm':          j0\r\n",
       "0  0.972539, 'Pm_cap':         j0\r\n",
       "0  0.01921, 'Sm':    s_j0\r\n",
       "0     1, 'Om':                  0\r\n",
       "freq_GHz  4.565832, 'sols':             U_H           U_E\r\n",
       "0  5.006170e-28  6.149530e-26, 'Qm_coupling': Empty DataFrame\r\n",
       "Columns: []\r\n",
       "Index: [0], 'Ljs': j0    1.200000e-08\r\n",
       "dtype: float64, 'Cjs': j0    2.000000e-15\r\n",
       "dtype: float64, 'Qs': 0    inf\r\n",
       "dtype: float64, 'freqs_hfss_GHz': 0    4.565832\r\n",
       "dtype: float64, 'hfss_variables': _Cj_0     0fF\r\n",
       "_Lj_0    12nH\r\n",
       "dtype: object, 'modes': range(0, 1), 'I_peak': 0    0    2.254217e-09\r\n",
       "dtype: float64\r\n",
       "dtype: object, 'V_peak': 0    0    7.760270e-07\r\n",
       "dtype: float64\r\n",
       "dtype: object, 'ansys_energies': {0: {'U_J_inds': {'j0': 3.0488967120612563e-26}, 'U_J_caps': {'j0': 6.022178367321365e-28}, 'U_H': 2.503085034994955e-28, 'U_E': 3.07476489436335e-26, 'U_tot_ind': 3.073927562411206e-26, 'U_tot_cap': 3.134986678036564e-26, 'U_norm': 3.134986678036564e-26, 'U_diff': 0.009834105168918332}}, 'mesh':                         Unnamed: 0  Num Tets    Min edge length    \\\r\n",
       "0        layer_1_datatype_0_plane         2688           0.001932   \r\n",
       "1        layer_3_datatype_0_plane        58668           0.000527   \r\n",
       "2                      vacuum_box        44801           0.000417   \r\n",
       "3                  cross_transmon         2157           0.001036   \r\n",
       "4  readout_connector_arm_transmon          103           0.011225   \r\n",
       "\r\n",
       "   Max edge length    RMS edge length    Min tet vol    Max tet vol    \\\r\n",
       "0           0.377827           0.068688   2.188450e-10   2.465270e-05   \r\n",
       "1           0.680296           0.038536   9.180080e-12   7.277160e-03   \r\n",
       "2           1.092030           0.045530   2.960910e-12   3.462600e-02   \r\n",
       "3           0.042426           0.014016   4.357760e-11   3.000000e-07   \r\n",
       "4           0.044258           0.027031   5.013020e-09   1.475260e-07   \r\n",
       "\r\n",
       "   Mean tet vol    Std Devn (vol)    \r\n",
       "0    6.327770e-07      1.867410e-06  \r\n",
       "1    1.180400e-05      1.529540e-04  \r\n",
       "2    3.396790e-05      6.556810e-04  \r\n",
       "3    1.974970e-08      3.113790e-08  \r\n",
       "4    4.466020e-08      2.763120e-08  , 'convergence':              Solved Elements  Max Delta Freq. %\r\n",
       "Pass Number                                    \r\n",
       "1                       1271                NaN\r\n",
       "2                       1642          89.153000\r\n",
       "3                       2125          17.507000\r\n",
       "4                       2731           4.218600\r\n",
       "5                       3503           2.388700\r\n",
       "6                       4487           1.222600\r\n",
       "7                       5776           1.021900\r\n",
       "8                       7447           0.953440\r\n",
       "9                       9607           0.760260\r\n",
       "10                     12366           0.533750\r\n",
       "11                     15892           0.502370\r\n",
       "12                     20442           0.348410\r\n",
       "13                     26312           0.283060\r\n",
       "14                     33869           0.236720\r\n",
       "15                     43655           0.217370\r\n",
       "16                     56199           0.167080\r\n",
       "17                     72427           0.136280\r\n",
       "18                     85542           0.091801\r\n",
       "19                    103469           0.081948, 'convergence_f_pass': None}}}'}</td>\n",
       "      <td>{'pos_x': 0, 'pos_y': '0.0um', 'orientation': 0, 'chip': 'main', 'layer': 1, 'qubit_options': {'pos_x': 0, 'pos_y': '1500um', 'orientation': 180, 'chip': 'main', 'layer': 1, 'connection_pads': {'readout': {'connector_type': 0, 'claw_length': '185um', 'ground_spacing': '4um', 'claw_width': '10um', 'claw_gap': '5.1um', 'claw_cpw_length': '40um', 'claw_cpw_width': '10um', 'connector_location': 180}}, 'cross_width': '30um', ' cross_length': '185um', 'cross_gap': '29um', 'hfss_inductance': '10nH', 'hfss_capacitance': 0, 'hfss_resistance': 0, 'hfss_mesh_kw_jj': 7e-06, 'q3d_inductance': '10nH', 'q3d_capacitance': 0, 'q3d_resistance': 0, 'q3d_mesh_kw_jj': 7e-06, 'gds_cell_name': 'my_other_junction', 'aedt_q3d_inductance': 1e-08, 'aedt_q3d_capacitance': 0, 'aedt_hfss_inductance': 1.2e-08, 'aedt_hfss_capacitance': 0}, 'cavity_options': {'coupling_type': 'capacitive', 'coupler_options': {'orientation': 180, 'pos_x': 0, 'pos_y': 0, 'prime_width': '10um', 'prime_gap': '5.1um', 'second_width': '10um', 'second_gap': '5.1um', 'coupling_space': '7.9um', 'coupling_length': '225um', 'down_length': '50um', 'fillet': '49.9um', 'mirror': False, 'open_termination': False}, 'cpw_options': {'meander': {'spacing': '200um', 'asymmetry': '0um'}, 'snap': True, 'prevent_short_edges': True, 'pin_inputs': {'start_pin': {'component': nan, 'pin': nan}, 'end_pin': {'component': nan, 'pin': nan}}, 'fillet': 0, 'lead': {'start_straight': '0mm', 'end_straight': '0mm', 'start_jogged_extension': nan, 'end_jogged_extension': nan}, 'total_length': '7mm', 'trace_width': '5.1um'}}}</td>\n",
       "    </tr>\n",
       "  </tbody>\n",
       "</table>"
      ],
      "text/plain": [
       "<IPython.core.display.HTML object>"
      ]
     },
     "metadata": {},
     "output_type": "display_data"
    }
   ],
   "source": [
    "import metal_library as mlib\n",
    "reader = mlib.Reader(component_name='TransmonCross')\n",
    "reader.read_library(component_type='QubitCavity') # Note, we've change it from \"QubitOnly\" -> \"QubitCavity\"\n",
    "#### REMINDER: don't skip the previous cell! \n",
    "selector = mlib.Selector(reader)\n",
    "indexes, chars, best_geoms = selector.find_closest(target_params={\"Qubit_Frequency_GHz\": 5,\n",
    "                                                                  \"Qubit_Anharmonicity_MHz\": 200,\n",
    "                                                                  \"Cavity_Frequency_GHz\": 4,\n",
    "                                                                  \"Coupling_Strength_MHz\": 70,\n",
    "                                                                  \"Cavity_Wavelength\": \"half\", # acceptable inputs [\"half\", \"quarter\"], refers to wavelength of resonator\n",
    "                                                                  \"Feedline_Coupling\": 'capacitive' #acceptable inputs [\"capacitive\", \"inductive\"], refers to \n",
    "                                                                  } ,\n",
    "                                                   num_top=1,\n",
    "                                                   metric=\"Euclidean\",\n",
    "                                                   display=True)"
   ]
  },
  {
   "cell_type": "code",
   "execution_count": 20,
   "metadata": {},
   "outputs": [],
   "source": [
    "# Qiskit Metal imports\n",
    "\n",
    "import qiskit_metal as metal\n",
    "from qiskit_metal import designs, draw\n",
    "from qiskit_metal import MetalGUI, Dict\n",
    "\n",
    "\n",
    "design = designs.DesignPlanar()\n",
    "\n",
    "gui = MetalGUI(design)"
   ]
  },
  {
   "cell_type": "code",
   "execution_count": 16,
   "metadata": {},
   "outputs": [],
   "source": [
    "from metal_library.components import QubitCavity"
   ]
  },
  {
   "cell_type": "code",
   "execution_count": 23,
   "metadata": {},
   "outputs": [
    {
     "name": "stderr",
     "output_type": "stream",
     "text": [
      "02:03PM 39s ERROR [rebuild]: ERROR in building component name=cavity, error='float' object has no attribute 'values'\n"
     ]
    },
    {
     "name": "stdout",
     "output_type": "stream",
     "text": [
      "Entering _create_cavity method.\n",
      "cpw_options before checks: {'meander': {'spacing': '200um', 'asymmetry': '0um'}, 'snap': True, 'prevent_short_edges': True, 'pin_inputs': {'start_pin': {'component': 'Q1', 'pin': 'readout'}, 'end_pin': {'component': 'feedline', 'pin': 'second_end'}}, 'fillet': 0, 'lead': {'start_straight': '0mm', 'end_straight': '0mm', 'start_jogged_extension': nan, 'end_jogged_extension': nan}, 'total_length': '7mm', 'trace_width': '5.1um'}\n",
      "Start component: Q1, End component: feedline\n",
      "cpw_options after checks: {'meander': {'spacing': '200um', 'asymmetry': '0um'}, 'snap': True, 'prevent_short_edges': True, 'pin_inputs': {'start_pin': {'component': 'Q1', 'pin': 'readout'}, 'end_pin': {'component': 'feedline', 'pin': 'second_end'}}, 'fillet': 0, 'lead': {'start_straight': '0mm', 'end_straight': '0mm', 'start_jogged_extension': nan, 'end_jogged_extension': nan}, 'total_length': '7mm', 'trace_width': '5.1um'}\n"
     ]
    },
    {
     "ename": "AttributeError",
     "evalue": "'float' object has no attribute 'values'",
     "output_type": "error",
     "traceback": [
      "\u001b[1;31m---------------------------------------------------------------------------\u001b[0m",
      "\u001b[1;31mAttributeError\u001b[0m                            Traceback (most recent call last)",
      "Cell \u001b[1;32mIn[23], line 15\u001b[0m\n\u001b[0;32m     12\u001b[0m best_options        \u001b[38;5;241m=\u001b[39m best_geoms[\u001b[38;5;241m0\u001b[39m]\n\u001b[0;32m     13\u001b[0m \u001b[38;5;66;03m# and so on...\u001b[39;00m\n\u001b[1;32m---> 15\u001b[0m design \u001b[38;5;241m=\u001b[39m \u001b[43mQubitCavity\u001b[49m\u001b[43m(\u001b[49m\u001b[43mdesign\u001b[49m\u001b[43m,\u001b[49m\u001b[43m \u001b[49m\u001b[43moptions\u001b[49m\u001b[38;5;241;43m=\u001b[39;49m\u001b[43mbest_options\u001b[49m\u001b[43m)\u001b[49m\n\u001b[0;32m     18\u001b[0m gui\u001b[38;5;241m.\u001b[39mrebuild()\n\u001b[0;32m     19\u001b[0m gui\u001b[38;5;241m.\u001b[39mautoscale()\n",
      "Cell \u001b[1;32mIn[22], line 33\u001b[0m, in \u001b[0;36mQubitCavity.__init__\u001b[1;34m(self, design, options)\u001b[0m\n\u001b[0;32m     31\u001b[0m \u001b[38;5;28mself\u001b[39m\u001b[38;5;241m.\u001b[39m_create_qubit()\n\u001b[0;32m     32\u001b[0m \u001b[38;5;28mself\u001b[39m\u001b[38;5;241m.\u001b[39m_create_feedline()\n\u001b[1;32m---> 33\u001b[0m \u001b[38;5;28;43mself\u001b[39;49m\u001b[38;5;241;43m.\u001b[39;49m\u001b[43m_create_cavity\u001b[49m\u001b[43m(\u001b[49m\u001b[43m)\u001b[49m\n",
      "Cell \u001b[1;32mIn[22], line 95\u001b[0m, in \u001b[0;36mQubitCavity._create_cavity\u001b[1;34m(self)\u001b[0m\n\u001b[0;32m     91\u001b[0m cpw_options \u001b[38;5;241m=\u001b[39m convert_numpy_to_python(cpw_options)\n\u001b[0;32m     93\u001b[0m \u001b[38;5;28mprint\u001b[39m(\u001b[38;5;124mf\u001b[39m\u001b[38;5;124m\"\u001b[39m\u001b[38;5;124mcpw_options after checks: \u001b[39m\u001b[38;5;132;01m{\u001b[39;00mcpw_options\u001b[38;5;132;01m}\u001b[39;00m\u001b[38;5;124m\"\u001b[39m)\n\u001b[1;32m---> 95\u001b[0m \u001b[38;5;28mself\u001b[39m\u001b[38;5;241m.\u001b[39mcavity \u001b[38;5;241m=\u001b[39m \u001b[43mRouteMeander\u001b[49m\u001b[43m(\u001b[49m\u001b[38;5;28;43mself\u001b[39;49m\u001b[38;5;241;43m.\u001b[39;49m\u001b[43mdesign\u001b[49m\u001b[43m,\u001b[49m\u001b[43m \u001b[49m\u001b[38;5;124;43m'\u001b[39;49m\u001b[38;5;124;43mcavity\u001b[39;49m\u001b[38;5;124;43m'\u001b[39;49m\u001b[43m,\u001b[49m\u001b[43m \u001b[49m\u001b[43moptions\u001b[49m\u001b[38;5;241;43m=\u001b[39;49m\u001b[43mcpw_options\u001b[49m\u001b[43m)\u001b[49m\n\u001b[0;32m     97\u001b[0m \u001b[38;5;28mprint\u001b[39m(\u001b[38;5;124m\"\u001b[39m\u001b[38;5;124mExiting _create_cavity method.\u001b[39m\u001b[38;5;124m\"\u001b[39m)\n",
      "File \u001b[1;32mc:\\users\\lfl\\qiskit-metal\\qiskit_metal\\qlibrary\\core\\qroute.py:178\u001b[0m, in \u001b[0;36mQRoute.__init__\u001b[1;34m(self, design, name, options, type, **kwargs)\u001b[0m\n\u001b[0;32m    175\u001b[0m options \u001b[38;5;241m=\u001b[39m \u001b[38;5;28mself\u001b[39m\u001b[38;5;241m.\u001b[39m_add_route_specific_options(options)\n\u001b[0;32m    177\u001b[0m \u001b[38;5;66;03m# regular QComponent boot, including the run of make()\u001b[39;00m\n\u001b[1;32m--> 178\u001b[0m \u001b[38;5;28;43msuper\u001b[39;49m\u001b[43m(\u001b[49m\u001b[43m)\u001b[49m\u001b[38;5;241;43m.\u001b[39;49m\u001b[38;5;21;43m__init__\u001b[39;49m\u001b[43m(\u001b[49m\u001b[43mdesign\u001b[49m\u001b[43m,\u001b[49m\u001b[43m \u001b[49m\u001b[43mname\u001b[49m\u001b[43m,\u001b[49m\u001b[43m \u001b[49m\u001b[43moptions\u001b[49m\u001b[43m,\u001b[49m\u001b[43m \u001b[49m\u001b[38;5;241;43m*\u001b[39;49m\u001b[38;5;241;43m*\u001b[39;49m\u001b[43mkwargs\u001b[49m\u001b[43m)\u001b[49m\n",
      "File \u001b[1;32mc:\\users\\lfl\\qiskit-metal\\qiskit_metal\\qlibrary\\core\\base.py:262\u001b[0m, in \u001b[0;36mQComponent.__init__\u001b[1;34m(self, design, name, options, make, component_template)\u001b[0m\n\u001b[0;32m    260\u001b[0m \u001b[38;5;66;03m# Make the component geometry\u001b[39;00m\n\u001b[0;32m    261\u001b[0m \u001b[38;5;28;01mif\u001b[39;00m make:\n\u001b[1;32m--> 262\u001b[0m     \u001b[38;5;28;43mself\u001b[39;49m\u001b[38;5;241;43m.\u001b[39;49m\u001b[43mrebuild\u001b[49m\u001b[43m(\u001b[49m\u001b[43m)\u001b[49m\n",
      "File \u001b[1;32mc:\\users\\lfl\\qiskit-metal\\qiskit_metal\\qlibrary\\core\\base.py:724\u001b[0m, in \u001b[0;36mQComponent.rebuild\u001b[1;34m(self)\u001b[0m\n\u001b[0;32m    719\u001b[0m \u001b[38;5;28mself\u001b[39m\u001b[38;5;241m.\u001b[39mlogger\u001b[38;5;241m.\u001b[39merror(\n\u001b[0;32m    720\u001b[0m     \u001b[38;5;124mf\u001b[39m\u001b[38;5;124m'\u001b[39m\u001b[38;5;124mERROR in building component name=\u001b[39m\u001b[38;5;132;01m{\u001b[39;00m\u001b[38;5;28mself\u001b[39m\u001b[38;5;241m.\u001b[39mname\u001b[38;5;132;01m}\u001b[39;00m\u001b[38;5;124m, error=\u001b[39m\u001b[38;5;132;01m{\u001b[39;00merror\u001b[38;5;132;01m}\u001b[39;00m\u001b[38;5;124m'\u001b[39m)\n\u001b[0;32m    721\u001b[0m \u001b[38;5;28mself\u001b[39m\u001b[38;5;241m.\u001b[39mdesign\u001b[38;5;241m.\u001b[39mbuild_logs\u001b[38;5;241m.\u001b[39madd_error(\n\u001b[0;32m    722\u001b[0m     \u001b[38;5;124mf\u001b[39m\u001b[38;5;124m\"\u001b[39m\u001b[38;5;132;01m{\u001b[39;00m\u001b[38;5;28mstr\u001b[39m(datetime\u001b[38;5;241m.\u001b[39mnow())\u001b[38;5;132;01m}\u001b[39;00m\u001b[38;5;124m -- Component: \u001b[39m\u001b[38;5;132;01m{\u001b[39;00m\u001b[38;5;28mself\u001b[39m\u001b[38;5;241m.\u001b[39mname\u001b[38;5;132;01m}\u001b[39;00m\u001b[38;5;124m failed with error\u001b[39m\u001b[38;5;130;01m\\n\u001b[39;00m\u001b[38;5;124m: \u001b[39m\u001b[38;5;132;01m{\u001b[39;00merror\u001b[38;5;132;01m}\u001b[39;00m\u001b[38;5;124m\"\u001b[39m\n\u001b[0;32m    723\u001b[0m )\n\u001b[1;32m--> 724\u001b[0m \u001b[38;5;28;01mraise\u001b[39;00m error\n",
      "File \u001b[1;32mc:\\users\\lfl\\qiskit-metal\\qiskit_metal\\qlibrary\\core\\base.py:710\u001b[0m, in \u001b[0;36mQComponent.rebuild\u001b[1;34m(self)\u001b[0m\n\u001b[0;32m    707\u001b[0m     \u001b[38;5;66;03m# pylint: disable=protected-access\u001b[39;00m\n\u001b[0;32m    708\u001b[0m     \u001b[38;5;28mself\u001b[39m\u001b[38;5;241m.\u001b[39mdesign\u001b[38;5;241m.\u001b[39m_delete_all_pins_for_component(\u001b[38;5;28mself\u001b[39m\u001b[38;5;241m.\u001b[39mid)\n\u001b[1;32m--> 710\u001b[0m \u001b[38;5;28;43mself\u001b[39;49m\u001b[38;5;241;43m.\u001b[39;49m\u001b[43mmake\u001b[49m\u001b[43m(\u001b[49m\u001b[43m)\u001b[49m\n\u001b[0;32m    711\u001b[0m \u001b[38;5;28mself\u001b[39m\u001b[38;5;241m.\u001b[39m_made \u001b[38;5;241m=\u001b[39m \u001b[38;5;28;01mTrue\u001b[39;00m\n\u001b[0;32m    712\u001b[0m \u001b[38;5;28mself\u001b[39m\u001b[38;5;241m.\u001b[39mstatus \u001b[38;5;241m=\u001b[39m \u001b[38;5;124m'\u001b[39m\u001b[38;5;124mgood\u001b[39m\u001b[38;5;124m'\u001b[39m\n",
      "File \u001b[1;32mc:\\users\\lfl\\qiskit-metal\\qiskit_metal\\qlibrary\\tlines\\meandered.py:85\u001b[0m, in \u001b[0;36mRouteMeander.make\u001b[1;34m(self)\u001b[0m\n\u001b[0;32m     82\u001b[0m \u001b[38;5;28mself\u001b[39m\u001b[38;5;241m.\u001b[39mset_pin(\u001b[38;5;124m\"\u001b[39m\u001b[38;5;124mend\u001b[39m\u001b[38;5;124m\"\u001b[39m)\n\u001b[0;32m     84\u001b[0m \u001b[38;5;66;03m# Align the lead-in/out to the input options set from the user\u001b[39;00m\n\u001b[1;32m---> 85\u001b[0m meander_start_point \u001b[38;5;241m=\u001b[39m \u001b[38;5;28;43mself\u001b[39;49m\u001b[38;5;241;43m.\u001b[39;49m\u001b[43mset_lead\u001b[49m\u001b[43m(\u001b[49m\u001b[38;5;124;43m\"\u001b[39;49m\u001b[38;5;124;43mstart\u001b[39;49m\u001b[38;5;124;43m\"\u001b[39;49m\u001b[43m)\u001b[49m\n\u001b[0;32m     86\u001b[0m meander_end_point \u001b[38;5;241m=\u001b[39m \u001b[38;5;28mself\u001b[39m\u001b[38;5;241m.\u001b[39mset_lead(\u001b[38;5;124m\"\u001b[39m\u001b[38;5;124mend\u001b[39m\u001b[38;5;124m\"\u001b[39m)\n\u001b[0;32m     88\u001b[0m \u001b[38;5;66;03m# approximate length needed for the meander\u001b[39;00m\n",
      "File \u001b[1;32mc:\\users\\lfl\\qiskit-metal\\qiskit_metal\\qlibrary\\core\\qroute.py:294\u001b[0m, in \u001b[0;36mQRoute.set_lead\u001b[1;34m(self, name)\u001b[0m\n\u001b[0;32m    292\u001b[0m \u001b[38;5;66;03m# then add all the jogged lead information\u001b[39;00m\n\u001b[0;32m    293\u001b[0m \u001b[38;5;28;01mif\u001b[39;00m jogged_lead:\n\u001b[1;32m--> 294\u001b[0m     \u001b[38;5;28;43mself\u001b[39;49m\u001b[38;5;241;43m.\u001b[39;49m\u001b[43mset_lead_extension\u001b[49m\u001b[43m(\u001b[49m\u001b[43mname\u001b[49m\u001b[43m)\u001b[49m  \u001b[38;5;66;03m# consider merging with set_lead\u001b[39;00m\n\u001b[0;32m    296\u001b[0m \u001b[38;5;66;03m# return the last QRoutePoint of the lead\u001b[39;00m\n\u001b[0;32m    297\u001b[0m \u001b[38;5;28;01mreturn\u001b[39;00m lead\u001b[38;5;241m.\u001b[39mget_tip()\n",
      "File \u001b[1;32mc:\\users\\lfl\\qiskit-metal\\qiskit_metal\\qlibrary\\core\\qroute.py:327\u001b[0m, in \u001b[0;36mQRoute.set_lead_extension\u001b[1;34m(self, name)\u001b[0m\n\u001b[0;32m    322\u001b[0m     \u001b[38;5;28;01mraise\u001b[39;00m \u001b[38;5;167;01mException\u001b[39;00m(\u001b[38;5;124m\"\u001b[39m\u001b[38;5;124mPin name \u001b[39m\u001b[38;5;130;01m\\\"\u001b[39;00m\u001b[38;5;124m\"\u001b[39m \u001b[38;5;241m+\u001b[39m name \u001b[38;5;241m+\u001b[39m\n\u001b[0;32m    323\u001b[0m                     \u001b[38;5;124m\"\u001b[39m\u001b[38;5;130;01m\\\"\u001b[39;00m\u001b[38;5;124m is not supported for this CPW.\u001b[39m\u001b[38;5;124m\"\u001b[39m \u001b[38;5;241m+\u001b[39m\n\u001b[0;32m    324\u001b[0m                     \u001b[38;5;124m\"\u001b[39m\u001b[38;5;124m The only supported pins are: start, end.\u001b[39m\u001b[38;5;124m\"\u001b[39m)\n\u001b[0;32m    326\u001b[0m \u001b[38;5;66;03m# then change the lead by adding points\u001b[39;00m\n\u001b[1;32m--> 327\u001b[0m \u001b[38;5;28;01mfor\u001b[39;00m turn, length \u001b[38;5;129;01min\u001b[39;00m \u001b[43moptions_lead\u001b[49m\u001b[38;5;241;43m.\u001b[39;49m\u001b[43mvalues\u001b[49m():\n\u001b[0;32m    328\u001b[0m     \u001b[38;5;28;01mif\u001b[39;00m \u001b[38;5;28misinstance\u001b[39m(turn, (\u001b[38;5;28mfloat\u001b[39m, \u001b[38;5;28mint\u001b[39m)):\n\u001b[0;32m    329\u001b[0m         \u001b[38;5;66;03m# turn is a number indicating the angle\u001b[39;00m\n\u001b[0;32m    330\u001b[0m         lead\u001b[38;5;241m.\u001b[39mgo_angle(length, turn)\n",
      "\u001b[1;31mAttributeError\u001b[0m: 'float' object has no attribute 'values'"
     ]
    }
   ],
   "source": [
    "# Qiskit Metal imports\n",
    "\n",
    "import qiskit_metal as metal\n",
    "from qiskit_metal import designs, draw\n",
    "from qiskit_metal import MetalGUI, Dict\n",
    "\n",
    "\n",
    "design = designs.DesignPlanar()\n",
    "\n",
    "gui = MetalGUI(design)\n",
    "# Parsing the best geometries \n",
    "best_options        = best_geoms[0]\n",
    "# and so on...\n",
    "\n",
    "design = QubitCavity(design, options=best_options)\n",
    "\n",
    "\n",
    "gui.rebuild()\n",
    "gui.autoscale()\n",
    "gui.screenshot()"
   ]
  },
  {
   "cell_type": "code",
   "execution_count": null,
   "metadata": {},
   "outputs": [],
   "source": []
  }
 ],
 "metadata": {
  "hide_input": false,
  "kernelspec": {
   "display_name": "qiskit_metal",
   "language": "python",
   "name": "qiskit_metal"
  },
  "language_info": {
   "codemirror_mode": {
    "name": "ipython",
    "version": 3
   },
   "file_extension": ".py",
   "mimetype": "text/x-python",
   "name": "python",
   "nbconvert_exporter": "python",
   "pygments_lexer": "ipython3",
   "version": "3.11.4"
  },
  "toc": {
   "base_numbering": 1,
   "nav_menu": {},
   "number_sections": true,
   "sideBar": false,
   "skip_h1_title": false,
   "title_cell": "Table of Contents",
   "title_sidebar": "Contents",
   "toc_cell": false,
   "toc_position": {},
   "toc_section_display": true,
   "toc_window_display": false
  }
 },
 "nbformat": 4,
 "nbformat_minor": 4
}
