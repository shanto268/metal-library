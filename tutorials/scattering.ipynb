{
 "cells": [
  {
   "cell_type": "markdown",
   "id": "1b236e0a",
   "metadata": {
    "heading_collapsed": true
   },
   "source": [
    "# Sweeps - Impedance, scattering and admittance (Z S Y) matrices\n",
    "\n",
    "## Notebook Reference:\n",
    "\n",
    "https://uscedu-my.sharepoint.com/personal/lflab_usc_edu/_layouts/OneNote.aspx?id=%2Fpersonal%2Flflab_usc_edu%2FDocuments%2FSimulations&wd=target%28CandleQubit.one%7C602DD33E-CA0E-47CA-8840-8B1DC369F251%2F%29\n",
    "onenote:https://uscedu-my.sharepoint.com/personal/lflab_usc_edu/Documents/Simulations/CandleQubit.one#section-id={602DD33E-CA0E-47CA-8840-8B1DC369F251}&end\n",
    "\n",
    "## Simulation Notebooks:\n",
    "\n"
   ]
  },
  {
   "cell_type": "markdown",
   "id": "ced70c0a",
   "metadata": {
    "hidden": true
   },
   "source": [
    "### Prerequisite\n",
    "You need to have a working local installation of Ansys"
   ]
  },
  {
   "cell_type": "markdown",
   "id": "1b4c0b1a",
   "metadata": {
    "hidden": true
   },
   "source": [
    "## 1. Perform the necessary imports and create a QDesign in Metal first."
   ]
  },
  {
   "cell_type": "code",
   "execution_count": null,
   "id": "ac34fec5",
   "metadata": {
    "hidden": true
   },
   "outputs": [],
   "source": [
    "%load_ext autoreload\n",
    "%autoreload 2"
   ]
  },
  {
   "cell_type": "code",
   "execution_count": null,
   "id": "8a672f85",
   "metadata": {
    "hidden": true
   },
   "outputs": [],
   "source": [
    "import qiskit_metal as metal\n",
    "from qiskit_metal import designs, draw\n",
    "from qiskit_metal import MetalGUI, Dict, Headings\n",
    "import pyEPR as epr\n",
    "from qiskit_metal.analyses.simulation import ScatteringImpedanceSim"
   ]
  },
  {
   "cell_type": "markdown",
   "id": "5e7b9b1f",
   "metadata": {
    "hidden": true
   },
   "source": [
    "## Create the design in Metal\n",
    " Set up a design of a given dimension.  Create a design by specifying the chip size and open Metal GUI.  Dimensions will be respected in the design rendering.  Note the chip design is centered at origin (0,0)."
   ]
  },
  {
   "cell_type": "code",
   "execution_count": null,
   "id": "645c9820",
   "metadata": {
    "hidden": true
   },
   "outputs": [],
   "source": [
    "design = designs.DesignPlanar({}, True)\n",
    "design.chips.main.size['size_x'] = '2mm'\n",
    "design.chips.main.size['size_y'] = '2mm'\n",
    "\n",
    "gui = MetalGUI(design)\n",
    "\n",
    "# Perform the necessary imports.\n",
    "from qiskit_metal.qlibrary.couplers.coupled_line_tee import CoupledLineTee\n",
    "from qiskit_metal.qlibrary.tlines.meandered import RouteMeander\n",
    "from qiskit_metal.qlibrary.qubits.transmon_pocket import TransmonPocket\n",
    "from qiskit_metal.qlibrary.tlines.straight_path import RouteStraight\n",
    "from qiskit_metal.qlibrary.terminations.open_to_ground import OpenToGround"
   ]
  },
  {
   "cell_type": "code",
   "execution_count": null,
   "id": "f9558f23",
   "metadata": {
    "hidden": true
   },
   "outputs": [],
   "source": [
    "# To create plots after geting solution data.\n",
    "import matplotlib.pyplot as plt\n",
    "import numpy as np"
   ]
  },
  {
   "cell_type": "code",
   "execution_count": null,
   "id": "d2387e31",
   "metadata": {
    "hidden": true
   },
   "outputs": [],
   "source": [
    "# Add 2 transmons to the design.\n",
    "options = dict(\n",
    "    # Some options we want to modify from the deafults\n",
    "    # (see below for defaults)\n",
    "    pad_width='425 um',\n",
    "    pocket_height='650um',\n",
    "    # Adding 4 connectors (see below for defaults)\n",
    "    connection_pads=dict(a=dict(loc_W=+1, loc_H=+1),\n",
    "                         b=dict(loc_W=-1, loc_H=+1, pad_height='30um'),\n",
    "                         c=dict(loc_W=+1, loc_H=-1, pad_width='200um'),\n",
    "                         d=dict(loc_W=-1, loc_H=-1, pad_height='50um')))\n",
    "\n",
    "## Create 2 transmons\n",
    "q1 = TransmonPocket(design,\n",
    "                    'Q1',\n",
    "                    options=dict(pos_x='+1.4mm',\n",
    "                                 pos_y='0mm',\n",
    "                                 orientation='90',\n",
    "                                 **options))\n",
    "q2 = TransmonPocket(design,\n",
    "                    'Q2',\n",
    "                    options=dict(pos_x='-0.6mm',\n",
    "                                 pos_y='0mm',\n",
    "                                 orientation='90',\n",
    "                                 **options))\n",
    "\n",
    "gui.rebuild()\n",
    "gui.autoscale()"
   ]
  },
  {
   "cell_type": "code",
   "execution_count": null,
   "id": "6f4efad9",
   "metadata": {
    "hidden": true
   },
   "outputs": [],
   "source": [
    "# Add 2 hangers consisting of capacitively coupled transmission lines.\n",
    "TQ1 = CoupledLineTee(design,\n",
    "                     'TQ1',\n",
    "                     options=dict(pos_x='1mm',\n",
    "                                  pos_y='3mm',\n",
    "                                  coupling_length='500um',\n",
    "                                  coupling_space='1um'))\n",
    "TQ2 = CoupledLineTee(design,\n",
    "                     'TQ2',\n",
    "                     options=dict(pos_x='-1mm',\n",
    "                                  pos_y='3mm',\n",
    "                                  coupling_length='500um',\n",
    "                                  coupling_space='1um'))\n",
    "\n",
    "gui.rebuild()\n",
    "gui.autoscale()"
   ]
  },
  {
   "cell_type": "code",
   "execution_count": null,
   "id": "9291dc36",
   "metadata": {
    "hidden": true
   },
   "outputs": [],
   "source": [
    "# Add 2 meandered CPWs connecting the transmons to the hangers.\n",
    "ops = dict(fillet='90um')\n",
    "design.overwrite_enabled = True\n",
    "\n",
    "options1 = Dict(total_length='8mm',\n",
    "                hfss_wire_bonds=True,\n",
    "                pin_inputs=Dict(start_pin=Dict(component='TQ1',\n",
    "                                               pin='second_end'),\n",
    "                                end_pin=Dict(component='Q1', pin='a')),\n",
    "                lead=Dict(start_straight='0.1mm'),\n",
    "                **ops)\n",
    "\n",
    "options2 = Dict(total_length='9mm',\n",
    "                hfss_wire_bonds=True,\n",
    "                pin_inputs=Dict(start_pin=Dict(component='TQ2',\n",
    "                                               pin='second_end'),\n",
    "                                end_pin=Dict(component='Q2', pin='a')),\n",
    "                lead=Dict(start_straight='0.1mm'),\n",
    "                **ops)\n",
    "\n",
    "meanderQ1 = RouteMeander(design, 'meanderQ1', options=options1)\n",
    "meanderQ2 = RouteMeander(design, 'meanderQ2', options=options2)\n",
    "\n",
    "gui.rebuild()\n",
    "gui.autoscale() "
   ]
  },
  {
   "cell_type": "code",
   "execution_count": null,
   "id": "2ad7438f",
   "metadata": {
    "hidden": true
   },
   "outputs": [],
   "source": [
    "# Add 2 open to grounds at the ends of the horizontal CPW.\n",
    "otg1 = OpenToGround(design, 'otg1', options=dict(pos_x='3mm', pos_y='3mm'))\n",
    "otg2 = OpenToGround(design,\n",
    "                    'otg2',\n",
    "                    options=dict(pos_x='-3mm', pos_y='3mm', orientation='180'))\n",
    "\n",
    "gui.rebuild()\n",
    "gui.autoscale()\n",
    "\n",
    "# Add 3 straight CPWs that comprise the long horizontal CPW.\n",
    "\n",
    "ops_oR = Dict(hfss_wire_bonds=True,\n",
    "              pin_inputs=Dict(start_pin=Dict(component='TQ1', pin='prime_end'),\n",
    "                              end_pin=Dict(component='otg1', pin='open')))\n",
    "ops_mid = Dict(hfss_wire_bonds=True,\n",
    "               pin_inputs=Dict(start_pin=Dict(component='TQ1',\n",
    "                                              pin='prime_start'),\n",
    "                               end_pin=Dict(component='TQ2', pin='prime_end')))\n",
    "ops_oL = Dict(hfss_wire_bonds=True,\n",
    "              pin_inputs=Dict(start_pin=Dict(component='TQ2',\n",
    "                                             pin='prime_start'),\n",
    "                              end_pin=Dict(component='otg2', pin='open')))\n",
    "\n",
    "cpw_openRight = RouteStraight(design, 'cpw_openRight', options=ops_oR)\n",
    "cpw_middle = RouteStraight(design, 'cpw_middle', options=ops_mid)\n",
    "cpw_openLeft = RouteStraight(design, 'cpw_openLeft', options=ops_oL)\n",
    "\n",
    "gui.rebuild()\n",
    "gui.autoscale()"
   ]
  },
  {
   "cell_type": "code",
   "execution_count": null,
   "id": "intended-celebration",
   "metadata": {
    "hidden": true,
    "tags": [
     "nbsphinx-thumbnail"
    ]
   },
   "outputs": [],
   "source": [
    "gui.screenshot()"
   ]
  },
  {
   "cell_type": "markdown",
   "id": "4bfca232",
   "metadata": {
    "hidden": true
   },
   "source": [
    "## 2. Render the qubit from Metal into the HangingResonators design in Ansys. <br>ScatteringImpedanceSim will  open the simulation software. Then will connect, activate the design, add a setup.  \n",
    "\n",
    "Review and update the setup. For driven modal you will need to define not only the simulation convergence parameters, but also the frequency sweep.\n",
    "\n",
    "\n"
   ]
  },
  {
   "cell_type": "code",
   "execution_count": null,
   "id": "3f302b13",
   "metadata": {
    "hidden": true
   },
   "outputs": [],
   "source": [
    "em1 = ScatteringImpedanceSim(design, \"hfss\")"
   ]
  },
  {
   "cell_type": "markdown",
   "id": "9f02f684-c628-4efb-a82e-129c1323d88e",
   "metadata": {
    "hidden": true
   },
   "source": [
    "Customizable parameters and default values for HFSS (driven  modal):\n",
    "\n",
    "    freq_ghz=5 (simulation frequency)\n",
    "    name=\"Setup\" (setup name)\n",
    "    max_delta_s=0.1 (absolute value of maximum difference in scattering parameter S)\n",
    "    max_passes=10 (maximum number of passes)\n",
    "    min_passes=1 (minimum number of passes)\n",
    "    min_converged=1 (minimum number of converged passes)\n",
    "    pct_refinement=30 (percent refinement)\n",
    "    basis_order=1 (basis order)\n",
    "    vars (global variables to set in the renderer)\n",
    "    sweep_setup (all the parameters of the sweep)\n",
    "    name=\"Sweep\" (name of sweep)\n",
    "    start_ghz=2.0 (starting frequency)\n",
    "    stop_ghz=8.0 (stopping frequency)\n",
    "    count=101 (total number of frequencies)\n",
    "    step_ghz=None (frequency step size)\n",
    "    type=\"Fast\" (type of sweep)\n",
    "    save_fields=False (whether or not to save fields)"
   ]
  },
  {
   "cell_type": "code",
   "execution_count": null,
   "id": "834584b2",
   "metadata": {
    "hidden": true
   },
   "outputs": [],
   "source": [
    "# To view the values for defaults. \n",
    "em1.setup"
   ]
  },
  {
   "cell_type": "code",
   "execution_count": null,
   "id": "de6fa174",
   "metadata": {
    "hidden": true
   },
   "outputs": [],
   "source": [
    "em1.setup.name = \"Sweep_DrivenModal_setup\"\n",
    "em1.setup.freq_ghz = 6.0\n",
    "em1.setup.max_delta_s = 0.05\n",
    "em1.setup.max_passes = 12\n",
    "em1.setup.min_passes = 2"
   ]
  },
  {
   "cell_type": "markdown",
   "id": "3d54a538",
   "metadata": {
    "hidden": true
   },
   "source": [
    "\n",
    "Add a frequency sweep to a driven modal setup.<br>\n",
    "From QHFSSRenderer.add_sweep doc_strings.  Please go to doc_strings to get the latest information.  \n",
    "\n",
    "Args:<br>\n",
    "    setup_name (str, optional): Name of driven modal simulation Sweep.\n",
    "                            Defaults to \"Setup\".<br>\n",
    "    start_ghz (float, optional): Starting frequency of sweep in GHz.\n",
    "                            Defaults to 2.0.<br>\n",
    "    stop_ghz (float, optional): Ending frequency of sweep in GHz.\n",
    "                            Defaults to 8.0.<br>\n",
    "    count (int, optional): Total number of frequencies.\n",
    "                            Defaults to 101.<br>\n",
    "    step_ghz (float, optional): Difference between adjacent\n",
    "                            frequencies. Defaults to None.<br>\n",
    "    name (str, optional): Name of sweep. Defaults to \"Sweep\".<br>\n",
    "    type (str, optional): Type of sweep. Defaults to \"Fast\".<br>\n",
    "    save_fields (bool, optional): Whether or not to save fields.\n",
    "                        Defaults to False.<br>\n",
    "                        \n",
    "                        \n",
    "From pyEPR.HfssSetup.insert_sweep(), please go to this method to get the latest documentation.   \n",
    "You should provide either step_ghz or count when inserting an HFSS driven model freq sweep. Do not provide both or neither!"
   ]
  },
  {
   "cell_type": "code",
   "execution_count": null,
   "id": "9f5f6acd-4809-4455-b2cf-de0fb0c83059",
   "metadata": {
    "hidden": true
   },
   "outputs": [],
   "source": [
    "# To view the values for defaults. \n",
    "em1.setup.sweep_setup"
   ]
  },
  {
   "cell_type": "code",
   "execution_count": null,
   "id": "9135df20",
   "metadata": {
    "hidden": true
   },
   "outputs": [],
   "source": [
    "em1.setup.sweep_setup.name=\"Sweep_options__dm_sweep\"\n",
    "em1.setup.sweep_setup.start_ghz=4.0\n",
    "em1.setup.sweep_setup.stop_ghz=9.0\n",
    "em1.setup.sweep_setup.count=5001\n",
    "em1.setup.sweep_setup.type=\"Interpolating\"\n",
    "\n",
    "\n",
    "em1.setup"
   ]
  },
  {
   "cell_type": "code",
   "execution_count": null,
   "id": "d00fa8c0",
   "metadata": {
    "hidden": true
   },
   "outputs": [],
   "source": [
    "# Set the buffer width at the edge of the design to be 0.5 mm \n",
    "# in both directions.\n",
    "em1.setup.renderer.options['x_buffer_width_mm'] = 0.5\n",
    "em1.setup.renderer.options['y_buffer_width_mm'] = 0.5"
   ]
  },
  {
   "cell_type": "code",
   "execution_count": null,
   "id": "ce9dbaa5",
   "metadata": {
    "hidden": true
   },
   "outputs": [],
   "source": [
    "#     qcomp_name (str): A component that contains the option to be swept.\n",
    "#     option_name (str): The option within qcomp_name to sweep.\n",
    "#     option_sweep (list): Each entry in the list is a value for\n",
    "#                 option_name.\n",
    "#     qcomp_render (list): The component to render to simulation.\n",
    "#     open_terminations (list): Identify which kind of pins. Follow the\n",
    "#                 details from renderer QQ3DRenderer.render_design, or\n",
    "#                 QHFSSRenderer.render_design.\n",
    "#     port_list (list): List of tuples of jj's that shouldn't\n",
    "#                     be rendered.  Follow details from\n",
    "#                     renderer in QHFSSRenderer.render_design.\n",
    "#     jj_to_port (list): List of junctions (qcomp, qgeometry_name,\n",
    "#                         impedance, draw_ind) to render as lumped ports\n",
    "#                         or as lumped port in parallel with a sheet\n",
    "#                         inductance.    Follow details from renderer\n",
    "#                         in QHFSSRenderer.render_design.\n",
    "#     ignored_jjs (Union[list,None]): This is not used by all renderers,\n",
    "#                  just hfss.\n",
    "#     design_name(str): Name of design (workspace) to use in project.\n",
    "#     box_plus_buffer(bool): Render the entire chip or create a\n",
    "#                 box_plus_buffer around the components which are rendered.\n"
   ]
  },
  {
   "cell_type": "code",
   "execution_count": null,
   "id": "80500d37",
   "metadata": {
    "hidden": true
   },
   "outputs": [],
   "source": [
    "\n",
    "design_name= \"Sweep_DrivenModal\"\n",
    "qcomp_render = [] # Means to render everything in qgeometry table.\n",
    "open_terminations = []\n",
    "\n",
    "# Here, pin cpw_openRight_end and cpw_openLeft_end are converted into lumped ports,\n",
    "#           each with an impedance of 50 Ohms. <br>\n",
    "port_list = [('cpw_openRight', 'end', 50),\n",
    "                      ('cpw_openLeft', 'end', 50)]\n",
    "jj_to_port = [('Q1', 'rect_jj', 50, False)]\n",
    "# Neither of the junctions in Q1 or Q2 are rendered.\n",
    "ignored_jjs = [('Q2', 'rect_jj')]\n",
    "box_plus_buffer = True"
   ]
  },
  {
   "cell_type": "code",
   "execution_count": null,
   "id": "948aa9b4",
   "metadata": {
    "hidden": true,
    "tags": []
   },
   "outputs": [],
   "source": [
    "#Note: The method will connect to  Ansys simulation, activate_drivenmodal_design(), add_drivenmodal_setup().\n",
    "\n",
    "all_sweeps, return_code = em1.run_sweep(meanderQ1.name,\n",
    "                                        'total_length', \n",
    "                                        ['9mm', '10mm', '11mm'],\n",
    "                                        qcomp_render,\n",
    "                                        open_terminations,\n",
    "                                        design_name=design_name,\n",
    "                                        port_list = port_list,\n",
    "                                        jj_to_port= jj_to_port,\n",
    "                                        ignored_jjs= ignored_jjs,\n",
    "                                        box_plus_buffer=box_plus_buffer\n",
    "                                       )"
   ]
  },
  {
   "cell_type": "markdown",
   "id": "61ee7c0b-c41c-4fde-951b-87bdac17200c",
   "metadata": {
    "heading_collapsed": true,
    "tags": []
   },
   "source": [
    "#Note: Sweep again using the arguments from previous run.  \n",
    "```\n",
    "all_sweeps_6_7_8, return_code = em1.run_sweep(meanderQ1.name,\n",
    "                                        'total_length', \n",
    "                                        ['6.5mm', '7.5mm', '8.5mm']\n",
    "                                       )\n",
    "```"
   ]
  },
  {
   "cell_type": "code",
   "execution_count": null,
   "id": "c564b8d1",
   "metadata": {
    "hidden": true
   },
   "outputs": [],
   "source": [
    "\n",
    "if return_code == 0:\n",
    "    # Each key corresponds to list passed to ['9mm', '8mm', '7mm']\n",
    "    print(all_sweeps.keys())\n",
    "    \n",
    "    # Each key corresponds to list passed to ['6mm', '5mm', '4mm']\n",
    "    # print(all_sweeps_6_7_8.keys())\n",
    "else:\n",
    "    print('Check warning messages to see why all_sweeps is non-zero.')\n"
   ]
  },
  {
   "cell_type": "code",
   "execution_count": null,
   "id": "6a53f4b2",
   "metadata": {
    "hidden": true
   },
   "outputs": [],
   "source": [
    "all_sweeps['9mm'].keys()"
   ]
  },
  {
   "cell_type": "code",
   "execution_count": null,
   "id": "656a0690",
   "metadata": {
    "hidden": true
   },
   "outputs": [],
   "source": [
    "all_sweeps['9mm']['variables']"
   ]
  },
  {
   "cell_type": "code",
   "execution_count": null,
   "id": "c5697567",
   "metadata": {
    "hidden": true
   },
   "outputs": [],
   "source": [
    "all_sweeps['9mm']['option_name']\n"
   ]
  },
  {
   "cell_type": "code",
   "execution_count": null,
   "id": "2a8eb01c",
   "metadata": {
    "hidden": true
   },
   "outputs": [],
   "source": [
    "print(f\"\"\"\n",
    "project_name = {em1.renderer.pinfo.project_name}\n",
    "design_name  = {em1.renderer.pinfo.design_name}\n",
    "setup_name   = {em1.renderer.pinfo.setup_name}\n",
    "\"\"\")"
   ]
  },
  {
   "cell_type": "markdown",
   "id": "cd2002a4",
   "metadata": {
    "hidden": true
   },
   "source": [
    "Note: Results storage is currently being updated to be fully functional with the sweep functionality."
   ]
  },
  {
   "cell_type": "code",
   "execution_count": null,
   "id": "1ec8f294",
   "metadata": {
    "hidden": true
   },
   "outputs": [],
   "source": [
    "em1.get_impedance()                # default: ['Z11', 'Z21']"
   ]
  },
  {
   "cell_type": "code",
   "execution_count": null,
   "id": "1e40ac2a",
   "metadata": {
    "hidden": true
   },
   "outputs": [],
   "source": [
    "em1.get_admittance()              # default: ['Y11', 'Y21']"
   ]
  },
  {
   "cell_type": "code",
   "execution_count": null,
   "id": "4640a8c7",
   "metadata": {
    "hidden": true
   },
   "outputs": [],
   "source": [
    "em1.get_scattering(['S11', 'S21', 'S31'])          ## default: ['S11', 'S21', 'S22']"
   ]
  },
  {
   "cell_type": "code",
   "execution_count": null,
   "id": "33a0735c",
   "metadata": {
    "hidden": true
   },
   "outputs": [],
   "source": [
    "dataframe_scattering = em1.get_scattering(['S11', 'S21', 'S31'])\n",
    "df_s = dataframe_scattering[0]"
   ]
  },
  {
   "cell_type": "code",
   "execution_count": null,
   "id": "a22c8899-7474-40be-b6d2-e3341c0ed4d8",
   "metadata": {
    "hidden": true
   },
   "outputs": [],
   "source": [
    "df_s.to_csv(\"df_s.csv\")"
   ]
  },
  {
   "cell_type": "code",
   "execution_count": null,
   "id": "936ae979-24ae-452c-9a5c-2e0ddaa16d89",
   "metadata": {
    "hidden": true
   },
   "outputs": [],
   "source": [
    "dataframe_scattering[1]\n",
    "plt.show()"
   ]
  },
  {
   "cell_type": "code",
   "execution_count": null,
   "id": "929bb804",
   "metadata": {
    "hidden": true
   },
   "outputs": [],
   "source": [
    "s11 = df_s['S11']\n",
    "s11\n",
    "\n",
    "s21 = df_s['S21']\n",
    "s21\n",
    "\n",
    "s31 = df_s['S31']\n",
    "s31"
   ]
  },
  {
   "cell_type": "code",
   "execution_count": null,
   "id": "fe5079dd",
   "metadata": {
    "hidden": true
   },
   "outputs": [],
   "source": [
    "dataframe_scattering[0]['20_log_of_mag_S11']= 20 * np.log10(np.absolute(s11))\n",
    "dataframe_scattering[0]['20_log_of_mag_S21']= 20 * np.log10(np.absolute(s21))\n",
    "dataframe_scattering[0]['20_log_of_mag_S31']= 20 * np.log10(np.absolute(s31))\n",
    "dataframe_scattering[0]"
   ]
  },
  {
   "cell_type": "code",
   "execution_count": null,
   "id": "9e405022",
   "metadata": {
    "hidden": true
   },
   "outputs": [],
   "source": [
    "# Reference to current axis. \n",
    "magnitude = plt.figure('Magnitude S11, S21, and S31')\n",
    "plt.clf()\n",
    "axis = plt.gca() # Get current axis.\n",
    "dataframe_scattering[0].plot(kind = 'line', y='20_log_of_mag_S11', color = 'green', ax = axis)\n",
    "dataframe_scattering[0].plot(kind = 'line', y='20_log_of_mag_S21', color = 'blue', ax = axis)\n",
    "dataframe_scattering[0].plot(kind = 'line', y='20_log_of_mag_S31', color = 'red', ax = axis)\n",
    "plt.title(f'S-Parameter Magnitude')\n",
    "plt.xlabel(f'frequency [GHZ]')\n",
    "plt.ylabel(f'|S11|,|S21|,|S31| [dB]')\n",
    "magnitude.show()"
   ]
  },
  {
   "cell_type": "code",
   "execution_count": null,
   "id": "dfd0b543",
   "metadata": {
    "hidden": true
   },
   "outputs": [],
   "source": [
    "# Data is shown as degrees.  \n",
    "# However, if you want radians, change value of deg to false, deg=False.\n",
    "dataframe_scattering[0]['degrees_S11'] = np.angle(s11, deg=True)\n",
    "dataframe_scattering[0]['degrees_S21'] = np.angle(s21, deg=True)\n",
    "dataframe_scattering[0]['degrees_S31'] = np.angle(s31, deg=True)\n",
    "dataframe_scattering[0]"
   ]
  },
  {
   "cell_type": "code",
   "execution_count": null,
   "id": "f8fc9895",
   "metadata": {
    "hidden": true
   },
   "outputs": [],
   "source": [
    "# Reference to current axis. \n",
    "phase = plt.figure('Phase of S11 and S21')\n",
    "plt.clf()\n",
    "axis = plt.gca() # Get current axis.\n",
    "dataframe_scattering[0].plot(kind = 'line', y='degrees_S11', color = 'green', ax = axis)\n",
    "dataframe_scattering[0].plot(kind = 'line', y='degrees_S21', color = 'blue', ax = axis)\n",
    "dataframe_scattering[0].plot(kind = 'line', y='degrees_S31', color = 'red', ax = axis)\n",
    "plt.title(f'S-Parameter Phase')\n",
    "plt.xlabel(f'frequency [GHZ]')\n",
    "plt.ylabel(f'<S11, <S21, <S31 [degrees]')\n",
    "phase.show()"
   ]
  },
  {
   "cell_type": "code",
   "execution_count": null,
   "id": "7646293c",
   "metadata": {
    "hidden": true,
    "tags": []
   },
   "outputs": [],
   "source": [
    "em1.close()"
   ]
  },
  {
   "cell_type": "code",
   "execution_count": null,
   "id": "33de9236",
   "metadata": {
    "hidden": true
   },
   "outputs": [],
   "source": [
    "# Uncomment next line if you would like to close the gui\n",
    "# gui.main_window.close()"
   ]
  },
  {
   "cell_type": "markdown",
   "id": "b852d0a6-a86a-45c4-8106-a57d8e0a92ef",
   "metadata": {},
   "source": [
    "# Analysis to Get Kappa\n",
    "\n",
    "1. Get the real and imaginary parts of the scattering parameter of interest (e.g. S21)\n",
    "\n",
    "    ```python\n",
    "    def get_real_and_imag(a_ii):\n",
    "        return a_ii.values.real, a_ii.values.imag\n",
    "\n",
    "    s21real, s21imag = get_real_and_imag(df_s['S21'])\n",
    "    ```\n",
    "2. Get the frequency and volatage data\n",
    "\n",
    "    ```python\n",
    "    freqs = df_s[\"freqs\"] * 1e9\n",
    "    I = s21real\n",
    "    Q = s21imag\n",
    "    ```\n",
    "    \n",
    "3. Use the `Resonator` code to fit the data\n",
    "\n",
    "    ```python\n",
    "    from metal_library.utils.fitTools import Resonator\n",
    "    res = Resonator(f_data=freqs,z_data=I + 1j*Q)\n",
    "    ```\n",
    "\n",
    "4. Use the `autofit`, `show` and print methods to retrieve all info\n",
    "\n",
    "    ```python\n",
    "    res.autofit()\n",
    "    res.show()\n",
    "    print(res)\n",
    "    ```\n",
    "    \n",
    "5. Extract $\\kappa$ simply as an attribute of `res`\n",
    "\n",
    "    ```python\n",
    "    kappa = res.kappa\n",
    "    ```"
   ]
  },
  {
   "cell_type": "code",
   "execution_count": 107,
   "id": "2bb11c9f",
   "metadata": {},
   "outputs": [
    {
     "name": "stdout",
     "output_type": "stream",
     "text": [
      "The autoreload extension is already loaded. To reload it, use:\n",
      "  %reload_ext autoreload\n"
     ]
    }
   ],
   "source": [
    "%load_ext autoreload\n",
    "%autoreload 2"
   ]
  },
  {
   "cell_type": "code",
   "execution_count": 53,
   "id": "2b099164",
   "metadata": {},
   "outputs": [
    {
     "name": "stdout",
     "output_type": "stream",
     "text": [
      "Processing /Users/shanto/LFL/SQuADDS/metal-library\n",
      "  Preparing metadata (setup.py) ... \u001b[?25ldone\n",
      "\u001b[?25hBuilding wheels for collected packages: metal-library\n",
      "  Building wheel for metal-library (setup.py) ... \u001b[?25ldone\n",
      "\u001b[?25h  Created wheel for metal-library: filename=metal_library-1.0.0-py3-none-any.whl size=574785 sha256=fa224df9fe907b2453066a367bc63eb4483221b18044126774929586c0f47421\n",
      "  Stored in directory: /Users/shanto/Library/Caches/pip/wheels/cc/d5/e7/b9339b9dd36479ed23f7215b35ff24f41883f4ab86f5bb5ea7\n",
      "Successfully built metal-library\n",
      "Installing collected packages: metal-library\n",
      "  Attempting uninstall: metal-library\n",
      "    Found existing installation: metal-library 1.0.0\n",
      "    Uninstalling metal-library-1.0.0:\n",
      "      Successfully uninstalled metal-library-1.0.0\n",
      "Successfully installed metal-library-1.0.0\n"
     ]
    }
   ],
   "source": [
    "!pip install ../."
   ]
  },
  {
   "cell_type": "code",
   "execution_count": 109,
   "id": "cc475e89-9c53-4c74-8333-9474ccceb374",
   "metadata": {},
   "outputs": [],
   "source": [
    "import pandas as pd\n",
    "import matplotlib.pyplot as plt\n",
    "import numpy as np"
   ]
  },
  {
   "cell_type": "code",
   "execution_count": 54,
   "id": "f34c8e77-9fbd-48ba-a01b-6c8eaa10bcc2",
   "metadata": {},
   "outputs": [],
   "source": [
    "from metal_library.utils.fitTools import Resonator"
   ]
  },
  {
   "cell_type": "code",
   "execution_count": 124,
   "id": "1c83dcc9",
   "metadata": {},
   "outputs": [],
   "source": [
    "df_s = pd.read_csv(\"df_s.csv\")\n",
    "df_s.rename(columns={\"Unnamed: 0\": \"freqs\"}, inplace=True)\n"
   ]
  },
  {
   "cell_type": "code",
   "execution_count": 125,
   "id": "9a056784",
   "metadata": {},
   "outputs": [
    {
     "data": {
      "text/html": [
       "<div>\n",
       "<style scoped>\n",
       "    .dataframe tbody tr th:only-of-type {\n",
       "        vertical-align: middle;\n",
       "    }\n",
       "\n",
       "    .dataframe tbody tr th {\n",
       "        vertical-align: top;\n",
       "    }\n",
       "\n",
       "    .dataframe thead th {\n",
       "        text-align: right;\n",
       "    }\n",
       "</style>\n",
       "<table border=\"1\" class=\"dataframe\">\n",
       "  <thead>\n",
       "    <tr style=\"text-align: right;\">\n",
       "      <th></th>\n",
       "      <th>freqs</th>\n",
       "      <th>S11</th>\n",
       "      <th>S21</th>\n",
       "      <th>S31</th>\n",
       "    </tr>\n",
       "  </thead>\n",
       "  <tbody>\n",
       "    <tr>\n",
       "      <th>0</th>\n",
       "      <td>4.000</td>\n",
       "      <td>(-0.12903643644488-0.022905344376546j)</td>\n",
       "      <td>(-0.268184846601751+0.954411756152637j)</td>\n",
       "      <td>(-0.000155380337150258-8.30444471059751e-05j)</td>\n",
       "    </tr>\n",
       "    <tr>\n",
       "      <th>1</th>\n",
       "      <td>4.001</td>\n",
       "      <td>(-0.1290558774394764-0.02286191005059115j)</td>\n",
       "      <td>(-0.2678774519461429+0.9544965157605392j)</td>\n",
       "      <td>(-0.0001560162000813666-8.333190231419711e-05j)</td>\n",
       "    </tr>\n",
       "    <tr>\n",
       "      <th>2</th>\n",
       "      <td>4.002</td>\n",
       "      <td>(-0.1290752936768674-0.02281846019191276j)</td>\n",
       "      <td>(-0.2675700283063125+0.954581178117679j)</td>\n",
       "      <td>(-0.000156656562354994-8.362134581135745e-05j)</td>\n",
       "    </tr>\n",
       "    <tr>\n",
       "      <th>3</th>\n",
       "      <td>4.003</td>\n",
       "      <td>(-0.1290946851845806-0.02277499479680794j)</td>\n",
       "      <td>(-0.2672625756720265+0.9546657432210167j)</td>\n",
       "      <td>(-0.0001573014713627178-8.391279848005136e-05j)</td>\n",
       "    </tr>\n",
       "    <tr>\n",
       "      <th>4</th>\n",
       "      <td>4.004</td>\n",
       "      <td>(-0.1291140519906685-0.02273151386126351j)</td>\n",
       "      <td>(-0.2669550940324897+0.9547502110675541j)</td>\n",
       "      <td>(-0.0001579509751504956-8.420628150114406e-05j)</td>\n",
       "    </tr>\n",
       "    <tr>\n",
       "      <th>...</th>\n",
       "      <td>...</td>\n",
       "      <td>...</td>\n",
       "      <td>...</td>\n",
       "      <td>...</td>\n",
       "    </tr>\n",
       "    <tr>\n",
       "      <th>4996</th>\n",
       "      <td>8.996</td>\n",
       "      <td>(0.01104640180317001+0.02647019629829554j)</td>\n",
       "      <td>(0.973153038269149+0.2283850720378314j)</td>\n",
       "      <td>(-0.0003083050943209333+0.0003315997854837787j)</td>\n",
       "    </tr>\n",
       "    <tr>\n",
       "      <th>4997</th>\n",
       "      <td>8.997</td>\n",
       "      <td>(0.01105794385916324+0.02642849988229308j)</td>\n",
       "      <td>(0.9732289612622124+0.2280606131837082j)</td>\n",
       "      <td>(-0.0003078891857698787+0.0003313377316631853j)</td>\n",
       "    </tr>\n",
       "    <tr>\n",
       "      <th>4998</th>\n",
       "      <td>8.998</td>\n",
       "      <td>(0.01106949108905963+0.02638684212785398j)</td>\n",
       "      <td>(0.9733047522852515+0.2277360800503471j)</td>\n",
       "      <td>(-0.0003074744828145532+0.0003310766769749086j)</td>\n",
       "    </tr>\n",
       "    <tr>\n",
       "      <th>4999</th>\n",
       "      <td>8.999</td>\n",
       "      <td>(0.0110810444781649+0.02634522271852255j)</td>\n",
       "      <td>(0.9733804107137735+0.227411472352061j)</td>\n",
       "      <td>(-0.0003070609797084057+0.0003308166181232908j)</td>\n",
       "    </tr>\n",
       "    <tr>\n",
       "      <th>5000</th>\n",
       "      <td>9.000</td>\n",
       "      <td>(0.01109260501169929+0.02630364131323465j)</td>\n",
       "      <td>(0.9734559359118592+0.2270867898050934j)</td>\n",
       "      <td>(-0.0003066486707320225+0.0003305575518501336j)</td>\n",
       "    </tr>\n",
       "  </tbody>\n",
       "</table>\n",
       "<p>5001 rows × 4 columns</p>\n",
       "</div>"
      ],
      "text/plain": [
       "      freqs                                         S11  \\\n",
       "0     4.000      (-0.12903643644488-0.022905344376546j)   \n",
       "1     4.001  (-0.1290558774394764-0.02286191005059115j)   \n",
       "2     4.002  (-0.1290752936768674-0.02281846019191276j)   \n",
       "3     4.003  (-0.1290946851845806-0.02277499479680794j)   \n",
       "4     4.004  (-0.1291140519906685-0.02273151386126351j)   \n",
       "...     ...                                         ...   \n",
       "4996  8.996  (0.01104640180317001+0.02647019629829554j)   \n",
       "4997  8.997  (0.01105794385916324+0.02642849988229308j)   \n",
       "4998  8.998  (0.01106949108905963+0.02638684212785398j)   \n",
       "4999  8.999   (0.0110810444781649+0.02634522271852255j)   \n",
       "5000  9.000  (0.01109260501169929+0.02630364131323465j)   \n",
       "\n",
       "                                            S21  \\\n",
       "0       (-0.268184846601751+0.954411756152637j)   \n",
       "1     (-0.2678774519461429+0.9544965157605392j)   \n",
       "2      (-0.2675700283063125+0.954581178117679j)   \n",
       "3     (-0.2672625756720265+0.9546657432210167j)   \n",
       "4     (-0.2669550940324897+0.9547502110675541j)   \n",
       "...                                         ...   \n",
       "4996    (0.973153038269149+0.2283850720378314j)   \n",
       "4997   (0.9732289612622124+0.2280606131837082j)   \n",
       "4998   (0.9733047522852515+0.2277360800503471j)   \n",
       "4999    (0.9733804107137735+0.227411472352061j)   \n",
       "5000   (0.9734559359118592+0.2270867898050934j)   \n",
       "\n",
       "                                                  S31  \n",
       "0       (-0.000155380337150258-8.30444471059751e-05j)  \n",
       "1     (-0.0001560162000813666-8.333190231419711e-05j)  \n",
       "2      (-0.000156656562354994-8.362134581135745e-05j)  \n",
       "3     (-0.0001573014713627178-8.391279848005136e-05j)  \n",
       "4     (-0.0001579509751504956-8.420628150114406e-05j)  \n",
       "...                                               ...  \n",
       "4996  (-0.0003083050943209333+0.0003315997854837787j)  \n",
       "4997  (-0.0003078891857698787+0.0003313377316631853j)  \n",
       "4998  (-0.0003074744828145532+0.0003310766769749086j)  \n",
       "4999  (-0.0003070609797084057+0.0003308166181232908j)  \n",
       "5000  (-0.0003066486707320225+0.0003305575518501336j)  \n",
       "\n",
       "[5001 rows x 4 columns]"
      ]
     },
     "execution_count": 125,
     "metadata": {},
     "output_type": "execute_result"
    }
   ],
   "source": [
    "df_s"
   ]
  },
  {
   "cell_type": "code",
   "execution_count": 113,
   "id": "590614b6-cd55-4771-a962-34ad3ef54779",
   "metadata": {},
   "outputs": [],
   "source": [
    "def get_real_and_imag(a_ii):\n",
    "    return a_ii.values.real, a_ii.values.imag\n",
    "\n",
    "s21real, s21imag = get_real_and_imag(df_s['S21'])\n",
    "#y11real, y11imag = get_real_and_imag(df_y['Y11'])"
   ]
  },
  {
   "cell_type": "code",
   "execution_count": 138,
   "id": "00e6a533",
   "metadata": {},
   "outputs": [
    {
     "data": {
      "text/plain": [
       "array(['(-0.268184846601751+0.954411756152637j)',\n",
       "       '(-0.2678774519461429+0.9544965157605392j)',\n",
       "       '(-0.2675700283063125+0.954581178117679j)', ...,\n",
       "       '(0.9733047522852515+0.2277360800503471j)',\n",
       "       '(0.9733804107137735+0.227411472352061j)',\n",
       "       '(0.9734559359118592+0.2270867898050934j)'], dtype=object)"
      ]
     },
     "execution_count": 138,
     "metadata": {},
     "output_type": "execute_result"
    }
   ],
   "source": [
    "s21real"
   ]
  },
  {
   "cell_type": "code",
   "execution_count": 133,
   "id": "2544fb5f-81ae-4f29-a9a2-c60668dc7a57",
   "metadata": {},
   "outputs": [],
   "source": [
    "freqs = df_s[\"freqs\"]\n",
    "I = s21real\n",
    "Q = s21imag"
   ]
  },
  {
   "cell_type": "code",
   "execution_count": 5,
   "id": "c7a204dc-47e5-4235-a4ab-0f1502e287c6",
   "metadata": {},
   "outputs": [],
   "source": [
    "%matplotlib inline"
   ]
  },
  {
   "cell_type": "code",
   "execution_count": 144,
   "id": "c2496cea-61d9-4c70-a9bc-30e168d34339",
   "metadata": {},
   "outputs": [],
   "source": [
    "import pandas as pd\n",
    "\n",
    "# Load the CSV file into a DataFrame\n",
    "df = pd.read_csv(\"freqs_I_Q.csv\")\n",
    "\n",
    "# Extract the columns into variables\n",
    "freqs = df['freqs'].to_numpy()\n",
    "I = df['I'].to_numpy()\n",
    "Q = df['Q'].to_numpy()\n"
   ]
  },
  {
   "cell_type": "code",
   "execution_count": 146,
   "id": "3fc4cfc2",
   "metadata": {},
   "outputs": [
    {
     "data": {
      "image/png": "[encoded data removed]",
      "text/plain": [
       "<Figure size 640x480 with 1 Axes>"
      ]
     },
     "metadata": {},
     "output_type": "display_data"
    }
   ],
   "source": [
    "plt.plot(freqs,I)\n",
    "plt.plot(freqs,Q)\n",
    "plt.show()"
   ]
  },
  {
   "cell_type": "code",
   "execution_count": 147,
   "id": "c94a9c0b-6e46-49a5-8f21-c899dd9e0a2c",
   "metadata": {},
   "outputs": [
    {
     "data": {
      "image/png": "[encoded data removed]",
      "text/plain": [
       "<Figure size 640x480 with 1 Axes>"
      ]
     },
     "metadata": {},
     "output_type": "display_data"
    }
   ],
   "source": [
    "plt.plot(freqs,I)\n",
    "plt.plot(freqs,Q)\n",
    "plt.show()"
   ]
  },
  {
   "cell_type": "code",
   "execution_count": 85,
   "id": "3c64c057",
   "metadata": {},
   "outputs": [],
   "source": [
    "llim, ulim = 4000,4500"
   ]
  },
  {
   "cell_type": "code",
   "execution_count": 86,
   "id": "1aea4ac3",
   "metadata": {},
   "outputs": [
    {
     "data": {
      "image/png": "[encoded data removed]",
      "text/plain": [
       "<Figure size 640x480 with 1 Axes>"
      ]
     },
     "metadata": {},
     "output_type": "display_data"
    }
   ],
   "source": [
    "plt.plot(freqs[llim:ulim],I[llim:ulim],\"--.\")\n",
    "plt.plot(freqs[llim:ulim],Q[llim:ulim],\"--.\")\n",
    "plt.show()"
   ]
  },
  {
   "cell_type": "code",
   "execution_count": 98,
   "id": "80c2495d-6776-4021-9bd5-38db671725ef",
   "metadata": {},
   "outputs": [],
   "source": [
    "res = Resonator(f_data=freqs,z_data=I + 1j*Q)"
   ]
  },
  {
   "cell_type": "code",
   "execution_count": 104,
   "id": "1244513a",
   "metadata": {},
   "outputs": [],
   "source": [
    "res.autofit()"
   ]
  },
  {
   "cell_type": "code",
   "execution_count": 105,
   "id": "b210712d",
   "metadata": {},
   "outputs": [
    {
     "data": {
      "image/png": "[encoded data removed]",
      "text/plain": [
       "<Figure size 1000x1000 with 6 Axes>"
      ]
     },
     "metadata": {},
     "output_type": "display_data"
    }
   ],
   "source": [
    "res.show()"
   ]
  },
  {
   "cell_type": "code",
   "execution_count": 106,
   "id": "fa9a9118",
   "metadata": {},
   "outputs": [
    {
     "name": "stdout",
     "output_type": "stream",
     "text": [
      "====================\n",
      "Frequency: 8.3178 GHz\n",
      "Total Q: 12533\n",
      "Internal Q: 17220\n",
      "Coupling Q: 46044\n",
      "FWHM: 0.66368 MHz\n",
      "Kappa: 4.17000 MHz\n",
      "Single Photon Power: -136.8 dBm\n",
      "Ringdown Time: 0.332 us\n",
      "Impedance Mismatch -8.845 degrees\n",
      "Electrical Delay: 0.053217 ns\n",
      "SNR: 3640.9\n",
      "====================\n",
      "\n"
     ]
    }
   ],
   "source": [
    "if res.fit_found:\n",
    "    print(20*\"=\")\n",
    "    print(res)\n",
    "    print(20*\"=\"+\"\\n\")"
   ]
  },
  {
   "cell_type": "code",
   "execution_count": 102,
   "id": "fe99f1df",
   "metadata": {},
   "outputs": [],
   "source": [
    "kappa = res.kappa"
   ]
  }
 ],
 "metadata": {
  "celltoolbar": "Tags",
  "hide_input": false,
  "kernelspec": {
   "display_name": "Python 3 (ipykernel)",
   "language": "python",
   "name": "python3"
  },
  "language_info": {
   "codemirror_mode": {
    "name": "ipython",
    "version": 3
   },
   "file_extension": ".py",
   "mimetype": "text/x-python",
   "name": "python",
   "nbconvert_exporter": "python",
   "pygments_lexer": "ipython3",
   "version": "3.10.6"
  },
  "toc": {
   "base_numbering": 1,
   "nav_menu": {},
   "number_sections": true,
   "sideBar": false,
   "skip_h1_title": false,
   "title_cell": "Table of Contents",
   "title_sidebar": "Contents",
   "toc_cell": false,
   "toc_position": {},
   "toc_section_display": true,
   "toc_window_display": false
  }
 },
 "nbformat": 4,
 "nbformat_minor": 5
}
