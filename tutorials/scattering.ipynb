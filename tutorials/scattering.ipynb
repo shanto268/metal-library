{
 "cells": [
  {
   "cell_type": "markdown",
   "id": "1b236e0a",
   "metadata": {
    "heading_collapsed": true
   },
   "source": [
    "# Sweeps - Impedance, scattering and admittance (Z S Y) matrices"
   ]
  },
  {
   "cell_type": "markdown",
   "id": "ced70c0a",
   "metadata": {
    "hidden": true
   },
   "source": [
    "### Prerequisite\n",
    "You need to have a working local installation of Ansys"
   ]
  },
  {
   "cell_type": "markdown",
   "id": "1b4c0b1a",
   "metadata": {
    "hidden": true
   },
   "source": [
    "## 1. Perform the necessary imports and create a QDesign in Metal first."
   ]
  },
  {
   "cell_type": "code",
   "execution_count": 1,
   "id": "ac34fec5",
   "metadata": {
    "hidden": true
   },
   "outputs": [],
   "source": [
    "%load_ext autoreload\n",
    "%autoreload 2"
   ]
  },
  {
   "cell_type": "code",
   "execution_count": 2,
   "id": "8a672f85",
   "metadata": {
    "hidden": true
   },
   "outputs": [],
   "source": [
    "import qiskit_metal as metal\n",
    "from qiskit_metal import designs, draw\n",
    "from qiskit_metal import MetalGUI, Dict, Headings\n",
    "import pyEPR as epr\n",
    "from qiskit_metal.analyses.simulation import ScatteringImpedanceSim"
   ]
  },
  {
   "cell_type": "markdown",
   "id": "5e7b9b1f",
   "metadata": {
    "hidden": true
   },
   "source": [
    "## Create the design in Metal\n",
    " Set up a design of a given dimension.  Create a design by specifying the chip size and open Metal GUI.  Dimensions will be respected in the design rendering.  Note the chip design is centered at origin (0,0)."
   ]
  },
  {
   "cell_type": "code",
   "execution_count": 3,
   "id": "645c9820",
   "metadata": {
    "hidden": true
   },
   "outputs": [],
   "source": [
    "design = designs.DesignPlanar({}, True)\n",
    "design.chips.main.size['size_x'] = '2mm'\n",
    "design.chips.main.size['size_y'] = '2mm'\n",
    "\n",
    "gui = MetalGUI(design)\n",
    "\n",
    "# Perform the necessary imports.\n",
    "from qiskit_metal.qlibrary.couplers.coupled_line_tee import CoupledLineTee\n",
    "from qiskit_metal.qlibrary.tlines.meandered import RouteMeander\n",
    "from qiskit_metal.qlibrary.qubits.transmon_pocket import TransmonPocket\n",
    "from qiskit_metal.qlibrary.tlines.straight_path import RouteStraight\n",
    "from qiskit_metal.qlibrary.terminations.open_to_ground import OpenToGround"
   ]
  },
  {
   "cell_type": "code",
   "execution_count": 4,
   "id": "f9558f23",
   "metadata": {
    "hidden": true
   },
   "outputs": [],
   "source": [
    "# To create plots after geting solution data.\n",
    "import matplotlib.pyplot as plt\n",
    "import numpy as np"
   ]
  },
  {
   "cell_type": "code",
   "execution_count": 5,
   "id": "d2387e31",
   "metadata": {
    "hidden": true
   },
   "outputs": [],
   "source": [
    "# Add 2 transmons to the design.\n",
    "options = dict(\n",
    "    # Some options we want to modify from the deafults\n",
    "    # (see below for defaults)\n",
    "    pad_width='425 um',\n",
    "    pocket_height='650um',\n",
    "    # Adding 4 connectors (see below for defaults)\n",
    "    connection_pads=dict(a=dict(loc_W=+1, loc_H=+1),\n",
    "                         b=dict(loc_W=-1, loc_H=+1, pad_height='30um'),\n",
    "                         c=dict(loc_W=+1, loc_H=-1, pad_width='200um'),\n",
    "                         d=dict(loc_W=-1, loc_H=-1, pad_height='50um')))\n",
    "\n",
    "## Create 2 transmons\n",
    "q1 = TransmonPocket(design,\n",
    "                    'Q1',\n",
    "                    options=dict(pos_x='+1.4mm',\n",
    "                                 pos_y='0mm',\n",
    "                                 orientation='90',\n",
    "                                 **options))\n",
    "q2 = TransmonPocket(design,\n",
    "                    'Q2',\n",
    "                    options=dict(pos_x='-0.6mm',\n",
    "                                 pos_y='0mm',\n",
    "                                 orientation='90',\n",
    "                                 **options))\n",
    "\n",
    "gui.rebuild()\n",
    "gui.autoscale()"
   ]
  },
  {
   "cell_type": "code",
   "execution_count": 6,
   "id": "6f4efad9",
   "metadata": {
    "hidden": true
   },
   "outputs": [],
   "source": [
    "# Add 2 hangers consisting of capacitively coupled transmission lines.\n",
    "TQ1 = CoupledLineTee(design,\n",
    "                     'TQ1',\n",
    "                     options=dict(pos_x='1mm',\n",
    "                                  pos_y='3mm',\n",
    "                                  coupling_length='500um',\n",
    "                                  coupling_space='1um'))\n",
    "TQ2 = CoupledLineTee(design,\n",
    "                     'TQ2',\n",
    "                     options=dict(pos_x='-1mm',\n",
    "                                  pos_y='3mm',\n",
    "                                  coupling_length='500um',\n",
    "                                  coupling_space='1um'))\n",
    "\n",
    "gui.rebuild()\n",
    "gui.autoscale()"
   ]
  },
  {
   "cell_type": "code",
   "execution_count": 7,
   "id": "9291dc36",
   "metadata": {
    "hidden": true
   },
   "outputs": [],
   "source": [
    "# Add 2 meandered CPWs connecting the transmons to the hangers.\n",
    "ops = dict(fillet='90um')\n",
    "design.overwrite_enabled = True\n",
    "\n",
    "options1 = Dict(total_length='8mm',\n",
    "                hfss_wire_bonds=True,\n",
    "                pin_inputs=Dict(start_pin=Dict(component='TQ1',\n",
    "                                               pin='second_end'),\n",
    "                                end_pin=Dict(component='Q1', pin='a')),\n",
    "                lead=Dict(start_straight='0.1mm'),\n",
    "                **ops)\n",
    "\n",
    "options2 = Dict(total_length='9mm',\n",
    "                hfss_wire_bonds=True,\n",
    "                pin_inputs=Dict(start_pin=Dict(component='TQ2',\n",
    "                                               pin='second_end'),\n",
    "                                end_pin=Dict(component='Q2', pin='a')),\n",
    "                lead=Dict(start_straight='0.1mm'),\n",
    "                **ops)\n",
    "\n",
    "meanderQ1 = RouteMeander(design, 'meanderQ1', options=options1)\n",
    "meanderQ2 = RouteMeander(design, 'meanderQ2', options=options2)\n",
    "\n",
    "gui.rebuild()\n",
    "gui.autoscale() "
   ]
  },
  {
   "cell_type": "code",
   "execution_count": 8,
   "id": "2ad7438f",
   "metadata": {
    "hidden": true
   },
   "outputs": [],
   "source": [
    "# Add 2 open to grounds at the ends of the horizontal CPW.\n",
    "otg1 = OpenToGround(design, 'otg1', options=dict(pos_x='3mm', pos_y='3mm'))\n",
    "otg2 = OpenToGround(design,\n",
    "                    'otg2',\n",
    "                    options=dict(pos_x='-3mm', pos_y='3mm', orientation='180'))\n",
    "\n",
    "gui.rebuild()\n",
    "gui.autoscale()\n",
    "\n",
    "# Add 3 straight CPWs that comprise the long horizontal CPW.\n",
    "\n",
    "ops_oR = Dict(hfss_wire_bonds=True,\n",
    "              pin_inputs=Dict(start_pin=Dict(component='TQ1', pin='prime_end'),\n",
    "                              end_pin=Dict(component='otg1', pin='open')))\n",
    "ops_mid = Dict(hfss_wire_bonds=True,\n",
    "               pin_inputs=Dict(start_pin=Dict(component='TQ1',\n",
    "                                              pin='prime_start'),\n",
    "                               end_pin=Dict(component='TQ2', pin='prime_end')))\n",
    "ops_oL = Dict(hfss_wire_bonds=True,\n",
    "              pin_inputs=Dict(start_pin=Dict(component='TQ2',\n",
    "                                             pin='prime_start'),\n",
    "                              end_pin=Dict(component='otg2', pin='open')))\n",
    "\n",
    "cpw_openRight = RouteStraight(design, 'cpw_openRight', options=ops_oR)\n",
    "cpw_middle = RouteStraight(design, 'cpw_middle', options=ops_mid)\n",
    "cpw_openLeft = RouteStraight(design, 'cpw_openLeft', options=ops_oL)\n",
    "\n",
    "gui.rebuild()\n",
    "gui.autoscale()"
   ]
  },
  {
   "cell_type": "code",
   "execution_count": 9,
   "id": "intended-celebration",
   "metadata": {
    "hidden": true,
    "tags": [
     "nbsphinx-thumbnail"
    ]
   },
   "outputs": [
    {
     "data": {
      "image/png": "[encoded data removed]",
      "text/plain": [
       "<IPython.core.display.Image object>"
      ]
     },
     "metadata": {
      "image/png": {
       "width": 500
      }
     },
     "output_type": "display_data"
    }
   ],
   "source": [
    "gui.screenshot()"
   ]
  },
  {
   "cell_type": "markdown",
   "id": "4bfca232",
   "metadata": {
    "hidden": true
   },
   "source": [
    "## 2. Render the qubit from Metal into the HangingResonators design in Ansys. <br>ScatteringImpedanceSim will  open the simulation software. Then will connect, activate the design, add a setup.  \n",
    "\n",
    "Review and update the setup. For driven modal you will need to define not only the simulation convergence parameters, but also the frequency sweep.\n",
    "\n",
    "\n"
   ]
  },
  {
   "cell_type": "code",
   "execution_count": 10,
   "id": "3f302b13",
   "metadata": {
    "hidden": true
   },
   "outputs": [],
   "source": [
    "em1 = ScatteringImpedanceSim(design, \"hfss\")"
   ]
  },
  {
   "cell_type": "markdown",
   "id": "9f02f684-c628-4efb-a82e-129c1323d88e",
   "metadata": {
    "hidden": true
   },
   "source": [
    "Customizable parameters and default values for HFSS (driven  modal):\n",
    "\n",
    "    freq_ghz=5 (simulation frequency)\n",
    "    name=\"Setup\" (setup name)\n",
    "    max_delta_s=0.1 (absolute value of maximum difference in scattering parameter S)\n",
    "    max_passes=10 (maximum number of passes)\n",
    "    min_passes=1 (minimum number of passes)\n",
    "    min_converged=1 (minimum number of converged passes)\n",
    "    pct_refinement=30 (percent refinement)\n",
    "    basis_order=1 (basis order)\n",
    "    vars (global variables to set in the renderer)\n",
    "    sweep_setup (all the parameters of the sweep)\n",
    "    name=\"Sweep\" (name of sweep)\n",
    "    start_ghz=2.0 (starting frequency)\n",
    "    stop_ghz=8.0 (stopping frequency)\n",
    "    count=101 (total number of frequencies)\n",
    "    step_ghz=None (frequency step size)\n",
    "    type=\"Fast\" (type of sweep)\n",
    "    save_fields=False (whether or not to save fields)"
   ]
  },
  {
   "cell_type": "code",
   "execution_count": 11,
   "id": "834584b2",
   "metadata": {
    "hidden": true
   },
   "outputs": [
    {
     "data": {
      "text/plain": [
       "{'name': 'Setup',\n",
       " 'reuse_selected_design': True,\n",
       " 'reuse_setup': True,\n",
       " 'freq_ghz': 5,\n",
       " 'max_delta_s': 0.1,\n",
       " 'max_passes': 10,\n",
       " 'min_passes': 1,\n",
       " 'min_converged': 1,\n",
       " 'pct_refinement': 30,\n",
       " 'basis_order': 1,\n",
       " 'vars': {'Lj': '10 nH', 'Cj': '0 fF'},\n",
       " 'sweep_setup': {'name': 'Sweep',\n",
       "  'start_ghz': 2.0,\n",
       "  'stop_ghz': 8.0,\n",
       "  'count': 101,\n",
       "  'step_ghz': None,\n",
       "  'type': 'Fast',\n",
       "  'save_fields': False}}"
      ]
     },
     "execution_count": 11,
     "metadata": {},
     "output_type": "execute_result"
    }
   ],
   "source": [
    "# To view the values for defaults. \n",
    "em1.setup"
   ]
  },
  {
   "cell_type": "code",
   "execution_count": 11,
   "id": "de6fa174",
   "metadata": {
    "hidden": true
   },
   "outputs": [],
   "source": [
    "em1.setup.name = \"Sweep_DrivenModal_setup\"\n",
    "em1.setup.freq_ghz = 6.0\n",
    "em1.setup.max_delta_s = 0.05\n",
    "em1.setup.max_passes = 12\n",
    "em1.setup.min_passes = 2"
   ]
  },
  {
   "cell_type": "markdown",
   "id": "3d54a538",
   "metadata": {
    "hidden": true
   },
   "source": [
    "\n",
    "Add a frequency sweep to a driven modal setup.<br>\n",
    "From QHFSSRenderer.add_sweep doc_strings.  Please go to doc_strings to get the latest information.  \n",
    "\n",
    "Args:<br>\n",
    "    setup_name (str, optional): Name of driven modal simulation Sweep.\n",
    "                            Defaults to \"Setup\".<br>\n",
    "    start_ghz (float, optional): Starting frequency of sweep in GHz.\n",
    "                            Defaults to 2.0.<br>\n",
    "    stop_ghz (float, optional): Ending frequency of sweep in GHz.\n",
    "                            Defaults to 8.0.<br>\n",
    "    count (int, optional): Total number of frequencies.\n",
    "                            Defaults to 101.<br>\n",
    "    step_ghz (float, optional): Difference between adjacent\n",
    "                            frequencies. Defaults to None.<br>\n",
    "    name (str, optional): Name of sweep. Defaults to \"Sweep\".<br>\n",
    "    type (str, optional): Type of sweep. Defaults to \"Fast\".<br>\n",
    "    save_fields (bool, optional): Whether or not to save fields.\n",
    "                        Defaults to False.<br>\n",
    "                        \n",
    "                        \n",
    "From pyEPR.HfssSetup.insert_sweep(), please go to this method to get the latest documentation.   \n",
    "You should provide either step_ghz or count when inserting an HFSS driven model freq sweep. Do not provide both or neither!"
   ]
  },
  {
   "cell_type": "code",
   "execution_count": 12,
   "id": "9f5f6acd-4809-4455-b2cf-de0fb0c83059",
   "metadata": {
    "hidden": true
   },
   "outputs": [
    {
     "data": {
      "text/plain": [
       "{'name': 'Sweep',\n",
       " 'start_ghz': 2.0,\n",
       " 'stop_ghz': 8.0,\n",
       " 'count': 101,\n",
       " 'step_ghz': None,\n",
       " 'type': 'Fast',\n",
       " 'save_fields': False}"
      ]
     },
     "execution_count": 12,
     "metadata": {},
     "output_type": "execute_result"
    }
   ],
   "source": [
    "# To view the values for defaults. \n",
    "em1.setup.sweep_setup"
   ]
  },
  {
   "cell_type": "code",
   "execution_count": 13,
   "id": "9135df20",
   "metadata": {
    "hidden": true
   },
   "outputs": [
    {
     "data": {
      "text/plain": [
       "{'name': 'Sweep_DrivenModal_setup',\n",
       " 'reuse_selected_design': True,\n",
       " 'reuse_setup': True,\n",
       " 'freq_ghz': 6.0,\n",
       " 'max_delta_s': 0.05,\n",
       " 'max_passes': 12,\n",
       " 'min_passes': 2,\n",
       " 'min_converged': 1,\n",
       " 'pct_refinement': 30,\n",
       " 'basis_order': 1,\n",
       " 'vars': {'Lj': '10 nH', 'Cj': '0 fF'},\n",
       " 'sweep_setup': {'name': 'Sweep_options__dm_sweep',\n",
       "  'start_ghz': 4.0,\n",
       "  'stop_ghz': 9.0,\n",
       "  'count': 5001,\n",
       "  'step_ghz': None,\n",
       "  'type': 'Interpolating',\n",
       "  'save_fields': False}}"
      ]
     },
     "execution_count": 13,
     "metadata": {},
     "output_type": "execute_result"
    }
   ],
   "source": [
    "em1.setup.sweep_setup.name=\"Sweep_options__dm_sweep\"\n",
    "em1.setup.sweep_setup.start_ghz=4.0\n",
    "em1.setup.sweep_setup.stop_ghz=9.0\n",
    "em1.setup.sweep_setup.count=5001\n",
    "em1.setup.sweep_setup.type=\"Interpolating\"\n",
    "\n",
    "\n",
    "em1.setup"
   ]
  },
  {
   "cell_type": "code",
   "execution_count": 14,
   "id": "d00fa8c0",
   "metadata": {
    "hidden": true
   },
   "outputs": [],
   "source": [
    "# Set the buffer width at the edge of the design to be 0.5 mm \n",
    "# in both directions.\n",
    "em1.setup.renderer.options['x_buffer_width_mm'] = 0.5\n",
    "em1.setup.renderer.options['y_buffer_width_mm'] = 0.5"
   ]
  },
  {
   "cell_type": "code",
   "execution_count": 16,
   "id": "ce9dbaa5",
   "metadata": {
    "hidden": true
   },
   "outputs": [],
   "source": [
    "#     qcomp_name (str): A component that contains the option to be swept.\n",
    "#     option_name (str): The option within qcomp_name to sweep.\n",
    "#     option_sweep (list): Each entry in the list is a value for\n",
    "#                 option_name.\n",
    "#     qcomp_render (list): The component to render to simulation.\n",
    "#     open_terminations (list): Identify which kind of pins. Follow the\n",
    "#                 details from renderer QQ3DRenderer.render_design, or\n",
    "#                 QHFSSRenderer.render_design.\n",
    "#     port_list (list): List of tuples of jj's that shouldn't\n",
    "#                     be rendered.  Follow details from\n",
    "#                     renderer in QHFSSRenderer.render_design.\n",
    "#     jj_to_port (list): List of junctions (qcomp, qgeometry_name,\n",
    "#                         impedance, draw_ind) to render as lumped ports\n",
    "#                         or as lumped port in parallel with a sheet\n",
    "#                         inductance.    Follow details from renderer\n",
    "#                         in QHFSSRenderer.render_design.\n",
    "#     ignored_jjs (Union[list,None]): This is not used by all renderers,\n",
    "#                  just hfss.\n",
    "#     design_name(str): Name of design (workspace) to use in project.\n",
    "#     box_plus_buffer(bool): Render the entire chip or create a\n",
    "#                 box_plus_buffer around the components which are rendered.\n"
   ]
  },
  {
   "cell_type": "code",
   "execution_count": 15,
   "id": "80500d37",
   "metadata": {
    "hidden": true
   },
   "outputs": [],
   "source": [
    "\n",
    "design_name= \"Sweep_DrivenModal\"\n",
    "qcomp_render = [] # Means to render everything in qgeometry table.\n",
    "open_terminations = []\n",
    "\n",
    "# Here, pin cpw_openRight_end and cpw_openLeft_end are converted into lumped ports,\n",
    "#           each with an impedance of 50 Ohms. <br>\n",
    "port_list = [('cpw_openRight', 'end', 50),\n",
    "                      ('cpw_openLeft', 'end', 50)]\n",
    "jj_to_port = [('Q1', 'rect_jj', 50, False)]\n",
    "# Neither of the junctions in Q1 or Q2 are rendered.\n",
    "ignored_jjs = [('Q2', 'rect_jj')]\n",
    "box_plus_buffer = True"
   ]
  },
  {
   "cell_type": "code",
   "execution_count": 16,
   "id": "948aa9b4",
   "metadata": {
    "hidden": true,
    "tags": []
   },
   "outputs": [
    {
     "name": "stderr",
     "output_type": "stream",
     "text": [
      "INFO 03:47PM [connect_project]: Connecting to Ansys Desktop API...\n",
      "INFO 03:47PM [load_ansys_project]: \tOpened Ansys App\n",
      "INFO 03:47PM [load_ansys_project]: \tOpened Ansys Desktop v2021.1.0\n",
      "INFO 03:47PM [load_ansys_project]: \tOpened Ansys Project\n",
      "\tFolder:    D:/lfl/Documents/Ansoft/\n",
      "\tProject:   Project25\n",
      "INFO 03:47PM [connect_design]: \tOpened active design\n",
      "\tDesign:    Q1RO_new2 [Solution type: DrivenModal]\n",
      "INFO 03:47PM [get_setup]: \tOpened setup `Setup`  (<class 'pyEPR.ansys.HfssDMSetup'>)\n",
      "INFO 03:47PM [connect]: \tConnected to project \"Project25\" and design \"Q1RO_new2\" 😀 \n",
      "\n",
      "INFO 03:47PM [connect_design]: \tOpened active design\n",
      "\tDesign:    Sweep_DrivenModal_hfss [Solution type: DrivenModal]\n",
      "WARNING 03:47PM [connect_setup]: \tNo design setup detected.\n",
      "WARNING 03:47PM [connect_setup]: \tCreating driven modal default setup.\n",
      "INFO 03:47PM [get_setup]: \tOpened setup `Setup`  (<class 'pyEPR.ansys.HfssDMSetup'>)\n",
      "INFO 03:48PM [get_setup]: \tOpened setup `Sweep_DrivenModal_setup`  (<class 'pyEPR.ansys.HfssDMSetup'>)\n",
      "INFO 03:48PM [get_setup]: \tOpened setup `Sweep_DrivenModal_setup`  (<class 'pyEPR.ansys.HfssDMSetup'>)\n",
      "INFO 03:48PM [analyze]: Analyzing setup Sweep_DrivenModal_setup : Sweep_options__dm_sweep\n",
      "INFO 03:50PM [connect_design]: \tOpened active design\n",
      "\tDesign:    Sweep_DrivenModal_hfss [Solution type: DrivenModal]\n",
      "INFO 03:51PM [get_setup]: \tOpened setup `Sweep_DrivenModal_setup`  (<class 'pyEPR.ansys.HfssDMSetup'>)\n",
      "INFO 03:51PM [get_setup]: \tOpened setup `Sweep_DrivenModal_setup`  (<class 'pyEPR.ansys.HfssDMSetup'>)\n",
      "INFO 03:51PM [analyze]: Analyzing setup Sweep_DrivenModal_setup : Sweep_options__dm_sweep\n",
      "INFO 03:54PM [connect_design]: \tOpened active design\n",
      "\tDesign:    Sweep_DrivenModal_hfss [Solution type: DrivenModal]\n",
      "INFO 03:54PM [get_setup]: \tOpened setup `Sweep_DrivenModal_setup`  (<class 'pyEPR.ansys.HfssDMSetup'>)\n",
      "INFO 03:54PM [get_setup]: \tOpened setup `Sweep_DrivenModal_setup`  (<class 'pyEPR.ansys.HfssDMSetup'>)\n",
      "INFO 03:54PM [analyze]: Analyzing setup Sweep_DrivenModal_setup : Sweep_options__dm_sweep\n"
     ]
    }
   ],
   "source": [
    "#Note: The method will connect to  Ansys simulation, activate_drivenmodal_design(), add_drivenmodal_setup().\n",
    "\n",
    "all_sweeps, return_code = em1.run_sweep(meanderQ1.name,\n",
    "                                        'total_length', \n",
    "                                        ['9mm', '10mm', '11mm'],\n",
    "                                        qcomp_render,\n",
    "                                        open_terminations,\n",
    "                                        design_name=design_name,\n",
    "                                        port_list = port_list,\n",
    "                                        jj_to_port= jj_to_port,\n",
    "                                        ignored_jjs= ignored_jjs,\n",
    "                                        box_plus_buffer=box_plus_buffer\n",
    "                                       )"
   ]
  },
  {
   "cell_type": "markdown",
   "id": "61ee7c0b-c41c-4fde-951b-87bdac17200c",
   "metadata": {
    "heading_collapsed": true,
    "tags": []
   },
   "source": [
    "#Note: Sweep again using the arguments from previous run.  \n",
    "```\n",
    "all_sweeps_6_7_8, return_code = em1.run_sweep(meanderQ1.name,\n",
    "                                        'total_length', \n",
    "                                        ['6.5mm', '7.5mm', '8.5mm']\n",
    "                                       )\n",
    "```"
   ]
  },
  {
   "cell_type": "code",
   "execution_count": 17,
   "id": "c564b8d1",
   "metadata": {
    "hidden": true
   },
   "outputs": [
    {
     "name": "stdout",
     "output_type": "stream",
     "text": [
      "dict_keys(['9mm', '10mm', '11mm'])\n"
     ]
    }
   ],
   "source": [
    "\n",
    "if return_code == 0:\n",
    "    # Each key corresponds to list passed to ['9mm', '8mm', '7mm']\n",
    "    print(all_sweeps.keys())\n",
    "    \n",
    "    # Each key corresponds to list passed to ['6mm', '5mm', '4mm']\n",
    "    # print(all_sweeps_6_7_8.keys())\n",
    "else:\n",
    "    print('Check warning messages to see why all_sweeps is non-zero.')\n"
   ]
  },
  {
   "cell_type": "code",
   "execution_count": 18,
   "id": "6a53f4b2",
   "metadata": {
    "hidden": true
   },
   "outputs": [
    {
     "data": {
      "text/plain": [
       "dict_keys(['option_name', 'variables'])"
      ]
     },
     "execution_count": 18,
     "metadata": {},
     "output_type": "execute_result"
    }
   ],
   "source": [
    "all_sweeps['9mm'].keys()"
   ]
  },
  {
   "cell_type": "code",
   "execution_count": 19,
   "id": "656a0690",
   "metadata": {
    "hidden": true
   },
   "outputs": [
    {
     "data": {
      "text/plain": [
       "{'sim_setup_name': 'Sweep_DrivenModal_setup',\n",
       " 'sweep_name': 'Sweep_options__dm_sweep'}"
      ]
     },
     "execution_count": 19,
     "metadata": {},
     "output_type": "execute_result"
    }
   ],
   "source": [
    "all_sweeps['9mm']['variables']"
   ]
  },
  {
   "cell_type": "code",
   "execution_count": 20,
   "id": "c5697567",
   "metadata": {
    "hidden": true
   },
   "outputs": [
    {
     "data": {
      "text/plain": [
       "'total_length'"
      ]
     },
     "execution_count": 20,
     "metadata": {},
     "output_type": "execute_result"
    }
   ],
   "source": [
    "all_sweeps['9mm']['option_name']\n"
   ]
  },
  {
   "cell_type": "code",
   "execution_count": 21,
   "id": "2a8eb01c",
   "metadata": {
    "hidden": true
   },
   "outputs": [
    {
     "name": "stdout",
     "output_type": "stream",
     "text": [
      "\n",
      "project_name = Project25\n",
      "design_name  = Sweep_DrivenModal_hfss\n",
      "setup_name   = Sweep_DrivenModal_setup\n",
      "\n"
     ]
    }
   ],
   "source": [
    "print(f\"\"\"\n",
    "project_name = {em1.renderer.pinfo.project_name}\n",
    "design_name  = {em1.renderer.pinfo.design_name}\n",
    "setup_name   = {em1.renderer.pinfo.setup_name}\n",
    "\"\"\")"
   ]
  },
  {
   "cell_type": "markdown",
   "id": "cd2002a4",
   "metadata": {
    "hidden": true
   },
   "source": [
    "Note: Results storage is currently being updated to be fully functional with the sweep functionality."
   ]
  },
  {
   "cell_type": "code",
   "execution_count": 22,
   "id": "1ec8f294",
   "metadata": {
    "hidden": true
   },
   "outputs": [
    {
     "data": {
      "text/plain": [
       "(                        Z11                   Z21\n",
       " 4.000   0.000000-12.102079j   0.000000+44.086019j\n",
       " 4.001  -0.000000-12.087239j   0.000000+44.082102j\n",
       " 4.002  -0.0000-0012.072400j   0.00000+044.078190j\n",
       " 4.003  -0.000000-12.057563j   0.000000+44.074282j\n",
       " 4.004  -0.000000-12.042728j   0.000000+44.070379j\n",
       " ...                     ...                   ...\n",
       " 8.996  0.000003+217.530954j -0.000012+223.195830j\n",
       " 8.997  0.000002+217.918187j -0.000009+223.575803j\n",
       " 8.998  0.000001+218.306745j -0.000006+223.957099j\n",
       " 8.999  0.000001+218.696633j -0.000003+224.339724j\n",
       " 9.000  0.000000+219.087858j  0.000000+224.723686j\n",
       " \n",
       " [5001 rows x 2 columns],\n",
       " <Figure size 1000x600 with 2 Axes>)"
      ]
     },
     "execution_count": 22,
     "metadata": {},
     "output_type": "execute_result"
    }
   ],
   "source": [
    "em1.get_impedance()                # default: ['Z11', 'Z21']"
   ]
  },
  {
   "cell_type": "code",
   "execution_count": 23,
   "id": "1e40ac2a",
   "metadata": {
    "hidden": true
   },
   "outputs": [
    {
     "data": {
      "text/plain": [
       "(                      Y11                 Y21\n",
       " 4.000  0.000000-0.006635j -0.000000-0.024504j\n",
       " 4.001  0.000000-0.006627j  0.000000-0.024502j\n",
       " 4.002  0.000000-0.006619j  0.000000-0.024500j\n",
       " 4.003  0.000000-0.006610j  0.000000-0.024497j\n",
       " 4.004  0.000000-0.006602j  0.000000-0.024495j\n",
       " ...                   ...                 ...\n",
       " 8.996 -0.000000+0.086464j  0.000000-0.088750j\n",
       " 8.997 -0.000000+0.086571j  0.000000-0.088853j\n",
       " 8.998 -0.000000+0.086678j  0.000000-0.088956j\n",
       " 8.999 -0.000000+0.086786j  0.000000-0.089060j\n",
       " 9.000  0.000000+0.086893j -0.000000-0.089164j\n",
       " \n",
       " [5001 rows x 2 columns],\n",
       " <Figure size 1000x600 with 2 Axes>)"
      ]
     },
     "execution_count": 23,
     "metadata": {},
     "output_type": "execute_result"
    }
   ],
   "source": [
    "em1.get_admittance()              # default: ['Y11', 'Y21']"
   ]
  },
  {
   "cell_type": "code",
   "execution_count": 24,
   "id": "4640a8c7",
   "metadata": {
    "hidden": true
   },
   "outputs": [
    {
     "data": {
      "text/plain": [
       "(                      S11                 S21                 S31\n",
       " 4.000 -0.150716-0.044052j -0.265922+0.951120j -0.000180-0.000108j\n",
       " 4.001 -0.150740-0.044007j -0.265616+0.951204j -0.000181-0.000109j\n",
       " 4.002 -0.150765-0.043962j -0.265310+0.951287j -0.000182-0.000109j\n",
       " 4.003 -0.150790-0.043916j -0.265005+0.951371j -0.000183-0.000110j\n",
       " 4.004 -0.150815-0.043871j -0.264699+0.951454j -0.000185-0.000111j\n",
       " ...                   ...                 ...                 ...\n",
       " 8.996  0.000333-0.000608j  0.974431+0.224685j -0.000160+0.000129j\n",
       " 8.997  0.000348-0.000666j  0.974505+0.224364j -0.000159+0.000129j\n",
       " 8.998  0.000362-0.000723j  0.974579+0.224043j -0.000159+0.000129j\n",
       " 8.999  0.000377-0.000781j  0.974653+0.223722j -0.000159+0.000129j\n",
       " 9.000  0.000391-0.000839j  0.974726+0.223400j -0.000159+0.000129j\n",
       " \n",
       " [5001 rows x 3 columns],\n",
       " <Figure size 1000x600 with 2 Axes>)"
      ]
     },
     "execution_count": 24,
     "metadata": {},
     "output_type": "execute_result"
    }
   ],
   "source": [
    "em1.get_scattering(['S11', 'S21', 'S31'])          ## default: ['S11', 'S21', 'S22']"
   ]
  },
  {
   "cell_type": "code",
   "execution_count": 25,
   "id": "33a0735c",
   "metadata": {
    "hidden": true
   },
   "outputs": [],
   "source": [
    "dataframe_scattering = em1.get_scattering(['S11', 'S21', 'S31'])\n",
    "df_s = dataframe_scattering[0]"
   ]
  },
  {
   "cell_type": "code",
   "execution_count": 66,
   "id": "a22c8899-7474-40be-b6d2-e3341c0ed4d8",
   "metadata": {
    "hidden": true
   },
   "outputs": [],
   "source": [
    "df_s.to_csv(\"df_s.csv\")"
   ]
  },
  {
   "cell_type": "code",
   "execution_count": 32,
   "id": "936ae979-24ae-452c-9a5c-2e0ddaa16d89",
   "metadata": {
    "hidden": true
   },
   "outputs": [],
   "source": [
    "dataframe_scattering[1]\n",
    "plt.show()"
   ]
  },
  {
   "cell_type": "code",
   "execution_count": 36,
   "id": "929bb804",
   "metadata": {
    "hidden": true
   },
   "outputs": [
    {
     "data": {
      "text/plain": [
       "4.000   -0.000180-0.000108j\n",
       "4.001   -0.000181-0.000109j\n",
       "4.002   -0.000182-0.000109j\n",
       "4.003   -0.000183-0.000110j\n",
       "4.004   -0.000185-0.000111j\n",
       "                ...        \n",
       "8.996   -0.000160+0.000129j\n",
       "8.997   -0.000159+0.000129j\n",
       "8.998   -0.000159+0.000129j\n",
       "8.999   -0.000159+0.000129j\n",
       "9.000   -0.000159+0.000129j\n",
       "Name: S31, Length: 5001, dtype: complex128"
      ]
     },
     "execution_count": 36,
     "metadata": {},
     "output_type": "execute_result"
    }
   ],
   "source": [
    "s11 = df_s['S11']\n",
    "s11\n",
    "\n",
    "s21 = df_s['S21']\n",
    "s21\n",
    "\n",
    "s31 = df_s['S31']\n",
    "s31"
   ]
  },
  {
   "cell_type": "code",
   "execution_count": 37,
   "id": "fe5079dd",
   "metadata": {
    "hidden": true
   },
   "outputs": [
    {
     "data": {
      "text/html": [
       "<div>\n",
       "<style scoped>\n",
       "    .dataframe tbody tr th:only-of-type {\n",
       "        vertical-align: middle;\n",
       "    }\n",
       "\n",
       "    .dataframe tbody tr th {\n",
       "        vertical-align: top;\n",
       "    }\n",
       "\n",
       "    .dataframe thead th {\n",
       "        text-align: right;\n",
       "    }\n",
       "</style>\n",
       "<table border=\"1\" class=\"dataframe\">\n",
       "  <thead>\n",
       "    <tr style=\"text-align: right;\">\n",
       "      <th></th>\n",
       "      <th>S11</th>\n",
       "      <th>S21</th>\n",
       "      <th>S31</th>\n",
       "      <th>20_log_of_mag_S11</th>\n",
       "      <th>20_log_of_mag_S21</th>\n",
       "      <th>20_log_of_mag_S31</th>\n",
       "    </tr>\n",
       "  </thead>\n",
       "  <tbody>\n",
       "    <tr>\n",
       "      <th>4.000</th>\n",
       "      <td>-0.150716-0.044052j</td>\n",
       "      <td>-0.265922+0.951120j</td>\n",
       "      <td>-0.000180-0.000108j</td>\n",
       "      <td>-16.080811</td>\n",
       "      <td>-0.108421</td>\n",
       "      <td>-73.575420</td>\n",
       "    </tr>\n",
       "    <tr>\n",
       "      <th>4.001</th>\n",
       "      <td>-0.150740-0.044007j</td>\n",
       "      <td>-0.265616+0.951204j</td>\n",
       "      <td>-0.000181-0.000109j</td>\n",
       "      <td>-16.080193</td>\n",
       "      <td>-0.108437</td>\n",
       "      <td>-73.517523</td>\n",
       "    </tr>\n",
       "    <tr>\n",
       "      <th>4.002</th>\n",
       "      <td>-0.150765-0.043962j</td>\n",
       "      <td>-0.265310+0.951287j</td>\n",
       "      <td>-0.000182-0.000109j</td>\n",
       "      <td>-16.079575</td>\n",
       "      <td>-0.108452</td>\n",
       "      <td>-73.459292</td>\n",
       "    </tr>\n",
       "    <tr>\n",
       "      <th>4.003</th>\n",
       "      <td>-0.150790-0.043916j</td>\n",
       "      <td>-0.265005+0.951371j</td>\n",
       "      <td>-0.000183-0.000110j</td>\n",
       "      <td>-16.078958</td>\n",
       "      <td>-0.108468</td>\n",
       "      <td>-73.400723</td>\n",
       "    </tr>\n",
       "    <tr>\n",
       "      <th>4.004</th>\n",
       "      <td>-0.150815-0.043871j</td>\n",
       "      <td>-0.264699+0.951454j</td>\n",
       "      <td>-0.000185-0.000111j</td>\n",
       "      <td>-16.078341</td>\n",
       "      <td>-0.108484</td>\n",
       "      <td>-73.341813</td>\n",
       "    </tr>\n",
       "    <tr>\n",
       "      <th>...</th>\n",
       "      <td>...</td>\n",
       "      <td>...</td>\n",
       "      <td>...</td>\n",
       "      <td>...</td>\n",
       "      <td>...</td>\n",
       "      <td>...</td>\n",
       "    </tr>\n",
       "    <tr>\n",
       "      <th>8.996</th>\n",
       "      <td>0.000333-0.000608j</td>\n",
       "      <td>0.974431+0.224685j</td>\n",
       "      <td>-0.000160+0.000129j</td>\n",
       "      <td>-63.184444</td>\n",
       "      <td>-0.000002</td>\n",
       "      <td>-73.752467</td>\n",
       "    </tr>\n",
       "    <tr>\n",
       "      <th>8.997</th>\n",
       "      <td>0.000348-0.000666j</td>\n",
       "      <td>0.974505+0.224364j</td>\n",
       "      <td>-0.000159+0.000129j</td>\n",
       "      <td>-62.487802</td>\n",
       "      <td>-0.000002</td>\n",
       "      <td>-73.756013</td>\n",
       "    </tr>\n",
       "    <tr>\n",
       "      <th>8.998</th>\n",
       "      <td>0.000362-0.000723j</td>\n",
       "      <td>0.974579+0.224043j</td>\n",
       "      <td>-0.000159+0.000129j</td>\n",
       "      <td>-61.840272</td>\n",
       "      <td>-0.000003</td>\n",
       "      <td>-73.759547</td>\n",
       "    </tr>\n",
       "    <tr>\n",
       "      <th>8.999</th>\n",
       "      <td>0.000377-0.000781j</td>\n",
       "      <td>0.974653+0.223722j</td>\n",
       "      <td>-0.000159+0.000129j</td>\n",
       "      <td>-61.235716</td>\n",
       "      <td>-0.000003</td>\n",
       "      <td>-73.763071</td>\n",
       "    </tr>\n",
       "    <tr>\n",
       "      <th>9.000</th>\n",
       "      <td>0.000391-0.000839j</td>\n",
       "      <td>0.974726+0.223400j</td>\n",
       "      <td>-0.000159+0.000129j</td>\n",
       "      <td>-60.669016</td>\n",
       "      <td>-0.000004</td>\n",
       "      <td>-73.766584</td>\n",
       "    </tr>\n",
       "  </tbody>\n",
       "</table>\n",
       "<p>5001 rows × 6 columns</p>\n",
       "</div>"
      ],
      "text/plain": [
       "                      S11                 S21                 S31  \\\n",
       "4.000 -0.150716-0.044052j -0.265922+0.951120j -0.000180-0.000108j   \n",
       "4.001 -0.150740-0.044007j -0.265616+0.951204j -0.000181-0.000109j   \n",
       "4.002 -0.150765-0.043962j -0.265310+0.951287j -0.000182-0.000109j   \n",
       "4.003 -0.150790-0.043916j -0.265005+0.951371j -0.000183-0.000110j   \n",
       "4.004 -0.150815-0.043871j -0.264699+0.951454j -0.000185-0.000111j   \n",
       "...                   ...                 ...                 ...   \n",
       "8.996  0.000333-0.000608j  0.974431+0.224685j -0.000160+0.000129j   \n",
       "8.997  0.000348-0.000666j  0.974505+0.224364j -0.000159+0.000129j   \n",
       "8.998  0.000362-0.000723j  0.974579+0.224043j -0.000159+0.000129j   \n",
       "8.999  0.000377-0.000781j  0.974653+0.223722j -0.000159+0.000129j   \n",
       "9.000  0.000391-0.000839j  0.974726+0.223400j -0.000159+0.000129j   \n",
       "\n",
       "       20_log_of_mag_S11  20_log_of_mag_S21  20_log_of_mag_S31  \n",
       "4.000         -16.080811          -0.108421         -73.575420  \n",
       "4.001         -16.080193          -0.108437         -73.517523  \n",
       "4.002         -16.079575          -0.108452         -73.459292  \n",
       "4.003         -16.078958          -0.108468         -73.400723  \n",
       "4.004         -16.078341          -0.108484         -73.341813  \n",
       "...                  ...                ...                ...  \n",
       "8.996         -63.184444          -0.000002         -73.752467  \n",
       "8.997         -62.487802          -0.000002         -73.756013  \n",
       "8.998         -61.840272          -0.000003         -73.759547  \n",
       "8.999         -61.235716          -0.000003         -73.763071  \n",
       "9.000         -60.669016          -0.000004         -73.766584  \n",
       "\n",
       "[5001 rows x 6 columns]"
      ]
     },
     "execution_count": 37,
     "metadata": {},
     "output_type": "execute_result"
    }
   ],
   "source": [
    "dataframe_scattering[0]['20_log_of_mag_S11']= 20 * np.log10(np.absolute(s11))\n",
    "dataframe_scattering[0]['20_log_of_mag_S21']= 20 * np.log10(np.absolute(s21))\n",
    "dataframe_scattering[0]['20_log_of_mag_S31']= 20 * np.log10(np.absolute(s31))\n",
    "dataframe_scattering[0]"
   ]
  },
  {
   "cell_type": "code",
   "execution_count": 38,
   "id": "9e405022",
   "metadata": {
    "hidden": true
   },
   "outputs": [],
   "source": [
    "# Reference to current axis. \n",
    "magnitude = plt.figure('Magnitude S11, S21, and S31')\n",
    "plt.clf()\n",
    "axis = plt.gca() # Get current axis.\n",
    "dataframe_scattering[0].plot(kind = 'line', y='20_log_of_mag_S11', color = 'green', ax = axis)\n",
    "dataframe_scattering[0].plot(kind = 'line', y='20_log_of_mag_S21', color = 'blue', ax = axis)\n",
    "dataframe_scattering[0].plot(kind = 'line', y='20_log_of_mag_S31', color = 'red', ax = axis)\n",
    "plt.title(f'S-Parameter Magnitude')\n",
    "plt.xlabel(f'frequency [GHZ]')\n",
    "plt.ylabel(f'|S11|,|S21|,|S31| [dB]')\n",
    "magnitude.show()"
   ]
  },
  {
   "cell_type": "code",
   "execution_count": 41,
   "id": "dfd0b543",
   "metadata": {
    "hidden": true
   },
   "outputs": [
    {
     "data": {
      "text/html": [
       "<div>\n",
       "<style scoped>\n",
       "    .dataframe tbody tr th:only-of-type {\n",
       "        vertical-align: middle;\n",
       "    }\n",
       "\n",
       "    .dataframe tbody tr th {\n",
       "        vertical-align: top;\n",
       "    }\n",
       "\n",
       "    .dataframe thead th {\n",
       "        text-align: right;\n",
       "    }\n",
       "</style>\n",
       "<table border=\"1\" class=\"dataframe\">\n",
       "  <thead>\n",
       "    <tr style=\"text-align: right;\">\n",
       "      <th></th>\n",
       "      <th>S11</th>\n",
       "      <th>S21</th>\n",
       "      <th>S31</th>\n",
       "      <th>20_log_of_mag_S11</th>\n",
       "      <th>20_log_of_mag_S21</th>\n",
       "      <th>20_log_of_mag_S31</th>\n",
       "      <th>degrees_S11</th>\n",
       "      <th>degrees_S21</th>\n",
       "      <th>degrees_S31</th>\n",
       "    </tr>\n",
       "  </thead>\n",
       "  <tbody>\n",
       "    <tr>\n",
       "      <th>4.000</th>\n",
       "      <td>-0.150716-0.044052j</td>\n",
       "      <td>-0.265922+0.951120j</td>\n",
       "      <td>-0.000180-0.000108j</td>\n",
       "      <td>-16.080811</td>\n",
       "      <td>-0.108421</td>\n",
       "      <td>-73.575420</td>\n",
       "      <td>-163.707097</td>\n",
       "      <td>105.620349</td>\n",
       "      <td>-149.002844</td>\n",
       "    </tr>\n",
       "    <tr>\n",
       "      <th>4.001</th>\n",
       "      <td>-0.150740-0.044007j</td>\n",
       "      <td>-0.265616+0.951204j</td>\n",
       "      <td>-0.000181-0.000109j</td>\n",
       "      <td>-16.080193</td>\n",
       "      <td>-0.108437</td>\n",
       "      <td>-73.517523</td>\n",
       "      <td>-163.725481</td>\n",
       "      <td>105.601966</td>\n",
       "      <td>-149.016917</td>\n",
       "    </tr>\n",
       "    <tr>\n",
       "      <th>4.002</th>\n",
       "      <td>-0.150765-0.043962j</td>\n",
       "      <td>-0.265310+0.951287j</td>\n",
       "      <td>-0.000182-0.000109j</td>\n",
       "      <td>-16.079575</td>\n",
       "      <td>-0.108452</td>\n",
       "      <td>-73.459292</td>\n",
       "      <td>-163.743868</td>\n",
       "      <td>105.583583</td>\n",
       "      <td>-149.030991</td>\n",
       "    </tr>\n",
       "    <tr>\n",
       "      <th>4.003</th>\n",
       "      <td>-0.150790-0.043916j</td>\n",
       "      <td>-0.265005+0.951371j</td>\n",
       "      <td>-0.000183-0.000110j</td>\n",
       "      <td>-16.078958</td>\n",
       "      <td>-0.108468</td>\n",
       "      <td>-73.400723</td>\n",
       "      <td>-163.762258</td>\n",
       "      <td>105.565199</td>\n",
       "      <td>-149.045067</td>\n",
       "    </tr>\n",
       "    <tr>\n",
       "      <th>4.004</th>\n",
       "      <td>-0.150815-0.043871j</td>\n",
       "      <td>-0.264699+0.951454j</td>\n",
       "      <td>-0.000185-0.000111j</td>\n",
       "      <td>-16.078341</td>\n",
       "      <td>-0.108484</td>\n",
       "      <td>-73.341813</td>\n",
       "      <td>-163.780650</td>\n",
       "      <td>105.546815</td>\n",
       "      <td>-149.059143</td>\n",
       "    </tr>\n",
       "    <tr>\n",
       "      <th>...</th>\n",
       "      <td>...</td>\n",
       "      <td>...</td>\n",
       "      <td>...</td>\n",
       "      <td>...</td>\n",
       "      <td>...</td>\n",
       "      <td>...</td>\n",
       "      <td>...</td>\n",
       "      <td>...</td>\n",
       "      <td>...</td>\n",
       "    </tr>\n",
       "    <tr>\n",
       "      <th>8.996</th>\n",
       "      <td>0.000333-0.000608j</td>\n",
       "      <td>0.974431+0.224685j</td>\n",
       "      <td>-0.000160+0.000129j</td>\n",
       "      <td>-63.184444</td>\n",
       "      <td>-0.000002</td>\n",
       "      <td>-73.752467</td>\n",
       "      <td>-61.295552</td>\n",
       "      <td>12.984383</td>\n",
       "      <td>140.989771</td>\n",
       "    </tr>\n",
       "    <tr>\n",
       "      <th>8.997</th>\n",
       "      <td>0.000348-0.000666j</td>\n",
       "      <td>0.974505+0.224364j</td>\n",
       "      <td>-0.000159+0.000129j</td>\n",
       "      <td>-62.487802</td>\n",
       "      <td>-0.000002</td>\n",
       "      <td>-73.756013</td>\n",
       "      <td>-62.429755</td>\n",
       "      <td>12.965498</td>\n",
       "      <td>140.975855</td>\n",
       "    </tr>\n",
       "    <tr>\n",
       "      <th>8.998</th>\n",
       "      <td>0.000362-0.000723j</td>\n",
       "      <td>0.974579+0.224043j</td>\n",
       "      <td>-0.000159+0.000129j</td>\n",
       "      <td>-61.840272</td>\n",
       "      <td>-0.000003</td>\n",
       "      <td>-73.759547</td>\n",
       "      <td>-63.404065</td>\n",
       "      <td>12.946614</td>\n",
       "      <td>140.961939</td>\n",
       "    </tr>\n",
       "    <tr>\n",
       "      <th>8.999</th>\n",
       "      <td>0.000377-0.000781j</td>\n",
       "      <td>0.974653+0.223722j</td>\n",
       "      <td>-0.000159+0.000129j</td>\n",
       "      <td>-61.235716</td>\n",
       "      <td>-0.000003</td>\n",
       "      <td>-73.763071</td>\n",
       "      <td>-64.250131</td>\n",
       "      <td>12.927729</td>\n",
       "      <td>140.948024</td>\n",
       "    </tr>\n",
       "    <tr>\n",
       "      <th>9.000</th>\n",
       "      <td>0.000391-0.000839j</td>\n",
       "      <td>0.974726+0.223400j</td>\n",
       "      <td>-0.000159+0.000129j</td>\n",
       "      <td>-60.669016</td>\n",
       "      <td>-0.000004</td>\n",
       "      <td>-73.766584</td>\n",
       "      <td>-64.991866</td>\n",
       "      <td>12.908845</td>\n",
       "      <td>140.934109</td>\n",
       "    </tr>\n",
       "  </tbody>\n",
       "</table>\n",
       "<p>5001 rows × 9 columns</p>\n",
       "</div>"
      ],
      "text/plain": [
       "                      S11                 S21                 S31  \\\n",
       "4.000 -0.150716-0.044052j -0.265922+0.951120j -0.000180-0.000108j   \n",
       "4.001 -0.150740-0.044007j -0.265616+0.951204j -0.000181-0.000109j   \n",
       "4.002 -0.150765-0.043962j -0.265310+0.951287j -0.000182-0.000109j   \n",
       "4.003 -0.150790-0.043916j -0.265005+0.951371j -0.000183-0.000110j   \n",
       "4.004 -0.150815-0.043871j -0.264699+0.951454j -0.000185-0.000111j   \n",
       "...                   ...                 ...                 ...   \n",
       "8.996  0.000333-0.000608j  0.974431+0.224685j -0.000160+0.000129j   \n",
       "8.997  0.000348-0.000666j  0.974505+0.224364j -0.000159+0.000129j   \n",
       "8.998  0.000362-0.000723j  0.974579+0.224043j -0.000159+0.000129j   \n",
       "8.999  0.000377-0.000781j  0.974653+0.223722j -0.000159+0.000129j   \n",
       "9.000  0.000391-0.000839j  0.974726+0.223400j -0.000159+0.000129j   \n",
       "\n",
       "       20_log_of_mag_S11  20_log_of_mag_S21  20_log_of_mag_S31  degrees_S11  \\\n",
       "4.000         -16.080811          -0.108421         -73.575420  -163.707097   \n",
       "4.001         -16.080193          -0.108437         -73.517523  -163.725481   \n",
       "4.002         -16.079575          -0.108452         -73.459292  -163.743868   \n",
       "4.003         -16.078958          -0.108468         -73.400723  -163.762258   \n",
       "4.004         -16.078341          -0.108484         -73.341813  -163.780650   \n",
       "...                  ...                ...                ...          ...   \n",
       "8.996         -63.184444          -0.000002         -73.752467   -61.295552   \n",
       "8.997         -62.487802          -0.000002         -73.756013   -62.429755   \n",
       "8.998         -61.840272          -0.000003         -73.759547   -63.404065   \n",
       "8.999         -61.235716          -0.000003         -73.763071   -64.250131   \n",
       "9.000         -60.669016          -0.000004         -73.766584   -64.991866   \n",
       "\n",
       "       degrees_S21  degrees_S31  \n",
       "4.000   105.620349  -149.002844  \n",
       "4.001   105.601966  -149.016917  \n",
       "4.002   105.583583  -149.030991  \n",
       "4.003   105.565199  -149.045067  \n",
       "4.004   105.546815  -149.059143  \n",
       "...            ...          ...  \n",
       "8.996    12.984383   140.989771  \n",
       "8.997    12.965498   140.975855  \n",
       "8.998    12.946614   140.961939  \n",
       "8.999    12.927729   140.948024  \n",
       "9.000    12.908845   140.934109  \n",
       "\n",
       "[5001 rows x 9 columns]"
      ]
     },
     "execution_count": 41,
     "metadata": {},
     "output_type": "execute_result"
    }
   ],
   "source": [
    "# Data is shown as degrees.  \n",
    "# However, if you want radians, change value of deg to false, deg=False.\n",
    "dataframe_scattering[0]['degrees_S11'] = np.angle(s11, deg=True)\n",
    "dataframe_scattering[0]['degrees_S21'] = np.angle(s21, deg=True)\n",
    "dataframe_scattering[0]['degrees_S31'] = np.angle(s31, deg=True)\n",
    "dataframe_scattering[0]"
   ]
  },
  {
   "cell_type": "code",
   "execution_count": 42,
   "id": "f8fc9895",
   "metadata": {
    "hidden": true
   },
   "outputs": [],
   "source": [
    "# Reference to current axis. \n",
    "phase = plt.figure('Phase of S11 and S21')\n",
    "plt.clf()\n",
    "axis = plt.gca() # Get current axis.\n",
    "dataframe_scattering[0].plot(kind = 'line', y='degrees_S11', color = 'green', ax = axis)\n",
    "dataframe_scattering[0].plot(kind = 'line', y='degrees_S21', color = 'blue', ax = axis)\n",
    "dataframe_scattering[0].plot(kind = 'line', y='degrees_S31', color = 'red', ax = axis)\n",
    "plt.title(f'S-Parameter Phase')\n",
    "plt.xlabel(f'frequency [GHZ]')\n",
    "plt.ylabel(f'<S11, <S21, <S31 [degrees]')\n",
    "phase.show()"
   ]
  },
  {
   "cell_type": "code",
   "execution_count": 33,
   "id": "7646293c",
   "metadata": {
    "hidden": true,
    "tags": []
   },
   "outputs": [],
   "source": [
    "em1.close()"
   ]
  },
  {
   "cell_type": "code",
   "execution_count": 34,
   "id": "33de9236",
   "metadata": {
    "hidden": true
   },
   "outputs": [],
   "source": [
    "# Uncomment next line if you would like to close the gui\n",
    "# gui.main_window.close()"
   ]
  },
  {
   "cell_type": "markdown",
   "id": "b852d0a6-a86a-45c4-8106-a57d8e0a92ef",
   "metadata": {},
   "source": [
    "# Analysis to Get Kappa"
   ]
  },
  {
   "cell_type": "code",
   "execution_count": 4,
   "id": "2bb11c9f",
   "metadata": {},
   "outputs": [],
   "source": [
    "%load_ext autoreload\n",
    "%autoreload 2"
   ]
  },
  {
   "cell_type": "code",
   "execution_count": 5,
   "id": "2b099164",
   "metadata": {},
   "outputs": [
    {
     "name": "stdout",
     "output_type": "stream",
     "text": [
      "Processing /Users/shanto/LFL/SQuADDS/metal-library\n",
      "  Preparing metadata (setup.py) ... \u001b[?25ldone\n",
      "\u001b[?25hBuilding wheels for collected packages: metal-library\n",
      "  Building wheel for metal-library (setup.py) ... \u001b[?25ldone\n",
      "\u001b[?25h  Created wheel for metal-library: filename=metal_library-1.0.0-py3-none-any.whl size=570757 sha256=d3209fd19880a6150bfdf9e2ce225475dbb12175b0dc9886134dc87fda95e967\n",
      "  Stored in directory: /Users/shanto/Library/Caches/pip/wheels/cc/d5/e7/b9339b9dd36479ed23f7215b35ff24f41883f4ab86f5bb5ea7\n",
      "Successfully built metal-library\n",
      "Installing collected packages: metal-library\n",
      "  Attempting uninstall: metal-library\n",
      "    Found existing installation: metal-library 1.0.0\n",
      "    Uninstalling metal-library-1.0.0:\n",
      "      Successfully uninstalled metal-library-1.0.0\n",
      "Successfully installed metal-library-1.0.0\n"
     ]
    }
   ],
   "source": [
    "!pip install ../."
   ]
  },
  {
   "cell_type": "code",
   "execution_count": 48,
   "id": "352d6bb4-a852-470e-a090-dda6d1b6be21",
   "metadata": {},
   "outputs": [
    {
     "data": {
      "image/png": "[encoded data removed]",
      "text/plain": [
       "<Figure size 640x480 with 1 Axes>"
      ]
     },
     "metadata": {},
     "output_type": "display_data"
    }
   ],
   "source": [
    "plt.plot(s21)\n",
    "plt.show()"
   ]
  },
  {
   "cell_type": "code",
   "execution_count": 17,
   "id": "f34c8e77-9fbd-48ba-a01b-6c8eaa10bcc2",
   "metadata": {},
   "outputs": [],
   "source": [
    "import pandas as pd\n",
    "import matplotlib.pyplot as plt\n",
    "from metal_library.utils.fitTools.Resonator import *"
   ]
  },
  {
   "cell_type": "code",
   "execution_count": 13,
   "id": "c82d8376",
   "metadata": {},
   "outputs": [
    {
     "data": {
      "text/html": [
       "<div>\n",
       "<style scoped>\n",
       "    .dataframe tbody tr th:only-of-type {\n",
       "        vertical-align: middle;\n",
       "    }\n",
       "\n",
       "    .dataframe tbody tr th {\n",
       "        vertical-align: top;\n",
       "    }\n",
       "\n",
       "    .dataframe thead th {\n",
       "        text-align: right;\n",
       "    }\n",
       "</style>\n",
       "<table border=\"1\" class=\"dataframe\">\n",
       "  <thead>\n",
       "    <tr style=\"text-align: right;\">\n",
       "      <th></th>\n",
       "      <th>Unnamed: 0</th>\n",
       "      <th>S11</th>\n",
       "      <th>S21</th>\n",
       "      <th>S31</th>\n",
       "      <th>20_log_of_mag_S11</th>\n",
       "      <th>20_log_of_mag_S21</th>\n",
       "      <th>20_log_of_mag_S31</th>\n",
       "      <th>degrees_S11</th>\n",
       "      <th>degrees_S21</th>\n",
       "      <th>degrees_S31</th>\n",
       "      <th>Real(S21)</th>\n",
       "      <th>Imag(S21)</th>\n",
       "    </tr>\n",
       "  </thead>\n",
       "  <tbody>\n",
       "    <tr>\n",
       "      <th>0</th>\n",
       "      <td>4.000</td>\n",
       "      <td>(-0.150715637584533-0.0440520722269604j)</td>\n",
       "      <td>(-0.265921720724943+0.951120290009289j)</td>\n",
       "      <td>(-0.000179600494116977-0.000107902729610986j)</td>\n",
       "      <td>-16.080811</td>\n",
       "      <td>-0.108421</td>\n",
       "      <td>-73.575420</td>\n",
       "      <td>-163.707097</td>\n",
       "      <td>105.620349</td>\n",
       "      <td>-149.002844</td>\n",
       "      <td>-0.265922</td>\n",
       "      <td>0.951120</td>\n",
       "    </tr>\n",
       "    <tr>\n",
       "      <th>1</th>\n",
       "      <td>4.001</td>\n",
       "      <td>(-0.1507404943050266-0.04400684342809505j)</td>\n",
       "      <td>(-0.2656160761580196+0.9512038460588216j)</td>\n",
       "      <td>(-0.00018082832396914-0.0001085799633726405j)</td>\n",
       "      <td>-16.080193</td>\n",
       "      <td>-0.108437</td>\n",
       "      <td>-73.517523</td>\n",
       "      <td>-163.725481</td>\n",
       "      <td>105.601966</td>\n",
       "      <td>-149.016917</td>\n",
       "      <td>-0.265616</td>\n",
       "      <td>0.951204</td>\n",
       "    </tr>\n",
       "    <tr>\n",
       "      <th>2</th>\n",
       "      <td>4.002</td>\n",
       "      <td>(-0.1507653325938798-0.04396159389886768j)</td>\n",
       "      <td>(-0.2653103947037496+0.9512873079282215j)</td>\n",
       "      <td>(-0.0001820715304245701-0.0001092656172710401j)</td>\n",
       "      <td>-16.079575</td>\n",
       "      <td>-0.108452</td>\n",
       "      <td>-73.459292</td>\n",
       "      <td>-163.743868</td>\n",
       "      <td>105.583583</td>\n",
       "      <td>-149.030991</td>\n",
       "      <td>-0.265310</td>\n",
       "      <td>0.951287</td>\n",
       "    </tr>\n",
       "    <tr>\n",
       "      <th>3</th>\n",
       "      <td>4.003</td>\n",
       "      <td>(-0.1507901526763325-0.04391632356469167j)</td>\n",
       "      <td>(-0.265004676154231+0.9513706756307043j)</td>\n",
       "      <td>(-0.0001833304027995912-0.0001099598495627392j)</td>\n",
       "      <td>-16.078958</td>\n",
       "      <td>-0.108468</td>\n",
       "      <td>-73.400723</td>\n",
       "      <td>-163.762258</td>\n",
       "      <td>105.565199</td>\n",
       "      <td>-149.045067</td>\n",
       "      <td>-0.265005</td>\n",
       "      <td>0.951371</td>\n",
       "    </tr>\n",
       "    <tr>\n",
       "      <th>4</th>\n",
       "      <td>4.004</td>\n",
       "      <td>(-0.1508149547835771-0.04387103234859419j)</td>\n",
       "      <td>(-0.2646989202956276+0.9514539491799524j)</td>\n",
       "      <td>(-0.0001846052377128385-0.0001106628224955765j)</td>\n",
       "      <td>-16.078341</td>\n",
       "      <td>-0.108484</td>\n",
       "      <td>-73.341813</td>\n",
       "      <td>-163.780650</td>\n",
       "      <td>105.546815</td>\n",
       "      <td>-149.059143</td>\n",
       "      <td>-0.264699</td>\n",
       "      <td>0.951454</td>\n",
       "    </tr>\n",
       "    <tr>\n",
       "      <th>...</th>\n",
       "      <td>...</td>\n",
       "      <td>...</td>\n",
       "      <td>...</td>\n",
       "      <td>...</td>\n",
       "      <td>...</td>\n",
       "      <td>...</td>\n",
       "      <td>...</td>\n",
       "      <td>...</td>\n",
       "      <td>...</td>\n",
       "      <td>...</td>\n",
       "      <td>...</td>\n",
       "      <td>...</td>\n",
       "    </tr>\n",
       "    <tr>\n",
       "      <th>4996</th>\n",
       "      <td>8.996</td>\n",
       "      <td>(0.0003328762421412556-0.0006078988568734243j)</td>\n",
       "      <td>(0.9744311258430064+0.2246854119180198j)</td>\n",
       "      <td>(-0.0001595204746241169+0.0001292242924822103j)</td>\n",
       "      <td>-63.184444</td>\n",
       "      <td>-0.000002</td>\n",
       "      <td>-73.752467</td>\n",
       "      <td>-61.295552</td>\n",
       "      <td>12.984383</td>\n",
       "      <td>140.989771</td>\n",
       "      <td>0.974431</td>\n",
       "      <td>0.224685</td>\n",
       "    </tr>\n",
       "    <tr>\n",
       "      <th>4997</th>\n",
       "      <td>8.997</td>\n",
       "      <td>(0.0003475656248440923-0.0006656734778487295j)</td>\n",
       "      <td>(0.9745050786169553+0.2243642191081729j)</td>\n",
       "      <td>(-0.0001594240001652535+0.0001292102859158748j)</td>\n",
       "      <td>-62.487802</td>\n",
       "      <td>-0.000002</td>\n",
       "      <td>-73.756013</td>\n",
       "      <td>-62.429755</td>\n",
       "      <td>12.965498</td>\n",
       "      <td>140.975855</td>\n",
       "      <td>0.974505</td>\n",
       "      <td>0.224364</td>\n",
       "    </tr>\n",
       "    <tr>\n",
       "      <th>4998</th>\n",
       "      <td>8.998</td>\n",
       "      <td>(0.0003622173793614306-0.0007234595748343617j)</td>\n",
       "      <td>(0.9745789221949377+0.2240430002453536j)</td>\n",
       "      <td>(-0.00015932776466235+0.0001291964183226254j)</td>\n",
       "      <td>-61.840272</td>\n",
       "      <td>-0.000003</td>\n",
       "      <td>-73.759547</td>\n",
       "      <td>-63.404065</td>\n",
       "      <td>12.946614</td>\n",
       "      <td>140.961939</td>\n",
       "      <td>0.974579</td>\n",
       "      <td>0.224043</td>\n",
       "    </tr>\n",
       "    <tr>\n",
       "      <th>4999</th>\n",
       "      <td>8.999</td>\n",
       "      <td>(0.0003768314972533458-0.0007812571215823873j)</td>\n",
       "      <td>(0.9746526565665374+0.2237217553676069j)</td>\n",
       "      <td>(-0.0001592317675097378+0.0001291826894756545j)</td>\n",
       "      <td>-61.235716</td>\n",
       "      <td>-0.000003</td>\n",
       "      <td>-73.763071</td>\n",
       "      <td>-64.250131</td>\n",
       "      <td>12.927729</td>\n",
       "      <td>140.948024</td>\n",
       "      <td>0.974653</td>\n",
       "      <td>0.223722</td>\n",
       "    </tr>\n",
       "    <tr>\n",
       "      <th>5000</th>\n",
       "      <td>9.000</td>\n",
       "      <td>(0.0003914079700968465-0.0008390660918375648j)</td>\n",
       "      <td>(0.9747262817213541+0.2234004845129777j)</td>\n",
       "      <td>(-0.0001591360081041853+0.000129169099149332j)</td>\n",
       "      <td>-60.669016</td>\n",
       "      <td>-0.000004</td>\n",
       "      <td>-73.766584</td>\n",
       "      <td>-64.991866</td>\n",
       "      <td>12.908845</td>\n",
       "      <td>140.934109</td>\n",
       "      <td>0.974726</td>\n",
       "      <td>0.223400</td>\n",
       "    </tr>\n",
       "  </tbody>\n",
       "</table>\n",
       "<p>5001 rows × 12 columns</p>\n",
       "</div>"
      ],
      "text/plain": [
       "      Unnamed: 0  ... Imag(S21)\n",
       "0          4.000  ...  0.951120\n",
       "1          4.001  ...  0.951204\n",
       "2          4.002  ...  0.951287\n",
       "3          4.003  ...  0.951371\n",
       "4          4.004  ...  0.951454\n",
       "...          ...  ...       ...\n",
       "4996       8.996  ...  0.224685\n",
       "4997       8.997  ...  0.224364\n",
       "4998       8.998  ...  0.224043\n",
       "4999       8.999  ...  0.223722\n",
       "5000       9.000  ...  0.223400\n",
       "\n",
       "[5001 rows x 12 columns]"
      ]
     },
     "execution_count": 13,
     "metadata": {},
     "output_type": "execute_result"
    }
   ],
   "source": [
    "df_s = pd.read_csv(\"df_s.csv\")\n",
    "df_s"
   ]
  },
  {
   "cell_type": "code",
   "execution_count": 15,
   "id": "590614b6-cd55-4771-a962-34ad3ef54779",
   "metadata": {},
   "outputs": [],
   "source": [
    "def get_real_and_imag(a_ii):\n",
    "    return a_ii.values.real, a_ii.values.imag\n",
    "\n",
    "s21real, s21imag = get_real_and_imag(df_s['S21'])\n",
    "#y11real, y11imag = get_real_and_imag(df_y['Y11'])\n",
    "\n",
    "\n",
    "df_s['Real(S21)'] = s21real\n",
    "df_s['Imag(S21)'] = s21imag"
   ]
  },
  {
   "cell_type": "code",
   "execution_count": 19,
   "id": "c75a2cdf",
   "metadata": {},
   "outputs": [
    {
     "data": {
      "text/html": [
       "<div>\n",
       "<style scoped>\n",
       "    .dataframe tbody tr th:only-of-type {\n",
       "        vertical-align: middle;\n",
       "    }\n",
       "\n",
       "    .dataframe tbody tr th {\n",
       "        vertical-align: top;\n",
       "    }\n",
       "\n",
       "    .dataframe thead th {\n",
       "        text-align: right;\n",
       "    }\n",
       "</style>\n",
       "<table border=\"1\" class=\"dataframe\">\n",
       "  <thead>\n",
       "    <tr style=\"text-align: right;\">\n",
       "      <th></th>\n",
       "      <th>Unnamed: 0</th>\n",
       "      <th>S11</th>\n",
       "      <th>S21</th>\n",
       "      <th>S31</th>\n",
       "      <th>20_log_of_mag_S11</th>\n",
       "      <th>20_log_of_mag_S21</th>\n",
       "      <th>20_log_of_mag_S31</th>\n",
       "      <th>degrees_S11</th>\n",
       "      <th>degrees_S21</th>\n",
       "      <th>degrees_S31</th>\n",
       "      <th>Real(S21)</th>\n",
       "      <th>Imag(S21)</th>\n",
       "    </tr>\n",
       "  </thead>\n",
       "  <tbody>\n",
       "    <tr>\n",
       "      <th>0</th>\n",
       "      <td>4.000</td>\n",
       "      <td>(-0.150715637584533-0.0440520722269604j)</td>\n",
       "      <td>(-0.265921720724943+0.951120290009289j)</td>\n",
       "      <td>(-0.000179600494116977-0.000107902729610986j)</td>\n",
       "      <td>-16.080811</td>\n",
       "      <td>-0.108421</td>\n",
       "      <td>-73.575420</td>\n",
       "      <td>-163.707097</td>\n",
       "      <td>105.620349</td>\n",
       "      <td>-149.002844</td>\n",
       "      <td>(-0.265921720724943+0.951120290009289j)</td>\n",
       "      <td>0</td>\n",
       "    </tr>\n",
       "    <tr>\n",
       "      <th>1</th>\n",
       "      <td>4.001</td>\n",
       "      <td>(-0.1507404943050266-0.04400684342809505j)</td>\n",
       "      <td>(-0.2656160761580196+0.9512038460588216j)</td>\n",
       "      <td>(-0.00018082832396914-0.0001085799633726405j)</td>\n",
       "      <td>-16.080193</td>\n",
       "      <td>-0.108437</td>\n",
       "      <td>-73.517523</td>\n",
       "      <td>-163.725481</td>\n",
       "      <td>105.601966</td>\n",
       "      <td>-149.016917</td>\n",
       "      <td>(-0.2656160761580196+0.9512038460588216j)</td>\n",
       "      <td>0</td>\n",
       "    </tr>\n",
       "    <tr>\n",
       "      <th>2</th>\n",
       "      <td>4.002</td>\n",
       "      <td>(-0.1507653325938798-0.04396159389886768j)</td>\n",
       "      <td>(-0.2653103947037496+0.9512873079282215j)</td>\n",
       "      <td>(-0.0001820715304245701-0.0001092656172710401j)</td>\n",
       "      <td>-16.079575</td>\n",
       "      <td>-0.108452</td>\n",
       "      <td>-73.459292</td>\n",
       "      <td>-163.743868</td>\n",
       "      <td>105.583583</td>\n",
       "      <td>-149.030991</td>\n",
       "      <td>(-0.2653103947037496+0.9512873079282215j)</td>\n",
       "      <td>0</td>\n",
       "    </tr>\n",
       "    <tr>\n",
       "      <th>3</th>\n",
       "      <td>4.003</td>\n",
       "      <td>(-0.1507901526763325-0.04391632356469167j)</td>\n",
       "      <td>(-0.265004676154231+0.9513706756307043j)</td>\n",
       "      <td>(-0.0001833304027995912-0.0001099598495627392j)</td>\n",
       "      <td>-16.078958</td>\n",
       "      <td>-0.108468</td>\n",
       "      <td>-73.400723</td>\n",
       "      <td>-163.762258</td>\n",
       "      <td>105.565199</td>\n",
       "      <td>-149.045067</td>\n",
       "      <td>(-0.265004676154231+0.9513706756307043j)</td>\n",
       "      <td>0</td>\n",
       "    </tr>\n",
       "    <tr>\n",
       "      <th>4</th>\n",
       "      <td>4.004</td>\n",
       "      <td>(-0.1508149547835771-0.04387103234859419j)</td>\n",
       "      <td>(-0.2646989202956276+0.9514539491799524j)</td>\n",
       "      <td>(-0.0001846052377128385-0.0001106628224955765j)</td>\n",
       "      <td>-16.078341</td>\n",
       "      <td>-0.108484</td>\n",
       "      <td>-73.341813</td>\n",
       "      <td>-163.780650</td>\n",
       "      <td>105.546815</td>\n",
       "      <td>-149.059143</td>\n",
       "      <td>(-0.2646989202956276+0.9514539491799524j)</td>\n",
       "      <td>0</td>\n",
       "    </tr>\n",
       "    <tr>\n",
       "      <th>...</th>\n",
       "      <td>...</td>\n",
       "      <td>...</td>\n",
       "      <td>...</td>\n",
       "      <td>...</td>\n",
       "      <td>...</td>\n",
       "      <td>...</td>\n",
       "      <td>...</td>\n",
       "      <td>...</td>\n",
       "      <td>...</td>\n",
       "      <td>...</td>\n",
       "      <td>...</td>\n",
       "      <td>...</td>\n",
       "    </tr>\n",
       "    <tr>\n",
       "      <th>4996</th>\n",
       "      <td>8.996</td>\n",
       "      <td>(0.0003328762421412556-0.0006078988568734243j)</td>\n",
       "      <td>(0.9744311258430064+0.2246854119180198j)</td>\n",
       "      <td>(-0.0001595204746241169+0.0001292242924822103j)</td>\n",
       "      <td>-63.184444</td>\n",
       "      <td>-0.000002</td>\n",
       "      <td>-73.752467</td>\n",
       "      <td>-61.295552</td>\n",
       "      <td>12.984383</td>\n",
       "      <td>140.989771</td>\n",
       "      <td>(0.9744311258430064+0.2246854119180198j)</td>\n",
       "      <td>0</td>\n",
       "    </tr>\n",
       "    <tr>\n",
       "      <th>4997</th>\n",
       "      <td>8.997</td>\n",
       "      <td>(0.0003475656248440923-0.0006656734778487295j)</td>\n",
       "      <td>(0.9745050786169553+0.2243642191081729j)</td>\n",
       "      <td>(-0.0001594240001652535+0.0001292102859158748j)</td>\n",
       "      <td>-62.487802</td>\n",
       "      <td>-0.000002</td>\n",
       "      <td>-73.756013</td>\n",
       "      <td>-62.429755</td>\n",
       "      <td>12.965498</td>\n",
       "      <td>140.975855</td>\n",
       "      <td>(0.9745050786169553+0.2243642191081729j)</td>\n",
       "      <td>0</td>\n",
       "    </tr>\n",
       "    <tr>\n",
       "      <th>4998</th>\n",
       "      <td>8.998</td>\n",
       "      <td>(0.0003622173793614306-0.0007234595748343617j)</td>\n",
       "      <td>(0.9745789221949377+0.2240430002453536j)</td>\n",
       "      <td>(-0.00015932776466235+0.0001291964183226254j)</td>\n",
       "      <td>-61.840272</td>\n",
       "      <td>-0.000003</td>\n",
       "      <td>-73.759547</td>\n",
       "      <td>-63.404065</td>\n",
       "      <td>12.946614</td>\n",
       "      <td>140.961939</td>\n",
       "      <td>(0.9745789221949377+0.2240430002453536j)</td>\n",
       "      <td>0</td>\n",
       "    </tr>\n",
       "    <tr>\n",
       "      <th>4999</th>\n",
       "      <td>8.999</td>\n",
       "      <td>(0.0003768314972533458-0.0007812571215823873j)</td>\n",
       "      <td>(0.9746526565665374+0.2237217553676069j)</td>\n",
       "      <td>(-0.0001592317675097378+0.0001291826894756545j)</td>\n",
       "      <td>-61.235716</td>\n",
       "      <td>-0.000003</td>\n",
       "      <td>-73.763071</td>\n",
       "      <td>-64.250131</td>\n",
       "      <td>12.927729</td>\n",
       "      <td>140.948024</td>\n",
       "      <td>(0.9746526565665374+0.2237217553676069j)</td>\n",
       "      <td>0</td>\n",
       "    </tr>\n",
       "    <tr>\n",
       "      <th>5000</th>\n",
       "      <td>9.000</td>\n",
       "      <td>(0.0003914079700968465-0.0008390660918375648j)</td>\n",
       "      <td>(0.9747262817213541+0.2234004845129777j)</td>\n",
       "      <td>(-0.0001591360081041853+0.000129169099149332j)</td>\n",
       "      <td>-60.669016</td>\n",
       "      <td>-0.000004</td>\n",
       "      <td>-73.766584</td>\n",
       "      <td>-64.991866</td>\n",
       "      <td>12.908845</td>\n",
       "      <td>140.934109</td>\n",
       "      <td>(0.9747262817213541+0.2234004845129777j)</td>\n",
       "      <td>0</td>\n",
       "    </tr>\n",
       "  </tbody>\n",
       "</table>\n",
       "<p>5001 rows × 12 columns</p>\n",
       "</div>"
      ],
      "text/plain": [
       "      Unnamed: 0  ... Imag(S21)\n",
       "0          4.000  ...         0\n",
       "1          4.001  ...         0\n",
       "2          4.002  ...         0\n",
       "3          4.003  ...         0\n",
       "4          4.004  ...         0\n",
       "...          ...  ...       ...\n",
       "4996       8.996  ...         0\n",
       "4997       8.997  ...         0\n",
       "4998       8.998  ...         0\n",
       "4999       8.999  ...         0\n",
       "5000       9.000  ...         0\n",
       "\n",
       "[5001 rows x 12 columns]"
      ]
     },
     "execution_count": 19,
     "metadata": {},
     "output_type": "execute_result"
    }
   ],
   "source": [
    "df_s"
   ]
  },
  {
   "cell_type": "code",
   "execution_count": 20,
   "id": "a5b06351-3e2a-4657-940c-8ea6cff4aa86",
   "metadata": {},
   "outputs": [
    {
     "ename": "TypeError",
     "evalue": "no numeric data to plot",
     "output_type": "error",
     "traceback": [
      "\u001b[0;31m---------------------------------------------------------------------------\u001b[0m",
      "\u001b[0;31mTypeError\u001b[0m                                 Traceback (most recent call last)",
      "Cell \u001b[0;32mIn [20], line 4\u001b[0m\n\u001b[1;32m      2\u001b[0m magnitude \u001b[38;5;241m=\u001b[39m plt\u001b[38;5;241m.\u001b[39mfigure(\u001b[38;5;124m'\u001b[39m\u001b[38;5;124mReal S21, Imag S21\u001b[39m\u001b[38;5;124m'\u001b[39m)\n\u001b[1;32m      3\u001b[0m axis \u001b[38;5;241m=\u001b[39m plt\u001b[38;5;241m.\u001b[39mgca() \u001b[38;5;66;03m# Get current axis.\u001b[39;00m\n\u001b[0;32m----> 4\u001b[0m \u001b[43mdf_s\u001b[49m\u001b[43m[\u001b[49m\u001b[38;5;124;43m\"\u001b[39;49m\u001b[38;5;124;43mReal(S21)\u001b[39;49m\u001b[38;5;124;43m\"\u001b[39;49m\u001b[43m]\u001b[49m\u001b[38;5;241;43m.\u001b[39;49m\u001b[43mplot\u001b[49m\u001b[43m(\u001b[49m\u001b[43mkind\u001b[49m\u001b[43m \u001b[49m\u001b[38;5;241;43m=\u001b[39;49m\u001b[43m \u001b[49m\u001b[38;5;124;43m'\u001b[39;49m\u001b[38;5;124;43mline\u001b[39;49m\u001b[38;5;124;43m'\u001b[39;49m\u001b[43m,\u001b[49m\u001b[43m \u001b[49m\u001b[43my\u001b[49m\u001b[38;5;241;43m=\u001b[39;49m\u001b[38;5;124;43m'\u001b[39;49m\u001b[38;5;124;43mReal(S21)\u001b[39;49m\u001b[38;5;124;43m'\u001b[39;49m\u001b[43m,\u001b[49m\u001b[43m \u001b[49m\u001b[43mcolor\u001b[49m\u001b[43m \u001b[49m\u001b[38;5;241;43m=\u001b[39;49m\u001b[43m \u001b[49m\u001b[38;5;124;43m'\u001b[39;49m\u001b[38;5;124;43mgreen\u001b[39;49m\u001b[38;5;124;43m'\u001b[39;49m\u001b[43m,\u001b[49m\u001b[43m \u001b[49m\u001b[43max\u001b[49m\u001b[43m \u001b[49m\u001b[38;5;241;43m=\u001b[39;49m\u001b[43m \u001b[49m\u001b[43maxis\u001b[49m\u001b[43m)\u001b[49m\n\u001b[1;32m      5\u001b[0m df_s[\u001b[38;5;124m\"\u001b[39m\u001b[38;5;124mImag(S21)\u001b[39m\u001b[38;5;124m\"\u001b[39m]\u001b[38;5;241m.\u001b[39mplot(kind \u001b[38;5;241m=\u001b[39m \u001b[38;5;124m'\u001b[39m\u001b[38;5;124mline\u001b[39m\u001b[38;5;124m'\u001b[39m, y\u001b[38;5;241m=\u001b[39m\u001b[38;5;124m'\u001b[39m\u001b[38;5;124mImag(S21)\u001b[39m\u001b[38;5;124m'\u001b[39m, color \u001b[38;5;241m=\u001b[39m \u001b[38;5;124m'\u001b[39m\u001b[38;5;124mblue\u001b[39m\u001b[38;5;124m'\u001b[39m, ax \u001b[38;5;241m=\u001b[39m axis)\n\u001b[1;32m      6\u001b[0m plt\u001b[38;5;241m.\u001b[39mtitle(\u001b[38;5;124mf\u001b[39m\u001b[38;5;124m'\u001b[39m\u001b[38;5;124mS-Parameter Amplitude\u001b[39m\u001b[38;5;124m'\u001b[39m)\n",
      "File \u001b[0;32m~/miniconda3/envs/qiskit_metal/lib/python3.10/site-packages/pandas/plotting/_core.py:1000\u001b[0m, in \u001b[0;36mPlotAccessor.__call__\u001b[0;34m(self, *args, **kwargs)\u001b[0m\n\u001b[1;32m    997\u001b[0m             label_name \u001b[38;5;241m=\u001b[39m label_kw \u001b[38;5;129;01mor\u001b[39;00m data\u001b[38;5;241m.\u001b[39mcolumns\n\u001b[1;32m    998\u001b[0m             data\u001b[38;5;241m.\u001b[39mcolumns \u001b[38;5;241m=\u001b[39m label_name\n\u001b[0;32m-> 1000\u001b[0m \u001b[38;5;28;01mreturn\u001b[39;00m \u001b[43mplot_backend\u001b[49m\u001b[38;5;241;43m.\u001b[39;49m\u001b[43mplot\u001b[49m\u001b[43m(\u001b[49m\u001b[43mdata\u001b[49m\u001b[43m,\u001b[49m\u001b[43m \u001b[49m\u001b[43mkind\u001b[49m\u001b[38;5;241;43m=\u001b[39;49m\u001b[43mkind\u001b[49m\u001b[43m,\u001b[49m\u001b[43m \u001b[49m\u001b[38;5;241;43m*\u001b[39;49m\u001b[38;5;241;43m*\u001b[39;49m\u001b[43mkwargs\u001b[49m\u001b[43m)\u001b[49m\n",
      "File \u001b[0;32m~/miniconda3/envs/qiskit_metal/lib/python3.10/site-packages/pandas/plotting/_matplotlib/__init__.py:71\u001b[0m, in \u001b[0;36mplot\u001b[0;34m(data, kind, **kwargs)\u001b[0m\n\u001b[1;32m     69\u001b[0m         kwargs[\u001b[38;5;124m\"\u001b[39m\u001b[38;5;124max\u001b[39m\u001b[38;5;124m\"\u001b[39m] \u001b[38;5;241m=\u001b[39m \u001b[38;5;28mgetattr\u001b[39m(ax, \u001b[38;5;124m\"\u001b[39m\u001b[38;5;124mleft_ax\u001b[39m\u001b[38;5;124m\"\u001b[39m, ax)\n\u001b[1;32m     70\u001b[0m plot_obj \u001b[38;5;241m=\u001b[39m PLOT_CLASSES[kind](data, \u001b[38;5;241m*\u001b[39m\u001b[38;5;241m*\u001b[39mkwargs)\n\u001b[0;32m---> 71\u001b[0m \u001b[43mplot_obj\u001b[49m\u001b[38;5;241;43m.\u001b[39;49m\u001b[43mgenerate\u001b[49m\u001b[43m(\u001b[49m\u001b[43m)\u001b[49m\n\u001b[1;32m     72\u001b[0m plot_obj\u001b[38;5;241m.\u001b[39mdraw()\n\u001b[1;32m     73\u001b[0m \u001b[38;5;28;01mreturn\u001b[39;00m plot_obj\u001b[38;5;241m.\u001b[39mresult\n",
      "File \u001b[0;32m~/miniconda3/envs/qiskit_metal/lib/python3.10/site-packages/pandas/plotting/_matplotlib/core.py:450\u001b[0m, in \u001b[0;36mMPLPlot.generate\u001b[0;34m(self)\u001b[0m\n\u001b[1;32m    448\u001b[0m \u001b[38;5;28;01mdef\u001b[39;00m \u001b[38;5;21mgenerate\u001b[39m(\u001b[38;5;28mself\u001b[39m) \u001b[38;5;241m-\u001b[39m\u001b[38;5;241m>\u001b[39m \u001b[38;5;28;01mNone\u001b[39;00m:\n\u001b[1;32m    449\u001b[0m     \u001b[38;5;28mself\u001b[39m\u001b[38;5;241m.\u001b[39m_args_adjust()\n\u001b[0;32m--> 450\u001b[0m     \u001b[38;5;28;43mself\u001b[39;49m\u001b[38;5;241;43m.\u001b[39;49m\u001b[43m_compute_plot_data\u001b[49m\u001b[43m(\u001b[49m\u001b[43m)\u001b[49m\n\u001b[1;32m    451\u001b[0m     \u001b[38;5;28mself\u001b[39m\u001b[38;5;241m.\u001b[39m_setup_subplots()\n\u001b[1;32m    452\u001b[0m     \u001b[38;5;28mself\u001b[39m\u001b[38;5;241m.\u001b[39m_make_plot()\n",
      "File \u001b[0;32m~/miniconda3/envs/qiskit_metal/lib/python3.10/site-packages/pandas/plotting/_matplotlib/core.py:635\u001b[0m, in \u001b[0;36mMPLPlot._compute_plot_data\u001b[0;34m(self)\u001b[0m\n\u001b[1;32m    633\u001b[0m \u001b[38;5;66;03m# no non-numeric frames or series allowed\u001b[39;00m\n\u001b[1;32m    634\u001b[0m \u001b[38;5;28;01mif\u001b[39;00m is_empty:\n\u001b[0;32m--> 635\u001b[0m     \u001b[38;5;28;01mraise\u001b[39;00m \u001b[38;5;167;01mTypeError\u001b[39;00m(\u001b[38;5;124m\"\u001b[39m\u001b[38;5;124mno numeric data to plot\u001b[39m\u001b[38;5;124m\"\u001b[39m)\n\u001b[1;32m    637\u001b[0m \u001b[38;5;28mself\u001b[39m\u001b[38;5;241m.\u001b[39mdata \u001b[38;5;241m=\u001b[39m numeric_data\u001b[38;5;241m.\u001b[39mapply(\u001b[38;5;28mself\u001b[39m\u001b[38;5;241m.\u001b[39m_convert_to_ndarray)\n",
      "\u001b[0;31mTypeError\u001b[0m: no numeric data to plot"
     ]
    }
   ],
   "source": [
    "# Reference to current axis.\n",
    "magnitude = plt.figure('Real S21, Imag S21')\n",
    "axis = plt.gca() # Get current axis.\n",
    "df_s.plot(kind = 'line', y='Real(S21)', color = 'green', ax = axis)\n",
    "df_s.plot(kind = 'line', y='Imag(S21)', color = 'blue', ax = axis)\n",
    "plt.title(f'S-Parameter Amplitude')\n",
    "plt.xlabel(f'frequency [GHZ]')\n",
    "plt.ylabel(f're(S22), im(S22) Amp')\n",
    "magnitude.show()"
   ]
  },
  {
   "cell_type": "code",
   "execution_count": 21,
   "id": "2544fb5f-81ae-4f29-a9a2-c60668dc7a57",
   "metadata": {},
   "outputs": [],
   "source": [
    "reals21 = df_s['Real(S21)']\n",
    "imags21 = df_s['Imag(S21)']\n",
    "freqs = np.array(list(reals21.keys())) * 1e9\n",
    "I = np.array(list(reals21.values))\n",
    "Q = np.array(list(imags21.values))"
   ]
  },
  {
   "cell_type": "code",
   "execution_count": 22,
   "id": "247bdf3a-f82a-43db-9f9c-e610d7d4e320",
   "metadata": {},
   "outputs": [
    {
     "ename": "UFuncTypeError",
     "evalue": "ufunc 'add' did not contain a loop with signature matching types (dtype('<U44'), dtype('complex128')) -> None",
     "output_type": "error",
     "traceback": [
      "\u001b[0;31m---------------------------------------------------------------------------\u001b[0m",
      "\u001b[0;31mUFuncTypeError\u001b[0m                            Traceback (most recent call last)",
      "Cell \u001b[0;32mIn [22], line 1\u001b[0m\n\u001b[0;32m----> 1\u001b[0m res \u001b[38;5;241m=\u001b[39m Resonator(f_data\u001b[38;5;241m=\u001b[39mfreqs,z_data\u001b[38;5;241m=\u001b[39m\u001b[43mI\u001b[49m\u001b[43m \u001b[49m\u001b[38;5;241;43m+\u001b[39;49m\u001b[43m \u001b[49m\u001b[38;5;241;43m1\u001b[39;49m\u001b[43mj\u001b[49m\u001b[38;5;241;43m*\u001b[39;49m\u001b[43mQ\u001b[49m)\n",
      "\u001b[0;31mUFuncTypeError\u001b[0m: ufunc 'add' did not contain a loop with signature matching types (dtype('<U44'), dtype('complex128')) -> None"
     ]
    }
   ],
   "source": [
    "res = Resonator(f_data=freqs,z_data=I + 1j*Q)"
   ]
  },
  {
   "cell_type": "code",
   "execution_count": null,
   "id": "d9f1d0b7-c852-41ae-93b3-a92314870758",
   "metadata": {},
   "outputs": [],
   "source": []
  }
 ],
 "metadata": {
  "celltoolbar": "Tags",
  "hide_input": false,
  "kernelspec": {
   "display_name": "Python 3 (ipykernel)",
   "language": "python",
   "name": "python3"
  },
  "language_info": {
   "codemirror_mode": {
    "name": "ipython",
    "version": 3
   },
   "file_extension": ".py",
   "mimetype": "text/x-python",
   "name": "python",
   "nbconvert_exporter": "python",
   "pygments_lexer": "ipython3",
   "version": "3.10.6"
  },
  "toc": {
   "base_numbering": 1,
   "nav_menu": {},
   "number_sections": true,
   "sideBar": false,
   "skip_h1_title": false,
   "title_cell": "Table of Contents",
   "title_sidebar": "Contents",
   "toc_cell": false,
   "toc_position": {},
   "toc_section_display": true,
   "toc_window_display": false
  }
 },
 "nbformat": 4,
 "nbformat_minor": 5
}
