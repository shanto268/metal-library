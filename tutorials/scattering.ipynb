{
 "cells": [
  {
   "cell_type": "markdown",
   "id": "1b236e0a",
   "metadata": {
    "heading_collapsed": true
   },
   "source": [
    "# Sweeps - Impedance, scattering and admittance (Z S Y) matrices"
   ]
  },
  {
   "cell_type": "markdown",
   "id": "ced70c0a",
   "metadata": {
    "hidden": true
   },
   "source": [
    "### Prerequisite\n",
    "You need to have a working local installation of Ansys"
   ]
  },
  {
   "cell_type": "markdown",
   "id": "1b4c0b1a",
   "metadata": {
    "hidden": true
   },
   "source": [
    "## 1. Perform the necessary imports and create a QDesign in Metal first."
   ]
  },
  {
   "cell_type": "code",
   "execution_count": 12,
   "id": "ac34fec5",
   "metadata": {
    "hidden": true
   },
   "outputs": [
    {
     "name": "stdout",
     "output_type": "stream",
     "text": [
      "The autoreload extension is already loaded. To reload it, use:\n",
      "  %reload_ext autoreload\n"
     ]
    }
   ],
   "source": [
    "%load_ext autoreload\n",
    "%autoreload 2"
   ]
  },
  {
   "cell_type": "code",
   "execution_count": 13,
   "id": "8a672f85",
   "metadata": {
    "hidden": true
   },
   "outputs": [],
   "source": [
    "import qiskit_metal as metal\n",
    "from qiskit_metal import designs, draw\n",
    "from qiskit_metal import MetalGUI, Dict, Headings\n",
    "import pyEPR as epr\n",
    "from qiskit_metal.analyses.simulation import ScatteringImpedanceSim"
   ]
  },
  {
   "cell_type": "markdown",
   "id": "5e7b9b1f",
   "metadata": {
    "hidden": true
   },
   "source": [
    "## Create the design in Metal\n",
    " Set up a design of a given dimension.  Create a design by specifying the chip size and open Metal GUI.  Dimensions will be respected in the design rendering.  Note the chip design is centered at origin (0,0)."
   ]
  },
  {
   "cell_type": "code",
   "execution_count": 14,
   "id": "645c9820",
   "metadata": {
    "hidden": true
   },
   "outputs": [],
   "source": [
    "design = designs.DesignPlanar({}, True)\n",
    "design.chips.main.size['size_x'] = '2mm'\n",
    "design.chips.main.size['size_y'] = '2mm'\n",
    "\n",
    "gui = MetalGUI(design)\n",
    "\n",
    "# Perform the necessary imports.\n",
    "from qiskit_metal.qlibrary.couplers.coupled_line_tee import CoupledLineTee\n",
    "from qiskit_metal.qlibrary.tlines.meandered import RouteMeander\n",
    "from qiskit_metal.qlibrary.qubits.transmon_pocket import TransmonPocket\n",
    "from qiskit_metal.qlibrary.tlines.straight_path import RouteStraight\n",
    "from qiskit_metal.qlibrary.terminations.open_to_ground import OpenToGround"
   ]
  },
  {
   "cell_type": "code",
   "execution_count": 15,
   "id": "f9558f23",
   "metadata": {
    "hidden": true
   },
   "outputs": [],
   "source": [
    "# To create plots after geting solution data.\n",
    "import matplotlib.pyplot as plt\n",
    "import numpy as np"
   ]
  },
  {
   "cell_type": "code",
   "execution_count": 16,
   "id": "d2387e31",
   "metadata": {
    "hidden": true
   },
   "outputs": [],
   "source": [
    "# Add 2 transmons to the design.\n",
    "options = dict(\n",
    "    # Some options we want to modify from the deafults\n",
    "    # (see below for defaults)\n",
    "    pad_width='425 um',\n",
    "    pocket_height='650um',\n",
    "    # Adding 4 connectors (see below for defaults)\n",
    "    connection_pads=dict(a=dict(loc_W=+1, loc_H=+1),\n",
    "                         b=dict(loc_W=-1, loc_H=+1, pad_height='30um'),\n",
    "                         c=dict(loc_W=+1, loc_H=-1, pad_width='200um'),\n",
    "                         d=dict(loc_W=-1, loc_H=-1, pad_height='50um')))\n",
    "\n",
    "## Create 2 transmons\n",
    "q1 = TransmonPocket(design,\n",
    "                    'Q1',\n",
    "                    options=dict(pos_x='+1.4mm',\n",
    "                                 pos_y='0mm',\n",
    "                                 orientation='90',\n",
    "                                 **options))\n",
    "q2 = TransmonPocket(design,\n",
    "                    'Q2',\n",
    "                    options=dict(pos_x='-0.6mm',\n",
    "                                 pos_y='0mm',\n",
    "                                 orientation='90',\n",
    "                                 **options))\n",
    "\n",
    "gui.rebuild()\n",
    "gui.autoscale()"
   ]
  },
  {
   "cell_type": "code",
   "execution_count": 17,
   "id": "6f4efad9",
   "metadata": {
    "hidden": true
   },
   "outputs": [],
   "source": [
    "# Add 2 hangers consisting of capacitively coupled transmission lines.\n",
    "TQ1 = CoupledLineTee(design,\n",
    "                     'TQ1',\n",
    "                     options=dict(pos_x='1mm',\n",
    "                                  pos_y='3mm',\n",
    "                                  coupling_length='500um',\n",
    "                                  coupling_space='1um'))\n",
    "TQ2 = CoupledLineTee(design,\n",
    "                     'TQ2',\n",
    "                     options=dict(pos_x='-1mm',\n",
    "                                  pos_y='3mm',\n",
    "                                  coupling_length='500um',\n",
    "                                  coupling_space='1um'))\n",
    "\n",
    "gui.rebuild()\n",
    "gui.autoscale()"
   ]
  },
  {
   "cell_type": "code",
   "execution_count": 18,
   "id": "9291dc36",
   "metadata": {
    "hidden": true
   },
   "outputs": [],
   "source": [
    "# Add 2 meandered CPWs connecting the transmons to the hangers.\n",
    "ops = dict(fillet='90um')\n",
    "design.overwrite_enabled = True\n",
    "\n",
    "options1 = Dict(total_length='8mm',\n",
    "                hfss_wire_bonds=True,\n",
    "                pin_inputs=Dict(start_pin=Dict(component='TQ1',\n",
    "                                               pin='second_end'),\n",
    "                                end_pin=Dict(component='Q1', pin='a')),\n",
    "                lead=Dict(start_straight='0.1mm'),\n",
    "                **ops)\n",
    "\n",
    "options2 = Dict(total_length='9mm',\n",
    "                hfss_wire_bonds=True,\n",
    "                pin_inputs=Dict(start_pin=Dict(component='TQ2',\n",
    "                                               pin='second_end'),\n",
    "                                end_pin=Dict(component='Q2', pin='a')),\n",
    "                lead=Dict(start_straight='0.1mm'),\n",
    "                **ops)\n",
    "\n",
    "meanderQ1 = RouteMeander(design, 'meanderQ1', options=options1)\n",
    "meanderQ2 = RouteMeander(design, 'meanderQ2', options=options2)\n",
    "\n",
    "gui.rebuild()\n",
    "gui.autoscale() "
   ]
  },
  {
   "cell_type": "code",
   "execution_count": 19,
   "id": "2ad7438f",
   "metadata": {
    "hidden": true
   },
   "outputs": [],
   "source": [
    "# Add 2 open to grounds at the ends of the horizontal CPW.\n",
    "otg1 = OpenToGround(design, 'otg1', options=dict(pos_x='3mm', pos_y='3mm'))\n",
    "otg2 = OpenToGround(design,\n",
    "                    'otg2',\n",
    "                    options=dict(pos_x='-3mm', pos_y='3mm', orientation='180'))\n",
    "\n",
    "gui.rebuild()\n",
    "gui.autoscale()\n",
    "\n",
    "# Add 3 straight CPWs that comprise the long horizontal CPW.\n",
    "\n",
    "ops_oR = Dict(hfss_wire_bonds=True,\n",
    "              pin_inputs=Dict(start_pin=Dict(component='TQ1', pin='prime_end'),\n",
    "                              end_pin=Dict(component='otg1', pin='open')))\n",
    "ops_mid = Dict(hfss_wire_bonds=True,\n",
    "               pin_inputs=Dict(start_pin=Dict(component='TQ1',\n",
    "                                              pin='prime_start'),\n",
    "                               end_pin=Dict(component='TQ2', pin='prime_end')))\n",
    "ops_oL = Dict(hfss_wire_bonds=True,\n",
    "              pin_inputs=Dict(start_pin=Dict(component='TQ2',\n",
    "                                             pin='prime_start'),\n",
    "                              end_pin=Dict(component='otg2', pin='open')))\n",
    "\n",
    "cpw_openRight = RouteStraight(design, 'cpw_openRight', options=ops_oR)\n",
    "cpw_middle = RouteStraight(design, 'cpw_middle', options=ops_mid)\n",
    "cpw_openLeft = RouteStraight(design, 'cpw_openLeft', options=ops_oL)\n",
    "\n",
    "gui.rebuild()\n",
    "gui.autoscale()"
   ]
  },
  {
   "cell_type": "code",
   "execution_count": 20,
   "id": "intended-celebration",
   "metadata": {
    "hidden": true,
    "tags": [
     "nbsphinx-thumbnail"
    ]
   },
   "outputs": [
    {
     "data": {
      "image/png": "[encoded data removed]",
      "text/plain": [
       "<IPython.core.display.Image object>"
      ]
     },
     "metadata": {
      "image/png": {
       "width": 500
      }
     },
     "output_type": "display_data"
    }
   ],
   "source": [
    "gui.screenshot()"
   ]
  },
  {
   "cell_type": "markdown",
   "id": "4bfca232",
   "metadata": {
    "hidden": true
   },
   "source": [
    "## 2. Render the qubit from Metal into the HangingResonators design in Ansys. <br>ScatteringImpedanceSim will  open the simulation software. Then will connect, activate the design, add a setup.  \n",
    "\n",
    "Review and update the setup. For driven modal you will need to define not only the simulation convergence parameters, but also the frequency sweep.\n",
    "\n",
    "\n"
   ]
  },
  {
   "cell_type": "code",
   "execution_count": 21,
   "id": "3f302b13",
   "metadata": {
    "hidden": true
   },
   "outputs": [],
   "source": [
    "em1 = ScatteringImpedanceSim(design, \"hfss\")"
   ]
  },
  {
   "cell_type": "markdown",
   "id": "9f02f684-c628-4efb-a82e-129c1323d88e",
   "metadata": {
    "hidden": true
   },
   "source": [
    "Customizable parameters and default values for HFSS (driven  modal):\n",
    "\n",
    "    freq_ghz=5 (simulation frequency)\n",
    "    name=\"Setup\" (setup name)\n",
    "    max_delta_s=0.1 (absolute value of maximum difference in scattering parameter S)\n",
    "    max_passes=10 (maximum number of passes)\n",
    "    min_passes=1 (minimum number of passes)\n",
    "    min_converged=1 (minimum number of converged passes)\n",
    "    pct_refinement=30 (percent refinement)\n",
    "    basis_order=1 (basis order)\n",
    "    vars (global variables to set in the renderer)\n",
    "    sweep_setup (all the parameters of the sweep)\n",
    "    name=\"Sweep\" (name of sweep)\n",
    "    start_ghz=2.0 (starting frequency)\n",
    "    stop_ghz=8.0 (stopping frequency)\n",
    "    count=101 (total number of frequencies)\n",
    "    step_ghz=None (frequency step size)\n",
    "    type=\"Fast\" (type of sweep)\n",
    "    save_fields=False (whether or not to save fields)"
   ]
  },
  {
   "cell_type": "code",
   "execution_count": 22,
   "id": "834584b2",
   "metadata": {
    "hidden": true
   },
   "outputs": [
    {
     "data": {
      "text/plain": [
       "{'name': 'Setup',\n",
       " 'reuse_selected_design': True,\n",
       " 'reuse_setup': True,\n",
       " 'freq_ghz': 5,\n",
       " 'max_delta_s': 0.1,\n",
       " 'max_passes': 10,\n",
       " 'min_passes': 1,\n",
       " 'min_converged': 1,\n",
       " 'pct_refinement': 30,\n",
       " 'basis_order': 1,\n",
       " 'vars': {'Lj': '10 nH', 'Cj': '0 fF'},\n",
       " 'sweep_setup': {'name': 'Sweep',\n",
       "  'start_ghz': 2.0,\n",
       "  'stop_ghz': 8.0,\n",
       "  'count': 101,\n",
       "  'step_ghz': None,\n",
       "  'type': 'Fast',\n",
       "  'save_fields': False}}"
      ]
     },
     "execution_count": 22,
     "metadata": {},
     "output_type": "execute_result"
    }
   ],
   "source": [
    "# To view the values for defaults. \n",
    "em1.setup"
   ]
  },
  {
   "cell_type": "code",
   "execution_count": 23,
   "id": "de6fa174",
   "metadata": {
    "hidden": true
   },
   "outputs": [],
   "source": [
    "em1.setup.name = \"Sweep_DrivenModal_setup\"\n",
    "em1.setup.freq_ghz = 6.0\n",
    "em1.setup.max_delta_s = 0.05\n",
    "em1.setup.max_passes = 12\n",
    "em1.setup.min_passes = 2"
   ]
  },
  {
   "cell_type": "markdown",
   "id": "3d54a538",
   "metadata": {
    "hidden": true
   },
   "source": [
    "\n",
    "Add a frequency sweep to a driven modal setup.<br>\n",
    "From QHFSSRenderer.add_sweep doc_strings.  Please go to doc_strings to get the latest information.  \n",
    "\n",
    "Args:<br>\n",
    "    setup_name (str, optional): Name of driven modal simulation Sweep.\n",
    "                            Defaults to \"Setup\".<br>\n",
    "    start_ghz (float, optional): Starting frequency of sweep in GHz.\n",
    "                            Defaults to 2.0.<br>\n",
    "    stop_ghz (float, optional): Ending frequency of sweep in GHz.\n",
    "                            Defaults to 8.0.<br>\n",
    "    count (int, optional): Total number of frequencies.\n",
    "                            Defaults to 101.<br>\n",
    "    step_ghz (float, optional): Difference between adjacent\n",
    "                            frequencies. Defaults to None.<br>\n",
    "    name (str, optional): Name of sweep. Defaults to \"Sweep\".<br>\n",
    "    type (str, optional): Type of sweep. Defaults to \"Fast\".<br>\n",
    "    save_fields (bool, optional): Whether or not to save fields.\n",
    "                        Defaults to False.<br>\n",
    "                        \n",
    "                        \n",
    "From pyEPR.HfssSetup.insert_sweep(), please go to this method to get the latest documentation.   \n",
    "You should provide either step_ghz or count when inserting an HFSS driven model freq sweep. Do not provide both or neither!"
   ]
  },
  {
   "cell_type": "code",
   "execution_count": 24,
   "id": "9f5f6acd-4809-4455-b2cf-de0fb0c83059",
   "metadata": {
    "hidden": true
   },
   "outputs": [
    {
     "data": {
      "text/plain": [
       "{'name': 'Sweep',\n",
       " 'start_ghz': 2.0,\n",
       " 'stop_ghz': 8.0,\n",
       " 'count': 101,\n",
       " 'step_ghz': None,\n",
       " 'type': 'Fast',\n",
       " 'save_fields': False}"
      ]
     },
     "execution_count": 24,
     "metadata": {},
     "output_type": "execute_result"
    }
   ],
   "source": [
    "# To view the values for defaults. \n",
    "em1.setup.sweep_setup"
   ]
  },
  {
   "cell_type": "code",
   "execution_count": 25,
   "id": "9135df20",
   "metadata": {
    "hidden": true
   },
   "outputs": [
    {
     "data": {
      "text/plain": [
       "{'name': 'Sweep_DrivenModal_setup',\n",
       " 'reuse_selected_design': True,\n",
       " 'reuse_setup': True,\n",
       " 'freq_ghz': 6.0,\n",
       " 'max_delta_s': 0.05,\n",
       " 'max_passes': 12,\n",
       " 'min_passes': 2,\n",
       " 'min_converged': 1,\n",
       " 'pct_refinement': 30,\n",
       " 'basis_order': 1,\n",
       " 'vars': {'Lj': '10 nH', 'Cj': '0 fF'},\n",
       " 'sweep_setup': {'name': 'Sweep_options__dm_sweep',\n",
       "  'start_ghz': 4.0,\n",
       "  'stop_ghz': 9.0,\n",
       "  'count': 5001,\n",
       "  'step_ghz': None,\n",
       "  'type': 'Interpolating',\n",
       "  'save_fields': False}}"
      ]
     },
     "execution_count": 25,
     "metadata": {},
     "output_type": "execute_result"
    }
   ],
   "source": [
    "em1.setup.sweep_setup.name=\"Sweep_options__dm_sweep\"\n",
    "em1.setup.sweep_setup.start_ghz=4.0\n",
    "em1.setup.sweep_setup.stop_ghz=9.0\n",
    "em1.setup.sweep_setup.count=5001\n",
    "em1.setup.sweep_setup.type=\"Interpolating\"\n",
    "\n",
    "\n",
    "em1.setup"
   ]
  },
  {
   "cell_type": "code",
   "execution_count": 26,
   "id": "d00fa8c0",
   "metadata": {
    "hidden": true
   },
   "outputs": [],
   "source": [
    "# Set the buffer width at the edge of the design to be 0.5 mm \n",
    "# in both directions.\n",
    "em1.setup.renderer.options['x_buffer_width_mm'] = 0.5\n",
    "em1.setup.renderer.options['y_buffer_width_mm'] = 0.5"
   ]
  },
  {
   "cell_type": "code",
   "execution_count": 27,
   "id": "ce9dbaa5",
   "metadata": {
    "hidden": true
   },
   "outputs": [],
   "source": [
    "#     qcomp_name (str): A component that contains the option to be swept.\n",
    "#     option_name (str): The option within qcomp_name to sweep.\n",
    "#     option_sweep (list): Each entry in the list is a value for\n",
    "#                 option_name.\n",
    "#     qcomp_render (list): The component to render to simulation.\n",
    "#     open_terminations (list): Identify which kind of pins. Follow the\n",
    "#                 details from renderer QQ3DRenderer.render_design, or\n",
    "#                 QHFSSRenderer.render_design.\n",
    "#     port_list (list): List of tuples of jj's that shouldn't\n",
    "#                     be rendered.  Follow details from\n",
    "#                     renderer in QHFSSRenderer.render_design.\n",
    "#     jj_to_port (list): List of junctions (qcomp, qgeometry_name,\n",
    "#                         impedance, draw_ind) to render as lumped ports\n",
    "#                         or as lumped port in parallel with a sheet\n",
    "#                         inductance.    Follow details from renderer\n",
    "#                         in QHFSSRenderer.render_design.\n",
    "#     ignored_jjs (Union[list,None]): This is not used by all renderers,\n",
    "#                  just hfss.\n",
    "#     design_name(str): Name of design (workspace) to use in project.\n",
    "#     box_plus_buffer(bool): Render the entire chip or create a\n",
    "#                 box_plus_buffer around the components which are rendered.\n"
   ]
  },
  {
   "cell_type": "code",
   "execution_count": 28,
   "id": "80500d37",
   "metadata": {
    "hidden": true
   },
   "outputs": [],
   "source": [
    "\n",
    "design_name= \"Sweep_DrivenModal\"\n",
    "qcomp_render = [] # Means to render everything in qgeometry table.\n",
    "open_terminations = []\n",
    "\n",
    "# Here, pin cpw_openRight_end and cpw_openLeft_end are converted into lumped ports,\n",
    "#           each with an impedance of 50 Ohms. <br>\n",
    "port_list = [('cpw_openRight', 'end', 50),\n",
    "                      ('cpw_openLeft', 'end', 50)]\n",
    "jj_to_port = [('Q1', 'rect_jj', 50, False)]\n",
    "# Neither of the junctions in Q1 or Q2 are rendered.\n",
    "ignored_jjs = [('Q2', 'rect_jj')]\n",
    "box_plus_buffer = True"
   ]
  },
  {
   "cell_type": "code",
   "execution_count": 29,
   "id": "948aa9b4",
   "metadata": {
    "hidden": true,
    "tags": []
   },
   "outputs": [
    {
     "name": "stderr",
     "output_type": "stream",
     "text": [
      "INFO 05:26PM [connect_project]: Connecting to Ansys Desktop API...\n",
      "INFO 05:26PM [load_ansys_project]: \tOpened Ansys App\n",
      "INFO 05:26PM [load_ansys_project]: \tOpened Ansys Desktop v2021.1.0\n",
      "INFO 05:26PM [load_ansys_project]: \tOpened Ansys Project\n",
      "\tFolder:    D:/lfl/Documents/Ansoft/\n",
      "\tProject:   Project25\n",
      "INFO 05:26PM [connect_design]: \tOpened active design\n",
      "\tDesign:    Sweep_DrivenModal_hfss [Solution type: DrivenModal]\n",
      "INFO 05:26PM [get_setup]: \tOpened setup `Setup`  (<class 'pyEPR.ansys.HfssDMSetup'>)\n",
      "INFO 05:26PM [connect]: \tConnected to project \"Project25\" and design \"Sweep_DrivenModal_hfss\" 😀 \n",
      "\n",
      "INFO 05:26PM [connect_design]: \tOpened active design\n",
      "\tDesign:    Sweep_DrivenModal_hfss [Solution type: DrivenModal]\n",
      "INFO 05:27PM [get_setup]: \tOpened setup `Sweep_DrivenModal_setup`  (<class 'pyEPR.ansys.HfssDMSetup'>)\n",
      "INFO 05:27PM [get_setup]: \tOpened setup `Sweep_DrivenModal_setup`  (<class 'pyEPR.ansys.HfssDMSetup'>)\n",
      "INFO 05:27PM [analyze]: Analyzing setup Sweep_DrivenModal_setup : Sweep_options__dm_sweep\n",
      "INFO 05:29PM [connect_design]: \tOpened active design\n",
      "\tDesign:    Sweep_DrivenModal_hfss [Solution type: DrivenModal]\n",
      "INFO 05:30PM [get_setup]: \tOpened setup `Sweep_DrivenModal_setup`  (<class 'pyEPR.ansys.HfssDMSetup'>)\n",
      "INFO 05:30PM [get_setup]: \tOpened setup `Sweep_DrivenModal_setup`  (<class 'pyEPR.ansys.HfssDMSetup'>)\n",
      "INFO 05:30PM [analyze]: Analyzing setup Sweep_DrivenModal_setup : Sweep_options__dm_sweep\n",
      "INFO 05:32PM [connect_design]: \tOpened active design\n",
      "\tDesign:    Sweep_DrivenModal_hfss [Solution type: DrivenModal]\n",
      "INFO 05:33PM [get_setup]: \tOpened setup `Sweep_DrivenModal_setup`  (<class 'pyEPR.ansys.HfssDMSetup'>)\n",
      "INFO 05:33PM [get_setup]: \tOpened setup `Sweep_DrivenModal_setup`  (<class 'pyEPR.ansys.HfssDMSetup'>)\n",
      "INFO 05:33PM [analyze]: Analyzing setup Sweep_DrivenModal_setup : Sweep_options__dm_sweep\n",
      "05:36PM 45s CRITICAL [_qt_message_handler]: line: 0, func: None(), file: None  CRITICAL: QEventDispatcherWin32::wakeUp: Failed to post a message (Not enough quota is available to process this command.)\n",
      "\n"
     ]
    }
   ],
   "source": [
    "#Note: The method will connect to  Ansys simulation, activate_drivenmodal_design(), add_drivenmodal_setup().\n",
    "\n",
    "all_sweeps, return_code = em1.run_sweep(meanderQ1.name,\n",
    "                                        'total_length', \n",
    "                                        ['9mm', '10mm', '11mm'],\n",
    "                                        qcomp_render,\n",
    "                                        open_terminations,\n",
    "                                        design_name=design_name,\n",
    "                                        port_list = port_list,\n",
    "                                        jj_to_port= jj_to_port,\n",
    "                                        ignored_jjs= ignored_jjs,\n",
    "                                        box_plus_buffer=box_plus_buffer\n",
    "                                       )"
   ]
  },
  {
   "cell_type": "markdown",
   "id": "61ee7c0b-c41c-4fde-951b-87bdac17200c",
   "metadata": {
    "heading_collapsed": true,
    "tags": []
   },
   "source": [
    "#Note: Sweep again using the arguments from previous run.  \n",
    "```\n",
    "all_sweeps_6_7_8, return_code = em1.run_sweep(meanderQ1.name,\n",
    "                                        'total_length', \n",
    "                                        ['6.5mm', '7.5mm', '8.5mm']\n",
    "                                       )\n",
    "```"
   ]
  },
  {
   "cell_type": "code",
   "execution_count": 30,
   "id": "c564b8d1",
   "metadata": {
    "hidden": true
   },
   "outputs": [
    {
     "name": "stdout",
     "output_type": "stream",
     "text": [
      "dict_keys(['9mm', '10mm', '11mm'])\n"
     ]
    }
   ],
   "source": [
    "\n",
    "if return_code == 0:\n",
    "    # Each key corresponds to list passed to ['9mm', '8mm', '7mm']\n",
    "    print(all_sweeps.keys())\n",
    "    \n",
    "    # Each key corresponds to list passed to ['6mm', '5mm', '4mm']\n",
    "    # print(all_sweeps_6_7_8.keys())\n",
    "else:\n",
    "    print('Check warning messages to see why all_sweeps is non-zero.')\n"
   ]
  },
  {
   "cell_type": "code",
   "execution_count": 31,
   "id": "6a53f4b2",
   "metadata": {
    "hidden": true
   },
   "outputs": [
    {
     "data": {
      "text/plain": [
       "dict_keys(['option_name', 'variables'])"
      ]
     },
     "execution_count": 31,
     "metadata": {},
     "output_type": "execute_result"
    },
    {
     "name": "stderr",
     "output_type": "stream",
     "text": [
      "05:36PM 45s CRITICAL [_qt_message_handler]: line: 0, func: None(), file: None  CRITICAL: QEventDispatcherWin32::wakeUp: Failed to post a message (Not enough quota is available to process this command.)\n",
      "\n"
     ]
    }
   ],
   "source": [
    "all_sweeps['9mm'].keys()"
   ]
  },
  {
   "cell_type": "code",
   "execution_count": 32,
   "id": "656a0690",
   "metadata": {
    "hidden": true
   },
   "outputs": [
    {
     "data": {
      "text/plain": [
       "{'sim_setup_name': 'Sweep_DrivenModal_setup',\n",
       " 'sweep_name': 'Sweep_options__dm_sweep'}"
      ]
     },
     "execution_count": 32,
     "metadata": {},
     "output_type": "execute_result"
    }
   ],
   "source": [
    "all_sweeps['9mm']['variables']"
   ]
  },
  {
   "cell_type": "code",
   "execution_count": 33,
   "id": "c5697567",
   "metadata": {
    "hidden": true
   },
   "outputs": [
    {
     "data": {
      "text/plain": [
       "'total_length'"
      ]
     },
     "execution_count": 33,
     "metadata": {},
     "output_type": "execute_result"
    },
    {
     "name": "stderr",
     "output_type": "stream",
     "text": [
      "05:36PM 45s CRITICAL [_qt_message_handler]: line: 0, func: None(), file: None  CRITICAL: QEventDispatcherWin32::wakeUp: Failed to post a message (Not enough quota is available to process this command.)\n",
      "\n"
     ]
    }
   ],
   "source": [
    "all_sweeps['9mm']['option_name']\n"
   ]
  },
  {
   "cell_type": "code",
   "execution_count": 34,
   "id": "2a8eb01c",
   "metadata": {
    "hidden": true
   },
   "outputs": [
    {
     "name": "stdout",
     "output_type": "stream",
     "text": [
      "\n",
      "project_name = Project25\n",
      "design_name  = Sweep_DrivenModal_hfss\n",
      "setup_name   = Sweep_DrivenModal_setup\n",
      "\n"
     ]
    }
   ],
   "source": [
    "print(f\"\"\"\n",
    "project_name = {em1.renderer.pinfo.project_name}\n",
    "design_name  = {em1.renderer.pinfo.design_name}\n",
    "setup_name   = {em1.renderer.pinfo.setup_name}\n",
    "\"\"\")"
   ]
  },
  {
   "cell_type": "markdown",
   "id": "cd2002a4",
   "metadata": {
    "hidden": true
   },
   "source": [
    "Note: Results storage is currently being updated to be fully functional with the sweep functionality."
   ]
  },
  {
   "cell_type": "code",
   "execution_count": 35,
   "id": "1ec8f294",
   "metadata": {
    "hidden": true
   },
   "outputs": [
    {
     "data": {
      "text/plain": [
       "(                        Z11                   Z21\n",
       " 4.000   0.000000-11.785487j   0.000000+45.345454j\n",
       " 4.001  -0.000001-11.770034j  -0.000000+45.341317j\n",
       " 4.002  -0.000001-11.754582j  -0.000000+45.337184j\n",
       " 4.003  -0.000002-11.739134j  -0.000000+45.333057j\n",
       " 4.004  -0.000003-11.723687j  -0.000000+45.328936j\n",
       " ...                     ...                   ...\n",
       " 8.996  0.004065+196.717784j  0.005096+198.550566j\n",
       " 8.997  0.003126+197.014078j  0.003921+198.836266j\n",
       " 8.998  0.002136+197.311173j  0.002682+199.122768j\n",
       " 8.999  0.001095+197.609071j  0.001376+199.410074j\n",
       " 9.000 -0.000000+197.907772j -0.000000+199.698186j\n",
       " \n",
       " [5001 rows x 2 columns],\n",
       " <Figure size 1000x600 with 2 Axes>)"
      ]
     },
     "execution_count": 35,
     "metadata": {},
     "output_type": "execute_result"
    },
    {
     "name": "stderr",
     "output_type": "stream",
     "text": [
      "05:36PM 47s CRITICAL [_qt_message_handler]: line: 0, func: None(), file: None  CRITICAL: QEventDispatcherWin32::wakeUp: Failed to post a message (Not enough quota is available to process this command.)\n",
      "\n"
     ]
    }
   ],
   "source": [
    "em1.get_impedance()                # default: ['Z11', 'Z21']"
   ]
  },
  {
   "cell_type": "code",
   "execution_count": 36,
   "id": "1e40ac2a",
   "metadata": {
    "hidden": true
   },
   "outputs": [
    {
     "data": {
      "text/plain": [
       "(                      Y11                 Y21\n",
       " 4.000  0.000000-0.006809j -0.000000-0.023823j\n",
       " 4.001 -0.000000-0.006802j -0.000000-0.023821j\n",
       " 4.002 -0.000000-0.006794j -0.000000-0.023818j\n",
       " 4.003 -0.000000-0.006786j -0.000000-0.023816j\n",
       " 4.004 -0.000000-0.006778j -0.000000-0.023814j\n",
       " ...                   ...                 ...\n",
       " 8.996 -0.000007+0.093233j  0.000007-0.097409j\n",
       " 8.997 -0.000005+0.093372j  0.000006-0.097546j\n",
       " 8.998 -0.000004+0.093512j  0.000004-0.097683j\n",
       " 8.999 -0.000002+0.093652j  0.000002-0.097821j\n",
       " 9.000 -0.000000+0.093793j  0.000000-0.097959j\n",
       " \n",
       " [5001 rows x 2 columns],\n",
       " <Figure size 1000x600 with 2 Axes>)"
      ]
     },
     "execution_count": 36,
     "metadata": {},
     "output_type": "execute_result"
    }
   ],
   "source": [
    "em1.get_admittance()              # default: ['Y11', 'Y21']"
   ]
  },
  {
   "cell_type": "code",
   "execution_count": 37,
   "id": "4640a8c7",
   "metadata": {
    "hidden": true
   },
   "outputs": [
    {
     "data": {
      "text/plain": [
       "(                      S11                 S21                 S31\n",
       " 4.000 -0.129036-0.022905j -0.268185+0.954412j -0.000155-0.000083j\n",
       " 4.001 -0.129056-0.022862j -0.267877+0.954497j -0.000156-0.000083j\n",
       " 4.002 -0.129075-0.022818j -0.267570+0.954581j -0.000157-0.000084j\n",
       " 4.003 -0.129095-0.022775j -0.267263+0.954666j -0.000157-0.000084j\n",
       " 4.004 -0.129114-0.022732j -0.266955+0.954750j -0.000158-0.000084j\n",
       " ...                   ...                 ...                 ...\n",
       " 8.996  0.011046+0.026470j  0.973153+0.228385j -0.000308+0.000332j\n",
       " 8.997  0.011058+0.026428j  0.973229+0.228061j -0.000308+0.000331j\n",
       " 8.998  0.011069+0.026387j  0.973305+0.227736j -0.000307+0.000331j\n",
       " 8.999  0.011081+0.026345j  0.973380+0.227411j -0.000307+0.000331j\n",
       " 9.000  0.011093+0.026304j  0.973456+0.227087j -0.000307+0.000331j\n",
       " \n",
       " [5001 rows x 3 columns],\n",
       " <Figure size 1000x600 with 2 Axes>)"
      ]
     },
     "execution_count": 37,
     "metadata": {},
     "output_type": "execute_result"
    },
    {
     "name": "stderr",
     "output_type": "stream",
     "text": [
      "05:36PM 49s CRITICAL [_qt_message_handler]: line: 0, func: None(), file: None  CRITICAL: QEventDispatcherWin32::wakeUp: Failed to post a message (Not enough quota is available to process this command.)\n",
      "\n"
     ]
    }
   ],
   "source": [
    "em1.get_scattering(['S11', 'S21', 'S31'])          ## default: ['S11', 'S21', 'S22']"
   ]
  },
  {
   "cell_type": "code",
   "execution_count": 38,
   "id": "33a0735c",
   "metadata": {
    "hidden": true
   },
   "outputs": [],
   "source": [
    "dataframe_scattering = em1.get_scattering(['S11', 'S21', 'S31'])\n",
    "df_s = dataframe_scattering[0]"
   ]
  },
  {
   "cell_type": "code",
   "execution_count": 39,
   "id": "a22c8899-7474-40be-b6d2-e3341c0ed4d8",
   "metadata": {
    "hidden": true
   },
   "outputs": [
    {
     "name": "stderr",
     "output_type": "stream",
     "text": [
      "05:36PM 50s CRITICAL [_qt_message_handler]: line: 0, func: None(), file: None  CRITICAL: QEventDispatcherWin32::wakeUp: Failed to post a message (Not enough quota is available to process this command.)\n",
      "\n"
     ]
    }
   ],
   "source": [
    "df_s.to_csv(\"df_s.csv\")"
   ]
  },
  {
   "cell_type": "code",
   "execution_count": 40,
   "id": "936ae979-24ae-452c-9a5c-2e0ddaa16d89",
   "metadata": {
    "hidden": true
   },
   "outputs": [],
   "source": [
    "dataframe_scattering[1]\n",
    "plt.show()"
   ]
  },
  {
   "cell_type": "code",
   "execution_count": 41,
   "id": "929bb804",
   "metadata": {
    "hidden": true
   },
   "outputs": [
    {
     "data": {
      "text/plain": [
       "4.000   -0.000155-0.000083j\n",
       "4.001   -0.000156-0.000083j\n",
       "4.002   -0.000157-0.000084j\n",
       "4.003   -0.000157-0.000084j\n",
       "4.004   -0.000158-0.000084j\n",
       "                ...        \n",
       "8.996   -0.000308+0.000332j\n",
       "8.997   -0.000308+0.000331j\n",
       "8.998   -0.000307+0.000331j\n",
       "8.999   -0.000307+0.000331j\n",
       "9.000   -0.000307+0.000331j\n",
       "Name: S31, Length: 5001, dtype: complex128"
      ]
     },
     "execution_count": 41,
     "metadata": {},
     "output_type": "execute_result"
    },
    {
     "name": "stderr",
     "output_type": "stream",
     "text": [
      "05:36PM 50s CRITICAL [_qt_message_handler]: line: 0, func: None(), file: None  CRITICAL: QEventDispatcherWin32::wakeUp: Failed to post a message (Not enough quota is available to process this command.)\n",
      "\n"
     ]
    }
   ],
   "source": [
    "s11 = df_s['S11']\n",
    "s11\n",
    "\n",
    "s21 = df_s['S21']\n",
    "s21\n",
    "\n",
    "s31 = df_s['S31']\n",
    "s31"
   ]
  },
  {
   "cell_type": "code",
   "execution_count": 42,
   "id": "fe5079dd",
   "metadata": {
    "hidden": true
   },
   "outputs": [
    {
     "data": {
      "text/html": [
       "<div>\n",
       "<style scoped>\n",
       "    .dataframe tbody tr th:only-of-type {\n",
       "        vertical-align: middle;\n",
       "    }\n",
       "\n",
       "    .dataframe tbody tr th {\n",
       "        vertical-align: top;\n",
       "    }\n",
       "\n",
       "    .dataframe thead th {\n",
       "        text-align: right;\n",
       "    }\n",
       "</style>\n",
       "<table border=\"1\" class=\"dataframe\">\n",
       "  <thead>\n",
       "    <tr style=\"text-align: right;\">\n",
       "      <th></th>\n",
       "      <th>S11</th>\n",
       "      <th>S21</th>\n",
       "      <th>S31</th>\n",
       "      <th>20_log_of_mag_S11</th>\n",
       "      <th>20_log_of_mag_S21</th>\n",
       "      <th>20_log_of_mag_S31</th>\n",
       "    </tr>\n",
       "  </thead>\n",
       "  <tbody>\n",
       "    <tr>\n",
       "      <th>4.000</th>\n",
       "      <td>-0.129036-0.022905j</td>\n",
       "      <td>-0.268185+0.954412j</td>\n",
       "      <td>-0.000155-0.000083j</td>\n",
       "      <td>-17.651018</td>\n",
       "      <td>-0.075238</td>\n",
       "      <td>-75.080863</td>\n",
       "    </tr>\n",
       "    <tr>\n",
       "      <th>4.001</th>\n",
       "      <td>-0.129056-0.022862j</td>\n",
       "      <td>-0.267877+0.954497j</td>\n",
       "      <td>-0.000156-0.000083j</td>\n",
       "      <td>-17.650252</td>\n",
       "      <td>-0.075252</td>\n",
       "      <td>-75.046602</td>\n",
       "    </tr>\n",
       "    <tr>\n",
       "      <th>4.002</th>\n",
       "      <td>-0.129075-0.022818j</td>\n",
       "      <td>-0.267570+0.954581j</td>\n",
       "      <td>-0.000157-0.000084j</td>\n",
       "      <td>-17.649487</td>\n",
       "      <td>-0.075265</td>\n",
       "      <td>-75.012236</td>\n",
       "    </tr>\n",
       "    <tr>\n",
       "      <th>4.003</th>\n",
       "      <td>-0.129095-0.022775j</td>\n",
       "      <td>-0.267263+0.954666j</td>\n",
       "      <td>-0.000157-0.000084j</td>\n",
       "      <td>-17.648722</td>\n",
       "      <td>-0.075278</td>\n",
       "      <td>-74.977763</td>\n",
       "    </tr>\n",
       "    <tr>\n",
       "      <th>4.004</th>\n",
       "      <td>-0.129114-0.022732j</td>\n",
       "      <td>-0.266955+0.954750j</td>\n",
       "      <td>-0.000158-0.000084j</td>\n",
       "      <td>-17.647959</td>\n",
       "      <td>-0.075291</td>\n",
       "      <td>-74.943182</td>\n",
       "    </tr>\n",
       "    <tr>\n",
       "      <th>...</th>\n",
       "      <td>...</td>\n",
       "      <td>...</td>\n",
       "      <td>...</td>\n",
       "      <td>...</td>\n",
       "      <td>...</td>\n",
       "      <td>...</td>\n",
       "    </tr>\n",
       "    <tr>\n",
       "      <th>8.996</th>\n",
       "      <td>0.011046+0.026470j</td>\n",
       "      <td>0.973153+0.228385j</td>\n",
       "      <td>-0.000308+0.000332j</td>\n",
       "      <td>-30.847615</td>\n",
       "      <td>-0.003534</td>\n",
       "      <td>-66.882240</td>\n",
       "    </tr>\n",
       "    <tr>\n",
       "      <th>8.997</th>\n",
       "      <td>0.011058+0.026428j</td>\n",
       "      <td>0.973229+0.228061j</td>\n",
       "      <td>-0.000308+0.000331j</td>\n",
       "      <td>-30.857924</td>\n",
       "      <td>-0.003535</td>\n",
       "      <td>-66.891359</td>\n",
       "    </tr>\n",
       "    <tr>\n",
       "      <th>8.998</th>\n",
       "      <td>0.011069+0.026387j</td>\n",
       "      <td>0.973305+0.227736j</td>\n",
       "      <td>-0.000307+0.000331j</td>\n",
       "      <td>-30.868227</td>\n",
       "      <td>-0.003537</td>\n",
       "      <td>-66.900457</td>\n",
       "    </tr>\n",
       "    <tr>\n",
       "      <th>8.999</th>\n",
       "      <td>0.011081+0.026345j</td>\n",
       "      <td>0.973380+0.227411j</td>\n",
       "      <td>-0.000307+0.000331j</td>\n",
       "      <td>-30.878522</td>\n",
       "      <td>-0.003539</td>\n",
       "      <td>-66.909534</td>\n",
       "    </tr>\n",
       "    <tr>\n",
       "      <th>9.000</th>\n",
       "      <td>0.011093+0.026304j</td>\n",
       "      <td>0.973456+0.227087j</td>\n",
       "      <td>-0.000307+0.000331j</td>\n",
       "      <td>-30.888811</td>\n",
       "      <td>-0.003542</td>\n",
       "      <td>-66.918590</td>\n",
       "    </tr>\n",
       "  </tbody>\n",
       "</table>\n",
       "<p>5001 rows × 6 columns</p>\n",
       "</div>"
      ],
      "text/plain": [
       "                      S11                 S21                 S31  \\\n",
       "4.000 -0.129036-0.022905j -0.268185+0.954412j -0.000155-0.000083j   \n",
       "4.001 -0.129056-0.022862j -0.267877+0.954497j -0.000156-0.000083j   \n",
       "4.002 -0.129075-0.022818j -0.267570+0.954581j -0.000157-0.000084j   \n",
       "4.003 -0.129095-0.022775j -0.267263+0.954666j -0.000157-0.000084j   \n",
       "4.004 -0.129114-0.022732j -0.266955+0.954750j -0.000158-0.000084j   \n",
       "...                   ...                 ...                 ...   \n",
       "8.996  0.011046+0.026470j  0.973153+0.228385j -0.000308+0.000332j   \n",
       "8.997  0.011058+0.026428j  0.973229+0.228061j -0.000308+0.000331j   \n",
       "8.998  0.011069+0.026387j  0.973305+0.227736j -0.000307+0.000331j   \n",
       "8.999  0.011081+0.026345j  0.973380+0.227411j -0.000307+0.000331j   \n",
       "9.000  0.011093+0.026304j  0.973456+0.227087j -0.000307+0.000331j   \n",
       "\n",
       "       20_log_of_mag_S11  20_log_of_mag_S21  20_log_of_mag_S31  \n",
       "4.000         -17.651018          -0.075238         -75.080863  \n",
       "4.001         -17.650252          -0.075252         -75.046602  \n",
       "4.002         -17.649487          -0.075265         -75.012236  \n",
       "4.003         -17.648722          -0.075278         -74.977763  \n",
       "4.004         -17.647959          -0.075291         -74.943182  \n",
       "...                  ...                ...                ...  \n",
       "8.996         -30.847615          -0.003534         -66.882240  \n",
       "8.997         -30.857924          -0.003535         -66.891359  \n",
       "8.998         -30.868227          -0.003537         -66.900457  \n",
       "8.999         -30.878522          -0.003539         -66.909534  \n",
       "9.000         -30.888811          -0.003542         -66.918590  \n",
       "\n",
       "[5001 rows x 6 columns]"
      ]
     },
     "execution_count": 42,
     "metadata": {},
     "output_type": "execute_result"
    }
   ],
   "source": [
    "dataframe_scattering[0]['20_log_of_mag_S11']= 20 * np.log10(np.absolute(s11))\n",
    "dataframe_scattering[0]['20_log_of_mag_S21']= 20 * np.log10(np.absolute(s21))\n",
    "dataframe_scattering[0]['20_log_of_mag_S31']= 20 * np.log10(np.absolute(s31))\n",
    "dataframe_scattering[0]"
   ]
  },
  {
   "cell_type": "code",
   "execution_count": 43,
   "id": "9e405022",
   "metadata": {
    "hidden": true
   },
   "outputs": [
    {
     "name": "stderr",
     "output_type": "stream",
     "text": [
      "05:36PM 51s CRITICAL [_qt_message_handler]: line: 0, func: None(), file: None  CRITICAL: QEventDispatcherWin32::wakeUp: Failed to post a message (Not enough quota is available to process this command.)\n",
      "\n"
     ]
    }
   ],
   "source": [
    "# Reference to current axis. \n",
    "magnitude = plt.figure('Magnitude S11, S21, and S31')\n",
    "plt.clf()\n",
    "axis = plt.gca() # Get current axis.\n",
    "dataframe_scattering[0].plot(kind = 'line', y='20_log_of_mag_S11', color = 'green', ax = axis)\n",
    "dataframe_scattering[0].plot(kind = 'line', y='20_log_of_mag_S21', color = 'blue', ax = axis)\n",
    "dataframe_scattering[0].plot(kind = 'line', y='20_log_of_mag_S31', color = 'red', ax = axis)\n",
    "plt.title(f'S-Parameter Magnitude')\n",
    "plt.xlabel(f'frequency [GHZ]')\n",
    "plt.ylabel(f'|S11|,|S21|,|S31| [dB]')\n",
    "magnitude.show()"
   ]
  },
  {
   "cell_type": "code",
   "execution_count": 44,
   "id": "dfd0b543",
   "metadata": {
    "hidden": true
   },
   "outputs": [
    {
     "data": {
      "text/html": [
       "<div>\n",
       "<style scoped>\n",
       "    .dataframe tbody tr th:only-of-type {\n",
       "        vertical-align: middle;\n",
       "    }\n",
       "\n",
       "    .dataframe tbody tr th {\n",
       "        vertical-align: top;\n",
       "    }\n",
       "\n",
       "    .dataframe thead th {\n",
       "        text-align: right;\n",
       "    }\n",
       "</style>\n",
       "<table border=\"1\" class=\"dataframe\">\n",
       "  <thead>\n",
       "    <tr style=\"text-align: right;\">\n",
       "      <th></th>\n",
       "      <th>S11</th>\n",
       "      <th>S21</th>\n",
       "      <th>S31</th>\n",
       "      <th>20_log_of_mag_S11</th>\n",
       "      <th>20_log_of_mag_S21</th>\n",
       "      <th>20_log_of_mag_S31</th>\n",
       "      <th>degrees_S11</th>\n",
       "      <th>degrees_S21</th>\n",
       "      <th>degrees_S31</th>\n",
       "    </tr>\n",
       "  </thead>\n",
       "  <tbody>\n",
       "    <tr>\n",
       "      <th>4.000</th>\n",
       "      <td>-0.129036-0.022905j</td>\n",
       "      <td>-0.268185+0.954412j</td>\n",
       "      <td>-0.000155-0.000083j</td>\n",
       "      <td>-17.651018</td>\n",
       "      <td>-0.075238</td>\n",
       "      <td>-75.080863</td>\n",
       "      <td>-169.934238</td>\n",
       "      <td>105.695093</td>\n",
       "      <td>-151.877316</td>\n",
       "    </tr>\n",
       "    <tr>\n",
       "      <th>4.001</th>\n",
       "      <td>-0.129056-0.022862j</td>\n",
       "      <td>-0.267877+0.954497j</td>\n",
       "      <td>-0.000156-0.000083j</td>\n",
       "      <td>-17.650252</td>\n",
       "      <td>-0.075252</td>\n",
       "      <td>-75.046602</td>\n",
       "      <td>-169.954419</td>\n",
       "      <td>105.676664</td>\n",
       "      <td>-151.892282</td>\n",
       "    </tr>\n",
       "    <tr>\n",
       "      <th>4.002</th>\n",
       "      <td>-0.129075-0.022818j</td>\n",
       "      <td>-0.267570+0.954581j</td>\n",
       "      <td>-0.000157-0.000084j</td>\n",
       "      <td>-17.649487</td>\n",
       "      <td>-0.075265</td>\n",
       "      <td>-75.012236</td>\n",
       "      <td>-169.974600</td>\n",
       "      <td>105.658236</td>\n",
       "      <td>-151.907249</td>\n",
       "    </tr>\n",
       "    <tr>\n",
       "      <th>4.003</th>\n",
       "      <td>-0.129095-0.022775j</td>\n",
       "      <td>-0.267263+0.954666j</td>\n",
       "      <td>-0.000157-0.000084j</td>\n",
       "      <td>-17.648722</td>\n",
       "      <td>-0.075278</td>\n",
       "      <td>-74.977763</td>\n",
       "      <td>-169.994784</td>\n",
       "      <td>105.639807</td>\n",
       "      <td>-151.922216</td>\n",
       "    </tr>\n",
       "    <tr>\n",
       "      <th>4.004</th>\n",
       "      <td>-0.129114-0.022732j</td>\n",
       "      <td>-0.266955+0.954750j</td>\n",
       "      <td>-0.000158-0.000084j</td>\n",
       "      <td>-17.647959</td>\n",
       "      <td>-0.075291</td>\n",
       "      <td>-74.943182</td>\n",
       "      <td>-170.014968</td>\n",
       "      <td>105.621378</td>\n",
       "      <td>-151.937183</td>\n",
       "    </tr>\n",
       "    <tr>\n",
       "      <th>...</th>\n",
       "      <td>...</td>\n",
       "      <td>...</td>\n",
       "      <td>...</td>\n",
       "      <td>...</td>\n",
       "      <td>...</td>\n",
       "      <td>...</td>\n",
       "      <td>...</td>\n",
       "      <td>...</td>\n",
       "      <td>...</td>\n",
       "    </tr>\n",
       "    <tr>\n",
       "      <th>8.996</th>\n",
       "      <td>0.011046+0.026470j</td>\n",
       "      <td>0.973153+0.228385j</td>\n",
       "      <td>-0.000308+0.000332j</td>\n",
       "      <td>-30.847615</td>\n",
       "      <td>-0.003534</td>\n",
       "      <td>-66.882240</td>\n",
       "      <td>67.348506</td>\n",
       "      <td>13.207483</td>\n",
       "      <td>132.915161</td>\n",
       "    </tr>\n",
       "    <tr>\n",
       "      <th>8.997</th>\n",
       "      <td>0.011058+0.026428j</td>\n",
       "      <td>0.973229+0.228061j</td>\n",
       "      <td>-0.000308+0.000331j</td>\n",
       "      <td>-30.857924</td>\n",
       "      <td>-0.003535</td>\n",
       "      <td>-66.891359</td>\n",
       "      <td>67.295087</td>\n",
       "      <td>13.188383</td>\n",
       "      <td>132.899180</td>\n",
       "    </tr>\n",
       "    <tr>\n",
       "      <th>8.998</th>\n",
       "      <td>0.011069+0.026387j</td>\n",
       "      <td>0.973305+0.227736j</td>\n",
       "      <td>-0.000307+0.000331j</td>\n",
       "      <td>-30.868227</td>\n",
       "      <td>-0.003537</td>\n",
       "      <td>-66.900457</td>\n",
       "      <td>67.241562</td>\n",
       "      <td>13.169280</td>\n",
       "      <td>132.883191</td>\n",
       "    </tr>\n",
       "    <tr>\n",
       "      <th>8.999</th>\n",
       "      <td>0.011081+0.026345j</td>\n",
       "      <td>0.973380+0.227411j</td>\n",
       "      <td>-0.000307+0.000331j</td>\n",
       "      <td>-30.878522</td>\n",
       "      <td>-0.003539</td>\n",
       "      <td>-66.909534</td>\n",
       "      <td>67.187927</td>\n",
       "      <td>13.150175</td>\n",
       "      <td>132.867194</td>\n",
       "    </tr>\n",
       "    <tr>\n",
       "      <th>9.000</th>\n",
       "      <td>0.011093+0.026304j</td>\n",
       "      <td>0.973456+0.227087j</td>\n",
       "      <td>-0.000307+0.000331j</td>\n",
       "      <td>-30.888811</td>\n",
       "      <td>-0.003542</td>\n",
       "      <td>-66.918590</td>\n",
       "      <td>67.134182</td>\n",
       "      <td>13.131068</td>\n",
       "      <td>132.851189</td>\n",
       "    </tr>\n",
       "  </tbody>\n",
       "</table>\n",
       "<p>5001 rows × 9 columns</p>\n",
       "</div>"
      ],
      "text/plain": [
       "                      S11                 S21                 S31  \\\n",
       "4.000 -0.129036-0.022905j -0.268185+0.954412j -0.000155-0.000083j   \n",
       "4.001 -0.129056-0.022862j -0.267877+0.954497j -0.000156-0.000083j   \n",
       "4.002 -0.129075-0.022818j -0.267570+0.954581j -0.000157-0.000084j   \n",
       "4.003 -0.129095-0.022775j -0.267263+0.954666j -0.000157-0.000084j   \n",
       "4.004 -0.129114-0.022732j -0.266955+0.954750j -0.000158-0.000084j   \n",
       "...                   ...                 ...                 ...   \n",
       "8.996  0.011046+0.026470j  0.973153+0.228385j -0.000308+0.000332j   \n",
       "8.997  0.011058+0.026428j  0.973229+0.228061j -0.000308+0.000331j   \n",
       "8.998  0.011069+0.026387j  0.973305+0.227736j -0.000307+0.000331j   \n",
       "8.999  0.011081+0.026345j  0.973380+0.227411j -0.000307+0.000331j   \n",
       "9.000  0.011093+0.026304j  0.973456+0.227087j -0.000307+0.000331j   \n",
       "\n",
       "       20_log_of_mag_S11  20_log_of_mag_S21  20_log_of_mag_S31  degrees_S11  \\\n",
       "4.000         -17.651018          -0.075238         -75.080863  -169.934238   \n",
       "4.001         -17.650252          -0.075252         -75.046602  -169.954419   \n",
       "4.002         -17.649487          -0.075265         -75.012236  -169.974600   \n",
       "4.003         -17.648722          -0.075278         -74.977763  -169.994784   \n",
       "4.004         -17.647959          -0.075291         -74.943182  -170.014968   \n",
       "...                  ...                ...                ...          ...   \n",
       "8.996         -30.847615          -0.003534         -66.882240    67.348506   \n",
       "8.997         -30.857924          -0.003535         -66.891359    67.295087   \n",
       "8.998         -30.868227          -0.003537         -66.900457    67.241562   \n",
       "8.999         -30.878522          -0.003539         -66.909534    67.187927   \n",
       "9.000         -30.888811          -0.003542         -66.918590    67.134182   \n",
       "\n",
       "       degrees_S21  degrees_S31  \n",
       "4.000   105.695093  -151.877316  \n",
       "4.001   105.676664  -151.892282  \n",
       "4.002   105.658236  -151.907249  \n",
       "4.003   105.639807  -151.922216  \n",
       "4.004   105.621378  -151.937183  \n",
       "...            ...          ...  \n",
       "8.996    13.207483   132.915161  \n",
       "8.997    13.188383   132.899180  \n",
       "8.998    13.169280   132.883191  \n",
       "8.999    13.150175   132.867194  \n",
       "9.000    13.131068   132.851189  \n",
       "\n",
       "[5001 rows x 9 columns]"
      ]
     },
     "execution_count": 44,
     "metadata": {},
     "output_type": "execute_result"
    }
   ],
   "source": [
    "# Data is shown as degrees.  \n",
    "# However, if you want radians, change value of deg to false, deg=False.\n",
    "dataframe_scattering[0]['degrees_S11'] = np.angle(s11, deg=True)\n",
    "dataframe_scattering[0]['degrees_S21'] = np.angle(s21, deg=True)\n",
    "dataframe_scattering[0]['degrees_S31'] = np.angle(s31, deg=True)\n",
    "dataframe_scattering[0]"
   ]
  },
  {
   "cell_type": "code",
   "execution_count": 45,
   "id": "f8fc9895",
   "metadata": {
    "hidden": true
   },
   "outputs": [
    {
     "name": "stderr",
     "output_type": "stream",
     "text": [
      "05:36PM 51s CRITICAL [_qt_message_handler]: line: 0, func: None(), file: None  CRITICAL: QEventDispatcherWin32::wakeUp: Failed to post a message (Not enough quota is available to process this command.)\n",
      "\n"
     ]
    }
   ],
   "source": [
    "# Reference to current axis. \n",
    "phase = plt.figure('Phase of S11 and S21')\n",
    "plt.clf()\n",
    "axis = plt.gca() # Get current axis.\n",
    "dataframe_scattering[0].plot(kind = 'line', y='degrees_S11', color = 'green', ax = axis)\n",
    "dataframe_scattering[0].plot(kind = 'line', y='degrees_S21', color = 'blue', ax = axis)\n",
    "dataframe_scattering[0].plot(kind = 'line', y='degrees_S31', color = 'red', ax = axis)\n",
    "plt.title(f'S-Parameter Phase')\n",
    "plt.xlabel(f'frequency [GHZ]')\n",
    "plt.ylabel(f'<S11, <S21, <S31 [degrees]')\n",
    "phase.show()"
   ]
  },
  {
   "cell_type": "code",
   "execution_count": 46,
   "id": "7646293c",
   "metadata": {
    "hidden": true,
    "tags": []
   },
   "outputs": [],
   "source": [
    "em1.close()"
   ]
  },
  {
   "cell_type": "code",
   "execution_count": 47,
   "id": "33de9236",
   "metadata": {
    "hidden": true
   },
   "outputs": [
    {
     "name": "stderr",
     "output_type": "stream",
     "text": [
      "05:36PM 52s CRITICAL [_qt_message_handler]: line: 0, func: None(), file: None  CRITICAL: QEventDispatcherWin32::wakeUp: Failed to post a message (Not enough quota is available to process this command.)\n",
      "\n"
     ]
    }
   ],
   "source": [
    "# Uncomment next line if you would like to close the gui\n",
    "# gui.main_window.close()"
   ]
  },
  {
   "cell_type": "markdown",
   "id": "b852d0a6-a86a-45c4-8106-a57d8e0a92ef",
   "metadata": {},
   "source": [
    "# Analysis to Get Kappa"
   ]
  },
  {
   "cell_type": "code",
   "execution_count": 48,
   "id": "2bb11c9f",
   "metadata": {},
   "outputs": [
    {
     "name": "stdout",
     "output_type": "stream",
     "text": [
      "The autoreload extension is already loaded. To reload it, use:\n",
      "  %reload_ext autoreload\n"
     ]
    }
   ],
   "source": [
    "%load_ext autoreload\n",
    "%autoreload 2"
   ]
  },
  {
   "cell_type": "code",
   "execution_count": 49,
   "id": "2b099164",
   "metadata": {},
   "outputs": [
    {
     "name": "stdout",
     "output_type": "stream",
     "text": [
      "Processing c:\\users\\lfl\\metal-library\n",
      "  Preparing metadata (setup.py): started\n",
      "  Preparing metadata (setup.py): finished with status 'done'\n",
      "Building wheels for collected packages: metal-library\n",
      "  Building wheel for metal-library (setup.py): started\n",
      "  Building wheel for metal-library (setup.py): finished with status 'done'\n",
      "  Created wheel for metal-library: filename=metal_library-1.0.0-py3-none-any.whl size=572898 sha256=ce568b66a5ca0a3964c7f830d2f666d7080743400d5bbf7569a865ccf7a7e8e3\n",
      "  Stored in directory: c:\\users\\lfl\\appdata\\local\\pip\\cache\\wheels\\a7\\4a\\9c\\0cfe2ec6c6be710a3e8d71b6156e1c76406fee205810faaa9d\n",
      "Successfully built metal-library\n",
      "Installing collected packages: metal-library\n",
      "  Attempting uninstall: metal-library\n",
      "    Found existing installation: metal-library 1.0.0\n",
      "    Uninstalling metal-library-1.0.0:\n",
      "      Successfully uninstalled metal-library-1.0.0\n",
      "Successfully installed metal-library-1.0.0\n"
     ]
    },
    {
     "name": "stderr",
     "output_type": "stream",
     "text": [
      "05:36PM 57s CRITICAL [_qt_message_handler]: line: 0, func: None(), file: None  CRITICAL: QEventDispatcherWin32::wakeUp: Failed to post a message (Not enough quota is available to process this command.)\n",
      "\n"
     ]
    }
   ],
   "source": [
    "!pip install ../."
   ]
  },
  {
   "cell_type": "code",
   "execution_count": 50,
   "id": "cc475e89-9c53-4c74-8333-9474ccceb374",
   "metadata": {},
   "outputs": [],
   "source": [
    "import pandas as pd\n",
    "import matplotlib.pyplot as plt"
   ]
  },
  {
   "cell_type": "code",
   "execution_count": 51,
   "id": "f34c8e77-9fbd-48ba-a01b-6c8eaa10bcc2",
   "metadata": {},
   "outputs": [
    {
     "name": "stderr",
     "output_type": "stream",
     "text": [
      "05:36PM 57s CRITICAL [_qt_message_handler]: line: 0, func: None(), file: None  CRITICAL: QEventDispatcherWin32::wakeUp: Failed to post a message (Not enough quota is available to process this command.)\n",
      "\n"
     ]
    }
   ],
   "source": [
    "from metal_library.utils.fitTools import Resonator"
   ]
  },
  {
   "cell_type": "code",
   "execution_count": 52,
   "id": "590614b6-cd55-4771-a962-34ad3ef54779",
   "metadata": {},
   "outputs": [],
   "source": [
    "def get_real_and_imag(a_ii):\n",
    "    return a_ii.values.real, a_ii.values.imag\n",
    "\n",
    "s21real, s21imag = get_real_and_imag(df_s['S21'])\n",
    "#y11real, y11imag = get_real_and_imag(df_y['Y11'])\n",
    "\n",
    "\n",
    "dataframe_scattering[0]['Real(S21)'] = s21real\n",
    "dataframe_scattering[0]['Imag(S21)'] = s21imag"
   ]
  },
  {
   "cell_type": "code",
   "execution_count": 53,
   "id": "a5b06351-3e2a-4657-940c-8ea6cff4aa86",
   "metadata": {},
   "outputs": [
    {
     "name": "stderr",
     "output_type": "stream",
     "text": [
      "05:36PM 58s CRITICAL [_qt_message_handler]: line: 0, func: None(), file: None  CRITICAL: QEventDispatcherWin32::wakeUp: Failed to post a message (Not enough quota is available to process this command.)\n",
      "\n"
     ]
    }
   ],
   "source": [
    "# Reference to current axis.\n",
    "magnitude = plt.figure('Real S21, Imag S21')\n",
    "axis = plt.gca() # Get current axis.\n",
    "dataframe_scattering[0].plot(kind = 'line', y='Real(S21)', color = 'green', ax = axis)\n",
    "dataframe_scattering[0].plot(kind = 'line', y='Imag(S21)', color = 'blue', ax = axis)\n",
    "plt.title(f'S-Parameter Amplitude')\n",
    "plt.xlabel(f'frequency [GHZ]')\n",
    "plt.ylabel(f're(S22), im(S22) Amp')\n",
    "magnitude.show()"
   ]
  },
  {
   "cell_type": "code",
   "execution_count": 54,
   "id": "2544fb5f-81ae-4f29-a9a2-c60668dc7a57",
   "metadata": {},
   "outputs": [],
   "source": [
    "reals21 = dataframe_scattering[0]['Real(S21)']\n",
    "imags21 = dataframe_scattering[0]['Imag(S21)']\n",
    "freqs = np.array(list(reals21.keys())) * 1e9\n",
    "I = np.array(list(reals21.values))\n",
    "Q = np.array(list(imags21.values))"
   ]
  },
  {
   "cell_type": "code",
   "execution_count": 61,
   "id": "c7a204dc-47e5-4235-a4ab-0f1502e287c6",
   "metadata": {},
   "outputs": [],
   "source": [
    "%matplotlib inline"
   ]
  },
  {
   "cell_type": "code",
   "execution_count": 82,
   "id": "c2496cea-61d9-4c70-a9bc-30e168d34339",
   "metadata": {},
   "outputs": [],
   "source": [
    "import pandas as pd\n",
    "\n",
    "# Load the CSV file into a DataFrame\n",
    "df = pd.read_csv(\"path/to/your/freqs_I_Q.csv\")\n",
    "\n",
    "# Extract the columns into variables\n",
    "freqs = df['freqs'].to_numpy()\n",
    "I = df['I'].to_numpy()\n",
    "Q = df['Q'].to_numpy()\n"
   ]
  },
  {
   "cell_type": "code",
   "execution_count": 63,
   "id": "c94a9c0b-6e46-49a5-8f21-c899dd9e0a2c",
   "metadata": {},
   "outputs": [
    {
     "data": {
      "image/png": "[encoded data removed]",
      "text/plain": [
       "<Figure size 640x480 with 1 Axes>"
      ]
     },
     "metadata": {},
     "output_type": "display_data"
    }
   ],
   "source": [
    "plt.plot(freqs,I)\n",
    "plt.plot(freqs,Q)\n",
    "plt.show()"
   ]
  },
  {
   "cell_type": "code",
   "execution_count": 71,
   "id": "4453add1-6787-405a-a658-b39ab0e309ba",
   "metadata": {},
   "outputs": [],
   "source": [
    "llim, ulim = 100,500"
   ]
  },
  {
   "cell_type": "code",
   "execution_count": 72,
   "id": "a47a4319-847f-4c43-82bd-20abfd930a9e",
   "metadata": {},
   "outputs": [
    {
     "data": {
      "image/png": "[encoded data removed]",
      "text/plain": [
       "<Figure size 640x480 with 1 Axes>"
      ]
     },
     "metadata": {},
     "output_type": "display_data"
    }
   ],
   "source": [
    "plt.plot(freqs[llim:ulim],I[llim:ulim])\n",
    "plt.plot(freqs[llim:ulim],Q[llim:ulim])\n",
    "plt.show()"
   ]
  },
  {
   "cell_type": "code",
   "execution_count": 79,
   "id": "80c2495d-6776-4021-9bd5-38db671725ef",
   "metadata": {},
   "outputs": [],
   "source": [
    "res = Resonator(f_data=freqs[llim:ulim],z_data=I[llim:ulim] + 1j*Q[llim:ulim])\n"
   ]
  },
  {
   "cell_type": "code",
   "execution_count": 80,
   "id": "d9f1d0b7-c852-41ae-93b3-a92314870758",
   "metadata": {},
   "outputs": [
    {
     "ename": "AttributeError",
     "evalue": "module 'numpy' has no attribute 'int'.\n`np.int` was a deprecated alias for the builtin `int`. To avoid this error in existing code, use `int` by itself. Doing this will not modify any behavior and is safe. When replacing `np.int`, you may wish to use e.g. `np.int64` or `np.int32` to specify the precision. If you wish to review your current use, check the release note link for additional information.\nThe aliases was originally deprecated in NumPy 1.20; for more details and guidance see the original release note at:\n    https://numpy.org/devdocs/release/1.20.0-notes.html#deprecations",
     "output_type": "error",
     "traceback": [
      "\u001b[1;31m---------------------------------------------------------------------------\u001b[0m",
      "\u001b[1;31mAttributeError\u001b[0m                            Traceback (most recent call last)",
      "Cell \u001b[1;32mIn[80], line 1\u001b[0m\n\u001b[1;32m----> 1\u001b[0m \u001b[43mres\u001b[49m\u001b[38;5;241;43m.\u001b[39;49m\u001b[43mautofit\u001b[49m\u001b[43m(\u001b[49m\u001b[43m)\u001b[49m\n",
      "Cell \u001b[1;32mIn[78], line 98\u001b[0m, in \u001b[0;36mResonator.autofit\u001b[1;34m(self, electric_delay, fcrop, force_calibrate)\u001b[0m\n\u001b[0;32m     96\u001b[0m \u001b[38;5;28;01mif\u001b[39;00m \u001b[38;5;28mself\u001b[39m\u001b[38;5;241m.\u001b[39mport_type \u001b[38;5;129;01mis\u001b[39;00m \u001b[38;5;129;01mnot\u001b[39;00m \u001b[38;5;124m'\u001b[39m\u001b[38;5;124mT\u001b[39m\u001b[38;5;124m'\u001b[39m:\n\u001b[0;32m     97\u001b[0m     \u001b[38;5;28;01mif\u001b[39;00m force_calibrate \u001b[38;5;129;01mor\u001b[39;00m \u001b[38;5;129;01mnot\u001b[39;00m \u001b[38;5;28mself\u001b[39m\u001b[38;5;241m.\u001b[39mcalibrated:\n\u001b[1;32m---> 98\u001b[0m         \u001b[38;5;28;43mself\u001b[39;49m\u001b[38;5;241;43m.\u001b[39;49m\u001b[43mdo_calibration\u001b[49m\u001b[43m(\u001b[49m\u001b[43mignore_slope\u001b[49m\u001b[38;5;241;43m=\u001b[39;49m\u001b[38;5;28;43;01mTrue\u001b[39;49;00m\u001b[43m,\u001b[49m\u001b[43mguess_delay\u001b[49m\u001b[38;5;241;43m=\u001b[39;49m\u001b[38;5;28;43;01mTrue\u001b[39;49;00m\u001b[43m,\u001b[49m\n\u001b[0;32m     99\u001b[0m \u001b[43m                            \u001b[49m\u001b[43mfixed_delay\u001b[49m\u001b[38;5;241;43m=\u001b[39;49m\u001b[43melectric_delay\u001b[49m\u001b[43m,\u001b[49m\u001b[43mforce_calibrate\u001b[49m\u001b[38;5;241;43m=\u001b[39;49m\u001b[43mforce_calibrate\u001b[49m\u001b[43m)\u001b[49m\n\u001b[0;32m    101\u001b[0m     \u001b[38;5;66;03m# perform the canonical normalization that rotates the off resonant point to the real axis at +- 1. \u001b[39;00m\n\u001b[0;32m    102\u001b[0m     \u001b[38;5;28mself\u001b[39m\u001b[38;5;241m.\u001b[39mdo_normalization()\n",
      "Cell \u001b[1;32mIn[78], line 216\u001b[0m, in \u001b[0;36mResonator.do_calibration\u001b[1;34m(self, ignore_slope, guess_delay, fixed_delay, force_calibrate)\u001b[0m\n\u001b[0;32m    170\u001b[0m z_data_center \u001b[38;5;241m=\u001b[39m \u001b[38;5;28mself\u001b[39m\u001b[38;5;241m.\u001b[39m_center(z_data,zc)\n\u001b[0;32m    172\u001b[0m \u001b[38;5;66;03m# smooth the phase of centered data\u001b[39;00m\n\u001b[0;32m    173\u001b[0m \u001b[38;5;66;03m#window = round(len(z_data)*0.01)  # Average over 1% of the range\u001b[39;00m\n\u001b[0;32m    174\u001b[0m \u001b[38;5;66;03m#if (window % 2 == 0):\u001b[39;00m\n\u001b[1;32m   (...)\u001b[0m\n\u001b[0;32m    214\u001b[0m \u001b[38;5;66;03m# fit the phase of centered circle. theta is the phase offset\u001b[39;00m\n\u001b[0;32m    215\u001b[0m \u001b[38;5;66;03m#print('pre-estimates are f0: {}, Q: {}'.format(f0_est,Q_est))\u001b[39;00m\n\u001b[1;32m--> 216\u001b[0m theta, \u001b[38;5;28mself\u001b[39m\u001b[38;5;241m.\u001b[39mQ_est, \u001b[38;5;28mself\u001b[39m\u001b[38;5;241m.\u001b[39mf0_est \u001b[38;5;241m=\u001b[39m \u001b[38;5;28;43mself\u001b[39;49m\u001b[38;5;241;43m.\u001b[39;49m\u001b[43m_phase_fit\u001b[49m\u001b[43m(\u001b[49m\u001b[43mf_data\u001b[49m\u001b[43m,\u001b[49m\u001b[43mz_data_center\u001b[49m\u001b[43m,\u001b[49m\u001b[38;5;241;43m0\u001b[39;49m\u001b[43m,\u001b[49m\u001b[43mnp\u001b[49m\u001b[38;5;241;43m.\u001b[39;49m\u001b[43mabsolute\u001b[49m\u001b[43m(\u001b[49m\u001b[43mparams\u001b[49m\u001b[43m[\u001b[49m\u001b[38;5;241;43m5\u001b[39;49m\u001b[43m]\u001b[49m\u001b[43m)\u001b[49m\u001b[43m,\u001b[49m\u001b[43mparams\u001b[49m\u001b[43m[\u001b[49m\u001b[38;5;241;43m4\u001b[39;49m\u001b[43m]\u001b[49m\u001b[43m)\u001b[49m\n\u001b[0;32m    218\u001b[0m \u001b[38;5;66;03m# beta is the negative supplement of theta, it is the angle of the offresonant point relative to center of circle.\u001b[39;00m\n\u001b[0;32m    219\u001b[0m beta \u001b[38;5;241m=\u001b[39m \u001b[38;5;28mself\u001b[39m\u001b[38;5;241m.\u001b[39m_periodic_boundary(theta\u001b[38;5;241m+\u001b[39mnp\u001b[38;5;241m.\u001b[39mpi,np\u001b[38;5;241m.\u001b[39mpi)\n",
      "File \u001b[1;32m~\\.conda\\envs\\qiskit_metal\\Lib\\site-packages\\metal_library\\utils\\fitTools\\circlefit.py:65\u001b[0m, in \u001b[0;36mcirclefit._phase_fit\u001b[1;34m(self, f_data, z_data, theta0, Ql, fr)\u001b[0m\n\u001b[0;32m     63\u001b[0m     \u001b[38;5;28;01mreturn\u001b[39;00m err\n\u001b[0;32m     64\u001b[0m p0 \u001b[38;5;241m=\u001b[39m [theta0, fr]\n\u001b[1;32m---> 65\u001b[0m p_final \u001b[38;5;241m=\u001b[39m \u001b[43mspopt\u001b[49m\u001b[38;5;241;43m.\u001b[39;49m\u001b[43mleastsq\u001b[49m\u001b[43m(\u001b[49m\u001b[38;5;28;43;01mlambda\u001b[39;49;00m\u001b[43m \u001b[49m\u001b[43ma\u001b[49m\u001b[43m,\u001b[49m\u001b[43mb\u001b[49m\u001b[43m,\u001b[49m\u001b[43mc\u001b[49m\u001b[43m:\u001b[49m\u001b[43m \u001b[49m\u001b[43mresiduals_1\u001b[49m\u001b[43m(\u001b[49m\u001b[43ma\u001b[49m\u001b[43m,\u001b[49m\u001b[43mb\u001b[49m\u001b[43m,\u001b[49m\u001b[43mc\u001b[49m\u001b[43m,\u001b[49m\u001b[43mQl\u001b[49m\u001b[43m)\u001b[49m\u001b[43m,\u001b[49m\u001b[43mp0\u001b[49m\u001b[43m,\u001b[49m\u001b[43margs\u001b[49m\u001b[38;5;241;43m=\u001b[39;49m\u001b[43m(\u001b[49m\u001b[43mf_data\u001b[49m\u001b[43m,\u001b[49m\u001b[43mphase\u001b[49m\u001b[43m)\u001b[49m\u001b[43m)\u001b[49m\u001b[38;5;66;03m#,ftol=1e-12,xtol=1e-12)\u001b[39;00m\n\u001b[0;32m     66\u001b[0m theta0, fr \u001b[38;5;241m=\u001b[39m p_final[\u001b[38;5;241m0\u001b[39m]\n\u001b[0;32m     67\u001b[0m p0 \u001b[38;5;241m=\u001b[39m [Ql, fr]\n",
      "File \u001b[1;32m~\\.conda\\envs\\qiskit_metal\\Lib\\site-packages\\scipy\\optimize\\_minpack_py.py:413\u001b[0m, in \u001b[0;36mleastsq\u001b[1;34m(func, x0, args, Dfun, full_output, col_deriv, ftol, xtol, gtol, maxfev, epsfcn, factor, diag)\u001b[0m\n\u001b[0;32m    411\u001b[0m \u001b[38;5;28;01mif\u001b[39;00m \u001b[38;5;129;01mnot\u001b[39;00m \u001b[38;5;28misinstance\u001b[39m(args, \u001b[38;5;28mtuple\u001b[39m):\n\u001b[0;32m    412\u001b[0m     args \u001b[38;5;241m=\u001b[39m (args,)\n\u001b[1;32m--> 413\u001b[0m shape, dtype \u001b[38;5;241m=\u001b[39m \u001b[43m_check_func\u001b[49m\u001b[43m(\u001b[49m\u001b[38;5;124;43m'\u001b[39;49m\u001b[38;5;124;43mleastsq\u001b[39;49m\u001b[38;5;124;43m'\u001b[39;49m\u001b[43m,\u001b[49m\u001b[43m \u001b[49m\u001b[38;5;124;43m'\u001b[39;49m\u001b[38;5;124;43mfunc\u001b[39;49m\u001b[38;5;124;43m'\u001b[39;49m\u001b[43m,\u001b[49m\u001b[43m \u001b[49m\u001b[43mfunc\u001b[49m\u001b[43m,\u001b[49m\u001b[43m \u001b[49m\u001b[43mx0\u001b[49m\u001b[43m,\u001b[49m\u001b[43m \u001b[49m\u001b[43margs\u001b[49m\u001b[43m,\u001b[49m\u001b[43m \u001b[49m\u001b[43mn\u001b[49m\u001b[43m)\u001b[49m\n\u001b[0;32m    414\u001b[0m m \u001b[38;5;241m=\u001b[39m shape[\u001b[38;5;241m0\u001b[39m]\n\u001b[0;32m    416\u001b[0m \u001b[38;5;28;01mif\u001b[39;00m n \u001b[38;5;241m>\u001b[39m m:\n",
      "File \u001b[1;32m~\\.conda\\envs\\qiskit_metal\\Lib\\site-packages\\scipy\\optimize\\_minpack_py.py:26\u001b[0m, in \u001b[0;36m_check_func\u001b[1;34m(checker, argname, thefunc, x0, args, numinputs, output_shape)\u001b[0m\n\u001b[0;32m     24\u001b[0m \u001b[38;5;28;01mdef\u001b[39;00m \u001b[38;5;21m_check_func\u001b[39m(checker, argname, thefunc, x0, args, numinputs,\n\u001b[0;32m     25\u001b[0m                 output_shape\u001b[38;5;241m=\u001b[39m\u001b[38;5;28;01mNone\u001b[39;00m):\n\u001b[1;32m---> 26\u001b[0m     res \u001b[38;5;241m=\u001b[39m atleast_1d(\u001b[43mthefunc\u001b[49m\u001b[43m(\u001b[49m\u001b[38;5;241;43m*\u001b[39;49m\u001b[43m(\u001b[49m\u001b[43m(\u001b[49m\u001b[43mx0\u001b[49m\u001b[43m[\u001b[49m\u001b[43m:\u001b[49m\u001b[43mnuminputs\u001b[49m\u001b[43m]\u001b[49m\u001b[43m,\u001b[49m\u001b[43m)\u001b[49m\u001b[43m \u001b[49m\u001b[38;5;241;43m+\u001b[39;49m\u001b[43m \u001b[49m\u001b[43margs\u001b[49m\u001b[43m)\u001b[49m\u001b[43m)\u001b[49m)\n\u001b[0;32m     27\u001b[0m     \u001b[38;5;28;01mif\u001b[39;00m (output_shape \u001b[38;5;129;01mis\u001b[39;00m \u001b[38;5;129;01mnot\u001b[39;00m \u001b[38;5;28;01mNone\u001b[39;00m) \u001b[38;5;129;01mand\u001b[39;00m (shape(res) \u001b[38;5;241m!=\u001b[39m output_shape):\n\u001b[0;32m     28\u001b[0m         \u001b[38;5;28;01mif\u001b[39;00m (output_shape[\u001b[38;5;241m0\u001b[39m] \u001b[38;5;241m!=\u001b[39m \u001b[38;5;241m1\u001b[39m):\n",
      "File \u001b[1;32m~\\.conda\\envs\\qiskit_metal\\Lib\\site-packages\\metal_library\\utils\\fitTools\\circlefit.py:65\u001b[0m, in \u001b[0;36mcirclefit._phase_fit.<locals>.<lambda>\u001b[1;34m(a, b, c)\u001b[0m\n\u001b[0;32m     63\u001b[0m     \u001b[38;5;28;01mreturn\u001b[39;00m err\n\u001b[0;32m     64\u001b[0m p0 \u001b[38;5;241m=\u001b[39m [theta0, fr]\n\u001b[1;32m---> 65\u001b[0m p_final \u001b[38;5;241m=\u001b[39m spopt\u001b[38;5;241m.\u001b[39mleastsq(\u001b[38;5;28;01mlambda\u001b[39;00m a,b,c: \u001b[43mresiduals_1\u001b[49m\u001b[43m(\u001b[49m\u001b[43ma\u001b[49m\u001b[43m,\u001b[49m\u001b[43mb\u001b[49m\u001b[43m,\u001b[49m\u001b[43mc\u001b[49m\u001b[43m,\u001b[49m\u001b[43mQl\u001b[49m\u001b[43m)\u001b[49m,p0,args\u001b[38;5;241m=\u001b[39m(f_data,phase))\u001b[38;5;66;03m#,ftol=1e-12,xtol=1e-12)\u001b[39;00m\n\u001b[0;32m     66\u001b[0m theta0, fr \u001b[38;5;241m=\u001b[39m p_final[\u001b[38;5;241m0\u001b[39m]\n\u001b[0;32m     67\u001b[0m p0 \u001b[38;5;241m=\u001b[39m [Ql, fr]\n",
      "File \u001b[1;32m~\\.conda\\envs\\qiskit_metal\\Lib\\site-packages\\metal_library\\utils\\fitTools\\circlefit.py:46\u001b[0m, in \u001b[0;36mcirclefit._phase_fit.<locals>.residuals_1\u001b[1;34m(p, x, y, Ql)\u001b[0m\n\u001b[0;32m     44\u001b[0m \u001b[38;5;28;01mdef\u001b[39;00m \u001b[38;5;21mresiduals_1\u001b[39m(p,x,y,Ql):\n\u001b[0;32m     45\u001b[0m     theta0, fr \u001b[38;5;241m=\u001b[39m p\n\u001b[1;32m---> 46\u001b[0m     err \u001b[38;5;241m=\u001b[39m \u001b[38;5;28;43mself\u001b[39;49m\u001b[38;5;241;43m.\u001b[39;49m\u001b[43m_dist\u001b[49m\u001b[43m(\u001b[49m\u001b[43my\u001b[49m\u001b[43m \u001b[49m\u001b[38;5;241;43m-\u001b[39;49m\u001b[43m \u001b[49m\u001b[43m(\u001b[49m\u001b[43mtheta0\u001b[49m\u001b[38;5;241;43m+\u001b[39;49m\u001b[38;5;241;43m2.\u001b[39;49m\u001b[38;5;241;43m*\u001b[39;49m\u001b[43mnp\u001b[49m\u001b[38;5;241;43m.\u001b[39;49m\u001b[43marctan\u001b[49m\u001b[43m(\u001b[49m\u001b[38;5;241;43m2.\u001b[39;49m\u001b[38;5;241;43m*\u001b[39;49m\u001b[43mQl\u001b[49m\u001b[38;5;241;43m*\u001b[39;49m\u001b[43m(\u001b[49m\u001b[38;5;241;43m1.\u001b[39;49m\u001b[38;5;241;43m-\u001b[39;49m\u001b[43mx\u001b[49m\u001b[38;5;241;43m/\u001b[39;49m\u001b[43mfr\u001b[49m\u001b[43m)\u001b[49m\u001b[43m)\u001b[49m\u001b[43m)\u001b[49m\u001b[43m)\u001b[49m\n\u001b[0;32m     47\u001b[0m     \u001b[38;5;28;01mreturn\u001b[39;00m err\n",
      "File \u001b[1;32m~\\.conda\\envs\\qiskit_metal\\Lib\\site-packages\\metal_library\\utils\\fitTools\\circlefit.py:26\u001b[0m, in \u001b[0;36mcirclefit._dist\u001b[1;34m(self, x)\u001b[0m\n\u001b[0;32m     24\u001b[0m \u001b[38;5;28;01mdef\u001b[39;00m \u001b[38;5;21m_dist\u001b[39m(\u001b[38;5;28mself\u001b[39m,x):\n\u001b[0;32m     25\u001b[0m     np\u001b[38;5;241m.\u001b[39mabsolute(x,x)\n\u001b[1;32m---> 26\u001b[0m     c \u001b[38;5;241m=\u001b[39m (x \u001b[38;5;241m>\u001b[39m np\u001b[38;5;241m.\u001b[39mpi)\u001b[38;5;241m.\u001b[39mastype(\u001b[43mnp\u001b[49m\u001b[38;5;241;43m.\u001b[39;49m\u001b[43mint\u001b[49m)\n\u001b[0;32m     27\u001b[0m     \u001b[38;5;28;01mreturn\u001b[39;00m x\u001b[38;5;241m+\u001b[39mc\u001b[38;5;241m*\u001b[39m(\u001b[38;5;241m-\u001b[39m\u001b[38;5;241m2.\u001b[39m\u001b[38;5;241m*\u001b[39mx\u001b[38;5;241m+\u001b[39m\u001b[38;5;241m2.\u001b[39m\u001b[38;5;241m*\u001b[39mnp\u001b[38;5;241m.\u001b[39mpi)\n",
      "File \u001b[1;32m~\\.conda\\envs\\qiskit_metal\\Lib\\site-packages\\numpy\\__init__.py:305\u001b[0m, in \u001b[0;36m__getattr__\u001b[1;34m(attr)\u001b[0m\n\u001b[0;32m    300\u001b[0m     warnings\u001b[38;5;241m.\u001b[39mwarn(\n\u001b[0;32m    301\u001b[0m         \u001b[38;5;124mf\u001b[39m\u001b[38;5;124m\"\u001b[39m\u001b[38;5;124mIn the future `np.\u001b[39m\u001b[38;5;132;01m{\u001b[39;00mattr\u001b[38;5;132;01m}\u001b[39;00m\u001b[38;5;124m` will be defined as the \u001b[39m\u001b[38;5;124m\"\u001b[39m\n\u001b[0;32m    302\u001b[0m         \u001b[38;5;124m\"\u001b[39m\u001b[38;5;124mcorresponding NumPy scalar.\u001b[39m\u001b[38;5;124m\"\u001b[39m, \u001b[38;5;167;01mFutureWarning\u001b[39;00m, stacklevel\u001b[38;5;241m=\u001b[39m\u001b[38;5;241m2\u001b[39m)\n\u001b[0;32m    304\u001b[0m \u001b[38;5;28;01mif\u001b[39;00m attr \u001b[38;5;129;01min\u001b[39;00m __former_attrs__:\n\u001b[1;32m--> 305\u001b[0m     \u001b[38;5;28;01mraise\u001b[39;00m \u001b[38;5;167;01mAttributeError\u001b[39;00m(__former_attrs__[attr])\n\u001b[0;32m    307\u001b[0m \u001b[38;5;66;03m# Importing Tester requires importing all of UnitTest which is not a\u001b[39;00m\n\u001b[0;32m    308\u001b[0m \u001b[38;5;66;03m# cheap import Since it is mainly used in test suits, we lazy import it\u001b[39;00m\n\u001b[0;32m    309\u001b[0m \u001b[38;5;66;03m# here to save on the order of 10 ms of import time for most users\u001b[39;00m\n\u001b[0;32m    310\u001b[0m \u001b[38;5;66;03m#\u001b[39;00m\n\u001b[0;32m    311\u001b[0m \u001b[38;5;66;03m# The previous way Tester was imported also had a side effect of adding\u001b[39;00m\n\u001b[0;32m    312\u001b[0m \u001b[38;5;66;03m# the full `numpy.testing` namespace\u001b[39;00m\n\u001b[0;32m    313\u001b[0m \u001b[38;5;28;01mif\u001b[39;00m attr \u001b[38;5;241m==\u001b[39m \u001b[38;5;124m'\u001b[39m\u001b[38;5;124mtesting\u001b[39m\u001b[38;5;124m'\u001b[39m:\n",
      "\u001b[1;31mAttributeError\u001b[0m: module 'numpy' has no attribute 'int'.\n`np.int` was a deprecated alias for the builtin `int`. To avoid this error in existing code, use `int` by itself. Doing this will not modify any behavior and is safe. When replacing `np.int`, you may wish to use e.g. `np.int64` or `np.int32` to specify the precision. If you wish to review your current use, check the release note link for additional information.\nThe aliases was originally deprecated in NumPy 1.20; for more details and guidance see the original release note at:\n    https://numpy.org/devdocs/release/1.20.0-notes.html#deprecations"
     ]
    }
   ],
   "source": [
    "res.autofit()"
   ]
  },
  {
   "cell_type": "code",
   "execution_count": 78,
   "id": "d2da795e-a335-4d28-9ae2-0e1f9436d9ca",
   "metadata": {},
   "outputs": [
    {
     "name": "stderr",
     "output_type": "stream",
     "text": [
      "WARNING:py.warnings:<>:96: SyntaxWarning: \"is not\" with a literal. Did you mean \"!=\"?\n",
      "\n",
      "WARNING:py.warnings:<>:112: SyntaxWarning: \"is\" with a literal. Did you mean \"==\"?\n",
      "\n",
      "WARNING:py.warnings:<>:117: SyntaxWarning: \"is\" with a literal. Did you mean \"==\"?\n",
      "\n",
      "WARNING:py.warnings:<>:122: SyntaxWarning: \"is\" with a literal. Did you mean \"==\"?\n",
      "\n",
      "WARNING:py.warnings:<>:225: SyntaxWarning: \"is\" with a literal. Did you mean \"==\"?\n",
      "\n",
      "WARNING:py.warnings:<>:326: SyntaxWarning: \"is not\" with a literal. Did you mean \"!=\"?\n",
      "\n",
      "WARNING:py.warnings:<>:359: SyntaxWarning: \"is not\" with a literal. Did you mean \"!=\"?\n",
      "\n",
      "WARNING:py.warnings:<>:362: SyntaxWarning: \"is not\" with a literal. Did you mean \"!=\"?\n",
      "\n",
      "WARNING:py.warnings:<>:367: SyntaxWarning: \"is not\" with a literal. Did you mean \"!=\"?\n",
      "\n",
      "WARNING:py.warnings:<>:528: SyntaxWarning: \"is not\" with a literal. Did you mean \"!=\"?\n",
      "\n",
      "WARNING:py.warnings:<>:535: SyntaxWarning: \"is not\" with a literal. Did you mean \"!=\"?\n",
      "\n",
      "WARNING:py.warnings:<>:96: SyntaxWarning: \"is not\" with a literal. Did you mean \"!=\"?\n",
      "\n",
      "WARNING:py.warnings:<>:112: SyntaxWarning: \"is\" with a literal. Did you mean \"==\"?\n",
      "\n",
      "WARNING:py.warnings:<>:117: SyntaxWarning: \"is\" with a literal. Did you mean \"==\"?\n",
      "\n",
      "WARNING:py.warnings:<>:122: SyntaxWarning: \"is\" with a literal. Did you mean \"==\"?\n",
      "\n",
      "WARNING:py.warnings:<>:225: SyntaxWarning: \"is\" with a literal. Did you mean \"==\"?\n",
      "\n",
      "WARNING:py.warnings:<>:326: SyntaxWarning: \"is not\" with a literal. Did you mean \"!=\"?\n",
      "\n",
      "WARNING:py.warnings:<>:359: SyntaxWarning: \"is not\" with a literal. Did you mean \"!=\"?\n",
      "\n",
      "WARNING:py.warnings:<>:362: SyntaxWarning: \"is not\" with a literal. Did you mean \"!=\"?\n",
      "\n",
      "WARNING:py.warnings:<>:367: SyntaxWarning: \"is not\" with a literal. Did you mean \"!=\"?\n",
      "\n",
      "WARNING:py.warnings:<>:528: SyntaxWarning: \"is not\" with a literal. Did you mean \"!=\"?\n",
      "\n",
      "WARNING:py.warnings:<>:535: SyntaxWarning: \"is not\" with a literal. Did you mean \"!=\"?\n",
      "\n",
      "WARNING:py.warnings:C:\\Users\\lfl\\AppData\\Local\\Temp\\ipykernel_36196\\2840748741.py:96: SyntaxWarning: \"is not\" with a literal. Did you mean \"!=\"?\n",
      "  if self.port_type is not 'T':\n",
      "\n",
      "WARNING:py.warnings:C:\\Users\\lfl\\AppData\\Local\\Temp\\ipykernel_36196\\2840748741.py:112: SyntaxWarning: \"is\" with a literal. Did you mean \"==\"?\n",
      "  if self.port_type is 'R':\n",
      "\n",
      "WARNING:py.warnings:C:\\Users\\lfl\\AppData\\Local\\Temp\\ipykernel_36196\\2840748741.py:117: SyntaxWarning: \"is\" with a literal. Did you mean \"==\"?\n",
      "  elif self.port_type is 'N':\n",
      "\n",
      "WARNING:py.warnings:C:\\Users\\lfl\\AppData\\Local\\Temp\\ipykernel_36196\\2840748741.py:122: SyntaxWarning: \"is\" with a literal. Did you mean \"==\"?\n",
      "  elif self.port_type is 'T':\n",
      "\n",
      "WARNING:py.warnings:C:\\Users\\lfl\\AppData\\Local\\Temp\\ipykernel_36196\\2840748741.py:225: SyntaxWarning: \"is\" with a literal. Did you mean \"==\"?\n",
      "  self.alpha = np.angle(self.offrespoint) if self.port_type is 'N' else self._periodic_boundary(\n",
      "\n",
      "WARNING:py.warnings:C:\\Users\\lfl\\AppData\\Local\\Temp\\ipykernel_36196\\2840748741.py:326: SyntaxWarning: \"is not\" with a literal. Did you mean \"!=\"?\n",
      "  self.phi0_3 = self._periodic_boundary(theta0 + np.pi,np.pi) if self.port_type is not 'R' else theta0\n",
      "\n",
      "WARNING:py.warnings:C:\\Users\\lfl\\AppData\\Local\\Temp\\ipykernel_36196\\2840748741.py:359: SyntaxWarning: \"is not\" with a literal. Did you mean \"!=\"?\n",
      "  p = [fr,absQc,Ql,phi0] if self.port_type is not 'R' else [fr,absQc,Ql]\n",
      "\n",
      "WARNING:py.warnings:C:\\Users\\lfl\\AppData\\Local\\Temp\\ipykernel_36196\\2840748741.py:362: SyntaxWarning: \"is not\" with a literal. Did you mean \"!=\"?\n",
      "  chi_square, cov = self._get_cov_fast_notch(self.f_data,self.z_data,p) if self.port_type is not 'R' else self._get_cov_fast_directrefl(self.f_data,self.z_data,p)\n",
      "\n",
      "WARNING:py.warnings:C:\\Users\\lfl\\AppData\\Local\\Temp\\ipykernel_36196\\2840748741.py:367: SyntaxWarning: \"is not\" with a literal. Did you mean \"!=\"?\n",
      "  if self.port_type is not 'R':\n",
      "\n",
      "WARNING:py.warnings:C:\\Users\\lfl\\AppData\\Local\\Temp\\ipykernel_36196\\2840748741.py:528: SyntaxWarning: \"is not\" with a literal. Did you mean \"!=\"?\n",
      "  snr = (self.amplitude/noise)**2 if self.port_type is not 'T' else (self.amp_trans*self.Q/noise)**2\n",
      "\n",
      "WARNING:py.warnings:C:\\Users\\lfl\\AppData\\Local\\Temp\\ipykernel_36196\\2840748741.py:535: SyntaxWarning: \"is not\" with a literal. Did you mean \"!=\"?\n",
      "  if self.port_type is not 'T':\n",
      "\n"
     ]
    }
   ],
   "source": [
    "# -*- coding: utf-8 -*-\n",
    "\"\"\"\n",
    "A resonator object which fits complex scattering data to the model for direct reflection, direct transmission, or notch\n",
    "type resonators. If desired, one can use high snr data to first calibrate the overall environmental effects such as phase delay and rotation with resonator.add_calibration_data(f_data,z_data). Subsequent data added with resonator.new_data(f_data,z_data) will be normalized by the overall calibration found previously.\n",
    "\n",
    "The circlefit method is adapted from Probst et al. 'Efficient and robust analysis of complex scattering data under noise in microwave resonators' (2015)\n",
    "\n",
    "\"\"\"\n",
    "\n",
    "from metal_library.utils.fitTools.utilities import plotting, save_load, Watt2dBm, dBm2Watt\n",
    "from metal_library.utils.fitTools.circlefit import circlefit\n",
    "from metal_library.utils.fitTools.calibration import calibration\n",
    "\n",
    "from scipy.constants import hbar\n",
    "from scipy.signal import savgol_filter\n",
    "import numpy as np \n",
    "import warnings\n",
    "import scipy.optimize as spopt\n",
    "\n",
    "##\n",
    "## z_data_raw denotes the raw data\n",
    "## z_data denotes the normalized data\n",
    "##\n",
    "\n",
    "class Resonator(circlefit, save_load, plotting, calibration):\n",
    "    \n",
    "    def __init__(self,port_type='reflection',f_data=None, z_data=None):\n",
    "        '''A resonator fitting object. port_type must be a string identifying the type\n",
    "        of resonator geometry as \"reflection\", \"transmission\", or \"notch\"\n",
    "        '''\n",
    "        if type(port_type) is not str:\n",
    "            print('WARNING: port_type provided was not a string. Assuming a reflection geometry.')\n",
    "            self.port_type = 'R'\n",
    "        else:\n",
    "            if port_type.lower()[0] == 'r':\n",
    "                self.port_type = 'R'\n",
    "            elif port_type.lower()[0] == 't':\n",
    "                self.port_type = 'T'\n",
    "            elif port_type.lower()[0] == 'n':\n",
    "                self.port_type = 'N'\n",
    "            else:\n",
    "                print('WARNING: port_type provided could not be understood. Assuming a reflection geometry.')\n",
    "                self.port_type = 'R'\n",
    "        self.z_data = None\n",
    "        self.calibration_data = None\n",
    "        if f_data is not None:\n",
    "            self.f_data = np.array(f_data)\n",
    "        else:\n",
    "            self.f_data = None\n",
    "        if z_data is not None:\n",
    "            self.z_data_raw = np.array(z_data)\n",
    "        else:\n",
    "            self.z_data_raw = None\n",
    "            \n",
    "        # define parameters as nans, update with fit results later\n",
    "        self.f0 = np.nan\n",
    "        self.Q = np.nan\n",
    "        self.Qi = np.nan\n",
    "        self.Qc = np.nan\n",
    "        self.absQc = np.nan\n",
    "        self.kappa = np.nan\n",
    "        self.snr = np.nan\n",
    "        self.diameter = np.nan\n",
    "        self.delay = np.nan\n",
    "        self.ringdown_time = np.nan\n",
    "        self.theta0 = np.nan\n",
    "        self.offrespoint = np.nan\n",
    "        self.alpha = np.nan\n",
    "        self.amp = np.nan\n",
    "        self.phi0 = np.nan\n",
    "        self.Q_est = np.nan\n",
    "        self.f0_est = np.nan\n",
    "        self.P1photon = np.nan\n",
    "        self.amp_trans = np.nan\n",
    "        \n",
    "        self.fit_found = False\n",
    "        self.calibrated = False\n",
    "        self.normalized = False\n",
    "        \n",
    "    def autofit(self,electric_delay=None,fcrop=None,force_calibrate=False):\n",
    "        '''\n",
    "        automatic normalization and fitting.\n",
    "        electric_delay: set the electric delay manually, not recommended.\n",
    "        fcrop = (f1,f2) in GHz: crop the frequency range used for fitting.\n",
    "        calibration of environment effects will be performed if it has not yet been \n",
    "        done or it is forced with the force_calibrate option.\n",
    "        '''\n",
    "        if fcrop is None:\n",
    "            self._fid = np.ones(self.f_data.size,dtype=bool)\n",
    "        else:\n",
    "            f1, f2 = np.array(fcrop) * 1e9\n",
    "            self._fid = np.logical_and(self.f_data>=f1,self.f_data<=f2)\n",
    "        \n",
    "        # There is no extra information to be gained by circlefit or phase fit for transmission resonators,\n",
    "        # so the fit methods are different. Handle notch and resonators first\n",
    "        if self.port_type is not 'T':\n",
    "            if force_calibrate or not self.calibrated:\n",
    "                self.do_calibration(ignore_slope=True,guess_delay=True,\n",
    "                                    fixed_delay=electric_delay,force_calibrate=force_calibrate)\n",
    "            \n",
    "            # perform the canonical normalization that rotates the off resonant point to the real axis at +- 1. \n",
    "            self.do_normalization()\n",
    "        \n",
    "            # run circlefit with the (possibly) cropped, canonically normalized data. \n",
    "            # self.f0_est and self.Q_est used as initial guesses for phasefit\n",
    "            self.circlefit(refine_results=False,calc_errors=True)\n",
    "        else:\n",
    "            self.fit_transmission()\n",
    "        \n",
    "        # generate the fitted model data\n",
    "        if self.fit_found:\n",
    "            if self.port_type is 'R':\n",
    "                self.z_data_sim = self._S11_directrefl(self.f_data,fr=self.f0,Ql=self.Q,Qc=self.Qc,\n",
    "                                                       a=self.amp,alpha=self.alpha,delay=self.delay)\n",
    "                self.z_data_sim_norm = self._S11_directrefl(self.f_data,fr=self.f0,Ql=self.Q,Qc=self.Qc,\n",
    "                                                            a=1.,alpha=0.,delay=0.)\n",
    "            elif self.port_type is 'N':\n",
    "                self.z_data_sim = self._S21_notch(self.f_data,fr=self.f0,Ql=self.Q,Qc=self.absQc,phi=self.phi0,\n",
    "                                                  a=self.amp,alpha=self.alpha,delay=self.delay)\n",
    "                self.z_data_sim_norm = self._S21_notch(self.f_data,fr=self.f0,Ql=self.Q,Qc=self.absQc,phi=self.phi0,\n",
    "                                                            a=1.,alpha=0.,delay=0.)\n",
    "            elif self.port_type is 'T':\n",
    "                self.z_data_sim = self._S21_direct(self.f_data,fr=self.f0,Ql=self.Q,A=self.amp_trans,alpha=self.alpha,\n",
    "                                               delay=self.delay)\n",
    "                self.z_data_sim_norm = self._S21_direct(self.f_data,fr=self.f0,Ql=self.Q,A=self.amp_trans,alpha=0,delay=0)\n",
    "                \n",
    "            self.snr = self.get_snr()\n",
    "        else:\n",
    "            print('The fit could not be found, try cropping the data with autofit(fcrop=(f1 [GHz],f2 [GHz]))')\n",
    "        \n",
    "    def do_calibration(self,ignore_slope=True,guess_delay=True,fixed_delay=None,force_calibrate=False):\n",
    "        '''\n",
    "        performs an automated calibration and tries to determine the prefactors a, alpha, delay\n",
    "        fr, Ql, and a possible slope are extra information, which can be used as start parameters for subsequent fits\n",
    "        see also \"do_normalization\"\n",
    "        the calibration procedure works for transmission line resonators as well\n",
    "        '''\n",
    "        # if no calibration data is present or the force_calibrate option is given, then use the current dataset\n",
    "        if force_calibrate or self.calibration_data is None:\n",
    "            z_data = self.z_data_raw[self._fid]\n",
    "            f_data = self.f_data[self._fid]\n",
    "        else:\n",
    "            z_data = self.calibration_data['z']\n",
    "            f_data = self.calibration_data['f']\n",
    "        \n",
    "        # normalize the complex z data by it's max magnitude\n",
    "        #maxval = np.max(np.absolute(z_data))\n",
    "        #z_data_temp = z_data/maxval\n",
    "        \n",
    "        # fit the electrical delay in the data, unless the delay is provided already.\n",
    "        #if type(fixed_delay) not in (int,float,np.float32,np.float64,np.int):\n",
    "        #    if guess_delay == True:\n",
    "        #        delay = self._guess_delay(f_data,z_data_temp)\n",
    "        #    else:\n",
    "        #        delay=0.\n",
    "        #    self.delay = self._fit_delay(f_data,z_data_temp,delay,maxiter=200)\n",
    "        #else:\n",
    "        #    self.delay = fixed_delay\n",
    "\n",
    "        self.delay,params = self.get_delay(f_data,z_data,ignoreslope=ignore_slope,guess=guess_delay,delay=fixed_delay)\n",
    "            \n",
    "        # remove electrical delay\n",
    "        z_data *= np.exp(2j*np.pi*self.delay*f_data)\n",
    "        \n",
    "        # fit the circle in complex plane\n",
    "        xc, yc, r0 = self._fit_circle(z_data)\n",
    "        zc = complex(xc,yc)\n",
    "        \n",
    "        # center the circle at the complex origin\n",
    "        z_data_center = self._center(z_data,zc)\n",
    "        \n",
    "        # smooth the phase of centered data\n",
    "        #window = round(len(z_data)*0.01)  # Average over 1% of the range\n",
    "        #if (window % 2 == 0):\n",
    "        #    window += 1       # ensure the window has an odd number of points\n",
    "        #window = max(window, 11)\n",
    "        #phase_smoothed = savgol_filter(np.angle(z_data_center), window, 3)\n",
    "        # plot for debugging purposes\n",
    "        #import matplotlib.pyplot as plt\n",
    "        #plt.plot(f_data,phase_smoothed)\n",
    "        #plt.show()\n",
    "        \n",
    "        # estimate the resonant frequency by taking the gradient of phase. \n",
    "        # this estimation method is robust to arbitrary phase offset and branch cuts.\n",
    "        #phase_data = np.angle(z_data_center)\n",
    "        #grad = np.abs(np.gradient(np.sin(phase_data)))\n",
    "        #fr_ind = np.argmax(grad)\n",
    "        #f0_est = f_data[fr_ind]\n",
    "        #print('gradient estimate of f0: {:.3f} GHz'.format(f0_est*1e-9))\n",
    "        #plt.plot(f_data,grad)\n",
    "        #plt.show()\n",
    "        \n",
    "        # estimate the bandwidth with gradient of phase at resonance\n",
    "        #slope = np.gradient(phase_data)[fr_ind]\n",
    "        #Q_est = abs(slope*f0_est/(1000*np.pi))\n",
    "        #print('Q_est = {:.1f}'.format(Q_est))\n",
    "        #bw_ind = np.logical_and(phase_data < (phase_data[fr_ind]+np.pi/2),\n",
    "        #                        phase_data > (phase_data[fr_ind]-np.pi/2))\n",
    "        #bw = f_data[bw_ind]\n",
    "        #Q_est = 2*np.pi*f0_est/(bw[-1]-bw[0])\n",
    "        #print('Q_est is {}'.format(Q_est))\n",
    "        \n",
    "        # estimate the bandwidth from gradient method used above.\n",
    "        #res_id = grad_tan > 1\n",
    "        #if not res_id.any():\n",
    "        #    print('bandwidth estimation failed. Using a standard guess of 30 elements.')\n",
    "        #    start = max(0,fr_ind-15)\n",
    "        #    stop = min(len(res_id),fr_ind+15)\n",
    "        #    res_id[start:stop] = True\n",
    "        #res_f = f_data[res_id]\n",
    "        #Q_est = f_data[fr_ind]/(res_f[-1]-res_f[0])\n",
    "        \n",
    "\n",
    "        # fit the phase of centered circle. theta is the phase offset\n",
    "        #print('pre-estimates are f0: {}, Q: {}'.format(f0_est,Q_est))\n",
    "        theta, self.Q_est, self.f0_est = self._phase_fit(f_data,z_data_center,0,np.absolute(params[5]),params[4])\n",
    "        \n",
    "        # beta is the negative supplement of theta, it is the angle of the offresonant point relative to center of circle.\n",
    "        beta = self._periodic_boundary(theta+np.pi,np.pi)\n",
    "        \n",
    "        # construct the off resonant point from circle center/radius and angle beta\n",
    "        self.offrespoint = complex((xc+r0*np.cos(beta)),(yc+r0*np.sin(beta)))\n",
    "        \n",
    "        # alpha is the phase of offresonant point. it's the angle you must rotate the data so off resonance is purely real.\n",
    "        self.alpha = np.angle(self.offrespoint) if self.port_type is 'N' else self._periodic_boundary(\n",
    "            np.angle(self.offrespoint)+np.pi, np.pi)\n",
    "        \n",
    "        # amp is the magnitude of the off resonant point. this is used to scale the data so off resonance is 1.\n",
    "        self.amp = np.absolute(self.offrespoint)\n",
    "        \n",
    "        # the impedance mismatch can be found as the angle between vectors from offrespoint to origin\n",
    "        # and offrespoint to center of circle. We know the length of both vectors and the length of vector\n",
    "        # from origin to center of circle, so use law of cosines to find this angle.\n",
    "        self.phi0 = -np.arccos((np.absolute(zc**2) - r0**2 - self.amp**2)/(-2*r0*self.amp))\n",
    "        #print('r0: {0:.3f}, zc: {1:.3f}, a: {2:.3f}, phi0: {3:.3f}'.format(r0,np.absolute(zc),a,self.phi0))\n",
    "        \n",
    "        self.calibrated = True\n",
    "        #print('Estimates from cal\\nphi0: {:.3f},f0: {:.3f},Q: {:.1f}'.format(self.phi0,self.f0_est,self.Q_est))\n",
    "        return\n",
    "    \n",
    "    def get_delay(self,f_data,z_data,delay=None,ignoreslope=True,guess=True):\n",
    "        '''\n",
    "        retrieves the cable delay assuming the ideal resonance has a circular shape\n",
    "        modifies the cable delay until the shape Im(S21) vs Re(S21) is circular\n",
    "        see \"do_calibration\"\n",
    "        '''\n",
    "        maxval = np.max(np.absolute(z_data))\n",
    "        z_data = z_data/maxval\n",
    "        A1, A2, A3, A4, fr, Ql = self._fit_skewed_lorentzian(f_data,z_data)\n",
    "        if ignoreslope==True:\n",
    "            A2 = 0.\n",
    "        else:\n",
    "            A2 = 0.\n",
    "            print(\"WARNING: The ignoreslope option is ignored! Corrections to the baseline should be done manually prior to fitting.\")\n",
    "            print(\"see also: resonator_tools.calibration.fit_baseline_amp() etc. for help on fitting the baseline.\")\n",
    "            print(\"There is also an example ipython notebook for using this function.\")\n",
    "            print(\"However, make sure to understand the impact of the baseline (parasitic coupled resonances etc.) on your system.\")\n",
    "            #z_data = (np.absolute(z_data)-A2*(f_data-fr)) * np.exp(np.angle(z_data)*1j)  #usually not necessary\n",
    "        if delay is None:\n",
    "            if guess==True:\n",
    "                delay = self._guess_delay(f_data,z_data)\n",
    "                #print('guessed delay is {}'.format(delay))\n",
    "            else:\n",
    "                delay=0.\n",
    "            delay = self._fit_delay(f_data,z_data,delay,maxiter=200)\n",
    "        params = [A1, A2, A3, A4, fr, Ql]\n",
    "        return delay, params\n",
    "        \n",
    "    def do_normalization(self):\n",
    "        '''\n",
    "        removes the prefactors a, alpha, delay and returns the calibrated data, see also \"do_calibration\"\n",
    "        '''\n",
    "        if not self.calibrated:\n",
    "            print('WARNING: calibration must be performed first by calling Resonator.do_calibration() or Resonator.fit()')\n",
    "            print('Aborting normalization.')\n",
    "            self.normalized = False\n",
    "        else:\n",
    "            self.z_data = self.z_data_raw*np.exp(1j*(-self.alpha+2.*np.pi*self.delay*self.f_data))/self.amp\n",
    "            self.normalized = True\n",
    "        return\n",
    "        \n",
    "    def circlefit(self,refine_results=False,calc_errors=True):\n",
    "        '''\n",
    "        performs a circle fit on a frequency vs. complex resonator scattering data set\n",
    "        Data has to be normalized!!\n",
    "        INPUT:\n",
    "        f_data,z_data: input data (frequency, complex scattering data)\n",
    "        OUTPUT:\n",
    "        no direct output, but fit parameters are saved as class variables accesible elsewhere.\n",
    "        for details, see:\n",
    "            [1] (not diameter corrected) Jiansong Gao, \"The Physics of Superconducting Microwave Resonators\" (PhD Thesis), Appendix E, California Institute of Technology, (2008)\n",
    "            [2] (diameter corrected) M. S. Khalil, et. al., J. Appl. Phys. 111, 054510 (2012)\n",
    "            [3] (fitting techniques) N. CHERNOV AND C. LESORT, \"Least Squares Fitting of Circles\", Journal of Mathematical Imaging and Vision 23, 239, (2005)\n",
    "            [4] (further fitting techniques) P. J. Petersan, S. M. Anlage, J. Appl. Phys, 84, 3392 (1998)\n",
    "            [5] Probst et al. Efficient and robust analysis of complex scattering data under noise in microwave resonators' (2015)\n",
    "        the program fits the circle with the algebraic technique described in [3], the rest of the fitting is done with the scipy.optimize least square fitting toolbox\n",
    "        '''\n",
    "        \n",
    "        # make sure the data has been calibrated and normalized.\n",
    "        if not self.calibrated:\n",
    "            print('WARNING: calibration must be performed first by calling Resonator.do_calibration() or Resonator.fit()')\n",
    "            print('Aborting circlefit.')\n",
    "            return\n",
    "        if not self.normalized:\n",
    "            print('WARNING: normalization must be performed first by calling Resonator.do_normalization() or Resonator.fit()')\n",
    "            print('Aborting circlefit.')\n",
    "            return\n",
    "        \n",
    "        # fit the circle in complex plane\n",
    "        xc, yc, r0 = self._fit_circle(self.z_data,refine_results=refine_results)\n",
    "        \n",
    "        # since the data has already been normalized, offrespoint lies at 1 on the real axis and a \n",
    "        # right triangle is formed with between circle center, offrespoint, and real axis. \n",
    "        # then the impedance mismatch angle can be found again as below:\n",
    "        self.phi0_2 = -np.arcsin(yc/r0)\n",
    "        \n",
    "        # estimate the phase offset as supplement to impdance mismatch, assuming that the circle will be centered at origin\n",
    "        theta0 = self._periodic_boundary(self.phi0+np.pi,np.pi)\n",
    "        z_data_center = self._center(self.z_data,complex(xc,yc))\n",
    "        \n",
    "        # iteratively fit the phase of centered data\n",
    "        theta0, Ql, fr = self._phase_fit(self.f_data,z_data_center,theta0,self.Q_est,self.f0_est)\n",
    "        #print('phase fit results\\ntheta0: {:.2f},Q: {:.1f},f0: {:.3f}'.format(theta0,Ql,fr))\n",
    "        \n",
    "        # once again, impedance mismatch phi0 is supplement to phase offset in the centered, normalized frame\n",
    "        self.phi0_3 = self._periodic_boundary(theta0 + np.pi,np.pi) if self.port_type is not 'R' else theta0\n",
    "        # let's just take the average of the three ways of finding this thing and make sure they don't disagree by much:\n",
    "        lphi0 = [abs(self.phi0),abs(self.phi0_2),abs(self.phi0_3)]\n",
    "        #print('the phi estimates:{}'.format(lphi0))\n",
    "        if np.std(lphi0) > 1e-8:\n",
    "            #print('the phi estimates:{}'.format(lphi0))\n",
    "            #print('Disagreement in impedance mismatch. Using value from canonical position.')\n",
    "            phi0 = self.phi0_2\n",
    "        else:\n",
    "            phi0 = -np.mean(lphi0)\n",
    "        \n",
    "        # now solve for the quality factors depending on port type\n",
    "        cosphi = np.cos(phi0)\n",
    "        if self.port_type == 'R':\n",
    "            absQc = Ql/r0\n",
    "            Qc = Ql/(r0*cosphi)\n",
    "            Qi = Ql/(1-r0*cosphi)\n",
    "        else:\n",
    "            absQc = Ql/(2*r0)\n",
    "            Qc = Ql/(2*r0*cosphi)\n",
    "            Qi = Ql/(1-2*r0*cosphi)\n",
    "        #print('Qi: {:.1f}'.format(Qi))\n",
    "        \n",
    "        #complQc = absQc*np.exp(1j*((-1.)*phi0))\n",
    "        #Qc = 1./(1./complQc).real\t# here, taking the real part of (1/complQc) from diameter correction method\n",
    "        #Qi_dia_corr = 1./(1./Ql-1./Qc)\n",
    "        #Qi_no_corr = 1./(1./Ql-1./absQc)\n",
    "        #Qc = Ql/(2*r0*np.cos(phi0)) # this is the real part of complex Qc\n",
    "        #Qi_dia_corr = Ql/(1-2*r0*np.cos(phi0)) # this is with diameter correction\n",
    "        #Qi_no_corr = Ql/(1-2*r0) # without diameter correction\n",
    "\n",
    "        # calculation of the error\n",
    "        \n",
    "        p = [fr,absQc,Ql,phi0] if self.port_type is not 'R' else [fr,absQc,Ql]\n",
    "        #chi_square, errors = rt.get_errors(rt.residuals_notch_ideal,f_data,z_data,p)\n",
    "        if calc_errors==True:\n",
    "            chi_square, cov = self._get_cov_fast_notch(self.f_data,self.z_data,p) if self.port_type is not 'R' else self._get_cov_fast_directrefl(self.f_data,self.z_data,p)\n",
    "            #chi_square, cov = rt.get_cov(rt.residuals_notch_ideal,f_data,z_data,p)\n",
    "        \n",
    "            if cov is not None:\n",
    "                errors = np.sqrt(np.diagonal(cov))\n",
    "                if self.port_type is not 'R':\n",
    "                    fr_err,Qc_err,Ql_err,phi0_err = errors\n",
    "                    #calc Qi dia corr with error prop\n",
    "                    dQl = 1/((1/Ql-np.cos(phi0)/absQc)**2 *Ql**2)\n",
    "                    dabsQc = -np.cos(phi0)/((1/Ql-np.cos(phi0)/absQc)**2 *absQc**2)\n",
    "                    dphi0 = -np.sin(phi0)/((1/Ql-np.cos(phi0)/absQc)**2 *absQc)\n",
    "                    ##err1 = ( (dQl*cov[2][2])**2 + (dabsQc*cov[1][1])**2 + (dphi0*cov[3][3])**2 )\n",
    "                    err1 = ( (dQl**2*cov[2][2]) + (dabsQc**2*cov[1][1]) + (dphi0**2*cov[3][3]) )\n",
    "                    err2 = ( dQl*dabsQc*cov[2][1] + dQl*dphi0*cov[2][3] + dabsQc*dphi0*cov[1][3] )\n",
    "                    Qi_err =  np.sqrt(err1+2*err2)\t # including correlations\n",
    "                else:\n",
    "                    fr_err,Qc_err,Ql_err = errors\n",
    "                    #calc Qi with error prop (sum the squares of the variances and covariaces)\n",
    "                    dQl = 1./((1./Ql-1./absQc)**2*Ql**2)\n",
    "                    dQc = - 1./((1./Ql-1./absQc)**2*absQc**2)\n",
    "                    Qi_err = np.sqrt((dQl**2*cov[2][2]) + (dQc**2*cov[1][1])+(2*dQl*dQc*cov[2][1]))\t #with correlations\n",
    "\n",
    "                # call the fit good if there's less that 20% error in the 3 parameters we care most about\n",
    "                errors = np.array([fr_err,Qc_err,Ql_err])\n",
    "                params = np.array([fr,absQc,Ql])\n",
    "                fits_are_good = np.abs(errors/params) < 0.3 \n",
    "                if all(fits_are_good):\n",
    "                    self.fit_found = True\n",
    "                else:\n",
    "                    print('fit error = {}'.format(errors/params))\n",
    "                    self.fit_found = False\n",
    "\n",
    "            else:\n",
    "                print(\"WARNING: Error calculation failed!\")\n",
    "                self.fit_found = False\n",
    "        else:\n",
    "            #just calc chisquared:\n",
    "            fun2 = lambda x: self._residuals_notch_ideal(x,f_data,z_data)**2\n",
    "            chi_square = 1./float(len(f_data)-len(p)) * (fun2(p)).sum()\n",
    "            if chi_square > 0.85:\n",
    "                self.fit_found = True\n",
    "            else:\n",
    "                self.fit_found = False\n",
    "\n",
    "        # update variables if the fit was good.\n",
    "        if self.fit_found:\n",
    "            self.f0 = fr\n",
    "            self.Q = Ql\n",
    "            self.Qi = Qi\n",
    "            self.Qc = Qc\n",
    "            self.absQc = absQc\n",
    "            self.phi0 = phi0\n",
    "            self.theta0 = theta0\n",
    "            self.kappa = 2*np.pi*fr/Ql\n",
    "            self.diameter = 2*r0\n",
    "            self.amplitude = 2*r0*cosphi\n",
    "            self.ringdown_time = (np.log(2)/np.pi) * self.Q / self.f0\n",
    "            self.theta0 = theta0\n",
    "            self.P1photon = self.get_single_photon_limit()\n",
    "            \n",
    "    def fit_transmission(self):\n",
    "        '''\n",
    "        A method for fitting the direct transmission resonance. This one is tricky.\n",
    "        The ideal transmission resonator has |S21|^2 = Lorentzian, with off resonance ~= zero.\n",
    "        However, simply trying to fit the amplitude squared data to a lorentzian does not work well\n",
    "        because the noise away from resonance is no longer centered about zero, but some small positive offset.\n",
    "        The positive offset applied only to the tails around the resonance makes curve fitting methods fail.\n",
    "        To get around this, we use the circle fit method to remove electrical delay, center complex data, and fit\n",
    "        the phase response. This provides us with the resonant frequency and quality factor. After that, we can use\n",
    "        f0 and Q to properly fit the amplitude^2 to the lorentzian model in a restricted subset of the data where\n",
    "        noise does not skew the result.\n",
    "        '''\n",
    "        #import matplotlib.pyplot as plt\n",
    "        # we'll fit |S21|^2 to a lorentzian\n",
    "        ampsqr = (np.absolute(self.z_data_raw[self._fid]))**2\n",
    "        \n",
    "        # make some estimates, resonant frequency should be the largest magnitude\n",
    "        f0_ind = np.argmax(ampsqr)\n",
    "        f0_est = self.f_data[f0_ind]\n",
    "        # bandwidth is at half max, but we're looking at squared data, so look at 1/4 max\n",
    "        A_est = np.absolute(self.z_data_raw[f0_ind])\n",
    "        bw_id = np.argwhere(ampsqr > (A_est**2)/4)\n",
    "        resbw = self.f_data[bw_id]\n",
    "        #plt.plot(resbw,ampsqr[bw_id])\n",
    "        #plt.show()\n",
    "        #print(resbw[-1])\n",
    "        #print(resbw[-1]-resbw[0])\n",
    "        fwhm_est = (resbw[-1]-resbw[0])[0]\n",
    "        #print('estimate fwhm {}'.format(fwhm_est))\n",
    "        Q_est = 2*np.pi*f0_est/fwhm_est\n",
    "        #print('estimates f0 {},Q {}, A {}'.format(f0_est,Q_est,A_est))\n",
    "        \n",
    "        # let's try to remove the delay using only 5 fwhm from estimated resonance\n",
    "        fit_id = np.logical_and(self.f_data > (f0_est - 5*fwhm_est),self.f_data < (f0_est + 5*fwhm_est))\n",
    "        self.delay = self._fit_delay(self.f_data[fit_id],self.z_data_raw[fit_id],0,maxiter=200)\n",
    "        #print('delay: {:.6f} ns'.format(self.delay*1e9))\n",
    "        z_data = self.z_data_raw*np.exp(2j*np.pi*self.delay*self.f_data)\n",
    "        #plt.plot(self.z_data_raw[fit_id].real,self.z_data_raw[fit_id].imag,z_data.real,z_data.imag)\n",
    "        #plt.show()\n",
    "        xc,yc,r0 = self._fit_circle(z_data[fit_id])\n",
    "        \n",
    "        # center data for phase fit\n",
    "        z_data_center = self._center(z_data,complex(xc,yc))\n",
    "        \n",
    "        \n",
    "        # get Q and f0 from phase fit          \n",
    "        theta, Q, f0 = self._phase_fit(self.f_data[self._fid],z_data_center[self._fid],0,Q_est,f0_est)\n",
    "        #print('from phase fit, f0: {:.1f}, Q: {:.1f}'.format(f0,Q))\n",
    "        \n",
    "        # let's make the 'calibrated data' just have electrical delay removed, and rotated such that resonance\n",
    "        # lies on real axis. It's important to note that we cannot do anything to normalize the magnitude. There\n",
    "        # is no reference which we can normalize to.\n",
    "        self.alpha = np.angle(complex(xc+r0*np.cos(theta),yc+r0*np.sin(theta)))\n",
    "        self.z_data = z_data*np.exp(-1j*self.alpha)\n",
    "        \n",
    "        \n",
    "        #lastly, let's dial in the amplitude properly\n",
    "        A_est = 2*r0/Q\n",
    "        fwhm = 2*np.pi*f0/Q\n",
    "        fit_id2 = np.logical_and(self.f_data > (f0 - fwhm),self.f_data < (f0 + fwhm))\n",
    "        ampsqr = (np.absolute(self.z_data_raw[fit_id2]))**2\n",
    "        p = [f0,Q,A_est]\n",
    "        popt, pcov = spopt.curve_fit(self._S21_sqr, self.f_data[fit_id2], ampsqr,p,\n",
    "                                    bounds=([0.9*f0,0.8*Q,0.5*A_est],\n",
    "                                           [1.1*f0,1.2*Q,2*A_est]))\n",
    "        \n",
    "        \n",
    "#        self.fit_found = True\n",
    "#        self.amp_trans = A\n",
    "#        self.kappa = 2*np.pi*self.f0/self.Q\n",
    "#        self.ringdown_time = (np.log(2)/np.pi) * self.Q / self.f0\n",
    "        \n",
    "        errors = np.sqrt(np.diag(pcov))\n",
    "        fit_is_good = (errors/popt) < 0.5\n",
    "        if all(fit_is_good):\n",
    "            self.fit_found = True\n",
    "            self.f0,self.Q,self.amp_trans = popt\n",
    "            self.kappa = 2*np.pi*self.f0/self.Q\n",
    "            self.ringdown_time = (np.log(2)/np.pi) * self.Q / self.f0\n",
    "        else:\n",
    "            print(p)\n",
    "            print(popt)\n",
    "            print(errors/popt)\n",
    "            \n",
    "    def get_single_photon_limit(self,unit='dBm'):\n",
    "        '''\n",
    "        returns the amout of power in units of W necessary\n",
    "        to maintain one photon on average in the cavity\n",
    "        unit can be 'dBm' or 'watt'\n",
    "        '''\n",
    "        if self.fit_found:\n",
    "            k_c = 2*np.pi*self.f0/self.Qc\n",
    "            k_i = 2*np.pi*self.f0/self.Qi\n",
    "            Pwatt = (2.*np.pi*hbar*self.f0*(k_c+k_i)**2)/(4*k_c) # approx. hbar omega kappa /4 when very overcoupled\n",
    "            if unit=='dBm':\n",
    "                return Watt2dBm(Pwatt)\n",
    "            elif unit=='watt':\n",
    "                return Pwatt\t\t\t\t  \n",
    "        else:\n",
    "            warnings.warn('Please perform the fit first',UserWarning)\n",
    "            return None\n",
    "        \n",
    "    def get_snr(self):\n",
    "        if not self.fit_found:\n",
    "            return np.nan\n",
    "        noise = np.std(np.absolute(self.z_data_sim - self.z_data_raw),dtype=np.float64)\n",
    "        snr = (self.amplitude/noise)**2 if self.port_type is not 'T' else (self.amp_trans*self.Q/noise)**2\n",
    "        return snr\n",
    "    \n",
    "    # adding a string method\n",
    "    def __str__(self):\n",
    "        if not self.fit_found:\n",
    "            return 'Data has not been fitted'\n",
    "        if self.port_type is not 'T':\n",
    "            string = ('Frequency: {:.4f} GHz'.format(self.f0*1e-9)\n",
    "                      + '\\nTotal Q: {:d}'.format(int(np.round(self.Q)))\n",
    "                      + '\\nInternal Q: {:d}'.format(int(np.round(self.Qi)))\n",
    "                      + '\\nCoupling Q: {:d}'.format(int(np.round(self.Qc)))\n",
    "                      + '\\nFWHM: {:.5f} MHz'.format(self.kappa*1e-6/(2*np.pi))\n",
    "                      + '\\nKappa: {:.5f} MHz'.format(self.kappa*1e-6)\n",
    "                      + '\\nSingle Photon Power: {:.1f} dBm'.format(self.P1photon)\n",
    "                      + '\\nRingdown Time: {:.3f} us'.format(self.ringdown_time*1e6)\n",
    "                      + '\\nImpedance Mismatch {:.3f} degrees'.format(self.phi0*180/np.pi)\n",
    "                      + '\\nElectrical Delay: {:.6f} ns'.format(self.delay*1e9)\n",
    "                      + '\\nSNR: {:.1f}'.format(self.snr)\n",
    "                     )\n",
    "        else:\n",
    "            string = ('Frequency: {:.4f} GHz'.format(self.f0*1e-9)\n",
    "                      + '\\nTotal Q: {:d}'.format(int(np.round(self.Q)))\n",
    "                      + '\\nFWHM: {:.5f} MHz'.format(self.kappa*1e-6/(2*np.pi))\n",
    "                      + '\\nKappa: {:.5f} MHz'.format(self.kappa*1e-6)\n",
    "                      + '\\nRingdown Time: {:.3f} us'.format(self.ringdown_time*1e6)\n",
    "                      + '\\nElectrical Delay: {:.6f} ns'.format(self.delay*1e9)\n",
    "                      + '\\nSNR: {:.1f}'.format(self.snr)\n",
    "                     )\n",
    "        return string\n",
    "    \n",
    "    def _S11_directrefl(self,f,fr=10e9,Ql=900,Qc=1000.,a=1.,alpha=0.,delay=.0):\n",
    "        '''\n",
    "        full model for direct reflection type resonances\n",
    "        '''\n",
    "        return a*np.exp(complex(0,alpha))*np.exp(-2j*np.pi*f*delay) * ( 2.*Ql/Qc - 1. + 2j*Ql*(fr-f)/fr ) / ( 1. - 2j*Ql*(fr-f)/fr )\n",
    "    \n",
    "    def _S21_notch(self,f,fr=10e9,Ql=900,Qc=1000.,phi=0.,a=1.,alpha=0.,delay=.0):\n",
    "        '''\n",
    "        full model for notch type resonances\n",
    "        '''\n",
    "        return a*np.exp(complex(0,alpha))*np.exp(-2j*np.pi*f*delay)*(1.-Ql/Qc*np.exp(1j*phi)/(1.+2j*Ql*(f-fr)/fr))\n",
    "    \n",
    "    def _S21_sqr(self,f,fr=10e9,Ql=1000,A=1):\n",
    "        '''\n",
    "        lorentzian model for direct transmission type resonances. note that |S21|^2 is lorentzian.\n",
    "        '''\n",
    "        return A**2/((1./(Ql**2)) + 4.*(((f/fr) - 1)**2))\n",
    "    \n",
    "    def _S21_direct(self,f,fr=10e9,Ql=1000,A=1,alpha=0,delay=0):\n",
    "        '''\n",
    "        full model for direct transmission type resonances.\n",
    "        '''\n",
    "        return A*Ql*np.exp(1j*(alpha-2*np.pi*f*delay))*(1 + 2j*Ql*(1-f/fr))/(1 + 4*(Ql**2)*((1-f/fr)**2))\n",
    "\n",
    "    def add_calibration_data(self,f_data,z_data):\n",
    "        self.calibration_data = {'f':np.array(f_data),'z':np.array(z_data)}\n"
   ]
  },
  {
   "cell_type": "code",
   "execution_count": null,
   "id": "5829dc76-b6a7-40e5-bc7a-094e8733f22b",
   "metadata": {},
   "outputs": [],
   "source": []
  }
 ],
 "metadata": {
  "celltoolbar": "Tags",
  "hide_input": false,
  "kernelspec": {
   "display_name": "Python 3 (ipykernel)",
   "language": "python",
   "name": "python3"
  },
  "language_info": {
   "codemirror_mode": {
    "name": "ipython",
    "version": 3
   },
   "file_extension": ".py",
   "mimetype": "text/x-python",
   "name": "python",
   "nbconvert_exporter": "python",
   "pygments_lexer": "ipython3",
   "version": "3.11.4"
  },
  "toc": {
   "base_numbering": 1,
   "nav_menu": {},
   "number_sections": true,
   "sideBar": false,
   "skip_h1_title": false,
   "title_cell": "Table of Contents",
   "title_sidebar": "Contents",
   "toc_cell": false,
   "toc_position": {},
   "toc_section_display": true,
   "toc_window_display": false
  }
 },
 "nbformat": 4,
 "nbformat_minor": 5
}
